{
 "cells": [
  {
   "cell_type": "code",
   "execution_count": null,
   "id": "f52b41a5",
   "metadata": {},
   "outputs": [],
   "source": []
  },
  {
   "cell_type": "code",
   "execution_count": 1,
   "id": "b06312c0",
   "metadata": {},
   "outputs": [],
   "source": [
    "# Importing Libraries\n",
    "import selenium\n",
    "import pandas as pd\n",
    "import time\n",
    "\n",
    "# Importing selenium webdriver \n",
    "from selenium import webdriver\n",
    "# Importing user input \n",
    "user_inp=input\n",
    "\n",
    "# Importing required Exceptions which needs to handled\n",
    "from selenium.common.exceptions import StaleElementReferenceException, NoSuchElementException\n",
    "from selenium.common.exceptions import ElementNotInteractableException\n"
   ]
  },
  {
   "cell_type": "code",
   "execution_count": 5,
   "id": "35426d91",
   "metadata": {},
   "outputs": [
    {
     "name": "stderr",
     "output_type": "stream",
     "text": [
      "C:\\Users\\USER\\AppData\\Local\\Temp/ipykernel_8716/2332253879.py:1: DeprecationWarning: executable_path has been deprecated, please pass in a Service object\n",
      "  driver = webdriver.Chrome(r'H:\\downloads\\chromedriver.exe')\n"
     ]
    }
   ],
   "source": [
    "driver = webdriver.Chrome(r'H:\\downloads\\chromedriver.exe')"
   ]
  },
  {
   "cell_type": "code",
   "execution_count": 6,
   "id": "5ce13cd4",
   "metadata": {},
   "outputs": [],
   "source": [
    "#opening the home page of https:www.cars24.com/\n",
    "url=(\"http://www.cardekho.com\")\n",
    "driver.get(url)\n",
    "time.sleep(3)"
   ]
  },
  {
   "cell_type": "code",
   "execution_count": 9,
   "id": "6e617935",
   "metadata": {},
   "outputs": [
    {
     "name": "stdout",
     "output_type": "stream",
     "text": [
      "Enter the name of the cityPune\n"
     ]
    },
    {
     "name": "stderr",
     "output_type": "stream",
     "text": [
      "C:\\Users\\USER\\AppData\\Local\\Temp/ipykernel_8716/1890727240.py:7: DeprecationWarning: find_element_by_* commands are deprecated. Please use find_element() instead\n",
      "  search_job=driver.find_element_by_id('ucCityName')      #locating searc_bar by id\n"
     ]
    },
    {
     "ename": "NoSuchElementException",
     "evalue": "Message: no such element: Unable to locate element: {\"method\":\"css selector\",\"selector\":\"[id=\"ucCityName\"]\"}\n  (Session info: chrome=102.0.5005.63)\nStacktrace:\nBacktrace:\n\tOrdinal0 [0x006ED953+2414931]\n\tOrdinal0 [0x0067F5E1+1963489]\n\tOrdinal0 [0x0056C6B8+837304]\n\tOrdinal0 [0x00599500+1021184]\n\tOrdinal0 [0x0059979B+1021851]\n\tOrdinal0 [0x005C6502+1205506]\n\tOrdinal0 [0x005B44E4+1131748]\n\tOrdinal0 [0x005C4812+1198098]\n\tOrdinal0 [0x005B42B6+1131190]\n\tOrdinal0 [0x0058E860+976992]\n\tOrdinal0 [0x0058F756+980822]\n\tGetHandleVerifier [0x0095CC62+2510274]\n\tGetHandleVerifier [0x0094F760+2455744]\n\tGetHandleVerifier [0x0077EABA+551962]\n\tGetHandleVerifier [0x0077D916+547446]\n\tOrdinal0 [0x00685F3B+1990459]\n\tOrdinal0 [0x0068A898+2009240]\n\tOrdinal0 [0x0068A985+2009477]\n\tOrdinal0 [0x00693AD1+2046673]\n\tBaseThreadInitThunk [0x76B0FA29+25]\n\tRtlGetAppContainerNamedObjectPath [0x77517A7E+286]\n\tRtlGetAppContainerNamedObjectPath [0x77517A4E+238]\n",
     "output_type": "error",
     "traceback": [
      "\u001b[1;31m---------------------------------------------------------------------------\u001b[0m",
      "\u001b[1;31mNoSuchElementException\u001b[0m                    Traceback (most recent call last)",
      "\u001b[1;32m~\\AppData\\Local\\Temp/ipykernel_8716/1890727240.py\u001b[0m in \u001b[0;36m<module>\u001b[1;34m\u001b[0m\n\u001b[0;32m      5\u001b[0m \u001b[0muser_inp_city\u001b[0m\u001b[1;33m=\u001b[0m\u001b[0minput\u001b[0m\u001b[1;33m(\u001b[0m\u001b[1;34m'Enter the name of the city'\u001b[0m\u001b[1;33m)\u001b[0m\u001b[1;33m\u001b[0m\u001b[1;33m\u001b[0m\u001b[0m\n\u001b[0;32m      6\u001b[0m \u001b[1;33m\u001b[0m\u001b[0m\n\u001b[1;32m----> 7\u001b[1;33m \u001b[0msearch_job\u001b[0m\u001b[1;33m=\u001b[0m\u001b[0mdriver\u001b[0m\u001b[1;33m.\u001b[0m\u001b[0mfind_element_by_id\u001b[0m\u001b[1;33m(\u001b[0m\u001b[1;34m'ucCityName'\u001b[0m\u001b[1;33m)\u001b[0m      \u001b[1;31m#locating searc_bar by id\u001b[0m\u001b[1;33m\u001b[0m\u001b[1;33m\u001b[0m\u001b[0m\n\u001b[0m\u001b[0;32m      8\u001b[0m \u001b[0msearch_job\u001b[0m\u001b[1;33m.\u001b[0m\u001b[0mclear\u001b[0m\u001b[1;33m(\u001b[0m\u001b[1;33m)\u001b[0m                                                 \u001b[1;31m#Clearing search_bar\u001b[0m\u001b[1;33m\u001b[0m\u001b[1;33m\u001b[0m\u001b[0m\n\u001b[0;32m      9\u001b[0m \u001b[0msearch_job\u001b[0m\u001b[1;33m.\u001b[0m\u001b[0msend_keys\u001b[0m\u001b[1;33m(\u001b[0m\u001b[0muser_inp_city\u001b[0m\u001b[1;33m)\u001b[0m                               \u001b[1;31m#sending user input to search bar\u001b[0m\u001b[1;33m\u001b[0m\u001b[1;33m\u001b[0m\u001b[0m\n",
      "\u001b[1;32mC:\\ProgramData\\Anaconda3\\lib\\site-packages\\selenium\\webdriver\\remote\\webdriver.py\u001b[0m in \u001b[0;36mfind_element_by_id\u001b[1;34m(self, id_)\u001b[0m\n\u001b[0;32m    471\u001b[0m             \u001b[0mstacklevel\u001b[0m\u001b[1;33m=\u001b[0m\u001b[1;36m2\u001b[0m\u001b[1;33m,\u001b[0m\u001b[1;33m\u001b[0m\u001b[1;33m\u001b[0m\u001b[0m\n\u001b[0;32m    472\u001b[0m         )\n\u001b[1;32m--> 473\u001b[1;33m         \u001b[1;32mreturn\u001b[0m \u001b[0mself\u001b[0m\u001b[1;33m.\u001b[0m\u001b[0mfind_element\u001b[0m\u001b[1;33m(\u001b[0m\u001b[0mby\u001b[0m\u001b[1;33m=\u001b[0m\u001b[0mBy\u001b[0m\u001b[1;33m.\u001b[0m\u001b[0mID\u001b[0m\u001b[1;33m,\u001b[0m \u001b[0mvalue\u001b[0m\u001b[1;33m=\u001b[0m\u001b[0mid_\u001b[0m\u001b[1;33m)\u001b[0m\u001b[1;33m\u001b[0m\u001b[1;33m\u001b[0m\u001b[0m\n\u001b[0m\u001b[0;32m    474\u001b[0m \u001b[1;33m\u001b[0m\u001b[0m\n\u001b[0;32m    475\u001b[0m     \u001b[1;32mdef\u001b[0m \u001b[0mfind_elements_by_id\u001b[0m\u001b[1;33m(\u001b[0m\u001b[0mself\u001b[0m\u001b[1;33m,\u001b[0m \u001b[0mid_\u001b[0m\u001b[1;33m)\u001b[0m \u001b[1;33m->\u001b[0m \u001b[0mList\u001b[0m\u001b[1;33m[\u001b[0m\u001b[0mWebElement\u001b[0m\u001b[1;33m]\u001b[0m\u001b[1;33m:\u001b[0m\u001b[1;33m\u001b[0m\u001b[1;33m\u001b[0m\u001b[0m\n",
      "\u001b[1;32mC:\\ProgramData\\Anaconda3\\lib\\site-packages\\selenium\\webdriver\\remote\\webdriver.py\u001b[0m in \u001b[0;36mfind_element\u001b[1;34m(self, by, value)\u001b[0m\n\u001b[0;32m   1246\u001b[0m             \u001b[0mvalue\u001b[0m \u001b[1;33m=\u001b[0m \u001b[1;34m'[name=\"%s\"]'\u001b[0m \u001b[1;33m%\u001b[0m \u001b[0mvalue\u001b[0m\u001b[1;33m\u001b[0m\u001b[1;33m\u001b[0m\u001b[0m\n\u001b[0;32m   1247\u001b[0m \u001b[1;33m\u001b[0m\u001b[0m\n\u001b[1;32m-> 1248\u001b[1;33m         return self.execute(Command.FIND_ELEMENT, {\n\u001b[0m\u001b[0;32m   1249\u001b[0m             \u001b[1;34m'using'\u001b[0m\u001b[1;33m:\u001b[0m \u001b[0mby\u001b[0m\u001b[1;33m,\u001b[0m\u001b[1;33m\u001b[0m\u001b[1;33m\u001b[0m\u001b[0m\n\u001b[0;32m   1250\u001b[0m             'value': value})['value']\n",
      "\u001b[1;32mC:\\ProgramData\\Anaconda3\\lib\\site-packages\\selenium\\webdriver\\remote\\webdriver.py\u001b[0m in \u001b[0;36mexecute\u001b[1;34m(self, driver_command, params)\u001b[0m\n\u001b[0;32m    423\u001b[0m         \u001b[0mresponse\u001b[0m \u001b[1;33m=\u001b[0m \u001b[0mself\u001b[0m\u001b[1;33m.\u001b[0m\u001b[0mcommand_executor\u001b[0m\u001b[1;33m.\u001b[0m\u001b[0mexecute\u001b[0m\u001b[1;33m(\u001b[0m\u001b[0mdriver_command\u001b[0m\u001b[1;33m,\u001b[0m \u001b[0mparams\u001b[0m\u001b[1;33m)\u001b[0m\u001b[1;33m\u001b[0m\u001b[1;33m\u001b[0m\u001b[0m\n\u001b[0;32m    424\u001b[0m         \u001b[1;32mif\u001b[0m \u001b[0mresponse\u001b[0m\u001b[1;33m:\u001b[0m\u001b[1;33m\u001b[0m\u001b[1;33m\u001b[0m\u001b[0m\n\u001b[1;32m--> 425\u001b[1;33m             \u001b[0mself\u001b[0m\u001b[1;33m.\u001b[0m\u001b[0merror_handler\u001b[0m\u001b[1;33m.\u001b[0m\u001b[0mcheck_response\u001b[0m\u001b[1;33m(\u001b[0m\u001b[0mresponse\u001b[0m\u001b[1;33m)\u001b[0m\u001b[1;33m\u001b[0m\u001b[1;33m\u001b[0m\u001b[0m\n\u001b[0m\u001b[0;32m    426\u001b[0m             response['value'] = self._unwrap_value(\n\u001b[0;32m    427\u001b[0m                 response.get('value', None))\n",
      "\u001b[1;32mC:\\ProgramData\\Anaconda3\\lib\\site-packages\\selenium\\webdriver\\remote\\errorhandler.py\u001b[0m in \u001b[0;36mcheck_response\u001b[1;34m(self, response)\u001b[0m\n\u001b[0;32m    245\u001b[0m                 \u001b[0malert_text\u001b[0m \u001b[1;33m=\u001b[0m \u001b[0mvalue\u001b[0m\u001b[1;33m[\u001b[0m\u001b[1;34m'alert'\u001b[0m\u001b[1;33m]\u001b[0m\u001b[1;33m.\u001b[0m\u001b[0mget\u001b[0m\u001b[1;33m(\u001b[0m\u001b[1;34m'text'\u001b[0m\u001b[1;33m)\u001b[0m\u001b[1;33m\u001b[0m\u001b[1;33m\u001b[0m\u001b[0m\n\u001b[0;32m    246\u001b[0m             \u001b[1;32mraise\u001b[0m \u001b[0mexception_class\u001b[0m\u001b[1;33m(\u001b[0m\u001b[0mmessage\u001b[0m\u001b[1;33m,\u001b[0m \u001b[0mscreen\u001b[0m\u001b[1;33m,\u001b[0m \u001b[0mstacktrace\u001b[0m\u001b[1;33m,\u001b[0m \u001b[0malert_text\u001b[0m\u001b[1;33m)\u001b[0m  \u001b[1;31m# type: ignore[call-arg]  # mypy is not smart enough here\u001b[0m\u001b[1;33m\u001b[0m\u001b[1;33m\u001b[0m\u001b[0m\n\u001b[1;32m--> 247\u001b[1;33m         \u001b[1;32mraise\u001b[0m \u001b[0mexception_class\u001b[0m\u001b[1;33m(\u001b[0m\u001b[0mmessage\u001b[0m\u001b[1;33m,\u001b[0m \u001b[0mscreen\u001b[0m\u001b[1;33m,\u001b[0m \u001b[0mstacktrace\u001b[0m\u001b[1;33m)\u001b[0m\u001b[1;33m\u001b[0m\u001b[1;33m\u001b[0m\u001b[0m\n\u001b[0m\u001b[0;32m    248\u001b[0m \u001b[1;33m\u001b[0m\u001b[0m\n\u001b[0;32m    249\u001b[0m     \u001b[1;32mdef\u001b[0m \u001b[0m_value_or_default\u001b[0m\u001b[1;33m(\u001b[0m\u001b[0mself\u001b[0m\u001b[1;33m,\u001b[0m \u001b[0mobj\u001b[0m\u001b[1;33m:\u001b[0m \u001b[0mMapping\u001b[0m\u001b[1;33m[\u001b[0m\u001b[0m_KT\u001b[0m\u001b[1;33m,\u001b[0m \u001b[0m_VT\u001b[0m\u001b[1;33m]\u001b[0m\u001b[1;33m,\u001b[0m \u001b[0mkey\u001b[0m\u001b[1;33m:\u001b[0m \u001b[0m_KT\u001b[0m\u001b[1;33m,\u001b[0m \u001b[0mdefault\u001b[0m\u001b[1;33m:\u001b[0m \u001b[0m_VT\u001b[0m\u001b[1;33m)\u001b[0m \u001b[1;33m->\u001b[0m \u001b[0m_VT\u001b[0m\u001b[1;33m:\u001b[0m\u001b[1;33m\u001b[0m\u001b[1;33m\u001b[0m\u001b[0m\n",
      "\u001b[1;31mNoSuchElementException\u001b[0m: Message: no such element: Unable to locate element: {\"method\":\"css selector\",\"selector\":\"[id=\"ucCityName\"]\"}\n  (Session info: chrome=102.0.5005.63)\nStacktrace:\nBacktrace:\n\tOrdinal0 [0x006ED953+2414931]\n\tOrdinal0 [0x0067F5E1+1963489]\n\tOrdinal0 [0x0056C6B8+837304]\n\tOrdinal0 [0x00599500+1021184]\n\tOrdinal0 [0x0059979B+1021851]\n\tOrdinal0 [0x005C6502+1205506]\n\tOrdinal0 [0x005B44E4+1131748]\n\tOrdinal0 [0x005C4812+1198098]\n\tOrdinal0 [0x005B42B6+1131190]\n\tOrdinal0 [0x0058E860+976992]\n\tOrdinal0 [0x0058F756+980822]\n\tGetHandleVerifier [0x0095CC62+2510274]\n\tGetHandleVerifier [0x0094F760+2455744]\n\tGetHandleVerifier [0x0077EABA+551962]\n\tGetHandleVerifier [0x0077D916+547446]\n\tOrdinal0 [0x00685F3B+1990459]\n\tOrdinal0 [0x0068A898+2009240]\n\tOrdinal0 [0x0068A985+2009477]\n\tOrdinal0 [0x00693AD1+2046673]\n\tBaseThreadInitThunk [0x76B0FA29+25]\n\tRtlGetAppContainerNamedObjectPath [0x77517A7E+286]\n\tRtlGetAppContainerNamedObjectPath [0x77517A4E+238]\n"
     ]
    }
   ],
   "source": [
    "# Importing user input \n",
    "user_inp=input\n",
    "\n",
    "#enter the input to search the keywords.\n",
    "user_inp_city=input('Enter the name of the city')\n",
    "\n",
    "search_job=driver.find_element_by_id('ucCityName')      #locating searc_bar by id\n",
    "search_job.clear()                                                 #Clearing search_bar\n",
    "search_job.send_keys(user_inp_city)                               #sending user input to search bar\n",
    "time.sleep(4)\n",
    "search_button=driver.find_element_by_xpath('//li[@class=\"data-selectcity\"]')      #locating search_button by xpath\n",
    "search_button.click()"
   ]
  },
  {
   "cell_type": "code",
   "execution_count": 10,
   "id": "ac241b20",
   "metadata": {},
   "outputs": [
    {
     "name": "stderr",
     "output_type": "stream",
     "text": [
      "C:\\Users\\USER\\AppData\\Local\\Temp/ipykernel_8716/1208660147.py:16: DeprecationWarning: find_elements_by_xpath is deprecated. Please use find_elements(by=By.XPATH, value=xpath) instead\n",
      "  model = driver.find_elements_by_xpath('//div[@class=\"gsc_col-xs-7 carsName\"]/a[1]'.format(i))\n",
      "C:\\Users\\USER\\AppData\\Local\\Temp/ipykernel_8716/1208660147.py:21: DeprecationWarning: find_elements_by_xpath is deprecated. Please use find_elements(by=By.XPATH, value=xpath) instead\n",
      "  brand = driver.find_elements_by_xpath('//div[@class=\"gsc_col-xs-7 carsName\"]/a[1]'.format(i))\n",
      "C:\\Users\\USER\\AppData\\Local\\Temp/ipykernel_8716/1208660147.py:26: DeprecationWarning: find_elements_by_xpath is deprecated. Please use find_elements(by=By.XPATH, value=xpath) instead\n",
      "  variant = driver.find_elements_by_xpath('//div[@class=\"gsc_col-xs-7 carsName\"]/div[1]'.format(i))\n",
      "C:\\Users\\USER\\AppData\\Local\\Temp/ipykernel_8716/1208660147.py:31: DeprecationWarning: find_elements_by_xpath is deprecated. Please use find_elements(by=By.XPATH, value=xpath) instead\n",
      "  manuf_year = driver.find_elements_by_xpath('//div[@class=\"gsc_col-xs-7 carsName\"]/a[1]'.format(i))\n",
      "C:\\Users\\USER\\AppData\\Local\\Temp/ipykernel_8716/1208660147.py:36: DeprecationWarning: find_elements_by_xpath is deprecated. Please use find_elements(by=By.XPATH, value=xpath) instead\n",
      "  driven_km = driver.find_elements_by_xpath('//div[@class=\"gsc_col-xs-7 carsName\"]/div[2]/span[1]'.format(i))\n",
      "C:\\Users\\USER\\AppData\\Local\\Temp/ipykernel_8716/1208660147.py:41: DeprecationWarning: find_elements_by_xpath is deprecated. Please use find_elements(by=By.XPATH, value=xpath) instead\n",
      "  fuel_type = driver.find_elements_by_xpath('//div[@class=\"gsc_col-xs-7 carsName\"]/div[2]/span[2]'.format(i))\n",
      "C:\\Users\\USER\\AppData\\Local\\Temp/ipykernel_8716/1208660147.py:47: DeprecationWarning: find_elements_by_xpath is deprecated. Please use find_elements(by=By.XPATH, value=xpath) instead\n",
      "  transmission = driver.find_elements_by_xpath('//div[@class=\"gsc_col-xs-7 carsName\"]/div[2]/span[3]'.format(i))\n",
      "C:\\Users\\USER\\AppData\\Local\\Temp/ipykernel_8716/1208660147.py:53: DeprecationWarning: find_elements_by_xpath is deprecated. Please use find_elements(by=By.XPATH, value=xpath) instead\n",
      "  selling_Price = driver.find_elements_by_xpath('//div[@class=\"price gsc_col-xs-5 text-right\"]/span[1]'.format(i))\n"
     ]
    },
    {
     "name": "stdout",
     "output_type": "stream",
     "text": [
      "DataFrame is written to Excel File successfully.\n"
     ]
    }
   ],
   "source": [
    "# Creating empty list\n",
    "used_cars = {}\n",
    "used_cars[\"Model\"] = []\n",
    "used_cars[\"Brand\"] = []\n",
    "used_cars[\"Variant\"] = []\n",
    "used_cars[\"Manufacturing_year\"] = []\n",
    "used_cars[\"Driven_km\"] = []\n",
    "used_cars[\"Fuel_type\"] = []\n",
    "used_cars[\"Transmission\"] = []\n",
    "used_cars[\"Selling_Price\"] = []\n",
    "\n",
    "time.sleep(3)\n",
    "for i in range(0,5):\n",
    "    try:\n",
    "        # Model\n",
    "        model = driver.find_elements_by_xpath('//div[@class=\"gsc_col-xs-7 carsName\"]/a[1]'.format(i))\n",
    "        for m in model:\n",
    "            used_cars[\"Model\"].append(m.text.split()[2:])\n",
    "        \n",
    "        # Brand \n",
    "        brand = driver.find_elements_by_xpath('//div[@class=\"gsc_col-xs-7 carsName\"]/a[1]'.format(i))\n",
    "        for b in brand:\n",
    "            used_cars[\"Brand\"].append(b.text.split()[1:2]) \n",
    "            \n",
    "        # Variants\n",
    "        variant = driver.find_elements_by_xpath('//div[@class=\"gsc_col-xs-7 carsName\"]/div[1]'.format(i))\n",
    "        for v in variant:\n",
    "            used_cars[\"Variant\"].append(v.text)\n",
    "        \n",
    "        # manufacturing year\n",
    "        manuf_year = driver.find_elements_by_xpath('//div[@class=\"gsc_col-xs-7 carsName\"]/a[1]'.format(i))\n",
    "        for my in manuf_year:\n",
    "            used_cars[\"Manufacturing_year\"].append(my.text.split()[:1])\n",
    "            \n",
    "         # Driven Kilometers\n",
    "        driven_km = driver.find_elements_by_xpath('//div[@class=\"gsc_col-xs-7 carsName\"]/div[2]/span[1]'.format(i))\n",
    "        for d in driven_km:\n",
    "            used_cars[\"Driven_km\"].append(d.text)\n",
    "        \n",
    "        # Fuel type\n",
    "        fuel_type = driver.find_elements_by_xpath('//div[@class=\"gsc_col-xs-7 carsName\"]/div[2]/span[2]'.format(i))\n",
    "        for f in fuel_type:\n",
    "            used_cars[\"Fuel_type\"].append(f.text) \n",
    "            \n",
    "        \n",
    "        # Transmission\n",
    "        transmission = driver.find_elements_by_xpath('//div[@class=\"gsc_col-xs-7 carsName\"]/div[2]/span[3]'.format(i))\n",
    "        for t in transmission:\n",
    "            used_cars[\"Transmission\"].append(t.text)\n",
    "                 \n",
    "        \n",
    "        # Selling Price\n",
    "        selling_Price = driver.find_elements_by_xpath('//div[@class=\"price gsc_col-xs-5 text-right\"]/span[1]'.format(i))\n",
    "        for sp in selling_Price:\n",
    "            used_cars[\"Selling_Price\"].append(sp.text)       \n",
    "            \n",
    "    except NoSuchElementException:\n",
    "        used_cars[\"Model\"].append('-')\n",
    "        used_cars[\"Brand\"].append('-')\n",
    "        used_cars[\"Variant\"].append('-')\n",
    "        used_cars[\"Manufacturing_year\"].append('-')\n",
    "        used_cars[\"Driven_km\"].append('-')\n",
    "        used_cars[\"Fuel_type\"].append('-')\n",
    "        used_cars[\"Transmission\"].append('-')\n",
    "        used_cars[\"Selling_Price\"].append('-')\n",
    "        \n",
    "time.sleep(3)\n",
    "# Make dataframe\n",
    "Usedcars = pd.DataFrame(used_cars)\n",
    "Usedcars\n",
    "\n",
    "# determining the name of the file\n",
    "file_name = 'Usedcars.xlsx'\n",
    "  \n",
    "# saving the excel\n",
    "Usedcars.to_excel(file_name)\n",
    "print('DataFrame is written to Excel File successfully.')"
   ]
  },
  {
   "cell_type": "code",
   "execution_count": null,
   "id": "36a522b8",
   "metadata": {},
   "outputs": [],
   "source": []
  }
 ],
 "metadata": {
  "kernelspec": {
   "display_name": "Python 3 (ipykernel)",
   "language": "python",
   "name": "python3"
  },
  "language_info": {
   "codemirror_mode": {
    "name": "ipython",
    "version": 3
   },
   "file_extension": ".py",
   "mimetype": "text/x-python",
   "name": "python",
   "nbconvert_exporter": "python",
   "pygments_lexer": "ipython3",
   "version": "3.9.7"
  }
 },
 "nbformat": 4,
 "nbformat_minor": 5
}

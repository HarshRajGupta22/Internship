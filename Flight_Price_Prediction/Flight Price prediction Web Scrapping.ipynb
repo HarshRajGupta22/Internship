{
 "cells": [
  {
   "cell_type": "code",
   "execution_count": null,
   "id": "fd8205ed",
   "metadata": {},
   "outputs": [],
   "source": []
  },
  {
   "cell_type": "code",
   "execution_count": 53,
   "id": "b7435c08",
   "metadata": {},
   "outputs": [],
   "source": [
    "# Importing neccessary libraries\n",
    "\n",
    "import warnings\n",
    "warnings.simplefilter(\"ignore\")\n",
    "warnings.filterwarnings(\"ignore\")\n",
    "\n",
    "import time, sys\n",
    "import datetime\n",
    "import tqdm.notebook as tqdm\n",
    "import pandas as pd\n",
    "import numpy as np\n",
    "\n",
    "import requests\n",
    "import selenium\n",
    "from bs4 import BeautifulSoup\n",
    "from selenium import webdriver\n",
    "from urllib.parse import urljoin\n",
    "from selenium.webdriver.common.by import By\n",
    "from selenium.webdriver.common.keys import Keys\n",
    "from selenium.webdriver.support.ui import WebDriverWait\n",
    "from selenium.webdriver.support import expected_conditions as ec\n",
    "from selenium.common.exceptions import TimeoutException, StaleElementReferenceException\n",
    "from selenium.common.exceptions import NoSuchElementException, ElementClickInterceptedException"
   ]
  },
  {
   "cell_type": "code",
   "execution_count": 54,
   "id": "c3b8fb9c",
   "metadata": {},
   "outputs": [],
   "source": [
    "import warnings\n",
    "warnings.filterwarnings('ignore')"
   ]
  },
  {
   "cell_type": "code",
   "execution_count": 71,
   "id": "39834097",
   "metadata": {},
   "outputs": [],
   "source": [
    "flight=[]"
   ]
  },
  {
   "cell_type": "code",
   "execution_count": 55,
   "id": "afe1bf0c",
   "metadata": {},
   "outputs": [],
   "source": [
    "driver = webdriver.Chrome(r'H:\\downloads\\chromedriver.exe')"
   ]
  },
  {
   "cell_type": "code",
   "execution_count": 57,
   "id": "2fee8576",
   "metadata": {},
   "outputs": [],
   "source": [
    "# Getting the webpage of mentioned url\n",
    "url = \"https://www.expedia.co.in/Flights\"\n",
    "driver.get(url)\n",
    "time.sleep(3)"
   ]
  },
  {
   "cell_type": "code",
   "execution_count": 58,
   "id": "f9430548",
   "metadata": {},
   "outputs": [],
   "source": [
    "# Setting the ticket types paths\n",
    "return_ticket = \"//label[@id='flight-type-roundtrip-label-hp-flight']\"\n",
    "one_way_ticket = \"//label[@id='flight-type-one-way-label-hp-flight']\"\n",
    "multi_ticket = \"//label[@id='flight-type-multi-dest-label-hp-flight']\""
   ]
  },
  {
   "cell_type": "code",
   "execution_count": 59,
   "id": "a877977d",
   "metadata": {},
   "outputs": [],
   "source": [
    "def ticket_chooser(ticket):\n",
    "\n",
    "    try:\n",
    "        ticket_type = browser.find_element_by_xpath(ticket)\n",
    "        ticket_type.click()\n",
    "    except Exception as e:\n",
    "        pass"
   ]
  },
  {
   "cell_type": "code",
   "execution_count": 60,
   "id": "ad41e57f",
   "metadata": {},
   "outputs": [],
   "source": [
    "# For departure place name\n",
    "def dep_place_chooser(dep_place):\n",
    "    fly_from = browser.find_element_by_xpath(\"//input[@id='flight-origin-hp-flight']\")\n",
    "    time.sleep(1)\n",
    "    fly_from.clear()\n",
    "    time.sleep(1.5)\n",
    "    fly_from.send_keys('  ' + dep_place)\n",
    "    time.sleep(1.5)\n",
    "    first_item = browser.find_element_by_xpath(\"//a[@id='aria-option-0']\")\n",
    "    time.sleep(1.5)\n",
    "    first_item.click()"
   ]
  },
  {
   "cell_type": "code",
   "execution_count": 61,
   "id": "5e6378e7",
   "metadata": {},
   "outputs": [],
   "source": [
    "# For arrival place name\n",
    "def arr_place_chooser(arr_place):\n",
    "    fly_to = browser.find_element_by_xpath(\"//input[@id='flight-destination-hp-flight']\")\n",
    "    time.sleep(1)\n",
    "    fly_to.clear()\n",
    "    time.sleep(1.5)\n",
    "    fly_to.send_keys('  ' + arr_place)\n",
    "    time.sleep(1.5)\n",
    "    first_item = browser.find_element_by_xpath(\"//a[@id='aria-option-0']\")\n",
    "    time.sleep(1.5)\n",
    "    first_item.click()"
   ]
  },
  {
   "cell_type": "code",
   "execution_count": 62,
   "id": "e7505988",
   "metadata": {},
   "outputs": [],
   "source": [
    "# Departure date\n",
    "def dep_date_chooser(month, day, year):\n",
    "    dep_date_button = browser.find_element_by_xpath(\"//input[@id='flight-departing-hp-flight']\")\n",
    "    dep_date_button.clear()\n",
    "    dep_date_button.send_keys(month + '/' + day + '/' + year)"
   ]
  },
  {
   "cell_type": "code",
   "execution_count": 63,
   "id": "2d67226b",
   "metadata": {},
   "outputs": [],
   "source": [
    "# Return date\n",
    "def return_date_chooser(month, day, year):\n",
    "    return_date_button = browser.find_element_by_xpath(\"//input[@id='flight-returning-hp-flight']\")\n",
    "\n",
    "    for i in range(11):\n",
    "        return_date_button.send_keys(Keys.BACKSPACE)\n",
    "    return_date_button.send_keys(month + '/' + day + '/' + year)"
   ]
  },
  {
   "cell_type": "code",
   "execution_count": 64,
   "id": "39a0bf0a",
   "metadata": {},
   "outputs": [],
   "source": [
    "def search():\n",
    "    search = browser.find_element_by_xpath(\"//button[@class='btn-primary btn-action gcw-submit']\")\n",
    "    search.click()\n",
    "    time.sleep(15)\n",
    "    print('Results ready!')"
   ]
  },
  {
   "cell_type": "code",
   "execution_count": 65,
   "id": "e3639406",
   "metadata": {},
   "outputs": [],
   "source": [
    "df = pd.DataFrame()\n",
    "def compile_data():\n",
    "    global df\n",
    "    global dep_times_list\n",
    "    global arr_times_list\n",
    "    global airlines_list\n",
    "    global price_list\n",
    "    global durations_list\n",
    "    global stops_list\n",
    "    global layovers_list\n",
    "    \n",
    "    #departure times\n",
    "    dep_times = browser.find_elements_by_xpath(\"//span[@data-test-id='departure-time']\")\n",
    "    dep_times_list = [value.text for value in dep_times]\n",
    "\n",
    "    #arrival times\n",
    "    arr_times = browser.find_elements_by_xpath(\"//span[@data-test-id='arrival-time']\")\n",
    "    arr_times_list = [value.text for value in arr_times]\n",
    "\n",
    "    #airline name\n",
    "    airlines = browser.find_elements_by_xpath(\"//span[@data-test-id='airline-name']\")\n",
    "    airlines_list = [value.text for value in airlines]\n",
    "\n",
    "    #prices\n",
    "    prices = browser.find_elements_by_xpath(\"//span[@data-test-id='listing-price-dollars']\")\n",
    "    price_list = [value.text.split('/div>')[1] for value in prices]\n",
    "\n",
    "    #durations\n",
    "    durations = browser.find_elements_by_xpath(\"//span[@data-test-id='duration']\")\n",
    "    durations_list = [value.text for value in durations]\n",
    "\n",
    "    #stops\n",
    "    stops = browser.find_elements_by_xpath(\"//span[@class='number-stops']\")\n",
    "    stops_list = [value.text for value in stops]\n",
    "    \n",
    "    #layovers\n",
    "    layovers = browser.find_elements_by_xpath(\"//span[@data-test-id='layover-airport-stops']\")\n",
    "    layovers_list = [value.text for value in layovers]\n",
    "\n",
    "    now = datetime.datetime.now()\n",
    "    current_date = (str(now.year) + '-' + str(now.month) + '-' + str(now.day))\n",
    "    current_time = (str(now.hour) + ':' + str(now.minute))\n",
    "    current_price = 'price' + '(' + current_date + '---' + current_time + ')'\n",
    "    for i in range(len(dep_times_list)):\n",
    "        try:\n",
    "            df.loc[i, 'departure_time'] = dep_times_list[i]\n",
    "        except Exception as e:\n",
    "            pass\n",
    "        try:\n",
    "            df.loc[i, 'arrival_time'] = arr_times_list[i]\n",
    "        except Exception as e:\n",
    "            pass\n",
    "        try:\n",
    "            df.loc[i, 'airline'] = airlines_list[i]\n",
    "        except Exception as e:\n",
    "            pass\n",
    "        try:\n",
    "            df.loc[i, 'duration'] = durations_list[i]\n",
    "        except Exception as e:\n",
    "            pass\n",
    "        try:\n",
    "            df.loc[i, 'stops'] = stops_list[i]\n",
    "        except Exception as e:\n",
    "            pass\n",
    "        try:\n",
    "            df.loc[i, 'layovers'] = layovers_list[i]\n",
    "        except Exception as e:\n",
    "            pass\n",
    "        try:\n",
    "            df.loc[i, str(current_price)] = price_list[i]\n",
    "        except Exception as e:\n",
    "            pass\n",
    "\n",
    "    print('Comma Separated Value File Created!')"
   ]
  },
  {
   "cell_type": "code",
   "execution_count": 75,
   "id": "97916417",
   "metadata": {},
   "outputs": [
    {
     "name": "stdout",
     "output_type": "stream",
     "text": [
      "DataFrame is written to Excel File successfully.\n"
     ]
    }
   ],
   "source": [
    "time.sleep(3)\n",
    "for i in range(0,5):\n",
    "    try:\n",
    "        # Model\n",
    "        model = driver.find_elements_by_xpath('//div[@class=\"gsc_col-xs-7 carsName\"]/a[1]'.format(i))\n",
    "        for m in model:\n",
    "            used_cars[\"Model\"].append(m.text.split()[2:])\n",
    "        \n",
    "        # Brand \n",
    "        brand = driver.find_elements_by_xpath('//div[@class=\"gsc_col-xs-7 carsName\"]/a[1]'.format(i))\n",
    "        for b in brand:\n",
    "            used_cars[\"Brand\"].append(b.text.split()[1:2]) \n",
    "            \n",
    "        # Variants\n",
    "        variant = driver.find_elements_by_xpath('//div[@class=\"gsc_col-xs-7 carsName\"]/div[1]'.format(i))\n",
    "        for v in variant:\n",
    "            used_cars[\"Variant\"].append(v.text)\n",
    "        \n",
    "        # manufacturing year\n",
    "        manuf_year = driver.find_elements_by_xpath('//div[@class=\"gsc_col-xs-7 carsName\"]/a[1]'.format(i))\n",
    "        for my in manuf_year:\n",
    "            used_cars[\"Manufacturing_year\"].append(my.text.split()[:1])\n",
    "            \n",
    "         # Driven Kilometers\n",
    "        driven_km = driver.find_elements_by_xpath('//div[@class=\"gsc_col-xs-7 carsName\"]/div[2]/span[1]'.format(i))\n",
    "        for d in driven_km:\n",
    "            used_cars[\"Driven_km\"].append(d.text)\n",
    "        \n",
    "        # Fuel type\n",
    "        fuel_type = driver.find_elements_by_xpath('//div[@class=\"gsc_col-xs-7 carsName\"]/div[2]/span[2]'.format(i))\n",
    "        for f in fuel_type:\n",
    "            used_cars[\"Fuel_type\"].append(f.text) \n",
    "            \n",
    "        \n",
    "        # Transmission\n",
    "        transmission = driver.find_elements_by_xpath('//div[@class=\"gsc_col-xs-7 carsName\"]/div[2]/span[3]'.format(i))\n",
    "        for t in transmission:\n",
    "            used_cars[\"Transmission\"].append(t.text)\n",
    "                 \n",
    "        \n",
    "        # Selling Price\n",
    "        selling_Price = driver.find_elements_by_xpath('//div[@class=\"price gsc_col-xs-5 text-right\"]/span[1]'.format(i))\n",
    "        for sp in selling_Price:\n",
    "            used_cars[\"Selling_Price\"].append(sp.text)       \n",
    "            \n",
    "    except NoSuchElementException:\n",
    "        flight[\"Model\"].append('-')\n",
    "        flight[\"Brand\"].append('-')\n",
    "        flight[\"Variant\"].append('-')\n",
    "        flight[\"Manufacturing_year\"].append('-')\n",
    "        flight[\"Driven_km\"].append('-')\n",
    "        flight[\"Fuel_type\"].append('-')\n",
    "        flight[\"Transmission\"].append('-')\n",
    "        flight[\"Selling_Price\"].append('-')\n",
    "        \n",
    "time.sleep(3)\n",
    "# Make dataframe\n",
    "flight = pd.DataFrame(flight)\n",
    "flight\n",
    "\n",
    "# determining the name of the file\n",
    "file_name = 'flight.xlsx'\n",
    "  \n",
    "# saving the excel\n",
    "flight.to_excel(file_name)\n",
    "print('DataFrame is written to Excel File successfully.')"
   ]
  },
  {
   "cell_type": "code",
   "execution_count": null,
   "id": "ad36cb08",
   "metadata": {},
   "outputs": [],
   "source": []
  }
 ],
 "metadata": {
  "kernelspec": {
   "display_name": "Python 3 (ipykernel)",
   "language": "python",
   "name": "python3"
  },
  "language_info": {
   "codemirror_mode": {
    "name": "ipython",
    "version": 3
   },
   "file_extension": ".py",
   "mimetype": "text/x-python",
   "name": "python",
   "nbconvert_exporter": "python",
   "pygments_lexer": "ipython3",
   "version": "3.9.7"
  }
 },
 "nbformat": 4,
 "nbformat_minor": 5
}

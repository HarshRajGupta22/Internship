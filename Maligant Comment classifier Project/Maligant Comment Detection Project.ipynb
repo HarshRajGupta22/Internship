{
 "cells": [
  {
   "cell_type": "markdown",
   "id": "9c550012",
   "metadata": {},
   "source": [
    "# DATASET INFORMATION"
   ]
  },
  {
   "cell_type": "markdown",
   "id": "04da7d39",
   "metadata": {},
   "source": [
    "The data set contains the training set, which has approximately 1,59,000 samples and the test set which contains nearly 1,53,000 samples. All the data samples contain 8 fields which includes ‘Id’, ‘Comments’, ‘Malignant’, ‘Highly malignant’, ‘Rude’, ‘Threat’, ‘Abuse’ and ‘Loathe’. The label can be either 0 or 1, where 0 denotes a NO while 1 denotes a YES. There are various comments which have multiple labels. The first attribute is a unique ID associated with each comment."
   ]
  },
  {
   "cell_type": "code",
   "execution_count": 1,
   "id": "f986a215",
   "metadata": {},
   "outputs": [],
   "source": [
    "#Importing the needed libraries\n",
    "\n",
    "import pandas as pd\n",
    "import numpy as np\n",
    "import matplotlib.pyplot as plt\n",
    "import seaborn as sns\n",
    "import string\n",
    "import nltk\n",
    "from nltk.corpus import stopwords\n",
    "from nltk.stem import PorterStemmer, WordNetLemmatizer\n",
    "\n",
    "\n",
    "import warnings \n",
    "warnings.filterwarnings(\"ignore\")"
   ]
  },
  {
   "cell_type": "code",
   "execution_count": 2,
   "id": "103d5571",
   "metadata": {},
   "outputs": [
    {
     "data": {
      "text/html": [
       "<div>\n",
       "<style scoped>\n",
       "    .dataframe tbody tr th:only-of-type {\n",
       "        vertical-align: middle;\n",
       "    }\n",
       "\n",
       "    .dataframe tbody tr th {\n",
       "        vertical-align: top;\n",
       "    }\n",
       "\n",
       "    .dataframe thead th {\n",
       "        text-align: right;\n",
       "    }\n",
       "</style>\n",
       "<table border=\"1\" class=\"dataframe\">\n",
       "  <thead>\n",
       "    <tr style=\"text-align: right;\">\n",
       "      <th></th>\n",
       "      <th>id</th>\n",
       "      <th>comment_text</th>\n",
       "      <th>malignant</th>\n",
       "      <th>highly_malignant</th>\n",
       "      <th>rude</th>\n",
       "      <th>threat</th>\n",
       "      <th>abuse</th>\n",
       "      <th>loathe</th>\n",
       "    </tr>\n",
       "  </thead>\n",
       "  <tbody>\n",
       "    <tr>\n",
       "      <th>0</th>\n",
       "      <td>0000997932d777bf</td>\n",
       "      <td>Explanation\\nWhy the edits made under my usern...</td>\n",
       "      <td>0</td>\n",
       "      <td>0</td>\n",
       "      <td>0</td>\n",
       "      <td>0</td>\n",
       "      <td>0</td>\n",
       "      <td>0</td>\n",
       "    </tr>\n",
       "    <tr>\n",
       "      <th>1</th>\n",
       "      <td>000103f0d9cfb60f</td>\n",
       "      <td>D'aww! He matches this background colour I'm s...</td>\n",
       "      <td>0</td>\n",
       "      <td>0</td>\n",
       "      <td>0</td>\n",
       "      <td>0</td>\n",
       "      <td>0</td>\n",
       "      <td>0</td>\n",
       "    </tr>\n",
       "    <tr>\n",
       "      <th>2</th>\n",
       "      <td>000113f07ec002fd</td>\n",
       "      <td>Hey man, I'm really not trying to edit war. It...</td>\n",
       "      <td>0</td>\n",
       "      <td>0</td>\n",
       "      <td>0</td>\n",
       "      <td>0</td>\n",
       "      <td>0</td>\n",
       "      <td>0</td>\n",
       "    </tr>\n",
       "    <tr>\n",
       "      <th>3</th>\n",
       "      <td>0001b41b1c6bb37e</td>\n",
       "      <td>\"\\nMore\\nI can't make any real suggestions on ...</td>\n",
       "      <td>0</td>\n",
       "      <td>0</td>\n",
       "      <td>0</td>\n",
       "      <td>0</td>\n",
       "      <td>0</td>\n",
       "      <td>0</td>\n",
       "    </tr>\n",
       "    <tr>\n",
       "      <th>4</th>\n",
       "      <td>0001d958c54c6e35</td>\n",
       "      <td>You, sir, are my hero. Any chance you remember...</td>\n",
       "      <td>0</td>\n",
       "      <td>0</td>\n",
       "      <td>0</td>\n",
       "      <td>0</td>\n",
       "      <td>0</td>\n",
       "      <td>0</td>\n",
       "    </tr>\n",
       "  </tbody>\n",
       "</table>\n",
       "</div>"
      ],
      "text/plain": [
       "                 id                                       comment_text  \\\n",
       "0  0000997932d777bf  Explanation\\nWhy the edits made under my usern...   \n",
       "1  000103f0d9cfb60f  D'aww! He matches this background colour I'm s...   \n",
       "2  000113f07ec002fd  Hey man, I'm really not trying to edit war. It...   \n",
       "3  0001b41b1c6bb37e  \"\\nMore\\nI can't make any real suggestions on ...   \n",
       "4  0001d958c54c6e35  You, sir, are my hero. Any chance you remember...   \n",
       "\n",
       "   malignant  highly_malignant  rude  threat  abuse  loathe  \n",
       "0          0                 0     0       0      0       0  \n",
       "1          0                 0     0       0      0       0  \n",
       "2          0                 0     0       0      0       0  \n",
       "3          0                 0     0       0      0       0  \n",
       "4          0                 0     0       0      0       0  "
      ]
     },
     "execution_count": 2,
     "metadata": {},
     "output_type": "execute_result"
    }
   ],
   "source": [
    "# Importing Dataset\n",
    "# Reading the excel file\n",
    "#Importing trianiing and testing dataset\n",
    "\n",
    "df_train=pd.read_csv(\"Maligant Test.csv\")\n",
    "df_test = pd.read_csv(\"Maligant Test2.csv\")\n",
    "df_train.head()\n"
   ]
  },
  {
   "cell_type": "code",
   "execution_count": 3,
   "id": "c867cede",
   "metadata": {},
   "outputs": [
    {
     "name": "stdout",
     "output_type": "stream",
     "text": [
      "The no. of Rows in dataset is:  159571 and no. of columns is  8\n"
     ]
    }
   ],
   "source": [
    "#Printing the rows & columns of the dataset\n",
    "\n",
    "print(\"The no. of Rows in dataset is: \",df_train.shape[0],\"and no. of columns is \",df_train.shape[1])"
   ]
  },
  {
   "cell_type": "code",
   "execution_count": 4,
   "id": "664102d2",
   "metadata": {},
   "outputs": [
    {
     "name": "stdout",
     "output_type": "stream",
     "text": [
      "<class 'pandas.core.frame.DataFrame'>\n",
      "RangeIndex: 159571 entries, 0 to 159570\n",
      "Data columns (total 8 columns):\n",
      " #   Column            Non-Null Count   Dtype \n",
      "---  ------            --------------   ----- \n",
      " 0   id                159571 non-null  object\n",
      " 1   comment_text      159571 non-null  object\n",
      " 2   malignant         159571 non-null  int64 \n",
      " 3   highly_malignant  159571 non-null  int64 \n",
      " 4   rude              159571 non-null  int64 \n",
      " 5   threat            159571 non-null  int64 \n",
      " 6   abuse             159571 non-null  int64 \n",
      " 7   loathe            159571 non-null  int64 \n",
      "dtypes: int64(6), object(2)\n",
      "memory usage: 9.7+ MB\n"
     ]
    }
   ],
   "source": [
    "#Printing the information about the dataset\n",
    "\n",
    "df_train.info()"
   ]
  },
  {
   "cell_type": "code",
   "execution_count": 5,
   "id": "372c7d35",
   "metadata": {},
   "outputs": [
    {
     "data": {
      "text/html": [
       "<div>\n",
       "<style scoped>\n",
       "    .dataframe tbody tr th:only-of-type {\n",
       "        vertical-align: middle;\n",
       "    }\n",
       "\n",
       "    .dataframe tbody tr th {\n",
       "        vertical-align: top;\n",
       "    }\n",
       "\n",
       "    .dataframe thead th {\n",
       "        text-align: right;\n",
       "    }\n",
       "</style>\n",
       "<table border=\"1\" class=\"dataframe\">\n",
       "  <thead>\n",
       "    <tr style=\"text-align: right;\">\n",
       "      <th></th>\n",
       "      <th>malignant</th>\n",
       "      <th>highly_malignant</th>\n",
       "      <th>rude</th>\n",
       "      <th>threat</th>\n",
       "      <th>abuse</th>\n",
       "      <th>loathe</th>\n",
       "    </tr>\n",
       "  </thead>\n",
       "  <tbody>\n",
       "    <tr>\n",
       "      <th>count</th>\n",
       "      <td>159571.000000</td>\n",
       "      <td>159571.000000</td>\n",
       "      <td>159571.000000</td>\n",
       "      <td>159571.000000</td>\n",
       "      <td>159571.000000</td>\n",
       "      <td>159571.000000</td>\n",
       "    </tr>\n",
       "    <tr>\n",
       "      <th>mean</th>\n",
       "      <td>0.095844</td>\n",
       "      <td>0.009996</td>\n",
       "      <td>0.052948</td>\n",
       "      <td>0.002996</td>\n",
       "      <td>0.049364</td>\n",
       "      <td>0.008805</td>\n",
       "    </tr>\n",
       "    <tr>\n",
       "      <th>std</th>\n",
       "      <td>0.294379</td>\n",
       "      <td>0.099477</td>\n",
       "      <td>0.223931</td>\n",
       "      <td>0.054650</td>\n",
       "      <td>0.216627</td>\n",
       "      <td>0.093420</td>\n",
       "    </tr>\n",
       "    <tr>\n",
       "      <th>min</th>\n",
       "      <td>0.000000</td>\n",
       "      <td>0.000000</td>\n",
       "      <td>0.000000</td>\n",
       "      <td>0.000000</td>\n",
       "      <td>0.000000</td>\n",
       "      <td>0.000000</td>\n",
       "    </tr>\n",
       "    <tr>\n",
       "      <th>25%</th>\n",
       "      <td>0.000000</td>\n",
       "      <td>0.000000</td>\n",
       "      <td>0.000000</td>\n",
       "      <td>0.000000</td>\n",
       "      <td>0.000000</td>\n",
       "      <td>0.000000</td>\n",
       "    </tr>\n",
       "    <tr>\n",
       "      <th>50%</th>\n",
       "      <td>0.000000</td>\n",
       "      <td>0.000000</td>\n",
       "      <td>0.000000</td>\n",
       "      <td>0.000000</td>\n",
       "      <td>0.000000</td>\n",
       "      <td>0.000000</td>\n",
       "    </tr>\n",
       "    <tr>\n",
       "      <th>75%</th>\n",
       "      <td>0.000000</td>\n",
       "      <td>0.000000</td>\n",
       "      <td>0.000000</td>\n",
       "      <td>0.000000</td>\n",
       "      <td>0.000000</td>\n",
       "      <td>0.000000</td>\n",
       "    </tr>\n",
       "    <tr>\n",
       "      <th>max</th>\n",
       "      <td>1.000000</td>\n",
       "      <td>1.000000</td>\n",
       "      <td>1.000000</td>\n",
       "      <td>1.000000</td>\n",
       "      <td>1.000000</td>\n",
       "      <td>1.000000</td>\n",
       "    </tr>\n",
       "  </tbody>\n",
       "</table>\n",
       "</div>"
      ],
      "text/plain": [
       "           malignant  highly_malignant           rude         threat  \\\n",
       "count  159571.000000     159571.000000  159571.000000  159571.000000   \n",
       "mean        0.095844          0.009996       0.052948       0.002996   \n",
       "std         0.294379          0.099477       0.223931       0.054650   \n",
       "min         0.000000          0.000000       0.000000       0.000000   \n",
       "25%         0.000000          0.000000       0.000000       0.000000   \n",
       "50%         0.000000          0.000000       0.000000       0.000000   \n",
       "75%         0.000000          0.000000       0.000000       0.000000   \n",
       "max         1.000000          1.000000       1.000000       1.000000   \n",
       "\n",
       "               abuse         loathe  \n",
       "count  159571.000000  159571.000000  \n",
       "mean        0.049364       0.008805  \n",
       "std         0.216627       0.093420  \n",
       "min         0.000000       0.000000  \n",
       "25%         0.000000       0.000000  \n",
       "50%         0.000000       0.000000  \n",
       "75%         0.000000       0.000000  \n",
       "max         1.000000       1.000000  "
      ]
     },
     "execution_count": 5,
     "metadata": {},
     "output_type": "execute_result"
    }
   ],
   "source": [
    "#Printing the description of the train dataset\n",
    "\n",
    "df_train.describe()"
   ]
  },
  {
   "cell_type": "code",
   "execution_count": 4,
   "id": "a23396ee",
   "metadata": {},
   "outputs": [],
   "source": [
    "#Droping unnecessary column\n",
    "\n",
    "df_train.drop(\"id\",axis=1,inplace=True)"
   ]
  },
  {
   "cell_type": "code",
   "execution_count": 7,
   "id": "66f73ccd",
   "metadata": {},
   "outputs": [
    {
     "data": {
      "text/plain": [
       "<AxesSubplot:xlabel='malignant', ylabel='count'>"
      ]
     },
     "execution_count": 7,
     "metadata": {},
     "output_type": "execute_result"
    },
    {
     "data": {
      "image/png": "[encoded data removed]",
      "text/plain": [
       "<Figure size 432x288 with 1 Axes>"
      ]
     },
     "metadata": {
      "needs_background": "light"
     },
     "output_type": "display_data"
    }
   ],
   "source": [
    "#We see very low prpobabliy of comment being malignant\n",
    "\n",
    "sns.countplot(df_train[\"malignant\"])"
   ]
  },
  {
   "cell_type": "code",
   "execution_count": 8,
   "id": "744e5f34",
   "metadata": {},
   "outputs": [
    {
     "data": {
      "text/plain": [
       "<AxesSubplot:xlabel='highly_malignant', ylabel='count'>"
      ]
     },
     "execution_count": 8,
     "metadata": {},
     "output_type": "execute_result"
    },
    {
     "data": {
      "image/png": "[encoded data removed]",
      "text/plain": [
       "<Figure size 432x288 with 1 Axes>"
      ]
     },
     "metadata": {
      "needs_background": "light"
     },
     "output_type": "display_data"
    }
   ],
   "source": [
    "#We see very low prpobabliy of comment being malignant\n",
    "\n",
    "sns.countplot(df_train[\"highly_malignant\"])"
   ]
  },
  {
   "cell_type": "code",
   "execution_count": 9,
   "id": "512373e2",
   "metadata": {},
   "outputs": [
    {
     "data": {
      "image/png": "[encoded data removed]",
      "text/plain": [
       "<Figure size 432x288 with 1 Axes>"
      ]
     },
     "metadata": {},
     "output_type": "display_data"
    }
   ],
   "source": [
    "#We see very low prpobabliy of comment being malignant\n",
    "\n",
    "df_train[\"rude\"].value_counts().plot.pie(labels=[\"not-rude\", \"rude\"], autopct=\"%1.0f%%\")\n",
    "plt.show()"
   ]
  },
  {
   "cell_type": "code",
   "execution_count": 10,
   "id": "00a4a338",
   "metadata": {},
   "outputs": [
    {
     "data": {
      "text/plain": [
       "<AxesSubplot:xlabel='threat', ylabel='count'>"
      ]
     },
     "execution_count": 10,
     "metadata": {},
     "output_type": "execute_result"
    },
    {
     "data": {
      "image/png": "[encoded data removed]",
      "text/plain": [
       "<Figure size 432x288 with 1 Axes>"
      ]
     },
     "metadata": {
      "needs_background": "light"
     },
     "output_type": "display_data"
    }
   ],
   "source": [
    "#We see very low prpobabliy of comment being malignant\n",
    "\n",
    "sns.countplot(df_train[\"threat\"])"
   ]
  },
  {
   "cell_type": "code",
   "execution_count": 11,
   "id": "9222cb5c",
   "metadata": {},
   "outputs": [
    {
     "data": {
      "text/plain": [
       "<AxesSubplot:xlabel='abuse', ylabel='count'>"
      ]
     },
     "execution_count": 11,
     "metadata": {},
     "output_type": "execute_result"
    },
    {
     "data": {
      "image/png": "[encoded data removed]",
      "text/plain": [
       "<Figure size 432x288 with 1 Axes>"
      ]
     },
     "metadata": {
      "needs_background": "light"
     },
     "output_type": "display_data"
    }
   ],
   "source": [
    "#We see very low prpobabliy of comment being malignant\n",
    "\n",
    "sns.countplot(df_train[\"abuse\"])"
   ]
  },
  {
   "cell_type": "code",
   "execution_count": 12,
   "id": "25f4bf5a",
   "metadata": {},
   "outputs": [
    {
     "data": {
      "text/plain": [
       "<AxesSubplot:xlabel='loathe', ylabel='count'>"
      ]
     },
     "execution_count": 12,
     "metadata": {},
     "output_type": "execute_result"
    },
    {
     "data": {
      "image/png": "[encoded data removed]",
      "text/plain": [
       "<Figure size 432x288 with 1 Axes>"
      ]
     },
     "metadata": {
      "needs_background": "light"
     },
     "output_type": "display_data"
    }
   ],
   "source": [
    "#We see very low prpobabliy of comment being malignant\n",
    "\n",
    "sns.countplot(df_train[\"loathe\"])"
   ]
  },
  {
   "cell_type": "code",
   "execution_count": 13,
   "id": "93846a5b",
   "metadata": {},
   "outputs": [
    {
     "data": {
      "text/plain": [
       "<matplotlib.legend.Legend at 0x1a7b5696460>"
      ]
     },
     "execution_count": 13,
     "metadata": {},
     "output_type": "execute_result"
    },
    {
     "data": {
      "image/png": "[encoded data removed]",
      "text/plain": [
       "<Figure size 360x360 with 1 Axes>"
      ]
     },
     "metadata": {},
     "output_type": "display_data"
    }
   ],
   "source": [
    "#Checking how which comment fall under which category\n",
    "\n",
    "cols_target = ['malignant','highly_malignant','rude','threat','abuse','loathe']\n",
    "df_plot = df_train[cols_target].sum().to_frame().rename(columns={0: 'count'})\n",
    "df_plot.plot.pie(y='count',title='Label distribution over comments',figsize=(5, 5)).legend(loc='center left', bbox_to_anchor=(0.8, 0.8))"
   ]
  },
  {
   "cell_type": "code",
   "execution_count": 14,
   "id": "6b6c5b32",
   "metadata": {},
   "outputs": [
    {
     "data": {
      "text/plain": [
       "<AxesSubplot:>"
      ]
     },
     "execution_count": 14,
     "metadata": {},
     "output_type": "execute_result"
    },
    {
     "data": {
      "image/png": "[encoded data removed]",
      "text/plain": [
       "<Figure size 432x288 with 2 Axes>"
      ]
     },
     "metadata": {
      "needs_background": "light"
     },
     "output_type": "display_data"
    }
   ],
   "source": [
    "#Printing the correlation through the heatmap of the train dataset\n",
    "\n",
    "sns.heatmap(df_train.corr(),vmin=-1,vmax=1,annot=True,square=True,center=0,fmt='.2g',linewidths=.1)"
   ]
  },
  {
   "cell_type": "code",
   "execution_count": 5,
   "id": "b52d2609",
   "metadata": {},
   "outputs": [],
   "source": [
    "#Checking length of document\n",
    "\n",
    "df_train[\"original_len\"] = df_train[\"comment_text\"].str.len() "
   ]
  },
  {
   "cell_type": "code",
   "execution_count": 6,
   "id": "b0eeb357",
   "metadata": {},
   "outputs": [],
   "source": [
    "#Converting all letter to lower case\n",
    "\n",
    "df_train[\"comment_text\"] = df_train[\"comment_text\"].str.lower()"
   ]
  },
  {
   "cell_type": "code",
   "execution_count": 7,
   "id": "9e6fad4d",
   "metadata": {},
   "outputs": [
    {
     "name": "stderr",
     "output_type": "stream",
     "text": [
      "[nltk_data] Downloading package stopwords to\n",
      "[nltk_data]     C:\\Users\\USER\\AppData\\Roaming\\nltk_data...\n",
      "[nltk_data]   Unzipping corpora\\stopwords.zip.\n",
      "[nltk_data] Downloading package wordnet to\n",
      "[nltk_data]     C:\\Users\\USER\\AppData\\Roaming\\nltk_data...\n",
      "[nltk_data]   Package wordnet is already up-to-date!\n"
     ]
    },
    {
     "data": {
      "text/plain": [
       "True"
      ]
     },
     "execution_count": 7,
     "metadata": {},
     "output_type": "execute_result"
    }
   ],
   "source": [
    "import nltk\n",
    "nltk.download('stopwords')\n",
    "nltk.download('wordnet')"
   ]
  },
  {
   "cell_type": "code",
   "execution_count": 8,
   "id": "9317898c",
   "metadata": {},
   "outputs": [],
   "source": [
    "#Replacing with email address\n",
    "df_train[\"comment_text\"]= df_train[\"comment_text\"].str.replace(r'^.+@[^\\.].*\\.[a-z]{2,}$',\"emailaddress\")\n",
    "\n",
    "#Replacing with web address                                                 \n",
    "df_train[\"comment_text\"]= df_train[\"comment_text\"].str.replace(r'^http\\://[a-zA-Z0-9\\-\\.]+\\.[a-zA-Z]{2,3}(/\\s*)?$',\"webaddress\")\n",
    "                    \n",
    "#Replacing with number\n",
    "df_train[\"comment_text\"]= df_train[\"comment_text\"].str.replace(r'\\d+(\\.\\d+)?',\"number\")\n",
    "\n",
    "#Remove  punctation\n",
    "df_train[\"comment_text\"]=df_train[\"comment_text\"].str.replace(r'[^\\w\\d\\s]',\" \")\n",
    "\n",
    "#Replace extra space\n",
    "df_train[\"comment_text\"]=df_train[\"comment_text\"].str.replace(r'^\\s+',\" \")\n",
    "\n",
    "#Replacing leadning and trailing white space\n",
    "df_train[\"comment_text\"]=df_train[\"comment_text\"].str.replace(r'^\\s+|\\s+?$', \"\")\n",
    "\n",
    "#Removing \\n\n",
    "df_train[\"comment_text\"]=df_train[\"comment_text\"].str.replace(\"\\n\",\" \")\n",
    "\n",
    "\n",
    "#Remove stopwords\n",
    "stop_words = set(stopwords.words('english') + [\"m\",\"ur\",\"aww\",\"d\",\"dont\",\"cant\",\"doin\",\"ja\",\"u\"])\n",
    "df_train[\"comment_text\"]= df_train[\"comment_text\"].apply(lambda x: ' '.join(\n",
    "    term for term in x.split() if term not in stop_words ))\n",
    "\n",
    "#Lemmatizing is the process of grouping together the inflected forms of a word so they can be analysed as a single item.\n",
    "#This is quite similar to stemming in its working but differs since it depends on correctly identifying the intended part of speech and meaning of a word in a sentence, as well as within the larger context surrounding that sentence, \n",
    "#Such as neighboring sentences or even an entire document.\n",
    "lem=WordNetLemmatizer()\n",
    "df_train['comment_text'] = df_train['comment_text'].apply(lambda x: ' '.join(\n",
    "lem.lemmatize(word) for word in x.split()))"
   ]
  },
  {
   "cell_type": "code",
   "execution_count": 9,
   "id": "8af93c11",
   "metadata": {},
   "outputs": [],
   "source": [
    "#Checking clean length\n",
    "\n",
    "df_train[\"clean_len\"] = df_train[\"comment_text\"].str.len() "
   ]
  },
  {
   "cell_type": "code",
   "execution_count": 19,
   "id": "2bffc7ce",
   "metadata": {},
   "outputs": [
    {
     "data": {
      "text/html": [
       "<div>\n",
       "<style scoped>\n",
       "    .dataframe tbody tr th:only-of-type {\n",
       "        vertical-align: middle;\n",
       "    }\n",
       "\n",
       "    .dataframe tbody tr th {\n",
       "        vertical-align: top;\n",
       "    }\n",
       "\n",
       "    .dataframe thead th {\n",
       "        text-align: right;\n",
       "    }\n",
       "</style>\n",
       "<table border=\"1\" class=\"dataframe\">\n",
       "  <thead>\n",
       "    <tr style=\"text-align: right;\">\n",
       "      <th></th>\n",
       "      <th>comment_text</th>\n",
       "      <th>malignant</th>\n",
       "      <th>highly_malignant</th>\n",
       "      <th>rude</th>\n",
       "      <th>threat</th>\n",
       "      <th>abuse</th>\n",
       "      <th>loathe</th>\n",
       "      <th>original_len</th>\n",
       "      <th>clean_len</th>\n",
       "    </tr>\n",
       "  </thead>\n",
       "  <tbody>\n",
       "    <tr>\n",
       "      <th>0</th>\n",
       "      <td>explanation edits made username hardcore metal...</td>\n",
       "      <td>0</td>\n",
       "      <td>0</td>\n",
       "      <td>0</td>\n",
       "      <td>0</td>\n",
       "      <td>0</td>\n",
       "      <td>0</td>\n",
       "      <td>264</td>\n",
       "      <td>170</td>\n",
       "    </tr>\n",
       "    <tr>\n",
       "      <th>1</th>\n",
       "      <td>match background colour seemingly stuck thanks...</td>\n",
       "      <td>0</td>\n",
       "      <td>0</td>\n",
       "      <td>0</td>\n",
       "      <td>0</td>\n",
       "      <td>0</td>\n",
       "      <td>0</td>\n",
       "      <td>112</td>\n",
       "      <td>91</td>\n",
       "    </tr>\n",
       "    <tr>\n",
       "      <th>2</th>\n",
       "      <td>hey man really trying edit war guy constantly ...</td>\n",
       "      <td>0</td>\n",
       "      <td>0</td>\n",
       "      <td>0</td>\n",
       "      <td>0</td>\n",
       "      <td>0</td>\n",
       "      <td>0</td>\n",
       "      <td>233</td>\n",
       "      <td>141</td>\n",
       "    </tr>\n",
       "    <tr>\n",
       "      <th>3</th>\n",
       "      <td>make real suggestion improvement wondered sect...</td>\n",
       "      <td>0</td>\n",
       "      <td>0</td>\n",
       "      <td>0</td>\n",
       "      <td>0</td>\n",
       "      <td>0</td>\n",
       "      <td>0</td>\n",
       "      <td>622</td>\n",
       "      <td>365</td>\n",
       "    </tr>\n",
       "    <tr>\n",
       "      <th>4</th>\n",
       "      <td>sir hero chance remember page</td>\n",
       "      <td>0</td>\n",
       "      <td>0</td>\n",
       "      <td>0</td>\n",
       "      <td>0</td>\n",
       "      <td>0</td>\n",
       "      <td>0</td>\n",
       "      <td>67</td>\n",
       "      <td>29</td>\n",
       "    </tr>\n",
       "  </tbody>\n",
       "</table>\n",
       "</div>"
      ],
      "text/plain": [
       "                                        comment_text  malignant  \\\n",
       "0  explanation edits made username hardcore metal...          0   \n",
       "1  match background colour seemingly stuck thanks...          0   \n",
       "2  hey man really trying edit war guy constantly ...          0   \n",
       "3  make real suggestion improvement wondered sect...          0   \n",
       "4                      sir hero chance remember page          0   \n",
       "\n",
       "   highly_malignant  rude  threat  abuse  loathe  original_len  clean_len  \n",
       "0                 0     0       0      0       0           264        170  \n",
       "1                 0     0       0      0       0           112         91  \n",
       "2                 0     0       0      0       0           233        141  \n",
       "3                 0     0       0      0       0           622        365  \n",
       "4                 0     0       0      0       0            67         29  "
      ]
     },
     "execution_count": 19,
     "metadata": {},
     "output_type": "execute_result"
    }
   ],
   "source": [
    "#Printing the first five rows of the datset\n",
    "\n",
    "df_train.head()"
   ]
  },
  {
   "cell_type": "code",
   "execution_count": 10,
   "id": "09af9183",
   "metadata": {},
   "outputs": [],
   "source": [
    "#Making one target column \n",
    "\n",
    "df_train[\"label\"]=df_train[\"malignant\"] | df_train[\"highly_malignant\"] | df_train[\"rude\"] | df_train[\"threat\"] | df_train[\"abuse\"] | df_train[\"loathe\"]"
   ]
  },
  {
   "cell_type": "code",
   "execution_count": 11,
   "id": "70b21cb2",
   "metadata": {},
   "outputs": [
    {
     "name": "stdout",
     "output_type": "stream",
     "text": [
      "original length 62893130\n",
      "cleaned length 40149092\n"
     ]
    }
   ],
   "source": [
    "#Printing the original length & cleaned length\n",
    "\n",
    "print('original length',df_train.original_len.sum())\n",
    "print('cleaned length',df_train.clean_len.sum())"
   ]
  },
  {
   "cell_type": "code",
   "execution_count": 24,
   "id": "b3fb3c13",
   "metadata": {},
   "outputs": [
    {
     "name": "stdout",
     "output_type": "stream",
     "text": [
      "Collecting package metadata (current_repodata.json): ...working... done\n",
      "Solving environment: ...working... done\n",
      "\n",
      "## Package Plan ##\n",
      "\n",
      "  environment location: C:\\ProgramData\\Anaconda3\n",
      "\n",
      "  added / updated specs:\n",
      "    - wordcloud\n",
      "\n",
      "\n",
      "The following NEW packages will be INSTALLED:\n",
      "\n",
      "  python_abi         conda-forge/win-64::python_abi-3.9-2_cp39\n",
      "  wordcloud          conda-forge/win-64::wordcloud-1.8.2.2-py39hb82d6ee_0\n",
      "\n",
      "The following packages will be UPDATED:\n",
      "\n",
      "\n",
      "Note: you may need to restart the kernel to use updated packages.  conda              pkgs/main::conda-4.10.3-py39haa95532_0 --> conda-forge::conda-4.13.0-py39hcbf5309_1\n",
      "\n",
      "\n",
      "Preparing transaction: ...working... done\n",
      "Verifying transaction: ...working... failed\n",
      "\n"
     ]
    },
    {
     "name": "stderr",
     "output_type": "stream",
     "text": [
      "\n",
      "\n",
      "==> WARNING: A newer version of conda exists. <==\n",
      "  current version: 4.10.3\n",
      "  latest version: 4.13.0\n",
      "\n",
      "Please update conda by running\n",
      "\n",
      "    $ conda update -n base -c defaults conda\n",
      "\n",
      "\n",
      "\n",
      "EnvironmentNotWritableError: The current user does not have write permissions to the target environment.\n",
      "  environment location: C:\\ProgramData\\Anaconda3\n",
      "\n",
      "\n"
     ]
    }
   ],
   "source": [
    "conda install -c conda-forge wordcloud"
   ]
  },
  {
   "cell_type": "code",
   "execution_count": 29,
   "id": "14604354",
   "metadata": {},
   "outputs": [
    {
     "name": "stdout",
     "output_type": "stream",
     "text": [
      "Collecting package metadata (current_repodata.json): ...working... done\n",
      "Solving environment: ...working... done\n",
      "\n",
      "## Package Plan ##\n",
      "\n",
      "  environment location: C:\\ProgramData\\Anaconda3\n",
      "\n",
      "  added / updated specs:\n",
      "    - conda\n",
      "\n",
      "\n",
      "The following packages will be UPDATED:\n",
      "\n",
      "  conda                               4.10.3-py39haa95532_0 --> 4.13.0-py39haa95532_0\n",
      "  conda-package-han~                   1.7.3-py39h8cc25b3_1 --> 1.8.1-py39h8cc25b3_0\n",
      "\n",
      "\n",
      "Preparing transaction: ...working... done\n",
      "Verifying transaction: ...working... failed\n",
      "\n",
      "Note: you may need to restart the kernel to use updated packages.\n"
     ]
    },
    {
     "name": "stderr",
     "output_type": "stream",
     "text": [
      "\n",
      "EnvironmentNotWritableError: The current user does not have write permissions to the target environment.\n",
      "  environment location: C:\\ProgramData\\Anaconda3\n",
      "\n",
      "\n"
     ]
    }
   ],
   "source": [
    "conda update -n base -c defaults conda"
   ]
  },
  {
   "cell_type": "code",
   "execution_count": 22,
   "id": "4f4d159a",
   "metadata": {},
   "outputs": [
    {
     "data": {
      "text/html": [
       "<div>\n",
       "<style scoped>\n",
       "    .dataframe tbody tr th:only-of-type {\n",
       "        vertical-align: middle;\n",
       "    }\n",
       "\n",
       "    .dataframe tbody tr th {\n",
       "        vertical-align: top;\n",
       "    }\n",
       "\n",
       "    .dataframe thead th {\n",
       "        text-align: right;\n",
       "    }\n",
       "</style>\n",
       "<table border=\"1\" class=\"dataframe\">\n",
       "  <thead>\n",
       "    <tr style=\"text-align: right;\">\n",
       "      <th></th>\n",
       "      <th>id</th>\n",
       "      <th>comment_text</th>\n",
       "    </tr>\n",
       "  </thead>\n",
       "  <tbody>\n",
       "    <tr>\n",
       "      <th>0</th>\n",
       "      <td>00001cee341fdb12</td>\n",
       "      <td>Yo bitch Ja Rule is more succesful then you'll...</td>\n",
       "    </tr>\n",
       "    <tr>\n",
       "      <th>1</th>\n",
       "      <td>0000247867823ef7</td>\n",
       "      <td>== From RfC == \\n\\n The title is fine as it is...</td>\n",
       "    </tr>\n",
       "    <tr>\n",
       "      <th>2</th>\n",
       "      <td>00013b17ad220c46</td>\n",
       "      <td>\" \\n\\n == Sources == \\n\\n * Zawe Ashton on Lap...</td>\n",
       "    </tr>\n",
       "    <tr>\n",
       "      <th>3</th>\n",
       "      <td>00017563c3f7919a</td>\n",
       "      <td>:If you have a look back at the source, the in...</td>\n",
       "    </tr>\n",
       "    <tr>\n",
       "      <th>4</th>\n",
       "      <td>00017695ad8997eb</td>\n",
       "      <td>I don't anonymously edit articles at all.</td>\n",
       "    </tr>\n",
       "  </tbody>\n",
       "</table>\n",
       "</div>"
      ],
      "text/plain": [
       "                 id                                       comment_text\n",
       "0  00001cee341fdb12  Yo bitch Ja Rule is more succesful then you'll...\n",
       "1  0000247867823ef7  == From RfC == \\n\\n The title is fine as it is...\n",
       "2  00013b17ad220c46  \" \\n\\n == Sources == \\n\\n * Zawe Ashton on Lap...\n",
       "3  00017563c3f7919a  :If you have a look back at the source, the in...\n",
       "4  00017695ad8997eb          I don't anonymously edit articles at all."
      ]
     },
     "execution_count": 22,
     "metadata": {},
     "output_type": "execute_result"
    }
   ],
   "source": [
    "#Printing the first five rows of the test dataset\n",
    "\n",
    "df_test.head()"
   ]
  },
  {
   "cell_type": "code",
   "execution_count": 12,
   "id": "33a95e69",
   "metadata": {},
   "outputs": [
    {
     "name": "stdout",
     "output_type": "stream",
     "text": [
      "The no. of Rows in dataset is:  153164 and no. of columns is  2\n"
     ]
    }
   ],
   "source": [
    "#Printing the rows & the columns of the test dataset\n",
    "\n",
    "print(\"The no. of Rows in dataset is: \",df_test.shape[0],\"and no. of columns is \",df_test.shape[1])"
   ]
  },
  {
   "cell_type": "code",
   "execution_count": 13,
   "id": "8219aa8e",
   "metadata": {},
   "outputs": [],
   "source": [
    "#Dropping the column id as it do not contribute towards the analysis part\n",
    "\n",
    "df_test.drop(\"id\",axis=1,inplace=True)"
   ]
  },
  {
   "cell_type": "code",
   "execution_count": 14,
   "id": "b7860f03",
   "metadata": {},
   "outputs": [],
   "source": [
    "#Converting the text to the lower\n",
    "\n",
    "df_test[\"comment_text\"] = df_test[\"comment_text\"].str.lower()"
   ]
  },
  {
   "cell_type": "code",
   "execution_count": 15,
   "id": "395b4fa9",
   "metadata": {},
   "outputs": [],
   "source": [
    "#Storing the length to the new column to original len\n",
    "\n",
    "df_test[\"original_len\"] = df_test[\"comment_text\"].str.len() "
   ]
  },
  {
   "cell_type": "code",
   "execution_count": 27,
   "id": "408189c5",
   "metadata": {},
   "outputs": [
    {
     "data": {
      "text/html": [
       "<div>\n",
       "<style scoped>\n",
       "    .dataframe tbody tr th:only-of-type {\n",
       "        vertical-align: middle;\n",
       "    }\n",
       "\n",
       "    .dataframe tbody tr th {\n",
       "        vertical-align: top;\n",
       "    }\n",
       "\n",
       "    .dataframe thead th {\n",
       "        text-align: right;\n",
       "    }\n",
       "</style>\n",
       "<table border=\"1\" class=\"dataframe\">\n",
       "  <thead>\n",
       "    <tr style=\"text-align: right;\">\n",
       "      <th></th>\n",
       "      <th>comment_text</th>\n",
       "      <th>original_len</th>\n",
       "    </tr>\n",
       "  </thead>\n",
       "  <tbody>\n",
       "    <tr>\n",
       "      <th>0</th>\n",
       "      <td>yo bitch ja rule is more succesful then you'll...</td>\n",
       "      <td>367</td>\n",
       "    </tr>\n",
       "    <tr>\n",
       "      <th>1</th>\n",
       "      <td>== from rfc == \\n\\n the title is fine as it is...</td>\n",
       "      <td>50</td>\n",
       "    </tr>\n",
       "    <tr>\n",
       "      <th>2</th>\n",
       "      <td>\" \\n\\n == sources == \\n\\n * zawe ashton on lap...</td>\n",
       "      <td>54</td>\n",
       "    </tr>\n",
       "    <tr>\n",
       "      <th>3</th>\n",
       "      <td>:if you have a look back at the source, the in...</td>\n",
       "      <td>205</td>\n",
       "    </tr>\n",
       "    <tr>\n",
       "      <th>4</th>\n",
       "      <td>i don't anonymously edit articles at all.</td>\n",
       "      <td>41</td>\n",
       "    </tr>\n",
       "  </tbody>\n",
       "</table>\n",
       "</div>"
      ],
      "text/plain": [
       "                                        comment_text  original_len\n",
       "0  yo bitch ja rule is more succesful then you'll...           367\n",
       "1  == from rfc == \\n\\n the title is fine as it is...            50\n",
       "2  \" \\n\\n == sources == \\n\\n * zawe ashton on lap...            54\n",
       "3  :if you have a look back at the source, the in...           205\n",
       "4          i don't anonymously edit articles at all.            41"
      ]
     },
     "execution_count": 27,
     "metadata": {},
     "output_type": "execute_result"
    }
   ],
   "source": [
    "#Printing the first five rows of test dataset\n",
    "\n",
    "df_test.head()"
   ]
  },
  {
   "cell_type": "code",
   "execution_count": 16,
   "id": "ded1f52d",
   "metadata": {},
   "outputs": [],
   "source": [
    "#Replacing with email address\n",
    "df_test[\"comment_text\"]= df_test[\"comment_text\"].str.replace(r'^.+@[^\\.].*\\.[a-z]{2,}$',\"emailaddress\")\n",
    "\n",
    "#Replacing with web address                                                   \n",
    "df_test[\"comment_text\"]= df_test[\"comment_text\"].str.replace(r'^http\\://[a-zA-Z0-9\\-\\.]+\\.[a-zA-Z]{2,3}(/\\s*)?$',\"webaddress\")\n",
    "                    \n",
    "#Replacing with number\n",
    "df_test[\"comment_text\"]= df_test[\"comment_text\"].str.replace(r'\\d+(\\.\\d+)?',\"number\")\n",
    "\n",
    "#Remove  punctation\n",
    "df_test[\"comment_text\"]=df_test[\"comment_text\"].str.replace(r'[^\\w\\d\\s]',\" \")\n",
    "\n",
    "#Replace extra space\n",
    "df_test[\"comment_text\"]=df_test[\"comment_text\"].str.replace(r'^\\s+',\" \")\n",
    "\n",
    "#Replacing leading and trailing white space\n",
    "df_test[\"comment_text\"]=df_test[\"comment_text\"].str.replace(r'^\\s+|\\s+?$', \"\")\n",
    "\n",
    "#Replacing with\\n\n",
    "df_test[\"comment_text\"]=df_test[\"comment_text\"].str.replace(\"\\n\",\" \")\n",
    "\n",
    "#Remove stopwords\n",
    "stop_words = set(stopwords.words('english') + [\"m\",\"ur\",\"aww\",\"d\",\"dont\",\"cant\",\"doin\",\"ja\",\"u\"])\n",
    "df_test[\"comment_text\"]= df_test[\"comment_text\"].apply(lambda x: ' '.join(\n",
    "    term for term in x.split() if term not in stop_words ))\n",
    "\n",
    "#Lemmatizing is the process of grouping together the inflected forms of a word so they can be analysed as a single item.\n",
    "#This is quite similar to stemming in its working but differs since it depends on correctly identifying the intended part of speech and meaning of a word in a sentence, as well as within the larger context surrounding that sentence, \n",
    "#such as neighboring sentences or even an entire document.\n",
    "lem=WordNetLemmatizer()\n",
    "df_test['comment_text'] = df_test['comment_text'].apply(lambda x: ' '.join(\n",
    "lem.lemmatize(word) for word in x.split()))"
   ]
  },
  {
   "cell_type": "code",
   "execution_count": 17,
   "id": "abfd3485",
   "metadata": {},
   "outputs": [],
   "source": [
    "#Storing the length to the clean length new column\n",
    "\n",
    "df_test[\"clean_len\"] = df_test[\"comment_text\"].str.len() "
   ]
  },
  {
   "cell_type": "code",
   "execution_count": 30,
   "id": "ba4d8ccb",
   "metadata": {},
   "outputs": [
    {
     "data": {
      "text/html": [
       "<div>\n",
       "<style scoped>\n",
       "    .dataframe tbody tr th:only-of-type {\n",
       "        vertical-align: middle;\n",
       "    }\n",
       "\n",
       "    .dataframe tbody tr th {\n",
       "        vertical-align: top;\n",
       "    }\n",
       "\n",
       "    .dataframe thead th {\n",
       "        text-align: right;\n",
       "    }\n",
       "</style>\n",
       "<table border=\"1\" class=\"dataframe\">\n",
       "  <thead>\n",
       "    <tr style=\"text-align: right;\">\n",
       "      <th></th>\n",
       "      <th>comment_text</th>\n",
       "      <th>original_len</th>\n",
       "      <th>clean_len</th>\n",
       "    </tr>\n",
       "  </thead>\n",
       "  <tbody>\n",
       "    <tr>\n",
       "      <th>0</th>\n",
       "      <td>yo bitch rule succesful ever whats hating sad ...</td>\n",
       "      <td>367</td>\n",
       "      <td>221</td>\n",
       "    </tr>\n",
       "    <tr>\n",
       "      <th>1</th>\n",
       "      <td>rfc title fine imo</td>\n",
       "      <td>50</td>\n",
       "      <td>18</td>\n",
       "    </tr>\n",
       "    <tr>\n",
       "      <th>2</th>\n",
       "      <td>source zawe ashton lapland</td>\n",
       "      <td>54</td>\n",
       "      <td>26</td>\n",
       "    </tr>\n",
       "    <tr>\n",
       "      <th>3</th>\n",
       "      <td>look back source information updated correct f...</td>\n",
       "      <td>205</td>\n",
       "      <td>109</td>\n",
       "    </tr>\n",
       "    <tr>\n",
       "      <th>4</th>\n",
       "      <td>anonymously edit article</td>\n",
       "      <td>41</td>\n",
       "      <td>24</td>\n",
       "    </tr>\n",
       "  </tbody>\n",
       "</table>\n",
       "</div>"
      ],
      "text/plain": [
       "                                        comment_text  original_len  clean_len\n",
       "0  yo bitch rule succesful ever whats hating sad ...           367        221\n",
       "1                                 rfc title fine imo            50         18\n",
       "2                         source zawe ashton lapland            54         26\n",
       "3  look back source information updated correct f...           205        109\n",
       "4                           anonymously edit article            41         24"
      ]
     },
     "execution_count": 30,
     "metadata": {},
     "output_type": "execute_result"
    }
   ],
   "source": [
    "#Printing the first five rows of the test dataset\n",
    "\n",
    "df_test.head()"
   ]
  },
  {
   "cell_type": "code",
   "execution_count": 31,
   "id": "fcfda573",
   "metadata": {},
   "outputs": [
    {
     "name": "stdout",
     "output_type": "stream",
     "text": [
      "original length 55886104\n",
      "cleaned length 35617170\n"
     ]
    }
   ],
   "source": [
    "#Printing the original length & the cleaned length of the test dataset\n",
    "\n",
    "print('original length',df_test.original_len.sum())\n",
    "print('cleaned length',df_test.clean_len.sum())"
   ]
  },
  {
   "cell_type": "code",
   "execution_count": 18,
   "id": "067ae34a",
   "metadata": {},
   "outputs": [],
   "source": [
    "#Importing all the classifiers which will help us for further analysis\n",
    "\n",
    "from sklearn.feature_extraction.text import TfidfVectorizer\n",
    "from sklearn.naive_bayes import MultinomialNB\n",
    "from sklearn.model_selection import train_test_split,cross_val_score\n",
    "from sklearn.metrics import accuracy_score,classification_report\n",
    "from sklearn.linear_model import LogisticRegression\n",
    "from sklearn.tree import DecisionTreeClassifier\n",
    "from sklearn.ensemble import BaggingClassifier,AdaBoostClassifier\n",
    "from sklearn.neighbors import KNeighborsClassifier\n",
    "from sklearn.svm import SVC\n",
    "from sklearn.metrics import confusion_matrix\n",
    "from sklearn.metrics import log_loss\n",
    "from sklearn.metrics import roc_auc_score"
   ]
  },
  {
   "cell_type": "code",
   "execution_count": 19,
   "id": "b75b7d29",
   "metadata": {},
   "outputs": [],
   "source": [
    "#Using tfidf vectorizer to convert text into vector as our machine learning model only understands numerical value\n",
    "\n",
    "tf= TfidfVectorizer()\n",
    "features = tf.fit_transform(df_train[\"comment_text\"])\n",
    "x= features\n",
    "y= df_train[\"label\"]"
   ]
  },
  {
   "cell_type": "code",
   "execution_count": 20,
   "id": "2451b3fa",
   "metadata": {},
   "outputs": [],
   "source": [
    "#Sending the data for training & testing\n",
    "\n",
    "x_train,x_test,y_train,y_test = train_test_split(x,y,random_state=70)"
   ]
  },
  {
   "cell_type": "markdown",
   "id": "be3f0502",
   "metadata": {},
   "source": [
    "# Logistic Regression"
   ]
  },
  {
   "cell_type": "code",
   "execution_count": 21,
   "id": "c1e43479",
   "metadata": {},
   "outputs": [],
   "source": [
    "#Fitting & predicting the model\n",
    "\n",
    "lr= LogisticRegression()\n",
    "lr.fit(x_train,y_train)\n",
    "\n",
    "y_pred= lr.predict(x_test)"
   ]
  },
  {
   "cell_type": "code",
   "execution_count": 22,
   "id": "3b33d107",
   "metadata": {},
   "outputs": [
    {
     "name": "stdout",
     "output_type": "stream",
     "text": [
      "\n",
      "Classification report :\n",
      "               precision    recall  f1-score   support\n",
      "\n",
      "           0       0.96      1.00      0.98     35857\n",
      "           1       0.94      0.61      0.74      4036\n",
      "\n",
      "    accuracy                           0.96     39893\n",
      "   macro avg       0.95      0.80      0.86     39893\n",
      "weighted avg       0.96      0.96      0.95     39893\n",
      "\n"
     ]
    }
   ],
   "source": [
    "#Printing the classification report\n",
    "\n",
    "print(\"\\nClassification report :\\n\",classification_report(y_test,y_pred))"
   ]
  },
  {
   "cell_type": "code",
   "execution_count": 23,
   "id": "33290605",
   "metadata": {},
   "outputs": [
    {
     "name": "stdout",
     "output_type": "stream",
     "text": [
      "accuracy_score :  0.9561326548517284 \n",
      " cross validation score : 0.9541646025444619 \n",
      " logloss: 1.5151277924313036\n"
     ]
    }
   ],
   "source": [
    "#Printing the accuracy score , cross validation & logloss\n",
    "\n",
    "a=accuracy_score(y_test,y_pred)\n",
    "c=cross_val_score(lr,x,y,cv=3).mean()\n",
    "loss = log_loss(y_test,y_pred)\n",
    "print(\"accuracy_score : \",a,\"\\n\",\"cross validation score :\",c,\"\\n\",\"logloss:\",loss)"
   ]
  },
  {
   "cell_type": "code",
   "execution_count": 24,
   "id": "a36c4b7c",
   "metadata": {},
   "outputs": [
    {
     "data": {
      "text/plain": [
       "array([[35689,   168],\n",
       "       [ 1582,  2454]], dtype=int64)"
      ]
     },
     "execution_count": 24,
     "metadata": {},
     "output_type": "execute_result"
    }
   ],
   "source": [
    "#Printing the confusion matrix\n",
    "\n",
    "confusion_matrix(y_test,y_pred)"
   ]
  },
  {
   "cell_type": "code",
   "execution_count": 25,
   "id": "2d8395de",
   "metadata": {},
   "outputs": [
    {
     "data": {
      "image/png": "[encoded data removed]",
      "text/plain": [
       "<Figure size 432x288 with 2 Axes>"
      ]
     },
     "metadata": {
      "needs_background": "light"
     },
     "output_type": "display_data"
    }
   ],
   "source": [
    "#Printing the graph of confusion matrix\n",
    "\n",
    "conf_mat = confusion_matrix(y_test, y_pred)\n",
    "class_label = [\"negative\", \"positive\"]\n",
    "df = pd.DataFrame(conf_mat, index = class_label, columns = class_label)\n",
    "sns.heatmap(df, annot = True,fmt=\"d\")\n",
    "plt.title(\"Confusion Matrix\")\n",
    "plt.xlabel(\"Predicted Label\")\n",
    "plt.ylabel(\"True Label\")\n",
    "plt.show()"
   ]
  },
  {
   "cell_type": "code",
   "execution_count": 26,
   "id": "b25f2ca5",
   "metadata": {},
   "outputs": [],
   "source": [
    "#Creating empty lists & appending \n",
    "\n",
    "accuracy = []\n",
    "cross_val = []\n",
    "diff = []\n",
    "logloss=[]\n",
    "accuracy.append(a)\n",
    "cross_val.append(c)\n",
    "diff.append(a-c)\n",
    "logloss.append(loss)"
   ]
  },
  {
   "cell_type": "markdown",
   "id": "78820bc6",
   "metadata": {},
   "source": [
    "# ADA Boost Classifier"
   ]
  },
  {
   "cell_type": "code",
   "execution_count": null,
   "id": "1518b085",
   "metadata": {},
   "outputs": [],
   "source": [
    "#Fitting & predicting the model\n",
    "\n",
    "dt= AdaBoostClassifier()\n",
    "dt.fit(x_train,y_train)\n",
    "\n",
    "y_pred=dt.predict(x_test)"
   ]
  },
  {
   "cell_type": "code",
   "execution_count": null,
   "id": "b280df00",
   "metadata": {},
   "outputs": [],
   "source": [
    "#Printing the classification report\n",
    "\n",
    "print(\"\\nClassification report :\\n\",classification_report(y_test,y_pred))"
   ]
  },
  {
   "cell_type": "code",
   "execution_count": null,
   "id": "1d31cc4b",
   "metadata": {},
   "outputs": [],
   "source": [
    "#Printing the accuracy score cross validation & logloss\n",
    "\n",
    "a=accuracy_score(y_test,y_pred)\n",
    "c=cross_val_score(dt,x,y,cv=3).mean()\n",
    "loss = log_loss(y_test,y_pred)\n",
    "print(\"accuracy_score : \",a,\"\\n\",\"cross validation score :\",c,\"\\n\",\"logloss:\",loss)"
   ]
  },
  {
   "cell_type": "code",
   "execution_count": null,
   "id": "e57385ce",
   "metadata": {},
   "outputs": [],
   "source": [
    "#Printing the confusion matrix\n",
    "\n",
    "confusion_matrix(y_test,y_pred)"
   ]
  },
  {
   "cell_type": "code",
   "execution_count": null,
   "id": "7ac20ff4",
   "metadata": {},
   "outputs": [],
   "source": [
    "conf_mat = confusion_matrix(y_test, y_pred)\n",
    "class_label = [\"negative\", \"positive\"]\n",
    "df = pd.DataFrame(conf_mat, index = class_label, columns = class_label)\n",
    "sns.heatmap(df, annot = True,fmt=\"d\")\n",
    "plt.title(\"Confusion Matrix\")\n",
    "plt.xlabel(\"Predicted Label\")\n",
    "plt.ylabel(\"True Label\")\n",
    "plt.show()"
   ]
  },
  {
   "cell_type": "code",
   "execution_count": null,
   "id": "691b33d0",
   "metadata": {},
   "outputs": [],
   "source": [
    "#Appending the data\n",
    "\n",
    "accuracy.append(a)\n",
    "cross_val.append(c)\n",
    "diff.append(a-c)\n",
    "logloss.append(loss)"
   ]
  },
  {
   "cell_type": "markdown",
   "id": "9eb05411",
   "metadata": {},
   "source": [
    "# KNEIGHBORS CLASSIFIER"
   ]
  },
  {
   "cell_type": "code",
   "execution_count": null,
   "id": "56a32b51",
   "metadata": {},
   "outputs": [],
   "source": [
    "#Fitting & predicting the model\n",
    "\n",
    "knn= KNeighborsClassifier()\n",
    "knn.fit(x_train,y_train)\n",
    "\n",
    "y_pred=knn.predict(x_test)\n",
    "#Printing the classification report\n",
    "\n",
    "print(\"\\nClassification report :\\n\",classification_report(y_test,y_pred))"
   ]
  },
  {
   "cell_type": "code",
   "execution_count": null,
   "id": "9d735621",
   "metadata": {},
   "outputs": [],
   "source": [
    "#Printing the accuracy score cross validation & logloss\n",
    "\n",
    "a=accuracy_score(y_test,y_pred)\n",
    "c=cross_val_score(knn,x,y,cv=3).mean()\n",
    "loss = log_loss(y_test,y_pred)\n",
    "print(\"accuracy_score : \",a,\"\\n\",\"cross validation score :\",c,\"\\n\",\"logloss:\",loss)"
   ]
  },
  {
   "cell_type": "code",
   "execution_count": null,
   "id": "cc6c6a4c",
   "metadata": {},
   "outputs": [],
   "source": []
  },
  {
   "cell_type": "code",
   "execution_count": null,
   "id": "f6cac27b",
   "metadata": {},
   "outputs": [],
   "source": []
  },
  {
   "cell_type": "code",
   "execution_count": null,
   "id": "c6eb6a91",
   "metadata": {},
   "outputs": [],
   "source": []
  },
  {
   "cell_type": "code",
   "execution_count": null,
   "id": "dce356de",
   "metadata": {},
   "outputs": [],
   "source": []
  }
 ],
 "metadata": {
  "kernelspec": {
   "display_name": "Python 3 (ipykernel)",
   "language": "python",
   "name": "python3"
  },
  "language_info": {
   "codemirror_mode": {
    "name": "ipython",
    "version": 3
   },
   "file_extension": ".py",
   "mimetype": "text/x-python",
   "name": "python",
   "nbconvert_exporter": "python",
   "pygments_lexer": "ipython3",
   "version": "3.9.7"
  }
 },
 "nbformat": 4,
 "nbformat_minor": 5
}

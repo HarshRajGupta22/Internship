{
 "cells": [
  {
   "cell_type": "markdown",
   "id": "1a09e037",
   "metadata": {},
   "source": [
    "## WEB SCRAPPING ASSIGNMENT ( SELENIUM )"
   ]
  },
  {
   "cell_type": "code",
   "execution_count": 1,
   "id": "b1c2e4e9",
   "metadata": {},
   "outputs": [
    {
     "name": "stdout",
     "output_type": "stream",
     "text": [
      "Collecting selenium\n",
      "  Downloading selenium-4.1.3-py3-none-any.whl (968 kB)\n",
      "Collecting trio~=0.17\n",
      "  Downloading trio-0.20.0-py3-none-any.whl (359 kB)\n",
      "Collecting trio-websocket~=0.9\n",
      "  Downloading trio_websocket-0.9.2-py3-none-any.whl (16 kB)\n",
      "Requirement already satisfied: urllib3[secure,socks]~=1.26 in c:\\programdata\\anaconda3\\lib\\site-packages (from selenium) (1.26.7)\n",
      "Requirement already satisfied: idna in c:\\programdata\\anaconda3\\lib\\site-packages (from trio~=0.17->selenium) (3.2)\n",
      "Collecting outcome\n",
      "  Downloading outcome-1.1.0-py2.py3-none-any.whl (9.7 kB)\n",
      "Requirement already satisfied: sniffio in c:\\programdata\\anaconda3\\lib\\site-packages (from trio~=0.17->selenium) (1.2.0)\n",
      "Requirement already satisfied: async-generator>=1.9 in c:\\programdata\\anaconda3\\lib\\site-packages (from trio~=0.17->selenium) (1.10)\n",
      "Requirement already satisfied: cffi>=1.14 in c:\\programdata\\anaconda3\\lib\\site-packages (from trio~=0.17->selenium) (1.14.6)\n",
      "Requirement already satisfied: attrs>=19.2.0 in c:\\programdata\\anaconda3\\lib\\site-packages (from trio~=0.17->selenium) (21.2.0)\n",
      "Requirement already satisfied: sortedcontainers in c:\\programdata\\anaconda3\\lib\\site-packages (from trio~=0.17->selenium) (2.4.0)\n",
      "Requirement already satisfied: pycparser in c:\\programdata\\anaconda3\\lib\\site-packages (from cffi>=1.14->trio~=0.17->selenium) (2.20)\n",
      "Collecting wsproto>=0.14\n",
      "  Downloading wsproto-1.1.0-py3-none-any.whl (24 kB)\n",
      "Requirement already satisfied: pyOpenSSL>=0.14 in c:\\programdata\\anaconda3\\lib\\site-packages (from urllib3[secure,socks]~=1.26->selenium) (21.0.0)\n",
      "Requirement already satisfied: cryptography>=1.3.4 in c:\\programdata\\anaconda3\\lib\\site-packages (from urllib3[secure,socks]~=1.26->selenium) (3.4.8)\n",
      "Requirement already satisfied: certifi in c:\\programdata\\anaconda3\\lib\\site-packages (from urllib3[secure,socks]~=1.26->selenium) (2021.10.8)\n",
      "Requirement already satisfied: PySocks!=1.5.7,<2.0,>=1.5.6 in c:\\programdata\\anaconda3\\lib\\site-packages (from urllib3[secure,socks]~=1.26->selenium) (1.7.1)\n",
      "Requirement already satisfied: six>=1.5.2 in c:\\programdata\\anaconda3\\lib\\site-packages (from pyOpenSSL>=0.14->urllib3[secure,socks]~=1.26->selenium) (1.16.0)\n",
      "Collecting h11<1,>=0.9.0\n",
      "  Downloading h11-0.13.0-py3-none-any.whl (58 kB)\n",
      "Installing collected packages: outcome, h11, wsproto, trio, trio-websocket, selenium\n",
      "Successfully installed h11-0.13.0 outcome-1.1.0 selenium-4.1.3 trio-0.20.0 trio-websocket-0.9.2 wsproto-1.1.0\n",
      "Note: you may need to restart the kernel to use updated packages.\n"
     ]
    }
   ],
   "source": [
    "pip install selenium"
   ]
  },
  {
   "cell_type": "code",
   "execution_count": 1,
   "id": "43be8a2a",
   "metadata": {},
   "outputs": [],
   "source": [
    "import selenium\n",
    "from selenium import webdriver\n",
    "import pandas as pd\n",
    "import warnings\n",
    "warnings.filterwarnings('ignore')"
   ]
  },
  {
   "cell_type": "code",
   "execution_count": 106,
   "id": "54ae38b7",
   "metadata": {},
   "outputs": [],
   "source": [
    "driver = webdriver.Chrome(r'H:/downloads/chromedriver_win32/chromedriver.exe')"
   ]
  },
  {
   "cell_type": "markdown",
   "id": "981b46e0",
   "metadata": {},
   "source": [
    "## Q 1 Scrapping Data fror Naukri.com for position of Data Analyst in Banglore"
   ]
  },
  {
   "cell_type": "markdown",
   "id": "8550e9b4",
   "metadata": {},
   "source": [
    "Login into the website"
   ]
  },
  {
   "cell_type": "code",
   "execution_count": 107,
   "id": "00fc14be",
   "metadata": {},
   "outputs": [],
   "source": [
    "url = 'https://www.naukri.com/'\n",
    "driver.get(url)"
   ]
  },
  {
   "cell_type": "code",
   "execution_count": 4,
   "id": "41fd8104",
   "metadata": {},
   "outputs": [
    {
     "data": {
      "text/plain": [
       "<selenium.webdriver.remote.webelement.WebElement (session=\"969ef6d32bd1047401815b9f6ded0fc1\", element=\"4ee950b2-2b7b-4f43-a8ac-f4918b11620a\")>"
      ]
     },
     "execution_count": 4,
     "metadata": {},
     "output_type": "execute_result"
    }
   ],
   "source": [
    "search_job = driver.find_element_by_class_name(\"suggestor-input \")\n",
    "search_job"
   ]
  },
  {
   "cell_type": "code",
   "execution_count": 6,
   "id": "64cacdcd",
   "metadata": {},
   "outputs": [],
   "source": [
    "search_job.send_keys(\"Data Analyst\")"
   ]
  },
  {
   "cell_type": "code",
   "execution_count": 7,
   "id": "e27547b2",
   "metadata": {},
   "outputs": [
    {
     "data": {
      "text/plain": [
       "<selenium.webdriver.remote.webelement.WebElement (session=\"969ef6d32bd1047401815b9f6ded0fc1\", element=\"47485598-30ef-4f04-b5e0-1dd50660d12b\")>"
      ]
     },
     "execution_count": 7,
     "metadata": {},
     "output_type": "execute_result"
    }
   ],
   "source": [
    "search_locn = driver.find_element_by_xpath('/html/body/div/div[2]/div[3]/div/div/div[3]/div/div/div/input')\n",
    "search_locn"
   ]
  },
  {
   "cell_type": "code",
   "execution_count": 8,
   "id": "003c183e",
   "metadata": {},
   "outputs": [],
   "source": [
    "search_locn.send_keys(\"Banglore\")"
   ]
  },
  {
   "cell_type": "code",
   "execution_count": 10,
   "id": "a023d173",
   "metadata": {},
   "outputs": [
    {
     "data": {
      "text/plain": [
       "<selenium.webdriver.remote.webelement.WebElement (session=\"969ef6d32bd1047401815b9f6ded0fc1\", element=\"ae7dc76b-0e34-43b2-8f44-27ad863ddfe3\")>"
      ]
     },
     "execution_count": 10,
     "metadata": {},
     "output_type": "execute_result"
    }
   ],
   "source": [
    "search_btn = driver.find_element_by_xpath('/html/body/div/div[2]/div[3]/div/div/div[6]')\n",
    "search_btn"
   ]
  },
  {
   "cell_type": "code",
   "execution_count": 11,
   "id": "21f06c4d",
   "metadata": {},
   "outputs": [],
   "source": [
    "search_btn.click()"
   ]
  },
  {
   "cell_type": "markdown",
   "id": "9732cb61",
   "metadata": {},
   "source": [
    "Extracting Job Titles"
   ]
  },
  {
   "cell_type": "code",
   "execution_count": 18,
   "id": "ea31eec7",
   "metadata": {},
   "outputs": [
    {
     "data": {
      "text/plain": [
       "[<selenium.webdriver.remote.webelement.WebElement (session=\"969ef6d32bd1047401815b9f6ded0fc1\", element=\"35b328cc-2a0d-404e-beda-7e4cda338c4b\")>,\n",
       " <selenium.webdriver.remote.webelement.WebElement (session=\"969ef6d32bd1047401815b9f6ded0fc1\", element=\"f9eabcde-6f61-4d43-80d9-e0a59259417c\")>,\n",
       " <selenium.webdriver.remote.webelement.WebElement (session=\"969ef6d32bd1047401815b9f6ded0fc1\", element=\"84cc60c6-b642-4fa8-9ff9-b5006fe8b2fe\")>,\n",
       " <selenium.webdriver.remote.webelement.WebElement (session=\"969ef6d32bd1047401815b9f6ded0fc1\", element=\"fe6e650b-5f7f-455c-958e-31c74a4fcab3\")>,\n",
       " <selenium.webdriver.remote.webelement.WebElement (session=\"969ef6d32bd1047401815b9f6ded0fc1\", element=\"794832bd-ee18-4f74-8ede-9691c6397208\")>,\n",
       " <selenium.webdriver.remote.webelement.WebElement (session=\"969ef6d32bd1047401815b9f6ded0fc1\", element=\"4928c759-8ce2-45ad-af62-f47da38ef0a3\")>,\n",
       " <selenium.webdriver.remote.webelement.WebElement (session=\"969ef6d32bd1047401815b9f6ded0fc1\", element=\"6d88e5c0-d959-4d52-90ac-5cc8c56798b1\")>,\n",
       " <selenium.webdriver.remote.webelement.WebElement (session=\"969ef6d32bd1047401815b9f6ded0fc1\", element=\"76fd7f7b-1ac1-4863-b014-b24ef77459ce\")>,\n",
       " <selenium.webdriver.remote.webelement.WebElement (session=\"969ef6d32bd1047401815b9f6ded0fc1\", element=\"262653a7-ca71-4ee0-92f2-28fec2ea0096\")>,\n",
       " <selenium.webdriver.remote.webelement.WebElement (session=\"969ef6d32bd1047401815b9f6ded0fc1\", element=\"a10a85e9-c4c0-49a8-8324-996f1346babc\")>]"
      ]
     },
     "execution_count": 18,
     "metadata": {},
     "output_type": "execute_result"
    }
   ],
   "source": [
    "title_tags=driver.find_elements_by_xpath('//a[@class=\"title fw500 ellipsis\"]')\n",
    "len(title_tags)\n",
    "title_tags[0:10]"
   ]
  },
  {
   "cell_type": "code",
   "execution_count": 19,
   "id": "5a4208d5",
   "metadata": {},
   "outputs": [
    {
     "data": {
      "text/plain": [
       "['Senior Data Analyst',\n",
       " 'software developer & Testing / Business Analyst/Data Analyst/Python.',\n",
       " 'Staff Business Data Analyst - FDP',\n",
       " 'Data Analyst - IIM/ISB/MDI/FMS/SP Jain',\n",
       " 'Senior Data Analyst',\n",
       " 'Senior Data Analyst',\n",
       " 'Senior Data Analyst',\n",
       " 'Data Coordinator | Data Analyst | MS Excel | Typing | Bangalore',\n",
       " 'Hiring For Data Analyst!!!',\n",
       " 'Data Analyst']"
      ]
     },
     "execution_count": 19,
     "metadata": {},
     "output_type": "execute_result"
    }
   ],
   "source": [
    "job_titles=[]\n",
    "\n",
    "for i in title_tags:\n",
    "    job_titles.append(i.text)\n",
    "    \n",
    "len(job_titles)\n",
    "job_titles[0:10]"
   ]
  },
  {
   "cell_type": "markdown",
   "id": "b5503498",
   "metadata": {},
   "source": [
    "Extracting Company Names"
   ]
  },
  {
   "cell_type": "code",
   "execution_count": 20,
   "id": "d86485bc",
   "metadata": {},
   "outputs": [
    {
     "data": {
      "text/plain": [
       "[<selenium.webdriver.remote.webelement.WebElement (session=\"969ef6d32bd1047401815b9f6ded0fc1\", element=\"4e329dd6-c7d4-435f-a469-7e4eb7aa0e8d\")>,\n",
       " <selenium.webdriver.remote.webelement.WebElement (session=\"969ef6d32bd1047401815b9f6ded0fc1\", element=\"482edc27-9f82-4525-973f-a555de8ed823\")>,\n",
       " <selenium.webdriver.remote.webelement.WebElement (session=\"969ef6d32bd1047401815b9f6ded0fc1\", element=\"bad4ead0-fea7-4f96-9fb1-4ea1851145ff\")>,\n",
       " <selenium.webdriver.remote.webelement.WebElement (session=\"969ef6d32bd1047401815b9f6ded0fc1\", element=\"87a0746a-4b95-42dc-b264-7c7f9fdf3427\")>,\n",
       " <selenium.webdriver.remote.webelement.WebElement (session=\"969ef6d32bd1047401815b9f6ded0fc1\", element=\"4affcbc0-665f-4a02-b995-8d0de854a0cb\")>,\n",
       " <selenium.webdriver.remote.webelement.WebElement (session=\"969ef6d32bd1047401815b9f6ded0fc1\", element=\"0c18064c-7301-4436-aae7-a1febe96bb47\")>,\n",
       " <selenium.webdriver.remote.webelement.WebElement (session=\"969ef6d32bd1047401815b9f6ded0fc1\", element=\"20ed1aa6-ce07-45a5-9b24-da202026d845\")>,\n",
       " <selenium.webdriver.remote.webelement.WebElement (session=\"969ef6d32bd1047401815b9f6ded0fc1\", element=\"836c72de-2016-486b-94d4-c28329d38996\")>,\n",
       " <selenium.webdriver.remote.webelement.WebElement (session=\"969ef6d32bd1047401815b9f6ded0fc1\", element=\"1a068c0d-5221-450d-995b-5ca046974939\")>,\n",
       " <selenium.webdriver.remote.webelement.WebElement (session=\"969ef6d32bd1047401815b9f6ded0fc1\", element=\"10dae685-a890-48e4-9f40-6581e1f2b4d1\")>]"
      ]
     },
     "execution_count": 20,
     "metadata": {},
     "output_type": "execute_result"
    }
   ],
   "source": [
    "company_tags=driver.find_elements_by_xpath('//a[@class=\"subTitle ellipsis fleft\"]')\n",
    "len(company_tags)\n",
    "company_tags[0:10]"
   ]
  },
  {
   "cell_type": "code",
   "execution_count": 21,
   "id": "d030d5dc",
   "metadata": {},
   "outputs": [
    {
     "data": {
      "text/plain": [
       "['Capco',\n",
       " 'SECRET TECHNOLOGIES INDIA VMS GROUP',\n",
       " 'Intuit Inc.',\n",
       " 'K12 Techno Services Pvt Ltd',\n",
       " 'Mobile Premier League',\n",
       " 'Flipkart',\n",
       " 'Flipkart',\n",
       " 'Inspiration Manpower Consultancy Pvt. Ltd.',\n",
       " 'Ignitho',\n",
       " 'SunEdison']"
      ]
     },
     "execution_count": 21,
     "metadata": {},
     "output_type": "execute_result"
    }
   ],
   "source": [
    "company_titles=[]\n",
    "\n",
    "for i in company_tags:\n",
    "    company_titles.append(i.text)\n",
    "    \n",
    "len(company_titles)\n",
    "company_titles[0:10]"
   ]
  },
  {
   "cell_type": "markdown",
   "id": "5b45d18d",
   "metadata": {},
   "source": [
    "Company Location"
   ]
  },
  {
   "cell_type": "code",
   "execution_count": 32,
   "id": "8e9beae1",
   "metadata": {},
   "outputs": [
    {
     "data": {
      "text/plain": [
       "[<selenium.webdriver.remote.webelement.WebElement (session=\"969ef6d32bd1047401815b9f6ded0fc1\", element=\"988c2a15-d8fc-4d5f-a85b-b65140289713\")>,\n",
       " <selenium.webdriver.remote.webelement.WebElement (session=\"969ef6d32bd1047401815b9f6ded0fc1\", element=\"e3c84f4d-dd53-4cbf-92e6-c3aa68ef938a\")>,\n",
       " <selenium.webdriver.remote.webelement.WebElement (session=\"969ef6d32bd1047401815b9f6ded0fc1\", element=\"49961901-9de5-47b0-9429-a6c5a75e892b\")>,\n",
       " <selenium.webdriver.remote.webelement.WebElement (session=\"969ef6d32bd1047401815b9f6ded0fc1\", element=\"cd15e38f-f2ec-4a19-ab7d-c13706dbfae1\")>,\n",
       " <selenium.webdriver.remote.webelement.WebElement (session=\"969ef6d32bd1047401815b9f6ded0fc1\", element=\"4cff7119-7750-4e5f-9d5a-a346ae1a38fe\")>,\n",
       " <selenium.webdriver.remote.webelement.WebElement (session=\"969ef6d32bd1047401815b9f6ded0fc1\", element=\"93b65842-d9fe-4103-8e6b-2ba733934374\")>,\n",
       " <selenium.webdriver.remote.webelement.WebElement (session=\"969ef6d32bd1047401815b9f6ded0fc1\", element=\"adf59c09-9c50-42ba-958e-62d69747eb0a\")>,\n",
       " <selenium.webdriver.remote.webelement.WebElement (session=\"969ef6d32bd1047401815b9f6ded0fc1\", element=\"7670eed5-9a56-4254-80fa-053dfa6eea2b\")>,\n",
       " <selenium.webdriver.remote.webelement.WebElement (session=\"969ef6d32bd1047401815b9f6ded0fc1\", element=\"c65d2e5a-b66a-4cbf-a71a-b276cadb813b\")>,\n",
       " <selenium.webdriver.remote.webelement.WebElement (session=\"969ef6d32bd1047401815b9f6ded0fc1\", element=\"beca98f1-2ae6-48dd-9207-7f2bbd37bc82\")>]"
      ]
     },
     "execution_count": 32,
     "metadata": {},
     "output_type": "execute_result"
    }
   ],
   "source": [
    "location_tags=driver.find_elements_by_xpath('//li[@class=\"fleft grey-text br2 placeHolderLi location\"]')\n",
    "len(location_tags)\n",
    "location_tags[0:10]"
   ]
  },
  {
   "cell_type": "code",
   "execution_count": 33,
   "id": "974d0569",
   "metadata": {},
   "outputs": [
    {
     "data": {
      "text/plain": [
       "['Bangalore/Bengaluru',\n",
       " 'Pune, Bangalore/Bengaluru(Shivaji Nagar), Mumbai (All Areas)\\n(WFH during Covid)',\n",
       " 'Bangalore/Bengaluru',\n",
       " 'Bangalore/Bengaluru',\n",
       " 'Bangalore/Bengaluru',\n",
       " 'Bangalore/Bengaluru',\n",
       " 'Bangalore/Bengaluru',\n",
       " 'Bangalore/Bengaluru(Sadashiva Nagar)',\n",
       " 'Chennai, Bangalore/Bengaluru\\n(WFH during Covid)',\n",
       " 'Bangalore/Bengaluru, Mumbai (All Areas)']"
      ]
     },
     "execution_count": 33,
     "metadata": {},
     "output_type": "execute_result"
    }
   ],
   "source": [
    "company_location=[]\n",
    "\n",
    "for i in location_tags:\n",
    "    company_location.append(i.text)\n",
    "    \n",
    "len(company_location)\n",
    "company_location[0:10]"
   ]
  },
  {
   "cell_type": "markdown",
   "id": "fc33e450",
   "metadata": {},
   "source": [
    "Experience Required"
   ]
  },
  {
   "cell_type": "code",
   "execution_count": 34,
   "id": "09d3f336",
   "metadata": {},
   "outputs": [
    {
     "data": {
      "text/plain": [
       "[<selenium.webdriver.remote.webelement.WebElement (session=\"969ef6d32bd1047401815b9f6ded0fc1\", element=\"b3aacaa1-f726-4550-8d59-8d764a2f85e4\")>,\n",
       " <selenium.webdriver.remote.webelement.WebElement (session=\"969ef6d32bd1047401815b9f6ded0fc1\", element=\"1dec1e99-6573-4a51-85c3-c79175c2fabc\")>,\n",
       " <selenium.webdriver.remote.webelement.WebElement (session=\"969ef6d32bd1047401815b9f6ded0fc1\", element=\"09097159-dad6-41c8-ae37-1eb08e54e9f8\")>,\n",
       " <selenium.webdriver.remote.webelement.WebElement (session=\"969ef6d32bd1047401815b9f6ded0fc1\", element=\"80ccfebe-4d02-4dd7-8295-1e7ecd385b44\")>,\n",
       " <selenium.webdriver.remote.webelement.WebElement (session=\"969ef6d32bd1047401815b9f6ded0fc1\", element=\"b590d134-a331-4975-931f-f5a58ef3a64d\")>,\n",
       " <selenium.webdriver.remote.webelement.WebElement (session=\"969ef6d32bd1047401815b9f6ded0fc1\", element=\"fee71b39-30b6-4878-b45e-436c40174844\")>,\n",
       " <selenium.webdriver.remote.webelement.WebElement (session=\"969ef6d32bd1047401815b9f6ded0fc1\", element=\"d672ade4-3123-4aad-a678-632e87c8fbff\")>,\n",
       " <selenium.webdriver.remote.webelement.WebElement (session=\"969ef6d32bd1047401815b9f6ded0fc1\", element=\"1e9d3c89-a4bd-4433-9a29-0f3e73ad14ac\")>,\n",
       " <selenium.webdriver.remote.webelement.WebElement (session=\"969ef6d32bd1047401815b9f6ded0fc1\", element=\"338ada04-e55a-46c8-967f-9ed7179a66f2\")>,\n",
       " <selenium.webdriver.remote.webelement.WebElement (session=\"969ef6d32bd1047401815b9f6ded0fc1\", element=\"926e5f35-cdd3-4bfa-b8c2-11ea78167d4b\")>]"
      ]
     },
     "execution_count": 34,
     "metadata": {},
     "output_type": "execute_result"
    }
   ],
   "source": [
    "experience_tags=driver.find_elements_by_xpath('//li[@class=\"fleft grey-text br2 placeHolderLi experience\"]')\n",
    "len(experience_tags)\n",
    "experience_tags[0:10]"
   ]
  },
  {
   "cell_type": "code",
   "execution_count": 50,
   "id": "ba32ca3a",
   "metadata": {},
   "outputs": [
    {
     "data": {
      "text/plain": [
       "['4-8 Yrs',\n",
       " '0-4 Yrs',\n",
       " '5-7 Yrs',\n",
       " '4-9 Yrs',\n",
       " '3-6 Yrs',\n",
       " '3-6 Yrs',\n",
       " '3-7 Yrs',\n",
       " '3-8 Yrs',\n",
       " '2-7 Yrs',\n",
       " '0-2 Yrs']"
      ]
     },
     "execution_count": 50,
     "metadata": {},
     "output_type": "execute_result"
    }
   ],
   "source": [
    "company_experience=[]\n",
    "\n",
    "for i in experience_tags:\n",
    "    company_experience.append(i.text)\n",
    "    \n",
    "len(company_experience)\n",
    "company_experience[0:10]"
   ]
  },
  {
   "cell_type": "code",
   "execution_count": 51,
   "id": "0b973019",
   "metadata": {},
   "outputs": [
    {
     "data": {
      "text/plain": [
       "(20, 20, 20, 19)"
      ]
     },
     "execution_count": 51,
     "metadata": {},
     "output_type": "execute_result"
    }
   ],
   "source": [
    "len(job_titles),len(company_titles),len(company_location),len(company_experience)"
   ]
  },
  {
   "cell_type": "markdown",
   "id": "6b16a0eb",
   "metadata": {},
   "source": [
    "Merging all datas into a Data frame"
   ]
  },
  {
   "cell_type": "code",
   "execution_count": 54,
   "id": "d92ff049",
   "metadata": {},
   "outputs": [
    {
     "data": {
      "text/html": [
       "<div>\n",
       "<style scoped>\n",
       "    .dataframe tbody tr th:only-of-type {\n",
       "        vertical-align: middle;\n",
       "    }\n",
       "\n",
       "    .dataframe tbody tr th {\n",
       "        vertical-align: top;\n",
       "    }\n",
       "\n",
       "    .dataframe thead th {\n",
       "        text-align: right;\n",
       "    }\n",
       "</style>\n",
       "<table border=\"1\" class=\"dataframe\">\n",
       "  <thead>\n",
       "    <tr style=\"text-align: right;\">\n",
       "      <th></th>\n",
       "      <th>Job Title</th>\n",
       "      <th>Company Name</th>\n",
       "      <th>Company Loaction</th>\n",
       "      <th>Experience</th>\n",
       "    </tr>\n",
       "  </thead>\n",
       "  <tbody>\n",
       "    <tr>\n",
       "      <th>0</th>\n",
       "      <td>Senior Data Analyst</td>\n",
       "      <td>Capco</td>\n",
       "      <td>Bangalore/Bengaluru</td>\n",
       "      <td>4-8 Yrs</td>\n",
       "    </tr>\n",
       "    <tr>\n",
       "      <th>1</th>\n",
       "      <td>software developer &amp; Testing / Business Analys...</td>\n",
       "      <td>SECRET TECHNOLOGIES INDIA VMS GROUP</td>\n",
       "      <td>Pune, Bangalore/Bengaluru(Shivaji Nagar), Mumb...</td>\n",
       "      <td>0-4 Yrs</td>\n",
       "    </tr>\n",
       "    <tr>\n",
       "      <th>2</th>\n",
       "      <td>Staff Business Data Analyst - FDP</td>\n",
       "      <td>Intuit Inc.</td>\n",
       "      <td>Bangalore/Bengaluru</td>\n",
       "      <td>5-7 Yrs</td>\n",
       "    </tr>\n",
       "    <tr>\n",
       "      <th>3</th>\n",
       "      <td>Data Analyst - IIM/ISB/MDI/FMS/SP Jain</td>\n",
       "      <td>K12 Techno Services Pvt Ltd</td>\n",
       "      <td>Bangalore/Bengaluru</td>\n",
       "      <td>4-9 Yrs</td>\n",
       "    </tr>\n",
       "    <tr>\n",
       "      <th>4</th>\n",
       "      <td>Senior Data Analyst</td>\n",
       "      <td>Mobile Premier League</td>\n",
       "      <td>Bangalore/Bengaluru</td>\n",
       "      <td>3-6 Yrs</td>\n",
       "    </tr>\n",
       "    <tr>\n",
       "      <th>5</th>\n",
       "      <td>Senior Data Analyst</td>\n",
       "      <td>Flipkart</td>\n",
       "      <td>Bangalore/Bengaluru</td>\n",
       "      <td>3-6 Yrs</td>\n",
       "    </tr>\n",
       "    <tr>\n",
       "      <th>6</th>\n",
       "      <td>Senior Data Analyst</td>\n",
       "      <td>Flipkart</td>\n",
       "      <td>Bangalore/Bengaluru</td>\n",
       "      <td>3-7 Yrs</td>\n",
       "    </tr>\n",
       "    <tr>\n",
       "      <th>7</th>\n",
       "      <td>Data Coordinator | Data Analyst | MS Excel | T...</td>\n",
       "      <td>Inspiration Manpower Consultancy Pvt. Ltd.</td>\n",
       "      <td>Bangalore/Bengaluru(Sadashiva Nagar)</td>\n",
       "      <td>3-8 Yrs</td>\n",
       "    </tr>\n",
       "    <tr>\n",
       "      <th>8</th>\n",
       "      <td>Hiring For Data Analyst!!!</td>\n",
       "      <td>Ignitho</td>\n",
       "      <td>Chennai, Bangalore/Bengaluru\\n(WFH during Covid)</td>\n",
       "      <td>2-7 Yrs</td>\n",
       "    </tr>\n",
       "    <tr>\n",
       "      <th>9</th>\n",
       "      <td>Data Analyst</td>\n",
       "      <td>SunEdison</td>\n",
       "      <td>Bangalore/Bengaluru, Mumbai (All Areas)</td>\n",
       "      <td>0-2 Yrs</td>\n",
       "    </tr>\n",
       "    <tr>\n",
       "      <th>10</th>\n",
       "      <td>Looking For Data Analyst</td>\n",
       "      <td>Trellance</td>\n",
       "      <td>Ahmedabad, Bangalore/Bengaluru</td>\n",
       "      <td>1-6 Yrs</td>\n",
       "    </tr>\n",
       "    <tr>\n",
       "      <th>11</th>\n",
       "      <td>Senior Data Analyst (Digital Services Analytics)</td>\n",
       "      <td>Dell</td>\n",
       "      <td>Bangalore/Bengaluru</td>\n",
       "      <td>3-8 Yrs</td>\n",
       "    </tr>\n",
       "    <tr>\n",
       "      <th>12</th>\n",
       "      <td>Tcs Hiring For Data Analyst / Data Engineer</td>\n",
       "      <td>TCS</td>\n",
       "      <td>Pune, Bangalore/Bengaluru, Delhi / NCR</td>\n",
       "      <td>5-7 Yrs</td>\n",
       "    </tr>\n",
       "    <tr>\n",
       "      <th>13</th>\n",
       "      <td>Data Analyst</td>\n",
       "      <td>SWIRE DIGITAL CENTRE PRIVATE LIMITED</td>\n",
       "      <td>Bangalore/Bengaluru(Residency Road)\\n(WFH duri...</td>\n",
       "      <td>8-12 Yrs</td>\n",
       "    </tr>\n",
       "    <tr>\n",
       "      <th>14</th>\n",
       "      <td>Lead Data Analyst</td>\n",
       "      <td>Harman Connected Services Corporation India Pvt.</td>\n",
       "      <td>Bangalore/Bengaluru</td>\n",
       "      <td>1-3 Yrs</td>\n",
       "    </tr>\n",
       "    <tr>\n",
       "      <th>15</th>\n",
       "      <td>Data Analyst</td>\n",
       "      <td>Portcast</td>\n",
       "      <td>Bangalore/Bengaluru</td>\n",
       "      <td>2-6 Yrs</td>\n",
       "    </tr>\n",
       "    <tr>\n",
       "      <th>16</th>\n",
       "      <td>Data Analyst</td>\n",
       "      <td>Walmart</td>\n",
       "      <td>Bangalore/Bengaluru</td>\n",
       "      <td>0-1 Yrs</td>\n",
       "    </tr>\n",
       "    <tr>\n",
       "      <th>17</th>\n",
       "      <td>Data Analyst For Text / Sentiment Analysis</td>\n",
       "      <td>FUTURLYTIC PRIVATE LIMITED</td>\n",
       "      <td>Bangalore/Bengaluru(Hebbal Kempapura)\\n(WFH du...</td>\n",
       "      <td>2-7 Yrs</td>\n",
       "    </tr>\n",
       "    <tr>\n",
       "      <th>18</th>\n",
       "      <td>Data Analyst / BI Analytics Consultant - Night...</td>\n",
       "      <td>Oracle</td>\n",
       "      <td>Hyderabad/Secunderabad, Bangalore/Bengaluru</td>\n",
       "      <td>3-8 Yrs</td>\n",
       "    </tr>\n",
       "    <tr>\n",
       "      <th>19</th>\n",
       "      <td>Data Analyst/ Sr Data analyst</td>\n",
       "      <td>Ally - eXecutive.com</td>\n",
       "      <td>Bangalore/Bengaluru</td>\n",
       "      <td>NaN</td>\n",
       "    </tr>\n",
       "  </tbody>\n",
       "</table>\n",
       "</div>"
      ],
      "text/plain": [
       "                                            Job Title  \\\n",
       "0                                 Senior Data Analyst   \n",
       "1   software developer & Testing / Business Analys...   \n",
       "2                   Staff Business Data Analyst - FDP   \n",
       "3              Data Analyst - IIM/ISB/MDI/FMS/SP Jain   \n",
       "4                                 Senior Data Analyst   \n",
       "5                                 Senior Data Analyst   \n",
       "6                                 Senior Data Analyst   \n",
       "7   Data Coordinator | Data Analyst | MS Excel | T...   \n",
       "8                          Hiring For Data Analyst!!!   \n",
       "9                                        Data Analyst   \n",
       "10                           Looking For Data Analyst   \n",
       "11   Senior Data Analyst (Digital Services Analytics)   \n",
       "12        Tcs Hiring For Data Analyst / Data Engineer   \n",
       "13                                       Data Analyst   \n",
       "14                                  Lead Data Analyst   \n",
       "15                                       Data Analyst   \n",
       "16                                       Data Analyst   \n",
       "17         Data Analyst For Text / Sentiment Analysis   \n",
       "18  Data Analyst / BI Analytics Consultant - Night...   \n",
       "19                      Data Analyst/ Sr Data analyst   \n",
       "\n",
       "                                        Company Name  \\\n",
       "0                                              Capco   \n",
       "1                SECRET TECHNOLOGIES INDIA VMS GROUP   \n",
       "2                                        Intuit Inc.   \n",
       "3                        K12 Techno Services Pvt Ltd   \n",
       "4                              Mobile Premier League   \n",
       "5                                           Flipkart   \n",
       "6                                           Flipkart   \n",
       "7         Inspiration Manpower Consultancy Pvt. Ltd.   \n",
       "8                                            Ignitho   \n",
       "9                                          SunEdison   \n",
       "10                                         Trellance   \n",
       "11                                              Dell   \n",
       "12                                               TCS   \n",
       "13              SWIRE DIGITAL CENTRE PRIVATE LIMITED   \n",
       "14  Harman Connected Services Corporation India Pvt.   \n",
       "15                                          Portcast   \n",
       "16                                           Walmart   \n",
       "17                        FUTURLYTIC PRIVATE LIMITED   \n",
       "18                                            Oracle   \n",
       "19                              Ally - eXecutive.com   \n",
       "\n",
       "                                     Company Loaction Experience  \n",
       "0                                 Bangalore/Bengaluru    4-8 Yrs  \n",
       "1   Pune, Bangalore/Bengaluru(Shivaji Nagar), Mumb...    0-4 Yrs  \n",
       "2                                 Bangalore/Bengaluru    5-7 Yrs  \n",
       "3                                 Bangalore/Bengaluru    4-9 Yrs  \n",
       "4                                 Bangalore/Bengaluru    3-6 Yrs  \n",
       "5                                 Bangalore/Bengaluru    3-6 Yrs  \n",
       "6                                 Bangalore/Bengaluru    3-7 Yrs  \n",
       "7                Bangalore/Bengaluru(Sadashiva Nagar)    3-8 Yrs  \n",
       "8    Chennai, Bangalore/Bengaluru\\n(WFH during Covid)    2-7 Yrs  \n",
       "9             Bangalore/Bengaluru, Mumbai (All Areas)    0-2 Yrs  \n",
       "10                     Ahmedabad, Bangalore/Bengaluru    1-6 Yrs  \n",
       "11                                Bangalore/Bengaluru    3-8 Yrs  \n",
       "12             Pune, Bangalore/Bengaluru, Delhi / NCR    5-7 Yrs  \n",
       "13  Bangalore/Bengaluru(Residency Road)\\n(WFH duri...   8-12 Yrs  \n",
       "14                                Bangalore/Bengaluru    1-3 Yrs  \n",
       "15                                Bangalore/Bengaluru    2-6 Yrs  \n",
       "16                                Bangalore/Bengaluru    0-1 Yrs  \n",
       "17  Bangalore/Bengaluru(Hebbal Kempapura)\\n(WFH du...    2-7 Yrs  \n",
       "18        Hyderabad/Secunderabad, Bangalore/Bengaluru    3-8 Yrs  \n",
       "19                                Bangalore/Bengaluru        NaN  "
      ]
     },
     "execution_count": 54,
     "metadata": {},
     "output_type": "execute_result"
    }
   ],
   "source": [
    "import numpy as np\n",
    "job=pd.DataFrame()\n",
    "job['Job Title']=job_titles\n",
    "job['Company Name']=company_titles\n",
    "job['Company Loaction']=company_location\n",
    "job['Experience']=pd.Series(company_experience)\n",
    "job"
   ]
  },
  {
   "cell_type": "markdown",
   "id": "e9c2f7e7",
   "metadata": {},
   "source": [
    "## Q 2 Program to scrape data for “Data Scientist” Job position in “Bangalore” from Naukri"
   ]
  },
  {
   "cell_type": "markdown",
   "id": "2eeefaae",
   "metadata": {},
   "source": [
    "Login into the site "
   ]
  },
  {
   "cell_type": "code",
   "execution_count": 4,
   "id": "993de437",
   "metadata": {},
   "outputs": [],
   "source": [
    "url = 'https://www.naukri.com/'\n",
    "driver.get(url)"
   ]
  },
  {
   "cell_type": "code",
   "execution_count": 5,
   "id": "87a1ae92",
   "metadata": {},
   "outputs": [
    {
     "data": {
      "text/plain": [
       "<selenium.webdriver.remote.webelement.WebElement (session=\"f7123175b0c1a9b212b63662df5ddaec\", element=\"77a644e3-53c7-404c-bd1d-3ab54c0c6053\")>"
      ]
     },
     "execution_count": 5,
     "metadata": {},
     "output_type": "execute_result"
    }
   ],
   "source": [
    "search_job1 = driver.find_element_by_class_name(\"suggestor-input \")\n",
    "search_job1"
   ]
  },
  {
   "cell_type": "code",
   "execution_count": 6,
   "id": "cd80b630",
   "metadata": {},
   "outputs": [],
   "source": [
    "search_job1.send_keys(\"Data Scientist\")"
   ]
  },
  {
   "cell_type": "code",
   "execution_count": 7,
   "id": "23edef9c",
   "metadata": {},
   "outputs": [
    {
     "data": {
      "text/plain": [
       "<selenium.webdriver.remote.webelement.WebElement (session=\"f7123175b0c1a9b212b63662df5ddaec\", element=\"ded248de-68d7-42e0-b4c2-f496e0d65424\")>"
      ]
     },
     "execution_count": 7,
     "metadata": {},
     "output_type": "execute_result"
    }
   ],
   "source": [
    "search_locn1 = driver.find_element_by_xpath('/html/body/div/div[2]/div[3]/div/div/div[3]/div/div/div/input')\n",
    "search_locn1"
   ]
  },
  {
   "cell_type": "code",
   "execution_count": 8,
   "id": "dbe4ba54",
   "metadata": {},
   "outputs": [],
   "source": [
    "search_locn1.send_keys(\"Banglore\")"
   ]
  },
  {
   "cell_type": "code",
   "execution_count": 9,
   "id": "ca5aba33",
   "metadata": {},
   "outputs": [
    {
     "data": {
      "text/plain": [
       "<selenium.webdriver.remote.webelement.WebElement (session=\"f7123175b0c1a9b212b63662df5ddaec\", element=\"035d823b-379d-4e23-bc03-d971d86ce59e\")>"
      ]
     },
     "execution_count": 9,
     "metadata": {},
     "output_type": "execute_result"
    }
   ],
   "source": [
    "search_btn1 = driver.find_element_by_xpath('/html/body/div/div[2]/div[3]/div/div/div[6]')\n",
    "search_btn1"
   ]
  },
  {
   "cell_type": "code",
   "execution_count": 10,
   "id": "981bc2c8",
   "metadata": {},
   "outputs": [],
   "source": [
    "search_btn1.click()"
   ]
  },
  {
   "cell_type": "markdown",
   "id": "6b7883dd",
   "metadata": {},
   "source": [
    "Extracting Job Titles "
   ]
  },
  {
   "cell_type": "code",
   "execution_count": 12,
   "id": "8c216601",
   "metadata": {},
   "outputs": [
    {
     "data": {
      "text/plain": [
       "[<selenium.webdriver.remote.webelement.WebElement (session=\"f7123175b0c1a9b212b63662df5ddaec\", element=\"1527dabf-f839-48ad-9a5b-0626b0544e8b\")>,\n",
       " <selenium.webdriver.remote.webelement.WebElement (session=\"f7123175b0c1a9b212b63662df5ddaec\", element=\"2a84b340-044e-41b6-b4bb-f06b261678c0\")>,\n",
       " <selenium.webdriver.remote.webelement.WebElement (session=\"f7123175b0c1a9b212b63662df5ddaec\", element=\"55ea305a-e05b-49f6-871b-284be05603b6\")>,\n",
       " <selenium.webdriver.remote.webelement.WebElement (session=\"f7123175b0c1a9b212b63662df5ddaec\", element=\"a9d7277d-017b-4200-93c0-e34850d2cb0f\")>,\n",
       " <selenium.webdriver.remote.webelement.WebElement (session=\"f7123175b0c1a9b212b63662df5ddaec\", element=\"7341da1e-5b9f-4657-bfcc-dcf9055e0874\")>,\n",
       " <selenium.webdriver.remote.webelement.WebElement (session=\"f7123175b0c1a9b212b63662df5ddaec\", element=\"1a1dc822-205f-4f3c-adc7-347c7aef86d8\")>,\n",
       " <selenium.webdriver.remote.webelement.WebElement (session=\"f7123175b0c1a9b212b63662df5ddaec\", element=\"322bf010-874e-4f6c-b264-fcfd7ee0b7bc\")>,\n",
       " <selenium.webdriver.remote.webelement.WebElement (session=\"f7123175b0c1a9b212b63662df5ddaec\", element=\"3344d501-ac0b-4f31-b2e4-91e60a80b041\")>,\n",
       " <selenium.webdriver.remote.webelement.WebElement (session=\"f7123175b0c1a9b212b63662df5ddaec\", element=\"a3988969-042a-41b6-a5ae-72fe85521cc6\")>,\n",
       " <selenium.webdriver.remote.webelement.WebElement (session=\"f7123175b0c1a9b212b63662df5ddaec\", element=\"cb6daa1f-1205-465e-ba9b-a0f4b289186a\")>]"
      ]
     },
     "execution_count": 12,
     "metadata": {},
     "output_type": "execute_result"
    }
   ],
   "source": [
    "title_tags1=driver.find_elements_by_xpath('//a[@class=\"title fw500 ellipsis\"]')\n",
    "len(title_tags1)\n",
    "title_tags1[0:10]"
   ]
  },
  {
   "cell_type": "code",
   "execution_count": 13,
   "id": "fb532e67",
   "metadata": {},
   "outputs": [
    {
     "data": {
      "text/plain": [
       "['Data Scientist',\n",
       " 'Data Scientist',\n",
       " 'Senior/ Lead Data Scientist',\n",
       " 'Data Scientist / Analyst',\n",
       " 'Forecasting Analyst/ Data Scientist (US Client)',\n",
       " 'Hiring Data Scientist - Analytics',\n",
       " 'Computer Vision Python Data Scientist',\n",
       " 'Excellent Opportunity For Freshers For AI/ML, Data Scientist, BI, QA',\n",
       " 'Junior Data Scientist',\n",
       " 'Data Scientist']"
      ]
     },
     "execution_count": 13,
     "metadata": {},
     "output_type": "execute_result"
    }
   ],
   "source": [
    "job_titles1=[]\n",
    "\n",
    "for i in title_tags1:\n",
    "    job_titles1.append(i.text)\n",
    "    \n",
    "len(job_titles1)\n",
    "job_titles1[0:10]"
   ]
  },
  {
   "cell_type": "markdown",
   "id": "6065dce0",
   "metadata": {},
   "source": [
    "Extracting Company Names"
   ]
  },
  {
   "cell_type": "code",
   "execution_count": 14,
   "id": "e67ddff3",
   "metadata": {},
   "outputs": [
    {
     "data": {
      "text/plain": [
       "[<selenium.webdriver.remote.webelement.WebElement (session=\"f7123175b0c1a9b212b63662df5ddaec\", element=\"0ad891e6-1cab-458c-9d2f-0ed139f30427\")>,\n",
       " <selenium.webdriver.remote.webelement.WebElement (session=\"f7123175b0c1a9b212b63662df5ddaec\", element=\"0c4ac82f-c87f-4c90-9564-dccca7a38de7\")>,\n",
       " <selenium.webdriver.remote.webelement.WebElement (session=\"f7123175b0c1a9b212b63662df5ddaec\", element=\"68f3514a-16ce-4057-8d1d-7e219751198e\")>,\n",
       " <selenium.webdriver.remote.webelement.WebElement (session=\"f7123175b0c1a9b212b63662df5ddaec\", element=\"9e9643a5-01f1-4f2f-a83c-185f0e47d963\")>,\n",
       " <selenium.webdriver.remote.webelement.WebElement (session=\"f7123175b0c1a9b212b63662df5ddaec\", element=\"3b971c63-a81f-4ec9-903a-0f0ebec22a3d\")>,\n",
       " <selenium.webdriver.remote.webelement.WebElement (session=\"f7123175b0c1a9b212b63662df5ddaec\", element=\"4f8d0062-3c2c-40ab-9a38-f1206c98ef2c\")>,\n",
       " <selenium.webdriver.remote.webelement.WebElement (session=\"f7123175b0c1a9b212b63662df5ddaec\", element=\"099ab8cc-56c5-41af-a87c-3e7dbb21ec79\")>,\n",
       " <selenium.webdriver.remote.webelement.WebElement (session=\"f7123175b0c1a9b212b63662df5ddaec\", element=\"3fe86a6a-a179-4fad-8449-9c40731d512a\")>,\n",
       " <selenium.webdriver.remote.webelement.WebElement (session=\"f7123175b0c1a9b212b63662df5ddaec\", element=\"2502c86c-507c-4e3a-9618-b4e39635e3d9\")>,\n",
       " <selenium.webdriver.remote.webelement.WebElement (session=\"f7123175b0c1a9b212b63662df5ddaec\", element=\"61f11f35-bb3d-4cda-9ab4-a2bad876f5b0\")>]"
      ]
     },
     "execution_count": 14,
     "metadata": {},
     "output_type": "execute_result"
    }
   ],
   "source": [
    "company_tags1=driver.find_elements_by_xpath('//a[@class=\"subTitle ellipsis fleft\"]')\n",
    "len(company_tags1)\n",
    "company_tags1[0:10]"
   ]
  },
  {
   "cell_type": "code",
   "execution_count": 15,
   "id": "3500d267",
   "metadata": {},
   "outputs": [
    {
     "data": {
      "text/plain": [
       "['HDFC Bank',\n",
       " 'Shell',\n",
       " 'AmoliTalents',\n",
       " 'open data fabric',\n",
       " 'Concentrix',\n",
       " 'Firstsource Solutions Limited',\n",
       " 'OceanOfWeb',\n",
       " 'NTT Data',\n",
       " 'Titan',\n",
       " 'Amazon']"
      ]
     },
     "execution_count": 15,
     "metadata": {},
     "output_type": "execute_result"
    }
   ],
   "source": [
    "company_titles1=[]\n",
    "\n",
    "for i in company_tags1:\n",
    "    company_titles1.append(i.text)\n",
    "    \n",
    "len(company_titles1)\n",
    "company_titles1[0:10]"
   ]
  },
  {
   "cell_type": "markdown",
   "id": "656703fc",
   "metadata": {},
   "source": [
    "Company Location"
   ]
  },
  {
   "cell_type": "code",
   "execution_count": 16,
   "id": "51c98d9b",
   "metadata": {},
   "outputs": [
    {
     "data": {
      "text/plain": [
       "[<selenium.webdriver.remote.webelement.WebElement (session=\"f7123175b0c1a9b212b63662df5ddaec\", element=\"a349ea41-b69c-442f-a321-a9c51e1a5b46\")>,\n",
       " <selenium.webdriver.remote.webelement.WebElement (session=\"f7123175b0c1a9b212b63662df5ddaec\", element=\"61c3c1d9-867a-4226-84e8-f2b4c8ca2d2f\")>,\n",
       " <selenium.webdriver.remote.webelement.WebElement (session=\"f7123175b0c1a9b212b63662df5ddaec\", element=\"c1739d49-35d0-4c2c-bd91-f67a756c4523\")>,\n",
       " <selenium.webdriver.remote.webelement.WebElement (session=\"f7123175b0c1a9b212b63662df5ddaec\", element=\"b4812e15-b447-47f5-b951-eae448d0fb54\")>,\n",
       " <selenium.webdriver.remote.webelement.WebElement (session=\"f7123175b0c1a9b212b63662df5ddaec\", element=\"20758017-6cbc-43d2-91da-2ff572f52dff\")>,\n",
       " <selenium.webdriver.remote.webelement.WebElement (session=\"f7123175b0c1a9b212b63662df5ddaec\", element=\"1660c010-16c9-49cc-99ba-89c15f9e21c2\")>,\n",
       " <selenium.webdriver.remote.webelement.WebElement (session=\"f7123175b0c1a9b212b63662df5ddaec\", element=\"d89ca2b1-08bb-416b-a692-52892a088a20\")>,\n",
       " <selenium.webdriver.remote.webelement.WebElement (session=\"f7123175b0c1a9b212b63662df5ddaec\", element=\"95524d5e-9593-4dcf-a600-bb13b0ed130e\")>,\n",
       " <selenium.webdriver.remote.webelement.WebElement (session=\"f7123175b0c1a9b212b63662df5ddaec\", element=\"3392684c-6986-4d6b-bbb1-955ea5bdbe17\")>,\n",
       " <selenium.webdriver.remote.webelement.WebElement (session=\"f7123175b0c1a9b212b63662df5ddaec\", element=\"f745973f-203c-41ea-8969-bd1a2becba49\")>]"
      ]
     },
     "execution_count": 16,
     "metadata": {},
     "output_type": "execute_result"
    }
   ],
   "source": [
    "location_tags1=driver.find_elements_by_xpath('//li[@class=\"fleft grey-text br2 placeHolderLi location\"]')\n",
    "len(location_tags1)\n",
    "location_tags1[0:10]"
   ]
  },
  {
   "cell_type": "code",
   "execution_count": 17,
   "id": "0020854d",
   "metadata": {},
   "outputs": [
    {
     "data": {
      "text/plain": [
       "['Pune, Gurgaon/Gurugram, Chennai, Bangalore/Bengaluru, Delhi / NCR, Mumbai (All Areas)',\n",
       " 'Bangalore/Bengaluru',\n",
       " 'Bangalore/Bengaluru',\n",
       " 'Bangalore/Bengaluru',\n",
       " 'Gurgaon/Gurugram, Bangalore/Bengaluru\\n(WFH during Covid)',\n",
       " 'Bangalore/Bengaluru, Mumbai (All Areas)',\n",
       " 'Mumbai, Hyderabad/Secunderabad, Pune, Chennai, Bangalore/Bengaluru',\n",
       " 'Noida, Kolkata, Hyderabad/Secunderabad, Pune, Chennai, Bangalore/Bengaluru, Delhi / NCR, Mumbai (All Areas)\\n(WFH during Covid)',\n",
       " 'Bangalore/Bengaluru',\n",
       " 'Hyderabad/Secunderabad, Pune, Bangalore/Bengaluru']"
      ]
     },
     "execution_count": 17,
     "metadata": {},
     "output_type": "execute_result"
    }
   ],
   "source": [
    "company_location1=[]\n",
    "\n",
    "for i in location_tags1:\n",
    "    company_location1.append(i.text)\n",
    "    \n",
    "len(company_location1)\n",
    "company_location1[0:10]"
   ]
  },
  {
   "cell_type": "markdown",
   "id": "ff83dc91",
   "metadata": {},
   "source": [
    "Making DataFrame Out Enquired Data"
   ]
  },
  {
   "cell_type": "code",
   "execution_count": 18,
   "id": "bd6fd3b0",
   "metadata": {},
   "outputs": [
    {
     "data": {
      "text/html": [
       "<div>\n",
       "<style scoped>\n",
       "    .dataframe tbody tr th:only-of-type {\n",
       "        vertical-align: middle;\n",
       "    }\n",
       "\n",
       "    .dataframe tbody tr th {\n",
       "        vertical-align: top;\n",
       "    }\n",
       "\n",
       "    .dataframe thead th {\n",
       "        text-align: right;\n",
       "    }\n",
       "</style>\n",
       "<table border=\"1\" class=\"dataframe\">\n",
       "  <thead>\n",
       "    <tr style=\"text-align: right;\">\n",
       "      <th></th>\n",
       "      <th>Job Title</th>\n",
       "      <th>Company Name</th>\n",
       "      <th>Company Loaction</th>\n",
       "    </tr>\n",
       "  </thead>\n",
       "  <tbody>\n",
       "    <tr>\n",
       "      <th>0</th>\n",
       "      <td>Data Scientist</td>\n",
       "      <td>HDFC Bank</td>\n",
       "      <td>Pune, Gurgaon/Gurugram, Chennai, Bangalore/Ben...</td>\n",
       "    </tr>\n",
       "    <tr>\n",
       "      <th>1</th>\n",
       "      <td>Data Scientist</td>\n",
       "      <td>Shell</td>\n",
       "      <td>Bangalore/Bengaluru</td>\n",
       "    </tr>\n",
       "    <tr>\n",
       "      <th>2</th>\n",
       "      <td>Senior/ Lead Data Scientist</td>\n",
       "      <td>AmoliTalents</td>\n",
       "      <td>Bangalore/Bengaluru</td>\n",
       "    </tr>\n",
       "    <tr>\n",
       "      <th>3</th>\n",
       "      <td>Data Scientist / Analyst</td>\n",
       "      <td>open data fabric</td>\n",
       "      <td>Bangalore/Bengaluru</td>\n",
       "    </tr>\n",
       "    <tr>\n",
       "      <th>4</th>\n",
       "      <td>Forecasting Analyst/ Data Scientist (US Client)</td>\n",
       "      <td>Concentrix</td>\n",
       "      <td>Gurgaon/Gurugram, Bangalore/Bengaluru\\n(WFH du...</td>\n",
       "    </tr>\n",
       "    <tr>\n",
       "      <th>5</th>\n",
       "      <td>Hiring Data Scientist - Analytics</td>\n",
       "      <td>Firstsource Solutions Limited</td>\n",
       "      <td>Bangalore/Bengaluru, Mumbai (All Areas)</td>\n",
       "    </tr>\n",
       "    <tr>\n",
       "      <th>6</th>\n",
       "      <td>Computer Vision Python Data Scientist</td>\n",
       "      <td>OceanOfWeb</td>\n",
       "      <td>Mumbai, Hyderabad/Secunderabad, Pune, Chennai,...</td>\n",
       "    </tr>\n",
       "    <tr>\n",
       "      <th>7</th>\n",
       "      <td>Excellent Opportunity For Freshers For AI/ML, ...</td>\n",
       "      <td>NTT Data</td>\n",
       "      <td>Noida, Kolkata, Hyderabad/Secunderabad, Pune, ...</td>\n",
       "    </tr>\n",
       "    <tr>\n",
       "      <th>8</th>\n",
       "      <td>Junior Data Scientist</td>\n",
       "      <td>Titan</td>\n",
       "      <td>Bangalore/Bengaluru</td>\n",
       "    </tr>\n",
       "    <tr>\n",
       "      <th>9</th>\n",
       "      <td>Data Scientist</td>\n",
       "      <td>Amazon</td>\n",
       "      <td>Hyderabad/Secunderabad, Pune, Bangalore/Bengaluru</td>\n",
       "    </tr>\n",
       "    <tr>\n",
       "      <th>10</th>\n",
       "      <td>Data Scientist</td>\n",
       "      <td>Hewlett-Packard (HP)</td>\n",
       "      <td>Bangalore/Bengaluru</td>\n",
       "    </tr>\n",
       "    <tr>\n",
       "      <th>11</th>\n",
       "      <td>Data Scientist</td>\n",
       "      <td>Genpact</td>\n",
       "      <td>Gurgaon/Gurugram, Bangalore/Bengaluru</td>\n",
       "    </tr>\n",
       "    <tr>\n",
       "      <th>12</th>\n",
       "      <td>Data Scientist _NLP</td>\n",
       "      <td>EXL</td>\n",
       "      <td>Bangalore/Bengaluru, Delhi / NCR\\n(WFH during ...</td>\n",
       "    </tr>\n",
       "    <tr>\n",
       "      <th>13</th>\n",
       "      <td>Data Scientist</td>\n",
       "      <td>Shell</td>\n",
       "      <td>Bangalore/Bengaluru</td>\n",
       "    </tr>\n",
       "    <tr>\n",
       "      <th>14</th>\n",
       "      <td>Data Scientist</td>\n",
       "      <td>Master Mind Consultancy</td>\n",
       "      <td>Mumbai, Bangalore/Bengaluru, Mumbai, Bangalore</td>\n",
       "    </tr>\n",
       "    <tr>\n",
       "      <th>15</th>\n",
       "      <td>Data Scientist</td>\n",
       "      <td>Master Mind Consultancy</td>\n",
       "      <td>Mumbai, Bangalore/Bengaluru</td>\n",
       "    </tr>\n",
       "    <tr>\n",
       "      <th>16</th>\n",
       "      <td>Senior Data Scientist</td>\n",
       "      <td>newscorp</td>\n",
       "      <td>Bangalore/Bengaluru</td>\n",
       "    </tr>\n",
       "    <tr>\n",
       "      <th>17</th>\n",
       "      <td>Senior Data Scientist</td>\n",
       "      <td>Walmart</td>\n",
       "      <td>Bangalore/Bengaluru</td>\n",
       "    </tr>\n",
       "    <tr>\n",
       "      <th>18</th>\n",
       "      <td>Senior Data Scientist</td>\n",
       "      <td>Precisely</td>\n",
       "      <td>Noida, Pune, Bangalore/Bengaluru</td>\n",
       "    </tr>\n",
       "    <tr>\n",
       "      <th>19</th>\n",
       "      <td>Sr. Data Scientist, Digital Services Analytics</td>\n",
       "      <td>Dell</td>\n",
       "      <td>Bangalore/Bengaluru</td>\n",
       "    </tr>\n",
       "  </tbody>\n",
       "</table>\n",
       "</div>"
      ],
      "text/plain": [
       "                                            Job Title  \\\n",
       "0                                      Data Scientist   \n",
       "1                                      Data Scientist   \n",
       "2                         Senior/ Lead Data Scientist   \n",
       "3                            Data Scientist / Analyst   \n",
       "4     Forecasting Analyst/ Data Scientist (US Client)   \n",
       "5                   Hiring Data Scientist - Analytics   \n",
       "6               Computer Vision Python Data Scientist   \n",
       "7   Excellent Opportunity For Freshers For AI/ML, ...   \n",
       "8                               Junior Data Scientist   \n",
       "9                                      Data Scientist   \n",
       "10                                     Data Scientist   \n",
       "11                                     Data Scientist   \n",
       "12                                Data Scientist _NLP   \n",
       "13                                     Data Scientist   \n",
       "14                                     Data Scientist   \n",
       "15                                     Data Scientist   \n",
       "16                              Senior Data Scientist   \n",
       "17                              Senior Data Scientist   \n",
       "18                              Senior Data Scientist   \n",
       "19     Sr. Data Scientist, Digital Services Analytics   \n",
       "\n",
       "                     Company Name  \\\n",
       "0                       HDFC Bank   \n",
       "1                           Shell   \n",
       "2                    AmoliTalents   \n",
       "3                open data fabric   \n",
       "4                      Concentrix   \n",
       "5   Firstsource Solutions Limited   \n",
       "6                      OceanOfWeb   \n",
       "7                        NTT Data   \n",
       "8                           Titan   \n",
       "9                          Amazon   \n",
       "10           Hewlett-Packard (HP)   \n",
       "11                        Genpact   \n",
       "12                            EXL   \n",
       "13                          Shell   \n",
       "14        Master Mind Consultancy   \n",
       "15        Master Mind Consultancy   \n",
       "16                       newscorp   \n",
       "17                        Walmart   \n",
       "18                      Precisely   \n",
       "19                           Dell   \n",
       "\n",
       "                                     Company Loaction  \n",
       "0   Pune, Gurgaon/Gurugram, Chennai, Bangalore/Ben...  \n",
       "1                                 Bangalore/Bengaluru  \n",
       "2                                 Bangalore/Bengaluru  \n",
       "3                                 Bangalore/Bengaluru  \n",
       "4   Gurgaon/Gurugram, Bangalore/Bengaluru\\n(WFH du...  \n",
       "5             Bangalore/Bengaluru, Mumbai (All Areas)  \n",
       "6   Mumbai, Hyderabad/Secunderabad, Pune, Chennai,...  \n",
       "7   Noida, Kolkata, Hyderabad/Secunderabad, Pune, ...  \n",
       "8                                 Bangalore/Bengaluru  \n",
       "9   Hyderabad/Secunderabad, Pune, Bangalore/Bengaluru  \n",
       "10                                Bangalore/Bengaluru  \n",
       "11              Gurgaon/Gurugram, Bangalore/Bengaluru  \n",
       "12  Bangalore/Bengaluru, Delhi / NCR\\n(WFH during ...  \n",
       "13                                Bangalore/Bengaluru  \n",
       "14     Mumbai, Bangalore/Bengaluru, Mumbai, Bangalore  \n",
       "15                        Mumbai, Bangalore/Bengaluru  \n",
       "16                                Bangalore/Bengaluru  \n",
       "17                                Bangalore/Bengaluru  \n",
       "18                   Noida, Pune, Bangalore/Bengaluru  \n",
       "19                                Bangalore/Bengaluru  "
      ]
     },
     "execution_count": 18,
     "metadata": {},
     "output_type": "execute_result"
    }
   ],
   "source": [
    "import numpy as np\n",
    "job1=pd.DataFrame()\n",
    "job1['Job Title']=job_titles1\n",
    "job1['Company Name']=company_titles1\n",
    "job1['Company Loaction']=company_location1\n",
    "job1"
   ]
  },
  {
   "cell_type": "markdown",
   "id": "887194f6",
   "metadata": {},
   "source": [
    "## Q 3 Scrapping Data Scientist Job in Banglore with Filters"
   ]
  },
  {
   "cell_type": "code",
   "execution_count": 60,
   "id": "4e3d5655",
   "metadata": {},
   "outputs": [],
   "source": [
    "url = 'https://www.naukri.com/'\n",
    "driver.get(url)"
   ]
  },
  {
   "cell_type": "code",
   "execution_count": 108,
   "id": "142a56fa",
   "metadata": {},
   "outputs": [
    {
     "data": {
      "text/plain": [
       "<selenium.webdriver.remote.webelement.WebElement (session=\"629feeb0d34c27c55c6cad577b235c95\", element=\"bcdc4dc1-f18a-4fad-8add-cf544d3905a0\")>"
      ]
     },
     "execution_count": 108,
     "metadata": {},
     "output_type": "execute_result"
    }
   ],
   "source": [
    "search_job2 = driver.find_element_by_class_name(\"suggestor-input \")\n",
    "search_job2"
   ]
  },
  {
   "cell_type": "code",
   "execution_count": 109,
   "id": "af44d897",
   "metadata": {},
   "outputs": [],
   "source": [
    "search_job2.send_keys(\"Data Scientist\")"
   ]
  },
  {
   "cell_type": "code",
   "execution_count": 110,
   "id": "63ca2b99",
   "metadata": {},
   "outputs": [
    {
     "data": {
      "text/plain": [
       "<selenium.webdriver.remote.webelement.WebElement (session=\"629feeb0d34c27c55c6cad577b235c95\", element=\"d1bfe144-a5cd-45b3-9024-a8414e3b6e85\")>"
      ]
     },
     "execution_count": 110,
     "metadata": {},
     "output_type": "execute_result"
    }
   ],
   "source": [
    "search_locn2 = driver.find_element_by_xpath('/html/body/div/div[2]/div[3]/div/div/div[3]/div/div/div/input')\n",
    "search_locn2"
   ]
  },
  {
   "cell_type": "code",
   "execution_count": 111,
   "id": "c4048f46",
   "metadata": {},
   "outputs": [],
   "source": [
    "search_locn2.send_keys(\"Banglore\")"
   ]
  },
  {
   "cell_type": "code",
   "execution_count": 112,
   "id": "d6334786",
   "metadata": {},
   "outputs": [
    {
     "data": {
      "text/plain": [
       "<selenium.webdriver.remote.webelement.WebElement (session=\"629feeb0d34c27c55c6cad577b235c95\", element=\"7691e206-d736-423d-9905-15ab0e5567b6\")>"
      ]
     },
     "execution_count": 112,
     "metadata": {},
     "output_type": "execute_result"
    }
   ],
   "source": [
    "search_btn2 = driver.find_element_by_xpath('/html/body/div/div[2]/div[3]/div/div/div[6]')\n",
    "search_btn2"
   ]
  },
  {
   "cell_type": "code",
   "execution_count": 113,
   "id": "ca7f21f3",
   "metadata": {},
   "outputs": [],
   "source": [
    "search_btn2.click()"
   ]
  },
  {
   "cell_type": "code",
   "execution_count": 114,
   "id": "8fe9d268",
   "metadata": {},
   "outputs": [],
   "source": [
    "salary_check=driver.find_element_by_xpath('/html/body/div[1]/div[3]/div[2]/section[1]/div[2]/div[4]/div[2]/div[2]/label/i')"
   ]
  },
  {
   "cell_type": "code",
   "execution_count": 115,
   "id": "ba1a6833",
   "metadata": {},
   "outputs": [],
   "source": [
    "salary_check.click()"
   ]
  },
  {
   "cell_type": "code",
   "execution_count": 119,
   "id": "dc98578f",
   "metadata": {},
   "outputs": [],
   "source": [
    "location_check=driver.find_element_by_xpath('/html/body/div[1]/div[3]/div[2]/section[1]/div[2]/div[4]/div[3]/div[2]/div[5]/label/p/span[1]')"
   ]
  },
  {
   "cell_type": "code",
   "execution_count": 120,
   "id": "0756f789",
   "metadata": {},
   "outputs": [],
   "source": [
    "location_check.click()"
   ]
  },
  {
   "cell_type": "markdown",
   "id": "0f01ecf5",
   "metadata": {},
   "source": [
    "Extracting Job Titles"
   ]
  },
  {
   "cell_type": "code",
   "execution_count": 34,
   "id": "30d798e6",
   "metadata": {},
   "outputs": [
    {
     "data": {
      "text/plain": [
       "[<selenium.webdriver.remote.webelement.WebElement (session=\"efd2d748bc3050362b297e490c3e5fde\", element=\"5730eb24-8eda-4e50-8038-78b7c1230e59\")>,\n",
       " <selenium.webdriver.remote.webelement.WebElement (session=\"efd2d748bc3050362b297e490c3e5fde\", element=\"fd9f9ae1-93f2-4443-aef7-27b1ba2cd3b8\")>,\n",
       " <selenium.webdriver.remote.webelement.WebElement (session=\"efd2d748bc3050362b297e490c3e5fde\", element=\"5dce3313-1d1a-4b66-bcab-aefe5075e4a3\")>,\n",
       " <selenium.webdriver.remote.webelement.WebElement (session=\"efd2d748bc3050362b297e490c3e5fde\", element=\"f9bc2cc1-d6da-44e1-9247-122ffe0257a1\")>,\n",
       " <selenium.webdriver.remote.webelement.WebElement (session=\"efd2d748bc3050362b297e490c3e5fde\", element=\"6c5301b8-12c6-4f45-bac5-37c84601041d\")>,\n",
       " <selenium.webdriver.remote.webelement.WebElement (session=\"efd2d748bc3050362b297e490c3e5fde\", element=\"bf577985-937b-4ce5-9c91-279e4dac3ecf\")>,\n",
       " <selenium.webdriver.remote.webelement.WebElement (session=\"efd2d748bc3050362b297e490c3e5fde\", element=\"61956c81-f0a4-4ec3-8c4b-2719a5f4109c\")>,\n",
       " <selenium.webdriver.remote.webelement.WebElement (session=\"efd2d748bc3050362b297e490c3e5fde\", element=\"d7660f70-c132-4342-a5a8-0641a87d4bd4\")>,\n",
       " <selenium.webdriver.remote.webelement.WebElement (session=\"efd2d748bc3050362b297e490c3e5fde\", element=\"c6e75579-3fef-4045-8b15-8cb3474482b7\")>,\n",
       " <selenium.webdriver.remote.webelement.WebElement (session=\"efd2d748bc3050362b297e490c3e5fde\", element=\"a7839778-96b5-4dd8-ab35-8fba0ccfc478\")>]"
      ]
     },
     "execution_count": 34,
     "metadata": {},
     "output_type": "execute_result"
    }
   ],
   "source": [
    "title_tags2=driver.find_elements_by_xpath('//a[@class=\"title fw500 ellipsis\"]')\n",
    "len(title_tags2)\n",
    "title_tags2[0:10]"
   ]
  },
  {
   "cell_type": "code",
   "execution_count": 35,
   "id": "0b8d81d0",
   "metadata": {},
   "outputs": [
    {
     "data": {
      "text/plain": [
       "['Excellent Opportunity For Freshers For AI/ML, Data Scientist, BI, QA',\n",
       " 'Data Scientist _NLP',\n",
       " 'Junior Data Analyst/ Scientist- Fresher Position',\n",
       " 'Open Project | IT Consulting | Data Scientist',\n",
       " 'Data Scientist',\n",
       " 'Data Scientist',\n",
       " 'Data Scientist',\n",
       " 'Data Scientist-Onsite and offshore',\n",
       " 'Data & Applied Scientist',\n",
       " 'Data and applied Scientist']"
      ]
     },
     "execution_count": 35,
     "metadata": {},
     "output_type": "execute_result"
    }
   ],
   "source": [
    "job_titles2=[]\n",
    "\n",
    "for i in title_tags2:\n",
    "    job_titles2.append(i.text)\n",
    "    \n",
    "len(job_titles2)\n",
    "job_titles2[0:10]"
   ]
  },
  {
   "cell_type": "markdown",
   "id": "055b8e52",
   "metadata": {},
   "source": [
    "Extracting Company Names"
   ]
  },
  {
   "cell_type": "code",
   "execution_count": 36,
   "id": "7fd12cf7",
   "metadata": {},
   "outputs": [
    {
     "data": {
      "text/plain": [
       "[<selenium.webdriver.remote.webelement.WebElement (session=\"efd2d748bc3050362b297e490c3e5fde\", element=\"e3552f0e-0e9f-430f-9d01-7628506deb44\")>,\n",
       " <selenium.webdriver.remote.webelement.WebElement (session=\"efd2d748bc3050362b297e490c3e5fde\", element=\"f250e997-8aff-42c6-b549-2f97d7754876\")>,\n",
       " <selenium.webdriver.remote.webelement.WebElement (session=\"efd2d748bc3050362b297e490c3e5fde\", element=\"43cb97dc-ab52-479c-85e5-23586684c892\")>,\n",
       " <selenium.webdriver.remote.webelement.WebElement (session=\"efd2d748bc3050362b297e490c3e5fde\", element=\"9957da35-5ef3-42a0-a561-f80d44064253\")>,\n",
       " <selenium.webdriver.remote.webelement.WebElement (session=\"efd2d748bc3050362b297e490c3e5fde\", element=\"3a91eabf-cae1-4734-aabb-4ad8b9c90fc9\")>,\n",
       " <selenium.webdriver.remote.webelement.WebElement (session=\"efd2d748bc3050362b297e490c3e5fde\", element=\"263c0d72-4d7d-42cc-a6de-48b1fa5d1039\")>,\n",
       " <selenium.webdriver.remote.webelement.WebElement (session=\"efd2d748bc3050362b297e490c3e5fde\", element=\"ed1680e2-f8c9-48ff-9b19-56cfe8c34c3a\")>,\n",
       " <selenium.webdriver.remote.webelement.WebElement (session=\"efd2d748bc3050362b297e490c3e5fde\", element=\"40e7a53e-e1ff-4c60-9fc0-ab059b45dc99\")>,\n",
       " <selenium.webdriver.remote.webelement.WebElement (session=\"efd2d748bc3050362b297e490c3e5fde\", element=\"6517a0f9-06f0-4a39-bbd9-bd1e3fc975e1\")>,\n",
       " <selenium.webdriver.remote.webelement.WebElement (session=\"efd2d748bc3050362b297e490c3e5fde\", element=\"b132914f-c78d-48ca-9299-0c16f7d16265\")>]"
      ]
     },
     "execution_count": 36,
     "metadata": {},
     "output_type": "execute_result"
    }
   ],
   "source": [
    "company_tags2=driver.find_elements_by_xpath('//a[@class=\"subTitle ellipsis fleft\"]')\n",
    "len(company_tags2)\n",
    "company_tags2[0:10]"
   ]
  },
  {
   "cell_type": "code",
   "execution_count": 37,
   "id": "d278d0e7",
   "metadata": {},
   "outputs": [
    {
     "data": {
      "text/plain": [
       "['NTT Data',\n",
       " 'EXL',\n",
       " 'Sejal Consulting Hub',\n",
       " 'Virtuoso Staffing Solutions Pvt Ltd',\n",
       " 'BlackBuck',\n",
       " 'Country Veggie',\n",
       " 'NAVIKENZ INDIA PRIVATE LIMITED',\n",
       " 'PROKXIMITY',\n",
       " 'Microsoft',\n",
       " 'Microsoft']"
      ]
     },
     "execution_count": 37,
     "metadata": {},
     "output_type": "execute_result"
    }
   ],
   "source": [
    "company_titles2=[]\n",
    "\n",
    "for i in company_tags2:\n",
    "    company_titles2.append(i.text)\n",
    "    \n",
    "len(company_titles2)\n",
    "company_titles2[0:10]"
   ]
  },
  {
   "cell_type": "markdown",
   "id": "5634d679",
   "metadata": {},
   "source": [
    "Company Location"
   ]
  },
  {
   "cell_type": "code",
   "execution_count": 38,
   "id": "4200122b",
   "metadata": {},
   "outputs": [
    {
     "data": {
      "text/plain": [
       "[<selenium.webdriver.remote.webelement.WebElement (session=\"efd2d748bc3050362b297e490c3e5fde\", element=\"7071eeb9-7ae3-4397-8113-f6630baa9952\")>,\n",
       " <selenium.webdriver.remote.webelement.WebElement (session=\"efd2d748bc3050362b297e490c3e5fde\", element=\"43462120-3e3b-483c-99ab-3a60dc3fe71a\")>,\n",
       " <selenium.webdriver.remote.webelement.WebElement (session=\"efd2d748bc3050362b297e490c3e5fde\", element=\"782ef05d-5235-43e1-8ca8-25aecc02fdd0\")>,\n",
       " <selenium.webdriver.remote.webelement.WebElement (session=\"efd2d748bc3050362b297e490c3e5fde\", element=\"6505a93c-adf3-420f-9163-9510b81ee196\")>,\n",
       " <selenium.webdriver.remote.webelement.WebElement (session=\"efd2d748bc3050362b297e490c3e5fde\", element=\"96973b1e-7341-4e27-88de-c2178e797abf\")>,\n",
       " <selenium.webdriver.remote.webelement.WebElement (session=\"efd2d748bc3050362b297e490c3e5fde\", element=\"456efa9c-1b62-4d96-a916-f2cef46cf9ed\")>,\n",
       " <selenium.webdriver.remote.webelement.WebElement (session=\"efd2d748bc3050362b297e490c3e5fde\", element=\"197c3e8c-2f1a-4dd6-8cc3-ecb6000d6512\")>,\n",
       " <selenium.webdriver.remote.webelement.WebElement (session=\"efd2d748bc3050362b297e490c3e5fde\", element=\"afa429f6-8dbf-4da3-b87e-9285eb76c885\")>,\n",
       " <selenium.webdriver.remote.webelement.WebElement (session=\"efd2d748bc3050362b297e490c3e5fde\", element=\"b86545bb-3fbe-4e4f-8eed-6c2d8b08fc63\")>,\n",
       " <selenium.webdriver.remote.webelement.WebElement (session=\"efd2d748bc3050362b297e490c3e5fde\", element=\"8b1538b4-7de7-43de-ba2c-eb10c10e1d45\")>]"
      ]
     },
     "execution_count": 38,
     "metadata": {},
     "output_type": "execute_result"
    }
   ],
   "source": [
    "location_tags2=driver.find_elements_by_xpath('//li[@class=\"fleft grey-text br2 placeHolderLi location\"]')\n",
    "len(location_tags2)\n",
    "location_tags2[0:10]"
   ]
  },
  {
   "cell_type": "code",
   "execution_count": 39,
   "id": "0f3a6931",
   "metadata": {},
   "outputs": [
    {
     "data": {
      "text/plain": [
       "['Noida, Kolkata, Hyderabad/Secunderabad, Pune, Chennai, Bangalore/Bengaluru, Delhi / NCR, Mumbai (All Areas)\\n(WFH during Covid)',\n",
       " 'Bangalore/Bengaluru, Delhi / NCR\\n(WFH during Covid)',\n",
       " 'Kolkata, Hyderabad/Secunderabad, Pune, Ahmedabad, Chennai, Bangalore/Bengaluru, Delhi / NCR, Mumbai (All Areas)\\n(WFH during Covid)',\n",
       " 'Noida, New Delhi, Bangalore Rural, Bangalore/Bengaluru, Delhi / NCR\\n(WFH during Covid)',\n",
       " 'Gurgaon, Bengaluru',\n",
       " 'Bharuch, Jaipur, Bhopal, Mumbai, Jhansi, Nagpur, Ghaziabad, Jaunpur, Kanpur, Delhi, Lucknow, Agra, Gurgaon, Rajkot, Bengaluru',\n",
       " 'Hyderabad/Secunderabad, Bangalore/Bengaluru, Delhi / NCR\\n(WFH during Covid)',\n",
       " 'Hyderabad/Secunderabad, Pune, Chennai, Bangalore/Bengaluru, Delhi / NCR, Mumbai (All Areas)',\n",
       " 'Noida, Hyderabad/Secunderabad, Bangalore/Bengaluru',\n",
       " 'Noida, Hyderabad/Secunderabad, Bangalore/Bengaluru']"
      ]
     },
     "execution_count": 39,
     "metadata": {},
     "output_type": "execute_result"
    }
   ],
   "source": [
    "company_location2=[]\n",
    "\n",
    "for i in location_tags2:\n",
    "    company_location2.append(i.text)\n",
    "    \n",
    "len(company_location2)\n",
    "company_location2[0:10]"
   ]
  },
  {
   "cell_type": "markdown",
   "id": "036de937",
   "metadata": {},
   "source": [
    "Experience Required"
   ]
  },
  {
   "cell_type": "code",
   "execution_count": 121,
   "id": "b35eb4e4",
   "metadata": {},
   "outputs": [
    {
     "data": {
      "text/plain": [
       "[<selenium.webdriver.remote.webelement.WebElement (session=\"629feeb0d34c27c55c6cad577b235c95\", element=\"8a9c2509-ae9e-4eb2-bf31-9917b9f764b0\")>,\n",
       " <selenium.webdriver.remote.webelement.WebElement (session=\"629feeb0d34c27c55c6cad577b235c95\", element=\"1f32acab-58a8-4e21-bb40-46e0ba3a1f43\")>,\n",
       " <selenium.webdriver.remote.webelement.WebElement (session=\"629feeb0d34c27c55c6cad577b235c95\", element=\"84f29d88-6047-4beb-8020-34b235ad1325\")>,\n",
       " <selenium.webdriver.remote.webelement.WebElement (session=\"629feeb0d34c27c55c6cad577b235c95\", element=\"ce1357bd-4805-4110-9a2b-5561ff161989\")>,\n",
       " <selenium.webdriver.remote.webelement.WebElement (session=\"629feeb0d34c27c55c6cad577b235c95\", element=\"0ca0c28a-a576-47a8-be5b-9351efe0d53c\")>,\n",
       " <selenium.webdriver.remote.webelement.WebElement (session=\"629feeb0d34c27c55c6cad577b235c95\", element=\"dee3f0e6-09f8-445d-a05a-c47b3526845f\")>,\n",
       " <selenium.webdriver.remote.webelement.WebElement (session=\"629feeb0d34c27c55c6cad577b235c95\", element=\"ff7057bc-bfc3-4a11-b613-07d7fbb7bc26\")>,\n",
       " <selenium.webdriver.remote.webelement.WebElement (session=\"629feeb0d34c27c55c6cad577b235c95\", element=\"0e88a159-9267-4473-acb7-0956d8f01ed4\")>,\n",
       " <selenium.webdriver.remote.webelement.WebElement (session=\"629feeb0d34c27c55c6cad577b235c95\", element=\"3ce8fcdb-4474-4226-b48b-5206e6bdc00d\")>,\n",
       " <selenium.webdriver.remote.webelement.WebElement (session=\"629feeb0d34c27c55c6cad577b235c95\", element=\"64c69ae8-0d03-4513-95f7-bb21da408125\")>]"
      ]
     },
     "execution_count": 121,
     "metadata": {},
     "output_type": "execute_result"
    }
   ],
   "source": [
    "experience_tags2=driver.find_elements_by_xpath('//li[@class=\"fleft grey-text br2 placeHolderLi experience\"]')\n",
    "len(experience_tags2)\n",
    "experience_tags2[0:10]"
   ]
  },
  {
   "cell_type": "code",
   "execution_count": 122,
   "id": "9144bab1",
   "metadata": {},
   "outputs": [
    {
     "data": {
      "text/plain": [
       "['0-0 Yrs',\n",
       " '3-8 Yrs',\n",
       " '0-3 Yrs',\n",
       " '5-10 Yrs',\n",
       " '3-7 Yrs',\n",
       " '1-3 Yrs',\n",
       " '2-5 Yrs',\n",
       " '3-8 Yrs',\n",
       " '3-7 Yrs',\n",
       " '3-7 Yrs']"
      ]
     },
     "execution_count": 122,
     "metadata": {},
     "output_type": "execute_result"
    }
   ],
   "source": [
    "company_experience2=[]\n",
    "\n",
    "for i in experience_tags2:\n",
    "    company_experience2.append(i.text)\n",
    "    \n",
    "len(company_experience2)\n",
    "company_experience2[0:10]"
   ]
  },
  {
   "cell_type": "markdown",
   "id": "3e499039",
   "metadata": {},
   "source": [
    "Checking the len of all data scrapped and putting them into dataframe"
   ]
  },
  {
   "cell_type": "code",
   "execution_count": 43,
   "id": "d60fa226",
   "metadata": {},
   "outputs": [
    {
     "data": {
      "text/plain": [
       "(20, 20, 20, 20)"
      ]
     },
     "execution_count": 43,
     "metadata": {},
     "output_type": "execute_result"
    }
   ],
   "source": [
    "len(job_titles2),len(company_titles2),len(company_location2),len(company_experience2)"
   ]
  },
  {
   "cell_type": "code",
   "execution_count": 44,
   "id": "97743a3d",
   "metadata": {},
   "outputs": [
    {
     "data": {
      "text/html": [
       "<div>\n",
       "<style scoped>\n",
       "    .dataframe tbody tr th:only-of-type {\n",
       "        vertical-align: middle;\n",
       "    }\n",
       "\n",
       "    .dataframe tbody tr th {\n",
       "        vertical-align: top;\n",
       "    }\n",
       "\n",
       "    .dataframe thead th {\n",
       "        text-align: right;\n",
       "    }\n",
       "</style>\n",
       "<table border=\"1\" class=\"dataframe\">\n",
       "  <thead>\n",
       "    <tr style=\"text-align: right;\">\n",
       "      <th></th>\n",
       "      <th>Job Title</th>\n",
       "      <th>Company Name</th>\n",
       "      <th>Company Loaction</th>\n",
       "      <th>Experience</th>\n",
       "    </tr>\n",
       "  </thead>\n",
       "  <tbody>\n",
       "    <tr>\n",
       "      <th>0</th>\n",
       "      <td>Excellent Opportunity For Freshers For AI/ML, ...</td>\n",
       "      <td>NTT Data</td>\n",
       "      <td>Noida, Kolkata, Hyderabad/Secunderabad, Pune, ...</td>\n",
       "      <td>0-0 Yrs</td>\n",
       "    </tr>\n",
       "    <tr>\n",
       "      <th>1</th>\n",
       "      <td>Data Scientist _NLP</td>\n",
       "      <td>EXL</td>\n",
       "      <td>Bangalore/Bengaluru, Delhi / NCR\\n(WFH during ...</td>\n",
       "      <td>3-8 Yrs</td>\n",
       "    </tr>\n",
       "    <tr>\n",
       "      <th>2</th>\n",
       "      <td>Junior Data Analyst/ Scientist- Fresher Position</td>\n",
       "      <td>Sejal Consulting Hub</td>\n",
       "      <td>Kolkata, Hyderabad/Secunderabad, Pune, Ahmedab...</td>\n",
       "      <td>0-3 Yrs</td>\n",
       "    </tr>\n",
       "    <tr>\n",
       "      <th>3</th>\n",
       "      <td>Open Project | IT Consulting | Data Scientist</td>\n",
       "      <td>Virtuoso Staffing Solutions Pvt Ltd</td>\n",
       "      <td>Noida, New Delhi, Bangalore Rural, Bangalore/B...</td>\n",
       "      <td>5-10 Yrs</td>\n",
       "    </tr>\n",
       "    <tr>\n",
       "      <th>4</th>\n",
       "      <td>Data Scientist</td>\n",
       "      <td>BlackBuck</td>\n",
       "      <td>Gurgaon, Bengaluru</td>\n",
       "      <td>3-7 Yrs</td>\n",
       "    </tr>\n",
       "    <tr>\n",
       "      <th>5</th>\n",
       "      <td>Data Scientist</td>\n",
       "      <td>Country Veggie</td>\n",
       "      <td>Bharuch, Jaipur, Bhopal, Mumbai, Jhansi, Nagpu...</td>\n",
       "      <td>1-3 Yrs</td>\n",
       "    </tr>\n",
       "    <tr>\n",
       "      <th>6</th>\n",
       "      <td>Data Scientist</td>\n",
       "      <td>NAVIKENZ INDIA PRIVATE LIMITED</td>\n",
       "      <td>Hyderabad/Secunderabad, Bangalore/Bengaluru, D...</td>\n",
       "      <td>2-5 Yrs</td>\n",
       "    </tr>\n",
       "    <tr>\n",
       "      <th>7</th>\n",
       "      <td>Data Scientist-Onsite and offshore</td>\n",
       "      <td>PROKXIMITY</td>\n",
       "      <td>Hyderabad/Secunderabad, Pune, Chennai, Bangalo...</td>\n",
       "      <td>3-8 Yrs</td>\n",
       "    </tr>\n",
       "    <tr>\n",
       "      <th>8</th>\n",
       "      <td>Data &amp; Applied Scientist</td>\n",
       "      <td>Microsoft</td>\n",
       "      <td>Noida, Hyderabad/Secunderabad, Bangalore/Benga...</td>\n",
       "      <td>3-7 Yrs</td>\n",
       "    </tr>\n",
       "    <tr>\n",
       "      <th>9</th>\n",
       "      <td>Data and applied Scientist</td>\n",
       "      <td>Microsoft</td>\n",
       "      <td>Noida, Hyderabad/Secunderabad, Bangalore/Benga...</td>\n",
       "      <td>3-7 Yrs</td>\n",
       "    </tr>\n",
       "    <tr>\n",
       "      <th>10</th>\n",
       "      <td>Data Scientist</td>\n",
       "      <td>Alp Consulting Limited</td>\n",
       "      <td>Kolkata, Hyderabad/Secunderabad, Pune, Chennai...</td>\n",
       "      <td>1-6 Yrs</td>\n",
       "    </tr>\n",
       "    <tr>\n",
       "      <th>11</th>\n",
       "      <td>Data Scientist</td>\n",
       "      <td>SpotDraft</td>\n",
       "      <td>Gurgaon/Gurugram, Bangalore/Bengaluru</td>\n",
       "      <td>1-5 Yrs</td>\n",
       "    </tr>\n",
       "    <tr>\n",
       "      <th>12</th>\n",
       "      <td>Data Preparation Analyst / Sr . Analyst</td>\n",
       "      <td>Xpheno</td>\n",
       "      <td>Gurgaon/Gurugram, Bangalore/Bengaluru</td>\n",
       "      <td>6-11 Yrs</td>\n",
       "    </tr>\n",
       "    <tr>\n",
       "      <th>13</th>\n",
       "      <td>Senior Data Analyst</td>\n",
       "      <td>Urban Company</td>\n",
       "      <td>Gurgaon/Gurugram, Bangalore/Bengaluru</td>\n",
       "      <td>2-4 Yrs</td>\n",
       "    </tr>\n",
       "    <tr>\n",
       "      <th>14</th>\n",
       "      <td>Hiring For Data Analyst (SQL &amp; Scala) || Coforge</td>\n",
       "      <td>Coforge</td>\n",
       "      <td>Mumbai, Bangalore/Bengaluru, Greater Noida\\n(W...</td>\n",
       "      <td>4-8 Yrs</td>\n",
       "    </tr>\n",
       "    <tr>\n",
       "      <th>15</th>\n",
       "      <td>Data Analyst/Data Engineer</td>\n",
       "      <td>Coforge</td>\n",
       "      <td>Noida, Mumbai, Hyderabad/Secunderabad, Pune, B...</td>\n",
       "      <td>6-10 Yrs</td>\n",
       "    </tr>\n",
       "    <tr>\n",
       "      <th>16</th>\n",
       "      <td>Urgent Opening For Data Engineer and Senior Da...</td>\n",
       "      <td>FCS Software Solutions</td>\n",
       "      <td>New Delhi, Hyderabad/Secunderabad, Pune, Ahmed...</td>\n",
       "      <td>3-8 Yrs</td>\n",
       "    </tr>\n",
       "    <tr>\n",
       "      <th>17</th>\n",
       "      <td>Data Analyst- 6-9 Years- Pan India-Permanent p...</td>\n",
       "      <td>Virtusa</td>\n",
       "      <td>Mumbai, Hyderabad/Secunderabad, Chennai, Banga...</td>\n",
       "      <td>6-9 Yrs</td>\n",
       "    </tr>\n",
       "    <tr>\n",
       "      <th>18</th>\n",
       "      <td>Opportunity with Deloitte India | GCP - Data E...</td>\n",
       "      <td>Deloitte</td>\n",
       "      <td>Kolkata, Hyderabad/Secunderabad, Pune, Bangalo...</td>\n",
       "      <td>2-6 Yrs</td>\n",
       "    </tr>\n",
       "    <tr>\n",
       "      <th>19</th>\n",
       "      <td>Fresher Data Engineer with Pentaho Certification</td>\n",
       "      <td>PARAMOUNT HEALTH SERVICES INSURANCE TPA PRIVATE</td>\n",
       "      <td>Thane, Navi Mumbai, Pune, Ahmedabad, Bangalore...</td>\n",
       "      <td>0-1 Yrs</td>\n",
       "    </tr>\n",
       "  </tbody>\n",
       "</table>\n",
       "</div>"
      ],
      "text/plain": [
       "                                            Job Title  \\\n",
       "0   Excellent Opportunity For Freshers For AI/ML, ...   \n",
       "1                                 Data Scientist _NLP   \n",
       "2    Junior Data Analyst/ Scientist- Fresher Position   \n",
       "3       Open Project | IT Consulting | Data Scientist   \n",
       "4                                      Data Scientist   \n",
       "5                                      Data Scientist   \n",
       "6                                      Data Scientist   \n",
       "7                  Data Scientist-Onsite and offshore   \n",
       "8                            Data & Applied Scientist   \n",
       "9                          Data and applied Scientist   \n",
       "10                                     Data Scientist   \n",
       "11                                     Data Scientist   \n",
       "12            Data Preparation Analyst / Sr . Analyst   \n",
       "13                                Senior Data Analyst   \n",
       "14   Hiring For Data Analyst (SQL & Scala) || Coforge   \n",
       "15                         Data Analyst/Data Engineer   \n",
       "16  Urgent Opening For Data Engineer and Senior Da...   \n",
       "17  Data Analyst- 6-9 Years- Pan India-Permanent p...   \n",
       "18  Opportunity with Deloitte India | GCP - Data E...   \n",
       "19   Fresher Data Engineer with Pentaho Certification   \n",
       "\n",
       "                                       Company Name  \\\n",
       "0                                          NTT Data   \n",
       "1                                               EXL   \n",
       "2                              Sejal Consulting Hub   \n",
       "3               Virtuoso Staffing Solutions Pvt Ltd   \n",
       "4                                         BlackBuck   \n",
       "5                                    Country Veggie   \n",
       "6                    NAVIKENZ INDIA PRIVATE LIMITED   \n",
       "7                                        PROKXIMITY   \n",
       "8                                         Microsoft   \n",
       "9                                         Microsoft   \n",
       "10                           Alp Consulting Limited   \n",
       "11                                        SpotDraft   \n",
       "12                                           Xpheno   \n",
       "13                                    Urban Company   \n",
       "14                                          Coforge   \n",
       "15                                          Coforge   \n",
       "16                           FCS Software Solutions   \n",
       "17                                          Virtusa   \n",
       "18                                         Deloitte   \n",
       "19  PARAMOUNT HEALTH SERVICES INSURANCE TPA PRIVATE   \n",
       "\n",
       "                                     Company Loaction Experience  \n",
       "0   Noida, Kolkata, Hyderabad/Secunderabad, Pune, ...    0-0 Yrs  \n",
       "1   Bangalore/Bengaluru, Delhi / NCR\\n(WFH during ...    3-8 Yrs  \n",
       "2   Kolkata, Hyderabad/Secunderabad, Pune, Ahmedab...    0-3 Yrs  \n",
       "3   Noida, New Delhi, Bangalore Rural, Bangalore/B...   5-10 Yrs  \n",
       "4                                  Gurgaon, Bengaluru    3-7 Yrs  \n",
       "5   Bharuch, Jaipur, Bhopal, Mumbai, Jhansi, Nagpu...    1-3 Yrs  \n",
       "6   Hyderabad/Secunderabad, Bangalore/Bengaluru, D...    2-5 Yrs  \n",
       "7   Hyderabad/Secunderabad, Pune, Chennai, Bangalo...    3-8 Yrs  \n",
       "8   Noida, Hyderabad/Secunderabad, Bangalore/Benga...    3-7 Yrs  \n",
       "9   Noida, Hyderabad/Secunderabad, Bangalore/Benga...    3-7 Yrs  \n",
       "10  Kolkata, Hyderabad/Secunderabad, Pune, Chennai...    1-6 Yrs  \n",
       "11              Gurgaon/Gurugram, Bangalore/Bengaluru    1-5 Yrs  \n",
       "12              Gurgaon/Gurugram, Bangalore/Bengaluru   6-11 Yrs  \n",
       "13              Gurgaon/Gurugram, Bangalore/Bengaluru    2-4 Yrs  \n",
       "14  Mumbai, Bangalore/Bengaluru, Greater Noida\\n(W...    4-8 Yrs  \n",
       "15  Noida, Mumbai, Hyderabad/Secunderabad, Pune, B...   6-10 Yrs  \n",
       "16  New Delhi, Hyderabad/Secunderabad, Pune, Ahmed...    3-8 Yrs  \n",
       "17  Mumbai, Hyderabad/Secunderabad, Chennai, Banga...    6-9 Yrs  \n",
       "18  Kolkata, Hyderabad/Secunderabad, Pune, Bangalo...    2-6 Yrs  \n",
       "19  Thane, Navi Mumbai, Pune, Ahmedabad, Bangalore...    0-1 Yrs  "
      ]
     },
     "execution_count": 44,
     "metadata": {},
     "output_type": "execute_result"
    }
   ],
   "source": [
    "job2=pd.DataFrame()\n",
    "job2['Job Title']=job_titles2\n",
    "job2['Company Name']=company_titles2\n",
    "job2['Company Loaction']=company_location2\n",
    "job2['Experience']=company_experience2\n",
    "job2"
   ]
  },
  {
   "cell_type": "markdown",
   "id": "664da143",
   "metadata": {},
   "source": [
    "## Q 4 : Scrape data of first 100 sunglasses listings on flipkart.com."
   ]
  },
  {
   "cell_type": "markdown",
   "id": "42a315b3",
   "metadata": {},
   "source": [
    "Login into the website"
   ]
  },
  {
   "cell_type": "code",
   "execution_count": 73,
   "id": "a738c0fc",
   "metadata": {},
   "outputs": [],
   "source": [
    "url = 'https://www.flipkart.com/'\n",
    "driver.get(url)"
   ]
  },
  {
   "cell_type": "code",
   "execution_count": 74,
   "id": "1b862078",
   "metadata": {},
   "outputs": [
    {
     "data": {
      "text/plain": [
       "<selenium.webdriver.remote.webelement.WebElement (session=\"4afacaaf1443d61299bd4eec2a00ee93\", element=\"d986dd18-a4bf-47dc-9ede-05815d953505\")>"
      ]
     },
     "execution_count": 74,
     "metadata": {},
     "output_type": "execute_result"
    }
   ],
   "source": [
    "search_Product = driver.find_element_by_class_name(\"_3704LK\")\n",
    "search_Product"
   ]
  },
  {
   "cell_type": "code",
   "execution_count": 75,
   "id": "1612286a",
   "metadata": {},
   "outputs": [],
   "source": [
    "search_Product.send_keys(\"Sunglasses\")"
   ]
  },
  {
   "cell_type": "code",
   "execution_count": 76,
   "id": "926d818c",
   "metadata": {},
   "outputs": [
    {
     "data": {
      "text/plain": [
       "<selenium.webdriver.remote.webelement.WebElement (session=\"4afacaaf1443d61299bd4eec2a00ee93\", element=\"47d5c8dc-da9b-43a9-a18a-b8c1b517a502\")>"
      ]
     },
     "execution_count": 76,
     "metadata": {},
     "output_type": "execute_result"
    }
   ],
   "source": [
    "search_btn3 = driver.find_element_by_xpath('/html/body/div[1]/div/div[1]/div[1]/div[2]/div[2]/form/div/button')\n",
    "search_btn3"
   ]
  },
  {
   "cell_type": "code",
   "execution_count": 79,
   "id": "8c53207b",
   "metadata": {},
   "outputs": [],
   "source": [
    "search_btn3.click()"
   ]
  },
  {
   "cell_type": "markdown",
   "id": "f8bcdbcf",
   "metadata": {},
   "source": [
    "Sunglass Brands "
   ]
  },
  {
   "cell_type": "code",
   "execution_count": 80,
   "id": "25a94caa",
   "metadata": {},
   "outputs": [
    {
     "data": {
      "text/plain": [
       "[<selenium.webdriver.remote.webelement.WebElement (session=\"4afacaaf1443d61299bd4eec2a00ee93\", element=\"1cdf2106-984c-4bfd-bd2d-b5e2b4d1600c\")>,\n",
       " <selenium.webdriver.remote.webelement.WebElement (session=\"4afacaaf1443d61299bd4eec2a00ee93\", element=\"c924e870-a5ab-4a73-a76a-7d6c258bda75\")>,\n",
       " <selenium.webdriver.remote.webelement.WebElement (session=\"4afacaaf1443d61299bd4eec2a00ee93\", element=\"686537e3-f571-4598-8b44-183632b6c36c\")>,\n",
       " <selenium.webdriver.remote.webelement.WebElement (session=\"4afacaaf1443d61299bd4eec2a00ee93\", element=\"5067d05a-cb03-46aa-b04e-034d6fb4fa5c\")>,\n",
       " <selenium.webdriver.remote.webelement.WebElement (session=\"4afacaaf1443d61299bd4eec2a00ee93\", element=\"e42513c5-8608-4220-9996-7fcd6b1fb4c6\")>,\n",
       " <selenium.webdriver.remote.webelement.WebElement (session=\"4afacaaf1443d61299bd4eec2a00ee93\", element=\"2574ebcd-1f4e-4555-82b1-5088b2ea1d95\")>,\n",
       " <selenium.webdriver.remote.webelement.WebElement (session=\"4afacaaf1443d61299bd4eec2a00ee93\", element=\"7cecabf4-46e2-4ae3-ae59-6c8a653a9b7b\")>,\n",
       " <selenium.webdriver.remote.webelement.WebElement (session=\"4afacaaf1443d61299bd4eec2a00ee93\", element=\"50111389-4584-4328-b292-527fce85a9bb\")>,\n",
       " <selenium.webdriver.remote.webelement.WebElement (session=\"4afacaaf1443d61299bd4eec2a00ee93\", element=\"5b39ada5-fc7a-4a2a-ac3d-7fc21a2dfdbb\")>,\n",
       " <selenium.webdriver.remote.webelement.WebElement (session=\"4afacaaf1443d61299bd4eec2a00ee93\", element=\"5c4b9054-2718-4e89-9076-196521a4172c\")>,\n",
       " <selenium.webdriver.remote.webelement.WebElement (session=\"4afacaaf1443d61299bd4eec2a00ee93\", element=\"6c19cd1f-0305-4a9a-b562-2a5aa85d69b6\")>,\n",
       " <selenium.webdriver.remote.webelement.WebElement (session=\"4afacaaf1443d61299bd4eec2a00ee93\", element=\"300f71f1-cc05-42c3-9e46-3c2c50725398\")>,\n",
       " <selenium.webdriver.remote.webelement.WebElement (session=\"4afacaaf1443d61299bd4eec2a00ee93\", element=\"5dc8fcc8-e652-4f73-a037-0bd3c157b7d1\")>,\n",
       " <selenium.webdriver.remote.webelement.WebElement (session=\"4afacaaf1443d61299bd4eec2a00ee93\", element=\"d05facbc-c8b1-4583-9051-cefb77a22c0c\")>,\n",
       " <selenium.webdriver.remote.webelement.WebElement (session=\"4afacaaf1443d61299bd4eec2a00ee93\", element=\"0b59332c-891b-46ea-881b-be978756db63\")>,\n",
       " <selenium.webdriver.remote.webelement.WebElement (session=\"4afacaaf1443d61299bd4eec2a00ee93\", element=\"fe986bd4-c106-4fee-8877-477ccd71ae84\")>,\n",
       " <selenium.webdriver.remote.webelement.WebElement (session=\"4afacaaf1443d61299bd4eec2a00ee93\", element=\"2271bbc2-743e-46dd-b62b-400a42951c7e\")>,\n",
       " <selenium.webdriver.remote.webelement.WebElement (session=\"4afacaaf1443d61299bd4eec2a00ee93\", element=\"acd1fe65-f9e9-41eb-88c1-bfd4a24bc830\")>,\n",
       " <selenium.webdriver.remote.webelement.WebElement (session=\"4afacaaf1443d61299bd4eec2a00ee93\", element=\"2a41624a-904f-47ac-9320-6f49ccd5b3b8\")>,\n",
       " <selenium.webdriver.remote.webelement.WebElement (session=\"4afacaaf1443d61299bd4eec2a00ee93\", element=\"83de8962-668a-417a-9ee6-b2e61a4b209b\")>,\n",
       " <selenium.webdriver.remote.webelement.WebElement (session=\"4afacaaf1443d61299bd4eec2a00ee93\", element=\"f5d359ad-c522-4096-95be-3fcdf45135b3\")>,\n",
       " <selenium.webdriver.remote.webelement.WebElement (session=\"4afacaaf1443d61299bd4eec2a00ee93\", element=\"c0d368f5-6f46-4088-b633-05a0f1722bfc\")>,\n",
       " <selenium.webdriver.remote.webelement.WebElement (session=\"4afacaaf1443d61299bd4eec2a00ee93\", element=\"1cf36236-2579-447f-96ea-ac673190b90b\")>,\n",
       " <selenium.webdriver.remote.webelement.WebElement (session=\"4afacaaf1443d61299bd4eec2a00ee93\", element=\"a42a768d-f0d8-4767-8206-099d434d1614\")>,\n",
       " <selenium.webdriver.remote.webelement.WebElement (session=\"4afacaaf1443d61299bd4eec2a00ee93\", element=\"a0f8b02e-115c-4351-b269-d7d8d1b688e2\")>,\n",
       " <selenium.webdriver.remote.webelement.WebElement (session=\"4afacaaf1443d61299bd4eec2a00ee93\", element=\"9c7aab26-2ad8-499e-8fb9-3cd0ad1f283e\")>,\n",
       " <selenium.webdriver.remote.webelement.WebElement (session=\"4afacaaf1443d61299bd4eec2a00ee93\", element=\"407760d5-9c38-4fda-9df2-1c2484c2a1c0\")>,\n",
       " <selenium.webdriver.remote.webelement.WebElement (session=\"4afacaaf1443d61299bd4eec2a00ee93\", element=\"9640b5b5-c440-4e03-8a03-19faef741f6e\")>,\n",
       " <selenium.webdriver.remote.webelement.WebElement (session=\"4afacaaf1443d61299bd4eec2a00ee93\", element=\"314ab9b3-f56e-4a82-8014-ef2a0e885fc0\")>,\n",
       " <selenium.webdriver.remote.webelement.WebElement (session=\"4afacaaf1443d61299bd4eec2a00ee93\", element=\"73b93141-cc27-47d6-af28-a9c392b9fbf1\")>,\n",
       " <selenium.webdriver.remote.webelement.WebElement (session=\"4afacaaf1443d61299bd4eec2a00ee93\", element=\"f121aa89-fdf1-4e8c-8433-5865f2cd58c1\")>,\n",
       " <selenium.webdriver.remote.webelement.WebElement (session=\"4afacaaf1443d61299bd4eec2a00ee93\", element=\"8ddc968b-3602-4b8e-bd23-860253dd25c7\")>,\n",
       " <selenium.webdriver.remote.webelement.WebElement (session=\"4afacaaf1443d61299bd4eec2a00ee93\", element=\"52e8b397-3fe5-4070-863c-833c5a4e53ba\")>,\n",
       " <selenium.webdriver.remote.webelement.WebElement (session=\"4afacaaf1443d61299bd4eec2a00ee93\", element=\"a8c4dc6b-8079-4b7e-a872-c6f3f6905977\")>,\n",
       " <selenium.webdriver.remote.webelement.WebElement (session=\"4afacaaf1443d61299bd4eec2a00ee93\", element=\"27d982bb-7637-4ac2-89c0-246b8e7f26d9\")>,\n",
       " <selenium.webdriver.remote.webelement.WebElement (session=\"4afacaaf1443d61299bd4eec2a00ee93\", element=\"aec04dfe-c933-47bc-b677-0a20683b5ec6\")>,\n",
       " <selenium.webdriver.remote.webelement.WebElement (session=\"4afacaaf1443d61299bd4eec2a00ee93\", element=\"b7d020ac-5533-4efc-bc01-e15f2d406a5b\")>,\n",
       " <selenium.webdriver.remote.webelement.WebElement (session=\"4afacaaf1443d61299bd4eec2a00ee93\", element=\"3d5b8b12-fb4d-418a-bd68-e5f9a913f0f7\")>,\n",
       " <selenium.webdriver.remote.webelement.WebElement (session=\"4afacaaf1443d61299bd4eec2a00ee93\", element=\"cf94d734-12ac-458e-9ef5-6ac9b43128ee\")>,\n",
       " <selenium.webdriver.remote.webelement.WebElement (session=\"4afacaaf1443d61299bd4eec2a00ee93\", element=\"5d7e6ae9-0e00-496a-9c7d-368d24e7f9ac\")>]"
      ]
     },
     "execution_count": 80,
     "metadata": {},
     "output_type": "execute_result"
    }
   ],
   "source": [
    "Brand_tags=driver.find_elements_by_xpath('//div[@class=\"_2WkVRV\"]')\n",
    "len(Brand_tags)\n",
    "Brand_tags"
   ]
  },
  {
   "cell_type": "code",
   "execution_count": 81,
   "id": "027ec285",
   "metadata": {},
   "outputs": [
    {
     "data": {
      "text/plain": [
       "['VINCENT CHASE',\n",
       " 'VINCENT CHASE',\n",
       " 'SRPM',\n",
       " 'SUNBEE',\n",
       " 'PIRASO',\n",
       " 'Elligator',\n",
       " 'PIRASO',\n",
       " 'ROZZETTA CRAFT',\n",
       " 'DEIXELS',\n",
       " 'SHAAH COLLECTIONS',\n",
       " 'New Specs',\n",
       " 'VINCENT CHASE',\n",
       " 'Fastrack',\n",
       " 'GANSTA',\n",
       " 'PIRASO',\n",
       " 'VINCENT CHASE',\n",
       " 'Lee Topper',\n",
       " 'Fastrack',\n",
       " 'ROZZETTA CRAFT',\n",
       " 'VINCENT CHASE',\n",
       " 'Fastrack',\n",
       " 'SRPM',\n",
       " 'kingsunglasses',\n",
       " 'Singco India',\n",
       " 'SUNBEE',\n",
       " 'PIRASO',\n",
       " 'kingsunglasses',\n",
       " 'povty',\n",
       " 'Silver Kartz',\n",
       " 'PHENOMENAL',\n",
       " 'ROYAL SON',\n",
       " 'VINCENT CHASE',\n",
       " 'Lee Topper',\n",
       " 'kingsunglasses',\n",
       " 'kingsunglasses',\n",
       " 'ROZZETTA CRAFT',\n",
       " 'SRPM',\n",
       " 'Fastrack',\n",
       " 'SHAAH COLLECTIONS',\n",
       " 'ROZZETTA CRAFT']"
      ]
     },
     "execution_count": 81,
     "metadata": {},
     "output_type": "execute_result"
    }
   ],
   "source": [
    "Brand_titles=[]\n",
    "\n",
    "for i in Brand_tags:\n",
    "    Brand_titles.append(i.text)\n",
    "    \n",
    "len(Brand_titles)\n",
    "Brand_titles"
   ]
  },
  {
   "cell_type": "markdown",
   "id": "dace614e",
   "metadata": {},
   "source": [
    "Sunglass Product Description"
   ]
  },
  {
   "cell_type": "code",
   "execution_count": 82,
   "id": "26e8cb45",
   "metadata": {},
   "outputs": [
    {
     "data": {
      "text/plain": [
       "[<selenium.webdriver.remote.webelement.WebElement (session=\"4afacaaf1443d61299bd4eec2a00ee93\", element=\"8df33ea0-5d8d-4f9c-8209-9059cf734721\")>,\n",
       " <selenium.webdriver.remote.webelement.WebElement (session=\"4afacaaf1443d61299bd4eec2a00ee93\", element=\"e1a59098-fb1d-4156-b1e6-d068124c5ecd\")>,\n",
       " <selenium.webdriver.remote.webelement.WebElement (session=\"4afacaaf1443d61299bd4eec2a00ee93\", element=\"5bfc67ca-370a-482b-bb83-596503a3e37f\")>,\n",
       " <selenium.webdriver.remote.webelement.WebElement (session=\"4afacaaf1443d61299bd4eec2a00ee93\", element=\"0ec0acbd-37b0-4b5f-82f5-a1d131b2af9a\")>,\n",
       " <selenium.webdriver.remote.webelement.WebElement (session=\"4afacaaf1443d61299bd4eec2a00ee93\", element=\"0bfac594-bbf5-4c42-99f2-21f346713638\")>,\n",
       " <selenium.webdriver.remote.webelement.WebElement (session=\"4afacaaf1443d61299bd4eec2a00ee93\", element=\"81008930-0596-4a82-8058-d5991a26e2e4\")>,\n",
       " <selenium.webdriver.remote.webelement.WebElement (session=\"4afacaaf1443d61299bd4eec2a00ee93\", element=\"b92438f1-449d-48bc-95cb-9a94de4fd0e9\")>,\n",
       " <selenium.webdriver.remote.webelement.WebElement (session=\"4afacaaf1443d61299bd4eec2a00ee93\", element=\"b47a4ef7-6131-4bd9-9ea4-7002dd7ccb36\")>,\n",
       " <selenium.webdriver.remote.webelement.WebElement (session=\"4afacaaf1443d61299bd4eec2a00ee93\", element=\"b421a7f0-1e17-424e-93a2-856c7f605c63\")>,\n",
       " <selenium.webdriver.remote.webelement.WebElement (session=\"4afacaaf1443d61299bd4eec2a00ee93\", element=\"ee5abc7f-edec-44f4-929d-f4489290adf9\")>,\n",
       " <selenium.webdriver.remote.webelement.WebElement (session=\"4afacaaf1443d61299bd4eec2a00ee93\", element=\"cf6dbe44-0ae5-4722-b28e-202d758f60e5\")>,\n",
       " <selenium.webdriver.remote.webelement.WebElement (session=\"4afacaaf1443d61299bd4eec2a00ee93\", element=\"ea51ec89-84f9-47cc-81cc-6c86756bd591\")>,\n",
       " <selenium.webdriver.remote.webelement.WebElement (session=\"4afacaaf1443d61299bd4eec2a00ee93\", element=\"72aa209c-44f6-4f41-a9c6-dc84039770d2\")>,\n",
       " <selenium.webdriver.remote.webelement.WebElement (session=\"4afacaaf1443d61299bd4eec2a00ee93\", element=\"55ffb9f8-9508-46a2-b3af-2c955c88ace4\")>,\n",
       " <selenium.webdriver.remote.webelement.WebElement (session=\"4afacaaf1443d61299bd4eec2a00ee93\", element=\"f8d2f856-4389-497f-9d74-a1b6170b11f1\")>,\n",
       " <selenium.webdriver.remote.webelement.WebElement (session=\"4afacaaf1443d61299bd4eec2a00ee93\", element=\"4c3a8fbd-20ed-42ab-a1ee-8a2bdc579858\")>,\n",
       " <selenium.webdriver.remote.webelement.WebElement (session=\"4afacaaf1443d61299bd4eec2a00ee93\", element=\"69f0c340-825f-4a0b-9b72-1532078b41ff\")>,\n",
       " <selenium.webdriver.remote.webelement.WebElement (session=\"4afacaaf1443d61299bd4eec2a00ee93\", element=\"2db70196-8d8a-489e-b738-817ecc81cdd4\")>,\n",
       " <selenium.webdriver.remote.webelement.WebElement (session=\"4afacaaf1443d61299bd4eec2a00ee93\", element=\"c7d76985-b9dc-4301-967e-422d12de12bd\")>,\n",
       " <selenium.webdriver.remote.webelement.WebElement (session=\"4afacaaf1443d61299bd4eec2a00ee93\", element=\"76f2d79c-a3df-412f-9403-0f47fe83dcfe\")>,\n",
       " <selenium.webdriver.remote.webelement.WebElement (session=\"4afacaaf1443d61299bd4eec2a00ee93\", element=\"46be9aaa-fd05-40f0-86f3-67e03b4ef85a\")>,\n",
       " <selenium.webdriver.remote.webelement.WebElement (session=\"4afacaaf1443d61299bd4eec2a00ee93\", element=\"535c8677-f39b-4225-954b-0b2a7d2e466e\")>,\n",
       " <selenium.webdriver.remote.webelement.WebElement (session=\"4afacaaf1443d61299bd4eec2a00ee93\", element=\"4cf6baf8-f128-4d5b-8a5b-f4a6d5217412\")>,\n",
       " <selenium.webdriver.remote.webelement.WebElement (session=\"4afacaaf1443d61299bd4eec2a00ee93\", element=\"bca4d78a-96d5-482d-bdc4-2fe5bdd9197a\")>,\n",
       " <selenium.webdriver.remote.webelement.WebElement (session=\"4afacaaf1443d61299bd4eec2a00ee93\", element=\"ceccc8cb-a593-4dc9-9d37-d7e813011121\")>,\n",
       " <selenium.webdriver.remote.webelement.WebElement (session=\"4afacaaf1443d61299bd4eec2a00ee93\", element=\"1c725960-e5d4-4af5-a3d1-2ec79fdfcf77\")>,\n",
       " <selenium.webdriver.remote.webelement.WebElement (session=\"4afacaaf1443d61299bd4eec2a00ee93\", element=\"6a317771-7d8a-427b-80d9-4b247455b28c\")>,\n",
       " <selenium.webdriver.remote.webelement.WebElement (session=\"4afacaaf1443d61299bd4eec2a00ee93\", element=\"92325be4-b266-4e5f-bd2f-c34454193fe8\")>,\n",
       " <selenium.webdriver.remote.webelement.WebElement (session=\"4afacaaf1443d61299bd4eec2a00ee93\", element=\"1934bae2-9e72-4f64-a92b-ddadb565e4d1\")>,\n",
       " <selenium.webdriver.remote.webelement.WebElement (session=\"4afacaaf1443d61299bd4eec2a00ee93\", element=\"2f3a6aa7-abaa-47fc-ae0e-959046404121\")>,\n",
       " <selenium.webdriver.remote.webelement.WebElement (session=\"4afacaaf1443d61299bd4eec2a00ee93\", element=\"8a8d8f24-c7f8-4a56-9117-41e755704a29\")>,\n",
       " <selenium.webdriver.remote.webelement.WebElement (session=\"4afacaaf1443d61299bd4eec2a00ee93\", element=\"df12669a-52dc-4496-b9e0-d579e8c85a75\")>,\n",
       " <selenium.webdriver.remote.webelement.WebElement (session=\"4afacaaf1443d61299bd4eec2a00ee93\", element=\"613ef24b-31f0-4806-976f-b2d1a74cd41a\")>,\n",
       " <selenium.webdriver.remote.webelement.WebElement (session=\"4afacaaf1443d61299bd4eec2a00ee93\", element=\"8c5b934f-beb9-4da6-a667-b75ec2db17d4\")>,\n",
       " <selenium.webdriver.remote.webelement.WebElement (session=\"4afacaaf1443d61299bd4eec2a00ee93\", element=\"f167f899-4a20-4e9c-91f7-5563765914f3\")>,\n",
       " <selenium.webdriver.remote.webelement.WebElement (session=\"4afacaaf1443d61299bd4eec2a00ee93\", element=\"4073538c-e2d1-41f2-93e2-91a54ec5a0c2\")>,\n",
       " <selenium.webdriver.remote.webelement.WebElement (session=\"4afacaaf1443d61299bd4eec2a00ee93\", element=\"0f9c2cf7-670e-4582-bc22-f1aa864fddfc\")>,\n",
       " <selenium.webdriver.remote.webelement.WebElement (session=\"4afacaaf1443d61299bd4eec2a00ee93\", element=\"e73658da-f0b8-49a8-92ed-42428ac6e838\")>,\n",
       " <selenium.webdriver.remote.webelement.WebElement (session=\"4afacaaf1443d61299bd4eec2a00ee93\", element=\"11ed2351-f2aa-465a-984d-cd189e84df81\")>,\n",
       " <selenium.webdriver.remote.webelement.WebElement (session=\"4afacaaf1443d61299bd4eec2a00ee93\", element=\"1ac5038a-c94d-4fc7-995d-1a519feb7d1a\")>]"
      ]
     },
     "execution_count": 82,
     "metadata": {},
     "output_type": "execute_result"
    }
   ],
   "source": [
    "Product_tags=driver.find_elements_by_xpath('//a[@class=\"IRpwTa\"]')\n",
    "len(Product_tags)\n",
    "Product_tags"
   ]
  },
  {
   "cell_type": "code",
   "execution_count": 83,
   "id": "f8d3ea8c",
   "metadata": {},
   "outputs": [
    {
     "data": {
      "text/plain": [
       "['by Lenskart Polarized, UV Protection Wayfarer Sunglasse...',\n",
       " 'by Lenskart Polarized, UV Protection Round Sunglasses (...',\n",
       " 'UV Protection Wayfarer Sunglasses (50)',\n",
       " 'UV Protection, Polarized Wayfarer Sunglasses (Free Size...',\n",
       " 'UV Protection Aviator Sunglasses (54)',\n",
       " 'UV Protection Round Sunglasses (54)',\n",
       " 'UV Protection Aviator Sunglasses (54)',\n",
       " 'UV Protection, Gradient Rectangular Sunglasses (Free Si...',\n",
       " 'UV Protection Aviator, Wayfarer Sunglasses (Free Size)',\n",
       " 'UV Protection, Polarized, Mirrored Rectangular Sunglass...',\n",
       " 'UV Protection Rectangular Sunglasses (Free Size)',\n",
       " 'by Lenskart Polarized, UV Protection Cat-eye Sunglasses...',\n",
       " 'UV Protection Rectangular Sunglasses (Free Size)',\n",
       " 'UV Protection, Riding Glasses Wayfarer Sunglasses (53)',\n",
       " 'UV Protection Aviator Sunglasses (54)',\n",
       " 'by Lenskart Polarized, UV Protection Round Sunglasses (...',\n",
       " 'Riding Glasses Wrap-around Sunglasses (Free Size)',\n",
       " 'Gradient, UV Protection Wayfarer Sunglasses (Free Size)',\n",
       " 'Polarized, Night Vision, Riding Glasses Sports, Wrap-ar...',\n",
       " 'by Lenskart Polarized, UV Protection Round Sunglasses (...',\n",
       " 'UV Protection Wayfarer Sunglasses (Free Size)',\n",
       " 'Others Wayfarer, Retro Square Sunglasses (50)',\n",
       " 'UV Protection, Riding Glasses, Mirrored Wayfarer Sungla...',\n",
       " 'Mirrored, UV Protection, Riding Glasses, Others Wrap-ar...',\n",
       " 'UV Protection, Polarized, Mirrored Round Sunglasses (Fr...',\n",
       " 'UV Protection Wayfarer Sunglasses (55)',\n",
       " 'UV Protection Round Sunglasses (54)',\n",
       " 'UV Protection Retro Square Sunglasses (Free Size)',\n",
       " 'UV Protection Wayfarer Sunglasses (Free Size)',\n",
       " 'UV Protection Retro Square Sunglasses (53)',\n",
       " 'Mirrored Aviator Sunglasses (55)',\n",
       " 'by Lenskart Polarized, UV Protection Wayfarer Sunglasse...',\n",
       " 'UV Protection Rectangular Sunglasses (Free Size)',\n",
       " 'Mirrored, UV Protection Wayfarer Sunglasses (Free Size)',\n",
       " 'UV Protection Round Sunglasses (Free Size)',\n",
       " 'Polarized, UV Protection Aviator Sunglasses (Free Size)',\n",
       " 'UV Protection Wayfarer Sunglasses (53)',\n",
       " 'Polarized Retro Square Sunglasses (Free Size)',\n",
       " 'UV Protection, Polarized, Mirrored Rectangular Sunglass...',\n",
       " 'UV Protection, Gradient Retro Square Sunglasses (Free S...']"
      ]
     },
     "execution_count": 83,
     "metadata": {},
     "output_type": "execute_result"
    }
   ],
   "source": [
    "Product_titles=[]\n",
    "\n",
    "for i in Product_tags:\n",
    "    Product_titles.append(i.text)\n",
    "    \n",
    "len(Product_titles)\n",
    "Product_titles"
   ]
  },
  {
   "cell_type": "markdown",
   "id": "8fe3e55c",
   "metadata": {},
   "source": [
    "Sunglasses Price"
   ]
  },
  {
   "cell_type": "code",
   "execution_count": 84,
   "id": "643a76a8",
   "metadata": {},
   "outputs": [
    {
     "data": {
      "text/plain": [
       "[<selenium.webdriver.remote.webelement.WebElement (session=\"4afacaaf1443d61299bd4eec2a00ee93\", element=\"da182a6d-d306-45e1-8437-5f61949a3684\")>,\n",
       " <selenium.webdriver.remote.webelement.WebElement (session=\"4afacaaf1443d61299bd4eec2a00ee93\", element=\"c02675a4-6263-4775-9c84-4e69dba26c74\")>,\n",
       " <selenium.webdriver.remote.webelement.WebElement (session=\"4afacaaf1443d61299bd4eec2a00ee93\", element=\"b6590eff-bd0e-40d2-a3b0-5247105592a9\")>,\n",
       " <selenium.webdriver.remote.webelement.WebElement (session=\"4afacaaf1443d61299bd4eec2a00ee93\", element=\"ad7865e9-c77d-4abb-a738-71910208369a\")>,\n",
       " <selenium.webdriver.remote.webelement.WebElement (session=\"4afacaaf1443d61299bd4eec2a00ee93\", element=\"23fc1cbe-e845-4203-a9f9-88d41774f725\")>,\n",
       " <selenium.webdriver.remote.webelement.WebElement (session=\"4afacaaf1443d61299bd4eec2a00ee93\", element=\"d7a67986-0296-47fa-a2b3-069e508391d3\")>,\n",
       " <selenium.webdriver.remote.webelement.WebElement (session=\"4afacaaf1443d61299bd4eec2a00ee93\", element=\"64f5f889-baee-4ccf-82f0-e93a76ee1814\")>,\n",
       " <selenium.webdriver.remote.webelement.WebElement (session=\"4afacaaf1443d61299bd4eec2a00ee93\", element=\"e0123fb0-1630-44c0-8ee6-3cbeb24fd45e\")>,\n",
       " <selenium.webdriver.remote.webelement.WebElement (session=\"4afacaaf1443d61299bd4eec2a00ee93\", element=\"2509e60a-d3ba-41d9-9e13-72b61be9960c\")>,\n",
       " <selenium.webdriver.remote.webelement.WebElement (session=\"4afacaaf1443d61299bd4eec2a00ee93\", element=\"b917c995-55db-48ff-be03-e8fe761d1468\")>,\n",
       " <selenium.webdriver.remote.webelement.WebElement (session=\"4afacaaf1443d61299bd4eec2a00ee93\", element=\"82f19395-2469-4df5-8929-76359d397d59\")>,\n",
       " <selenium.webdriver.remote.webelement.WebElement (session=\"4afacaaf1443d61299bd4eec2a00ee93\", element=\"3d693896-fd1e-4ffb-9a31-05a230f194ee\")>,\n",
       " <selenium.webdriver.remote.webelement.WebElement (session=\"4afacaaf1443d61299bd4eec2a00ee93\", element=\"b0ffa9e6-b90a-45a5-88e9-eb0900c0d41a\")>,\n",
       " <selenium.webdriver.remote.webelement.WebElement (session=\"4afacaaf1443d61299bd4eec2a00ee93\", element=\"c78b038a-3be3-456e-b919-269af2c29540\")>,\n",
       " <selenium.webdriver.remote.webelement.WebElement (session=\"4afacaaf1443d61299bd4eec2a00ee93\", element=\"cc4d0842-7339-4e0b-aea2-d1014485f33c\")>,\n",
       " <selenium.webdriver.remote.webelement.WebElement (session=\"4afacaaf1443d61299bd4eec2a00ee93\", element=\"93f9feb1-8dbd-44ce-b0fb-f7d649b71bc9\")>,\n",
       " <selenium.webdriver.remote.webelement.WebElement (session=\"4afacaaf1443d61299bd4eec2a00ee93\", element=\"b682f0a6-4c32-4552-8975-f3c2a8015f13\")>,\n",
       " <selenium.webdriver.remote.webelement.WebElement (session=\"4afacaaf1443d61299bd4eec2a00ee93\", element=\"10368cae-f1f0-45d4-8af0-55120c11c419\")>,\n",
       " <selenium.webdriver.remote.webelement.WebElement (session=\"4afacaaf1443d61299bd4eec2a00ee93\", element=\"e5d46487-114d-404f-9766-32101f92bae9\")>,\n",
       " <selenium.webdriver.remote.webelement.WebElement (session=\"4afacaaf1443d61299bd4eec2a00ee93\", element=\"b185192c-4980-4c5e-8889-ce437c64a8c9\")>,\n",
       " <selenium.webdriver.remote.webelement.WebElement (session=\"4afacaaf1443d61299bd4eec2a00ee93\", element=\"a16c8867-d5bb-4bad-9dc4-60685ee6be21\")>,\n",
       " <selenium.webdriver.remote.webelement.WebElement (session=\"4afacaaf1443d61299bd4eec2a00ee93\", element=\"1c4e6b3b-671e-4344-9328-4639194268b0\")>,\n",
       " <selenium.webdriver.remote.webelement.WebElement (session=\"4afacaaf1443d61299bd4eec2a00ee93\", element=\"c303af1a-c504-480f-97f9-084d825e5e00\")>,\n",
       " <selenium.webdriver.remote.webelement.WebElement (session=\"4afacaaf1443d61299bd4eec2a00ee93\", element=\"e118bb16-97ed-489d-b553-40f0b4250465\")>,\n",
       " <selenium.webdriver.remote.webelement.WebElement (session=\"4afacaaf1443d61299bd4eec2a00ee93\", element=\"6c6bfdce-39f2-493a-a40a-e7cd450540d9\")>,\n",
       " <selenium.webdriver.remote.webelement.WebElement (session=\"4afacaaf1443d61299bd4eec2a00ee93\", element=\"730ca922-cb0e-4920-b1ac-f546b2611508\")>,\n",
       " <selenium.webdriver.remote.webelement.WebElement (session=\"4afacaaf1443d61299bd4eec2a00ee93\", element=\"bbb2d73b-383a-4775-b106-4a87731c7aab\")>,\n",
       " <selenium.webdriver.remote.webelement.WebElement (session=\"4afacaaf1443d61299bd4eec2a00ee93\", element=\"c04484fe-3fe4-4edc-a9a2-264794e67fc4\")>,\n",
       " <selenium.webdriver.remote.webelement.WebElement (session=\"4afacaaf1443d61299bd4eec2a00ee93\", element=\"34d51a34-3986-419b-b724-93cd7ee9589a\")>,\n",
       " <selenium.webdriver.remote.webelement.WebElement (session=\"4afacaaf1443d61299bd4eec2a00ee93\", element=\"275da192-e2e6-4fcb-a72b-b29519daec80\")>,\n",
       " <selenium.webdriver.remote.webelement.WebElement (session=\"4afacaaf1443d61299bd4eec2a00ee93\", element=\"49167870-6909-493b-b4ee-168d47faa80b\")>,\n",
       " <selenium.webdriver.remote.webelement.WebElement (session=\"4afacaaf1443d61299bd4eec2a00ee93\", element=\"b8b4c5a9-0d19-4e32-9a92-9210d9f36ba3\")>,\n",
       " <selenium.webdriver.remote.webelement.WebElement (session=\"4afacaaf1443d61299bd4eec2a00ee93\", element=\"66ee400f-a9d1-448e-86f1-2973d7f3ade4\")>,\n",
       " <selenium.webdriver.remote.webelement.WebElement (session=\"4afacaaf1443d61299bd4eec2a00ee93\", element=\"79a31f57-1ff6-4455-9590-7dc8f3ac7efc\")>,\n",
       " <selenium.webdriver.remote.webelement.WebElement (session=\"4afacaaf1443d61299bd4eec2a00ee93\", element=\"cecd6835-c75e-4639-87c8-8b58d32ab611\")>,\n",
       " <selenium.webdriver.remote.webelement.WebElement (session=\"4afacaaf1443d61299bd4eec2a00ee93\", element=\"f007e80d-e2fc-495c-a03f-9fbddd5251da\")>,\n",
       " <selenium.webdriver.remote.webelement.WebElement (session=\"4afacaaf1443d61299bd4eec2a00ee93\", element=\"e1f1ce08-5693-4d06-9278-7f2c3a568ac8\")>,\n",
       " <selenium.webdriver.remote.webelement.WebElement (session=\"4afacaaf1443d61299bd4eec2a00ee93\", element=\"a21fdf97-aca0-4375-ae06-c57e0199f954\")>,\n",
       " <selenium.webdriver.remote.webelement.WebElement (session=\"4afacaaf1443d61299bd4eec2a00ee93\", element=\"87234265-1d0e-4034-b3b2-f785ef18ca84\")>,\n",
       " <selenium.webdriver.remote.webelement.WebElement (session=\"4afacaaf1443d61299bd4eec2a00ee93\", element=\"85984305-1a3c-42cc-b746-31cfd640c462\")>]"
      ]
     },
     "execution_count": 84,
     "metadata": {},
     "output_type": "execute_result"
    }
   ],
   "source": [
    "Price_tags=driver.find_elements_by_xpath('//div[@class=\"_30jeq3\"]')\n",
    "len(Price_tags)\n",
    "Price_tags"
   ]
  },
  {
   "cell_type": "code",
   "execution_count": 41,
   "id": "c604a04f",
   "metadata": {},
   "outputs": [
    {
     "data": {
      "text/plain": [
       "['₹749',\n",
       " '₹949',\n",
       " '₹203',\n",
       " '₹208',\n",
       " '₹152',\n",
       " '₹115',\n",
       " '₹175',\n",
       " '₹399',\n",
       " '₹629',\n",
       " '₹175',\n",
       " '₹629',\n",
       " '₹949',\n",
       " '₹225',\n",
       " '₹128',\n",
       " '₹134',\n",
       " '₹799',\n",
       " '₹549',\n",
       " '₹424',\n",
       " '₹183',\n",
       " '₹949',\n",
       " '₹234',\n",
       " '₹329',\n",
       " '₹149',\n",
       " '₹1,299',\n",
       " '₹175',\n",
       " '₹239',\n",
       " '₹170',\n",
       " '₹231',\n",
       " '₹213',\n",
       " '₹139',\n",
       " '₹131',\n",
       " '₹799',\n",
       " '₹299',\n",
       " '₹175',\n",
       " '₹424',\n",
       " '₹249',\n",
       " '₹125',\n",
       " '₹126',\n",
       " '₹108',\n",
       " '₹281']"
      ]
     },
     "execution_count": 41,
     "metadata": {},
     "output_type": "execute_result"
    }
   ],
   "source": [
    "Price_titles=[]\n",
    "\n",
    "for i in Price_tags:\n",
    "    Price_titles.append(i.text)\n",
    "    \n",
    "len(Price_titles)\n",
    "Price_titles"
   ]
  },
  {
   "cell_type": "code",
   "execution_count": 85,
   "id": "69e4c674",
   "metadata": {},
   "outputs": [
    {
     "data": {
      "text/plain": [
       "(40, 40, 120)"
      ]
     },
     "execution_count": 85,
     "metadata": {},
     "output_type": "execute_result"
    }
   ],
   "source": [
    "len(Brand_titles),len(Product_titles),len(Price_titles)"
   ]
  },
  {
   "cell_type": "markdown",
   "id": "78ffeddd",
   "metadata": {},
   "source": [
    "Changing to Next page for more content"
   ]
  },
  {
   "cell_type": "code",
   "execution_count": 86,
   "id": "83e356cf",
   "metadata": {},
   "outputs": [],
   "source": [
    "Page_check=driver.find_element_by_xpath('/html/body/div[1]/div/div[3]/div[1]/div[2]/div[12]/div/div/nav/a[11]')\n",
    "Page_check.click()"
   ]
  },
  {
   "cell_type": "markdown",
   "id": "fa370493",
   "metadata": {},
   "source": [
    "sunglasses brand"
   ]
  },
  {
   "cell_type": "code",
   "execution_count": 87,
   "id": "ce34f1a2",
   "metadata": {},
   "outputs": [
    {
     "data": {
      "text/plain": [
       "[<selenium.webdriver.remote.webelement.WebElement (session=\"4afacaaf1443d61299bd4eec2a00ee93\", element=\"135b41cc-1ec9-4fbc-bee3-45981e396cf3\")>,\n",
       " <selenium.webdriver.remote.webelement.WebElement (session=\"4afacaaf1443d61299bd4eec2a00ee93\", element=\"4e6c1e93-945a-4d93-8050-909fb330062e\")>,\n",
       " <selenium.webdriver.remote.webelement.WebElement (session=\"4afacaaf1443d61299bd4eec2a00ee93\", element=\"484f9ae6-39ff-42c2-ac11-156b9d892570\")>,\n",
       " <selenium.webdriver.remote.webelement.WebElement (session=\"4afacaaf1443d61299bd4eec2a00ee93\", element=\"f11c94d7-2838-4fd2-a806-a743429c4f57\")>,\n",
       " <selenium.webdriver.remote.webelement.WebElement (session=\"4afacaaf1443d61299bd4eec2a00ee93\", element=\"8bfde155-d386-4eda-a05e-b43025df3337\")>,\n",
       " <selenium.webdriver.remote.webelement.WebElement (session=\"4afacaaf1443d61299bd4eec2a00ee93\", element=\"05f60e4a-60ed-4df5-bb42-22b5c2baf5bf\")>,\n",
       " <selenium.webdriver.remote.webelement.WebElement (session=\"4afacaaf1443d61299bd4eec2a00ee93\", element=\"9bcc7228-d976-432c-8841-df4aec6a545e\")>,\n",
       " <selenium.webdriver.remote.webelement.WebElement (session=\"4afacaaf1443d61299bd4eec2a00ee93\", element=\"3ab7c8fe-a9af-4520-9424-4c9ff1f1d772\")>,\n",
       " <selenium.webdriver.remote.webelement.WebElement (session=\"4afacaaf1443d61299bd4eec2a00ee93\", element=\"ce37147e-d54f-4540-8ef7-00c7e7aff14c\")>,\n",
       " <selenium.webdriver.remote.webelement.WebElement (session=\"4afacaaf1443d61299bd4eec2a00ee93\", element=\"51119719-5591-4eda-a99b-036887730aed\")>,\n",
       " <selenium.webdriver.remote.webelement.WebElement (session=\"4afacaaf1443d61299bd4eec2a00ee93\", element=\"5251acbe-9f1a-4043-ae84-db67120ee428\")>,\n",
       " <selenium.webdriver.remote.webelement.WebElement (session=\"4afacaaf1443d61299bd4eec2a00ee93\", element=\"f88d53e0-508c-46ef-90bf-04df7e4db20d\")>,\n",
       " <selenium.webdriver.remote.webelement.WebElement (session=\"4afacaaf1443d61299bd4eec2a00ee93\", element=\"ef610338-5bdc-4899-a103-0d629227cef8\")>,\n",
       " <selenium.webdriver.remote.webelement.WebElement (session=\"4afacaaf1443d61299bd4eec2a00ee93\", element=\"a2f3da5f-50d7-4a73-91a6-e3b33a5bcdaf\")>,\n",
       " <selenium.webdriver.remote.webelement.WebElement (session=\"4afacaaf1443d61299bd4eec2a00ee93\", element=\"1bf9e221-0004-498d-a780-3dc57dd7a3cb\")>,\n",
       " <selenium.webdriver.remote.webelement.WebElement (session=\"4afacaaf1443d61299bd4eec2a00ee93\", element=\"dba4a59a-5bf1-4559-9771-9551e2ce6f67\")>,\n",
       " <selenium.webdriver.remote.webelement.WebElement (session=\"4afacaaf1443d61299bd4eec2a00ee93\", element=\"ff39c158-5438-4f2a-bca4-fab6d64adeb6\")>,\n",
       " <selenium.webdriver.remote.webelement.WebElement (session=\"4afacaaf1443d61299bd4eec2a00ee93\", element=\"bb5d5333-b20a-40fa-9a87-a6ad2e92c141\")>,\n",
       " <selenium.webdriver.remote.webelement.WebElement (session=\"4afacaaf1443d61299bd4eec2a00ee93\", element=\"62170875-1946-4364-a0b6-a05625676ad5\")>,\n",
       " <selenium.webdriver.remote.webelement.WebElement (session=\"4afacaaf1443d61299bd4eec2a00ee93\", element=\"960e2954-1eb3-4c9e-a52d-923f1d343421\")>,\n",
       " <selenium.webdriver.remote.webelement.WebElement (session=\"4afacaaf1443d61299bd4eec2a00ee93\", element=\"a5301ba5-355d-4b42-aecd-8c02cc07c138\")>,\n",
       " <selenium.webdriver.remote.webelement.WebElement (session=\"4afacaaf1443d61299bd4eec2a00ee93\", element=\"45f65c1d-f8d7-48af-ab88-197d46580602\")>,\n",
       " <selenium.webdriver.remote.webelement.WebElement (session=\"4afacaaf1443d61299bd4eec2a00ee93\", element=\"afa5c182-038f-49a6-946c-38cdb2fd4950\")>,\n",
       " <selenium.webdriver.remote.webelement.WebElement (session=\"4afacaaf1443d61299bd4eec2a00ee93\", element=\"193785f0-cd59-471f-9b79-cfc7639ca060\")>,\n",
       " <selenium.webdriver.remote.webelement.WebElement (session=\"4afacaaf1443d61299bd4eec2a00ee93\", element=\"cb02ceac-4328-4b6e-8dc8-1b26be994391\")>,\n",
       " <selenium.webdriver.remote.webelement.WebElement (session=\"4afacaaf1443d61299bd4eec2a00ee93\", element=\"61441a00-4e59-40bb-8b1e-917f34aee131\")>,\n",
       " <selenium.webdriver.remote.webelement.WebElement (session=\"4afacaaf1443d61299bd4eec2a00ee93\", element=\"911c85ef-815f-41e7-9dee-77a9cd62f856\")>,\n",
       " <selenium.webdriver.remote.webelement.WebElement (session=\"4afacaaf1443d61299bd4eec2a00ee93\", element=\"82292485-2439-4688-87cb-9655d7ad321c\")>,\n",
       " <selenium.webdriver.remote.webelement.WebElement (session=\"4afacaaf1443d61299bd4eec2a00ee93\", element=\"eb6bf81f-2bf3-4bf9-8bca-981b9b133776\")>,\n",
       " <selenium.webdriver.remote.webelement.WebElement (session=\"4afacaaf1443d61299bd4eec2a00ee93\", element=\"e7f765e9-1775-43ac-afeb-80c71e578432\")>,\n",
       " <selenium.webdriver.remote.webelement.WebElement (session=\"4afacaaf1443d61299bd4eec2a00ee93\", element=\"ec655de9-4e27-41c4-ac53-03285a4ee8a1\")>,\n",
       " <selenium.webdriver.remote.webelement.WebElement (session=\"4afacaaf1443d61299bd4eec2a00ee93\", element=\"152aa0ee-bdd7-47e9-b58a-e0dced99296b\")>,\n",
       " <selenium.webdriver.remote.webelement.WebElement (session=\"4afacaaf1443d61299bd4eec2a00ee93\", element=\"070b67e3-ff74-4959-8bc0-11626971d211\")>,\n",
       " <selenium.webdriver.remote.webelement.WebElement (session=\"4afacaaf1443d61299bd4eec2a00ee93\", element=\"31bd732a-ecd8-4205-9114-26c17ee87b92\")>,\n",
       " <selenium.webdriver.remote.webelement.WebElement (session=\"4afacaaf1443d61299bd4eec2a00ee93\", element=\"c25f28f2-a07a-4914-9a2f-c67791d1a573\")>,\n",
       " <selenium.webdriver.remote.webelement.WebElement (session=\"4afacaaf1443d61299bd4eec2a00ee93\", element=\"60bbffda-8c8d-4d51-bac4-9a8711ce8fe6\")>,\n",
       " <selenium.webdriver.remote.webelement.WebElement (session=\"4afacaaf1443d61299bd4eec2a00ee93\", element=\"3b13e314-ca51-4c70-9018-20ce30e10edd\")>,\n",
       " <selenium.webdriver.remote.webelement.WebElement (session=\"4afacaaf1443d61299bd4eec2a00ee93\", element=\"d4646a27-94b7-4e66-bb0c-5e3a7109f7b1\")>,\n",
       " <selenium.webdriver.remote.webelement.WebElement (session=\"4afacaaf1443d61299bd4eec2a00ee93\", element=\"c6b8bb9d-5827-4c26-998a-f5420916a487\")>,\n",
       " <selenium.webdriver.remote.webelement.WebElement (session=\"4afacaaf1443d61299bd4eec2a00ee93\", element=\"8a96f318-144e-4c46-b95b-43ad9614db12\")>]"
      ]
     },
     "execution_count": 87,
     "metadata": {},
     "output_type": "execute_result"
    }
   ],
   "source": [
    "Brand_tags=driver.find_elements_by_xpath('//div[@class=\"_2WkVRV\"]')\n",
    "len(Brand_tags)\n",
    "Brand_tags"
   ]
  },
  {
   "cell_type": "code",
   "execution_count": 88,
   "id": "0ec4bd44",
   "metadata": {},
   "outputs": [
    {
     "data": {
      "text/plain": [
       "['VINCENT CHASE',\n",
       " 'VINCENT CHASE',\n",
       " 'SRPM',\n",
       " 'SUNBEE',\n",
       " 'PIRASO',\n",
       " 'Elligator',\n",
       " 'PIRASO',\n",
       " 'ROZZETTA CRAFT',\n",
       " 'DEIXELS',\n",
       " 'SHAAH COLLECTIONS',\n",
       " 'New Specs',\n",
       " 'VINCENT CHASE',\n",
       " 'Fastrack',\n",
       " 'GANSTA',\n",
       " 'PIRASO',\n",
       " 'VINCENT CHASE',\n",
       " 'Lee Topper',\n",
       " 'Fastrack',\n",
       " 'ROZZETTA CRAFT',\n",
       " 'VINCENT CHASE',\n",
       " 'Fastrack',\n",
       " 'SRPM',\n",
       " 'kingsunglasses',\n",
       " 'Singco India',\n",
       " 'SUNBEE',\n",
       " 'PIRASO',\n",
       " 'kingsunglasses',\n",
       " 'povty',\n",
       " 'Silver Kartz',\n",
       " 'PHENOMENAL',\n",
       " 'ROYAL SON',\n",
       " 'VINCENT CHASE',\n",
       " 'Lee Topper',\n",
       " 'kingsunglasses',\n",
       " 'kingsunglasses',\n",
       " 'ROZZETTA CRAFT',\n",
       " 'SRPM',\n",
       " 'Fastrack',\n",
       " 'SHAAH COLLECTIONS',\n",
       " 'ROZZETTA CRAFT',\n",
       " 'Elligator',\n",
       " 'SHAAH COLLECTIONS',\n",
       " 'PIRASO',\n",
       " 'LOUIS KOUROS',\n",
       " 'ROZZETTA CRAFT',\n",
       " 'New Specs',\n",
       " 'Elligator',\n",
       " 'NuVew',\n",
       " 'Rich Club',\n",
       " 'Fastrack',\n",
       " 'PIRASO',\n",
       " 'NuVew',\n",
       " 'PHENOMENAL',\n",
       " 'PIRASO',\n",
       " 'PIRASO',\n",
       " 'AISLIN',\n",
       " 'Fravy',\n",
       " 'Lee Topper',\n",
       " 'New Specs',\n",
       " 'NuVew',\n",
       " 'IDEE',\n",
       " 'ROYAL SON',\n",
       " 'kingsunglasses',\n",
       " 'AISLIN',\n",
       " 'kingsunglasses',\n",
       " 'PIRASO',\n",
       " 'ROYAL SON',\n",
       " 'AISLIN',\n",
       " 'ROZZETTA CRAFT',\n",
       " 'IDEE',\n",
       " 'SUNBEE',\n",
       " 'AISLIN',\n",
       " 'SHAAH COLLECTIONS',\n",
       " 'ROYAL SON',\n",
       " 'Mi',\n",
       " 'ROZZETTA CRAFT',\n",
       " 'Rich Club',\n",
       " 'GANSTA',\n",
       " 'PHENOMENAL',\n",
       " 'ROYAL SON']"
      ]
     },
     "execution_count": 88,
     "metadata": {},
     "output_type": "execute_result"
    }
   ],
   "source": [
    "for i in Brand_tags:\n",
    "    Brand_titles.append(i.text)\n",
    "    \n",
    "len(Brand_titles)\n",
    "Brand_titles"
   ]
  },
  {
   "cell_type": "markdown",
   "id": "7d51ca93",
   "metadata": {},
   "source": [
    "Sunglass description"
   ]
  },
  {
   "cell_type": "code",
   "execution_count": 93,
   "id": "0bbbc1b8",
   "metadata": {},
   "outputs": [
    {
     "data": {
      "text/plain": [
       "[<selenium.webdriver.remote.webelement.WebElement (session=\"4afacaaf1443d61299bd4eec2a00ee93\", element=\"914f9bca-4b71-48be-9a7e-8563ec7ae856\")>,\n",
       " <selenium.webdriver.remote.webelement.WebElement (session=\"4afacaaf1443d61299bd4eec2a00ee93\", element=\"1b1c5843-8b8e-4f06-8f32-44dbc7aed3a3\")>,\n",
       " <selenium.webdriver.remote.webelement.WebElement (session=\"4afacaaf1443d61299bd4eec2a00ee93\", element=\"3d16da7d-9c16-474c-b411-b24902c15228\")>,\n",
       " <selenium.webdriver.remote.webelement.WebElement (session=\"4afacaaf1443d61299bd4eec2a00ee93\", element=\"69cff3ec-2044-4a6f-b0c5-1cbef56cc3dd\")>,\n",
       " <selenium.webdriver.remote.webelement.WebElement (session=\"4afacaaf1443d61299bd4eec2a00ee93\", element=\"f76f5a63-2e75-48cf-8612-4927e81edff0\")>,\n",
       " <selenium.webdriver.remote.webelement.WebElement (session=\"4afacaaf1443d61299bd4eec2a00ee93\", element=\"c69083c0-4b06-49ab-8df1-cc3687b4460f\")>,\n",
       " <selenium.webdriver.remote.webelement.WebElement (session=\"4afacaaf1443d61299bd4eec2a00ee93\", element=\"53ac0c4d-b5c0-4d7d-85fe-c3fea48bee96\")>,\n",
       " <selenium.webdriver.remote.webelement.WebElement (session=\"4afacaaf1443d61299bd4eec2a00ee93\", element=\"af6ceacc-7625-4ee3-bfb6-fa9fbf35798b\")>,\n",
       " <selenium.webdriver.remote.webelement.WebElement (session=\"4afacaaf1443d61299bd4eec2a00ee93\", element=\"7398d9cf-53b8-4bed-ba10-ce5da080ad25\")>,\n",
       " <selenium.webdriver.remote.webelement.WebElement (session=\"4afacaaf1443d61299bd4eec2a00ee93\", element=\"fc761661-e41d-41b3-b054-a7af2215e812\")>,\n",
       " <selenium.webdriver.remote.webelement.WebElement (session=\"4afacaaf1443d61299bd4eec2a00ee93\", element=\"be60eefc-e9c0-4565-a5d6-233f90709e83\")>,\n",
       " <selenium.webdriver.remote.webelement.WebElement (session=\"4afacaaf1443d61299bd4eec2a00ee93\", element=\"52461c17-cfd0-4635-aae5-b69e71d68fc1\")>,\n",
       " <selenium.webdriver.remote.webelement.WebElement (session=\"4afacaaf1443d61299bd4eec2a00ee93\", element=\"ca13e261-21c6-4ff0-81ab-96b60d092e65\")>,\n",
       " <selenium.webdriver.remote.webelement.WebElement (session=\"4afacaaf1443d61299bd4eec2a00ee93\", element=\"48eaa1d1-257e-45c8-9443-2416b5e5c80a\")>,\n",
       " <selenium.webdriver.remote.webelement.WebElement (session=\"4afacaaf1443d61299bd4eec2a00ee93\", element=\"30302078-8cc8-4ca0-a44d-d22d1fd78abc\")>,\n",
       " <selenium.webdriver.remote.webelement.WebElement (session=\"4afacaaf1443d61299bd4eec2a00ee93\", element=\"5c487684-39ba-4a37-b6ed-409545deeb34\")>,\n",
       " <selenium.webdriver.remote.webelement.WebElement (session=\"4afacaaf1443d61299bd4eec2a00ee93\", element=\"99b13c77-b4e8-4239-87be-ea57355b8ca4\")>,\n",
       " <selenium.webdriver.remote.webelement.WebElement (session=\"4afacaaf1443d61299bd4eec2a00ee93\", element=\"36c9b818-5aac-4448-b5c7-2ef3f8f8b963\")>,\n",
       " <selenium.webdriver.remote.webelement.WebElement (session=\"4afacaaf1443d61299bd4eec2a00ee93\", element=\"28e539dc-2549-4905-b271-744b08ecd27b\")>,\n",
       " <selenium.webdriver.remote.webelement.WebElement (session=\"4afacaaf1443d61299bd4eec2a00ee93\", element=\"7e17709e-2d28-4c53-bfeb-b24e3582b4dd\")>,\n",
       " <selenium.webdriver.remote.webelement.WebElement (session=\"4afacaaf1443d61299bd4eec2a00ee93\", element=\"4798bd2d-1f39-42ea-a77d-03d6e3ded9b3\")>,\n",
       " <selenium.webdriver.remote.webelement.WebElement (session=\"4afacaaf1443d61299bd4eec2a00ee93\", element=\"1893f28d-fa35-47a9-a35a-f41bf8b478a0\")>,\n",
       " <selenium.webdriver.remote.webelement.WebElement (session=\"4afacaaf1443d61299bd4eec2a00ee93\", element=\"63d7cfb7-7416-40be-bf67-18890f18b0dd\")>,\n",
       " <selenium.webdriver.remote.webelement.WebElement (session=\"4afacaaf1443d61299bd4eec2a00ee93\", element=\"414ef32f-f9d3-4e5e-bf7c-f2ebbec81241\")>,\n",
       " <selenium.webdriver.remote.webelement.WebElement (session=\"4afacaaf1443d61299bd4eec2a00ee93\", element=\"e65fa5de-e668-42ae-a32f-727719080676\")>,\n",
       " <selenium.webdriver.remote.webelement.WebElement (session=\"4afacaaf1443d61299bd4eec2a00ee93\", element=\"1eea7070-753a-463b-a47d-1f202b10a5a9\")>,\n",
       " <selenium.webdriver.remote.webelement.WebElement (session=\"4afacaaf1443d61299bd4eec2a00ee93\", element=\"338fcc89-1ad7-4fa0-8468-5b259fe4f583\")>,\n",
       " <selenium.webdriver.remote.webelement.WebElement (session=\"4afacaaf1443d61299bd4eec2a00ee93\", element=\"6b997559-3f36-4c42-b0d6-faf383607d89\")>,\n",
       " <selenium.webdriver.remote.webelement.WebElement (session=\"4afacaaf1443d61299bd4eec2a00ee93\", element=\"17c6a83b-4903-4cbf-86db-85b171e15342\")>,\n",
       " <selenium.webdriver.remote.webelement.WebElement (session=\"4afacaaf1443d61299bd4eec2a00ee93\", element=\"5609c156-bf3a-4e39-bbff-a0a3854ca858\")>,\n",
       " <selenium.webdriver.remote.webelement.WebElement (session=\"4afacaaf1443d61299bd4eec2a00ee93\", element=\"a73b7492-f64f-48e1-8523-9fbb3f6725a0\")>,\n",
       " <selenium.webdriver.remote.webelement.WebElement (session=\"4afacaaf1443d61299bd4eec2a00ee93\", element=\"03772643-c5bd-4275-8006-b8a326f2c92b\")>,\n",
       " <selenium.webdriver.remote.webelement.WebElement (session=\"4afacaaf1443d61299bd4eec2a00ee93\", element=\"3f221d13-155b-4f49-b17b-a2d1d504737f\")>,\n",
       " <selenium.webdriver.remote.webelement.WebElement (session=\"4afacaaf1443d61299bd4eec2a00ee93\", element=\"b22c0765-13ef-46d1-8fbe-cf1ff262d677\")>,\n",
       " <selenium.webdriver.remote.webelement.WebElement (session=\"4afacaaf1443d61299bd4eec2a00ee93\", element=\"da16b653-814a-41df-bdd0-84db112ecd59\")>,\n",
       " <selenium.webdriver.remote.webelement.WebElement (session=\"4afacaaf1443d61299bd4eec2a00ee93\", element=\"e1c9ed2a-4271-4a03-8c92-d9fbea44e865\")>,\n",
       " <selenium.webdriver.remote.webelement.WebElement (session=\"4afacaaf1443d61299bd4eec2a00ee93\", element=\"8c08aa44-3449-485f-bf0c-862d6fdd6eaa\")>,\n",
       " <selenium.webdriver.remote.webelement.WebElement (session=\"4afacaaf1443d61299bd4eec2a00ee93\", element=\"d4239907-090c-414f-be69-fd152165e50f\")>,\n",
       " <selenium.webdriver.remote.webelement.WebElement (session=\"4afacaaf1443d61299bd4eec2a00ee93\", element=\"239316b0-c1f6-4858-a246-fb4e23e2fe91\")>,\n",
       " <selenium.webdriver.remote.webelement.WebElement (session=\"4afacaaf1443d61299bd4eec2a00ee93\", element=\"2399949f-01fb-4c7e-9867-7330d8a22e71\")>]"
      ]
     },
     "execution_count": 93,
     "metadata": {},
     "output_type": "execute_result"
    }
   ],
   "source": [
    "Product_tags=driver.find_elements_by_xpath('//a[@class=\"IRpwTa\"]')\n",
    "len(Product_tags)\n",
    "Product_tags"
   ]
  },
  {
   "cell_type": "code",
   "execution_count": 94,
   "id": "2325de1e",
   "metadata": {},
   "outputs": [
    {
     "data": {
      "text/plain": [
       "['by Lenskart Polarized, UV Protection Wayfarer Sunglasse...',\n",
       " 'by Lenskart Polarized, UV Protection Round Sunglasses (...',\n",
       " 'UV Protection Wayfarer Sunglasses (50)',\n",
       " 'UV Protection, Polarized Wayfarer Sunglasses (Free Size...',\n",
       " 'UV Protection Aviator Sunglasses (54)',\n",
       " 'UV Protection Round Sunglasses (54)',\n",
       " 'UV Protection Aviator Sunglasses (54)',\n",
       " 'UV Protection, Gradient Rectangular Sunglasses (Free Si...',\n",
       " 'UV Protection Aviator, Wayfarer Sunglasses (Free Size)',\n",
       " 'UV Protection, Polarized, Mirrored Rectangular Sunglass...',\n",
       " 'UV Protection Rectangular Sunglasses (Free Size)',\n",
       " 'by Lenskart Polarized, UV Protection Cat-eye Sunglasses...',\n",
       " 'UV Protection Rectangular Sunglasses (Free Size)',\n",
       " 'UV Protection, Riding Glasses Wayfarer Sunglasses (53)',\n",
       " 'UV Protection Aviator Sunglasses (54)',\n",
       " 'by Lenskart Polarized, UV Protection Round Sunglasses (...',\n",
       " 'Riding Glasses Wrap-around Sunglasses (Free Size)',\n",
       " 'Gradient, UV Protection Wayfarer Sunglasses (Free Size)',\n",
       " 'Polarized, Night Vision, Riding Glasses Sports, Wrap-ar...',\n",
       " 'by Lenskart Polarized, UV Protection Round Sunglasses (...',\n",
       " 'UV Protection Wayfarer Sunglasses (Free Size)',\n",
       " 'Others Wayfarer, Retro Square Sunglasses (50)',\n",
       " 'UV Protection, Riding Glasses, Mirrored Wayfarer Sungla...',\n",
       " 'Mirrored, UV Protection, Riding Glasses, Others Wrap-ar...',\n",
       " 'UV Protection, Polarized, Mirrored Round Sunglasses (Fr...',\n",
       " 'UV Protection Wayfarer Sunglasses (55)',\n",
       " 'UV Protection Round Sunglasses (54)',\n",
       " 'UV Protection Retro Square Sunglasses (Free Size)',\n",
       " 'UV Protection Wayfarer Sunglasses (Free Size)',\n",
       " 'UV Protection Retro Square Sunglasses (53)',\n",
       " 'Mirrored Aviator Sunglasses (55)',\n",
       " 'by Lenskart Polarized, UV Protection Wayfarer Sunglasse...',\n",
       " 'UV Protection Rectangular Sunglasses (Free Size)',\n",
       " 'Mirrored, UV Protection Wayfarer Sunglasses (Free Size)',\n",
       " 'UV Protection Round Sunglasses (Free Size)',\n",
       " 'Polarized, UV Protection Aviator Sunglasses (Free Size)',\n",
       " 'UV Protection Wayfarer Sunglasses (53)',\n",
       " 'Polarized Retro Square Sunglasses (Free Size)',\n",
       " 'UV Protection, Polarized, Mirrored Rectangular Sunglass...',\n",
       " 'UV Protection, Gradient Retro Square Sunglasses (Free S...',\n",
       " 'UV Protection Round Sunglasses (53)',\n",
       " 'UV Protection, Polarized, Mirrored Rectangular Sunglass...',\n",
       " 'UV Protection Wayfarer Sunglasses (32)',\n",
       " 'UV Protection Aviator Sunglasses (60)',\n",
       " 'UV Protection Retro Square Sunglasses (Free Size)',\n",
       " 'UV Protection, Mirrored Sports Sunglasses (Free Size)',\n",
       " 'UV Protection Wayfarer Sunglasses (53)',\n",
       " 'UV Protection Cat-eye Sunglasses (60)',\n",
       " 'Polarized Round Sunglasses (48)',\n",
       " 'UV Protection Wayfarer Sunglasses (Free Size)',\n",
       " 'UV Protection Aviator Sunglasses (58)',\n",
       " 'UV Protection Cat-eye Sunglasses (60)',\n",
       " 'UV Protection Retro Square Sunglasses (Free Size)',\n",
       " 'UV Protection Butterfly Sunglasses (65)',\n",
       " 'Mirrored Aviator Sunglasses (32)',\n",
       " 'UV Protection, Gradient Cat-eye Sunglasses (61)',\n",
       " 'Others Retro Square Sunglasses (Free Size)',\n",
       " 'Riding Glasses, Night Vision Wrap-around Sunglasses (Fr...',\n",
       " 'UV Protection Aviator Sunglasses (Free Size)',\n",
       " 'UV Protection Aviator Sunglasses (Free Size)',\n",
       " 'UV Protection Over-sized Sunglasses (57)',\n",
       " 'Mirrored Aviator Sunglasses (Free Size)',\n",
       " 'Mirrored, UV Protection Wayfarer, Rectangular Sunglasse...',\n",
       " 'Toughened Glass Lens, UV Protection Aviator Sunglasses ...',\n",
       " 'UV Protection Rectangular Sunglasses (Free Size)',\n",
       " 'UV Protection Butterfly Sunglasses (60)',\n",
       " 'Mirrored Aviator Sunglasses (55)',\n",
       " 'UV Protection, Gradient Round, Cat-eye Sunglasses (60)',\n",
       " 'UV Protection, Gradient Rectangular Sunglasses (Free Si...',\n",
       " 'UV Protection Cat-eye Sunglasses (17)',\n",
       " 'UV Protection, Polarized, Mirrored Retro Square Sunglas...',\n",
       " 'UV Protection, Gradient Over-sized Sunglasses (63)',\n",
       " 'UV Protection Round Sunglasses (Free Size)',\n",
       " 'UV Protection Rectangular Sunglasses (58)',\n",
       " 'Polarized Aviator Sunglasses (Free Size)',\n",
       " 'UV Protection, Gradient Retro Square Sunglasses (Free S...',\n",
       " 'UV Protection Round Sunglasses (48)',\n",
       " 'UV Protection Aviator Sunglasses (57)',\n",
       " 'UV Protection Clubmaster Sunglasses (Free Size)',\n",
       " 'UV Protection, Gradient Butterfly Sunglasses (55)']"
      ]
     },
     "execution_count": 94,
     "metadata": {},
     "output_type": "execute_result"
    }
   ],
   "source": [
    "for i in Product_tags:\n",
    "    Product_titles.append(i.text)\n",
    "    \n",
    "len(Product_titles)\n",
    "Product_titles"
   ]
  },
  {
   "cell_type": "markdown",
   "id": "c81d56be",
   "metadata": {},
   "source": [
    "sunglass prices"
   ]
  },
  {
   "cell_type": "code",
   "execution_count": 90,
   "id": "27cf9c51",
   "metadata": {},
   "outputs": [
    {
     "data": {
      "text/plain": [
       "[<selenium.webdriver.remote.webelement.WebElement (session=\"4afacaaf1443d61299bd4eec2a00ee93\", element=\"9daffca8-a736-4090-b92d-41d2e46d72a4\")>,\n",
       " <selenium.webdriver.remote.webelement.WebElement (session=\"4afacaaf1443d61299bd4eec2a00ee93\", element=\"79e1871f-bf60-4106-a76f-b5f34259e836\")>,\n",
       " <selenium.webdriver.remote.webelement.WebElement (session=\"4afacaaf1443d61299bd4eec2a00ee93\", element=\"d8e6ebe8-b88d-43f2-a981-f7207d7cfa94\")>,\n",
       " <selenium.webdriver.remote.webelement.WebElement (session=\"4afacaaf1443d61299bd4eec2a00ee93\", element=\"317f5cbf-122d-4d71-8521-5f623dbf5d14\")>,\n",
       " <selenium.webdriver.remote.webelement.WebElement (session=\"4afacaaf1443d61299bd4eec2a00ee93\", element=\"1cc6ff89-75c6-40b3-9db7-c3c1263b9bdf\")>,\n",
       " <selenium.webdriver.remote.webelement.WebElement (session=\"4afacaaf1443d61299bd4eec2a00ee93\", element=\"dea90711-7296-4461-8925-44dd9c1e15a8\")>,\n",
       " <selenium.webdriver.remote.webelement.WebElement (session=\"4afacaaf1443d61299bd4eec2a00ee93\", element=\"c0913820-d33b-4535-8cf2-8dcaba9aa806\")>,\n",
       " <selenium.webdriver.remote.webelement.WebElement (session=\"4afacaaf1443d61299bd4eec2a00ee93\", element=\"7998b4c4-5ae3-4dcd-b833-34e754379345\")>,\n",
       " <selenium.webdriver.remote.webelement.WebElement (session=\"4afacaaf1443d61299bd4eec2a00ee93\", element=\"2e2d9777-016b-46af-93b6-19fa36681236\")>,\n",
       " <selenium.webdriver.remote.webelement.WebElement (session=\"4afacaaf1443d61299bd4eec2a00ee93\", element=\"af4fe3c4-c99f-4e3d-8309-b44f11ecfebf\")>,\n",
       " <selenium.webdriver.remote.webelement.WebElement (session=\"4afacaaf1443d61299bd4eec2a00ee93\", element=\"f7e2e414-da90-4eab-8d67-fa32bb459e5c\")>,\n",
       " <selenium.webdriver.remote.webelement.WebElement (session=\"4afacaaf1443d61299bd4eec2a00ee93\", element=\"3b77ef4c-87d6-402c-bbed-5df00db76539\")>,\n",
       " <selenium.webdriver.remote.webelement.WebElement (session=\"4afacaaf1443d61299bd4eec2a00ee93\", element=\"367b8488-2b7e-4e10-a570-12985f507a60\")>,\n",
       " <selenium.webdriver.remote.webelement.WebElement (session=\"4afacaaf1443d61299bd4eec2a00ee93\", element=\"097cd3d8-49a7-4b79-89cb-5a576cde0ed6\")>,\n",
       " <selenium.webdriver.remote.webelement.WebElement (session=\"4afacaaf1443d61299bd4eec2a00ee93\", element=\"5ad81373-91c7-4359-b996-0331b6577bfb\")>,\n",
       " <selenium.webdriver.remote.webelement.WebElement (session=\"4afacaaf1443d61299bd4eec2a00ee93\", element=\"1e4b42c6-d7e4-4309-8aaf-68b3ae48d75f\")>,\n",
       " <selenium.webdriver.remote.webelement.WebElement (session=\"4afacaaf1443d61299bd4eec2a00ee93\", element=\"83b6f9c9-dd5d-4ebd-8916-400fb110ef06\")>,\n",
       " <selenium.webdriver.remote.webelement.WebElement (session=\"4afacaaf1443d61299bd4eec2a00ee93\", element=\"dda6e53d-9f56-4322-8296-554d8c70fa57\")>,\n",
       " <selenium.webdriver.remote.webelement.WebElement (session=\"4afacaaf1443d61299bd4eec2a00ee93\", element=\"8ebf8bbd-881b-4db5-b54d-85afe1d6840e\")>,\n",
       " <selenium.webdriver.remote.webelement.WebElement (session=\"4afacaaf1443d61299bd4eec2a00ee93\", element=\"26e1d481-f6ed-4e52-8294-e21015cfd843\")>,\n",
       " <selenium.webdriver.remote.webelement.WebElement (session=\"4afacaaf1443d61299bd4eec2a00ee93\", element=\"4891d5be-7de1-44ea-adcc-3cd53a967c82\")>,\n",
       " <selenium.webdriver.remote.webelement.WebElement (session=\"4afacaaf1443d61299bd4eec2a00ee93\", element=\"6110d6d7-49fe-48cc-9ef3-519ebd464791\")>,\n",
       " <selenium.webdriver.remote.webelement.WebElement (session=\"4afacaaf1443d61299bd4eec2a00ee93\", element=\"edf19d99-8941-4a59-a2e2-a9b10d1caf24\")>,\n",
       " <selenium.webdriver.remote.webelement.WebElement (session=\"4afacaaf1443d61299bd4eec2a00ee93\", element=\"d591901a-174b-4604-afa5-3a8fc7152de9\")>,\n",
       " <selenium.webdriver.remote.webelement.WebElement (session=\"4afacaaf1443d61299bd4eec2a00ee93\", element=\"d794791f-feae-4b8d-91e1-21e7815b7947\")>,\n",
       " <selenium.webdriver.remote.webelement.WebElement (session=\"4afacaaf1443d61299bd4eec2a00ee93\", element=\"c0124643-3dab-4d0c-b31e-db52c8e8f8ff\")>,\n",
       " <selenium.webdriver.remote.webelement.WebElement (session=\"4afacaaf1443d61299bd4eec2a00ee93\", element=\"96106341-394d-4c01-b314-0b55c91859b9\")>,\n",
       " <selenium.webdriver.remote.webelement.WebElement (session=\"4afacaaf1443d61299bd4eec2a00ee93\", element=\"a713baa2-155d-466a-a2da-df2c09e2881f\")>,\n",
       " <selenium.webdriver.remote.webelement.WebElement (session=\"4afacaaf1443d61299bd4eec2a00ee93\", element=\"ee8f205e-d6e5-4d20-bfea-8f246e7f55c3\")>,\n",
       " <selenium.webdriver.remote.webelement.WebElement (session=\"4afacaaf1443d61299bd4eec2a00ee93\", element=\"aecc677b-b6bb-46a4-8a5c-a12ea0c304ea\")>,\n",
       " <selenium.webdriver.remote.webelement.WebElement (session=\"4afacaaf1443d61299bd4eec2a00ee93\", element=\"a508dd7a-d183-449a-9dd9-986e5355b32f\")>,\n",
       " <selenium.webdriver.remote.webelement.WebElement (session=\"4afacaaf1443d61299bd4eec2a00ee93\", element=\"bbe5f1bb-920a-4d23-9768-36f2fa5f657b\")>,\n",
       " <selenium.webdriver.remote.webelement.WebElement (session=\"4afacaaf1443d61299bd4eec2a00ee93\", element=\"0aad946f-9fd1-46b7-9629-6304efca3925\")>,\n",
       " <selenium.webdriver.remote.webelement.WebElement (session=\"4afacaaf1443d61299bd4eec2a00ee93\", element=\"4514a9d1-915f-4a04-974d-bbc57b9a3bd3\")>,\n",
       " <selenium.webdriver.remote.webelement.WebElement (session=\"4afacaaf1443d61299bd4eec2a00ee93\", element=\"b269f2aa-0081-400e-8a14-cf069fb6aef2\")>,\n",
       " <selenium.webdriver.remote.webelement.WebElement (session=\"4afacaaf1443d61299bd4eec2a00ee93\", element=\"b6ffb3b9-595c-4724-9f14-72d2d3e396cd\")>,\n",
       " <selenium.webdriver.remote.webelement.WebElement (session=\"4afacaaf1443d61299bd4eec2a00ee93\", element=\"2280e75b-371f-4f4e-b302-c4f4f749cad7\")>,\n",
       " <selenium.webdriver.remote.webelement.WebElement (session=\"4afacaaf1443d61299bd4eec2a00ee93\", element=\"34e2da3a-c608-4be1-b849-d65fc2c5300b\")>,\n",
       " <selenium.webdriver.remote.webelement.WebElement (session=\"4afacaaf1443d61299bd4eec2a00ee93\", element=\"25a7db5c-32bd-4af4-8ad6-17237a4207f5\")>,\n",
       " <selenium.webdriver.remote.webelement.WebElement (session=\"4afacaaf1443d61299bd4eec2a00ee93\", element=\"b77957c9-0ca6-4328-888a-050c1b43e68f\")>]"
      ]
     },
     "execution_count": 90,
     "metadata": {},
     "output_type": "execute_result"
    }
   ],
   "source": [
    "Price_tags=driver.find_elements_by_xpath('//div[@class=\"_30jeq3\"]')\n",
    "len(Price_tags)\n",
    "Price_tags"
   ]
  },
  {
   "cell_type": "code",
   "execution_count": 91,
   "id": "6ba405da",
   "metadata": {},
   "outputs": [
    {
     "data": {
      "text/plain": [
       "['₹749',\n",
       " '₹949',\n",
       " '₹203',\n",
       " '₹208',\n",
       " '₹152',\n",
       " '₹115',\n",
       " '₹175',\n",
       " '₹399',\n",
       " '₹629',\n",
       " '₹175',\n",
       " '₹629',\n",
       " '₹949',\n",
       " '₹225',\n",
       " '₹128',\n",
       " '₹134',\n",
       " '₹799',\n",
       " '₹549',\n",
       " '₹424',\n",
       " '₹183',\n",
       " '₹949',\n",
       " '₹234',\n",
       " '₹329',\n",
       " '₹149',\n",
       " '₹1,299',\n",
       " '₹175',\n",
       " '₹239',\n",
       " '₹170',\n",
       " '₹231',\n",
       " '₹213',\n",
       " '₹139',\n",
       " '₹131',\n",
       " '₹799',\n",
       " '₹299',\n",
       " '₹175',\n",
       " '₹424',\n",
       " '₹249',\n",
       " '₹125',\n",
       " '₹126',\n",
       " '₹108',\n",
       " '₹281',\n",
       " '₹189',\n",
       " '₹278',\n",
       " '₹325',\n",
       " '₹376',\n",
       " '₹149',\n",
       " '₹149',\n",
       " '₹929',\n",
       " '₹376',\n",
       " '₹133',\n",
       " '₹208',\n",
       " '₹130',\n",
       " '₹174',\n",
       " '₹329',\n",
       " '₹325',\n",
       " '₹329',\n",
       " '₹396',\n",
       " '₹180',\n",
       " '₹144',\n",
       " '₹959',\n",
       " '₹176',\n",
       " '₹424',\n",
       " '₹349',\n",
       " '₹869',\n",
       " '₹614',\n",
       " '₹257',\n",
       " '₹234',\n",
       " '₹159',\n",
       " '₹346',\n",
       " '₹192',\n",
       " '₹115',\n",
       " '₹349',\n",
       " '₹409',\n",
       " '₹169',\n",
       " '₹267',\n",
       " '₹179',\n",
       " '₹975',\n",
       " '₹249',\n",
       " '₹277',\n",
       " '₹396',\n",
       " '₹614',\n",
       " '₹424',\n",
       " '₹139',\n",
       " '₹408',\n",
       " '₹749',\n",
       " '₹209',\n",
       " '₹169',\n",
       " '₹189',\n",
       " '₹949',\n",
       " '₹145',\n",
       " '₹989',\n",
       " '₹168',\n",
       " '₹399',\n",
       " '₹329',\n",
       " '₹353',\n",
       " '₹625',\n",
       " '₹949',\n",
       " '₹939',\n",
       " '₹401',\n",
       " '₹249',\n",
       " '₹614',\n",
       " '₹139',\n",
       " '₹349',\n",
       " '₹349',\n",
       " '₹1,299',\n",
       " '₹348',\n",
       " '₹625',\n",
       " '₹649',\n",
       " '₹799',\n",
       " '₹614',\n",
       " '₹879',\n",
       " '₹174',\n",
       " '₹949',\n",
       " '₹108',\n",
       " '₹349',\n",
       " '₹614',\n",
       " '₹231',\n",
       " '₹629',\n",
       " '₹187',\n",
       " '₹329',\n",
       " '₹799',\n",
       " '₹139',\n",
       " '₹131',\n",
       " '₹175',\n",
       " '₹1,299',\n",
       " '₹424',\n",
       " '₹108',\n",
       " '₹126',\n",
       " '₹345',\n",
       " '₹125',\n",
       " '₹709',\n",
       " '₹299',\n",
       " '₹353',\n",
       " '₹278',\n",
       " '₹325',\n",
       " '₹149',\n",
       " '₹409',\n",
       " '₹149',\n",
       " '₹226',\n",
       " '₹133',\n",
       " '₹346',\n",
       " '₹929',\n",
       " '₹329',\n",
       " '₹208',\n",
       " '₹810',\n",
       " '₹130',\n",
       " '₹325',\n",
       " '₹329',\n",
       " '₹396',\n",
       " '₹349',\n",
       " '₹869',\n",
       " '₹180',\n",
       " '₹975',\n",
       " '₹226',\n",
       " '₹424',\n",
       " '₹959',\n",
       " '₹281',\n",
       " '₹159',\n",
       " '₹234',\n",
       " '₹257',\n",
       " '₹614']"
      ]
     },
     "execution_count": 91,
     "metadata": {},
     "output_type": "execute_result"
    }
   ],
   "source": [
    "for i in Price_tags:\n",
    "    Price_titles.append(i.text)\n",
    "    \n",
    "len(Price_titles)\n",
    "Price_titles"
   ]
  },
  {
   "cell_type": "code",
   "execution_count": 95,
   "id": "80c009cd",
   "metadata": {},
   "outputs": [
    {
     "data": {
      "text/plain": [
       "(80, 80, 160)"
      ]
     },
     "execution_count": 95,
     "metadata": {},
     "output_type": "execute_result"
    }
   ],
   "source": [
    "len(Brand_titles),len(Product_titles),len(Price_titles)"
   ]
  },
  {
   "cell_type": "markdown",
   "id": "4acb6b4b",
   "metadata": {},
   "source": [
    "Changing page to load more data set"
   ]
  },
  {
   "cell_type": "code",
   "execution_count": 50,
   "id": "f469c8b1",
   "metadata": {},
   "outputs": [],
   "source": [
    "Page_check=driver.find_element_by_xpath('/html/body/div[1]/div/div[3]/div[1]/div[2]/div[12]/div/div/nav/a[11]')\n",
    "Page_check.click()"
   ]
  },
  {
   "cell_type": "markdown",
   "id": "95e3456a",
   "metadata": {},
   "source": [
    "Sunglasses Brand"
   ]
  },
  {
   "cell_type": "code",
   "execution_count": 101,
   "id": "703da369",
   "metadata": {},
   "outputs": [
    {
     "data": {
      "text/plain": [
       "[<selenium.webdriver.remote.webelement.WebElement (session=\"4afacaaf1443d61299bd4eec2a00ee93\", element=\"135b41cc-1ec9-4fbc-bee3-45981e396cf3\")>,\n",
       " <selenium.webdriver.remote.webelement.WebElement (session=\"4afacaaf1443d61299bd4eec2a00ee93\", element=\"4e6c1e93-945a-4d93-8050-909fb330062e\")>,\n",
       " <selenium.webdriver.remote.webelement.WebElement (session=\"4afacaaf1443d61299bd4eec2a00ee93\", element=\"484f9ae6-39ff-42c2-ac11-156b9d892570\")>,\n",
       " <selenium.webdriver.remote.webelement.WebElement (session=\"4afacaaf1443d61299bd4eec2a00ee93\", element=\"f11c94d7-2838-4fd2-a806-a743429c4f57\")>,\n",
       " <selenium.webdriver.remote.webelement.WebElement (session=\"4afacaaf1443d61299bd4eec2a00ee93\", element=\"8bfde155-d386-4eda-a05e-b43025df3337\")>,\n",
       " <selenium.webdriver.remote.webelement.WebElement (session=\"4afacaaf1443d61299bd4eec2a00ee93\", element=\"05f60e4a-60ed-4df5-bb42-22b5c2baf5bf\")>,\n",
       " <selenium.webdriver.remote.webelement.WebElement (session=\"4afacaaf1443d61299bd4eec2a00ee93\", element=\"9bcc7228-d976-432c-8841-df4aec6a545e\")>,\n",
       " <selenium.webdriver.remote.webelement.WebElement (session=\"4afacaaf1443d61299bd4eec2a00ee93\", element=\"3ab7c8fe-a9af-4520-9424-4c9ff1f1d772\")>,\n",
       " <selenium.webdriver.remote.webelement.WebElement (session=\"4afacaaf1443d61299bd4eec2a00ee93\", element=\"ce37147e-d54f-4540-8ef7-00c7e7aff14c\")>,\n",
       " <selenium.webdriver.remote.webelement.WebElement (session=\"4afacaaf1443d61299bd4eec2a00ee93\", element=\"51119719-5591-4eda-a99b-036887730aed\")>,\n",
       " <selenium.webdriver.remote.webelement.WebElement (session=\"4afacaaf1443d61299bd4eec2a00ee93\", element=\"5251acbe-9f1a-4043-ae84-db67120ee428\")>,\n",
       " <selenium.webdriver.remote.webelement.WebElement (session=\"4afacaaf1443d61299bd4eec2a00ee93\", element=\"f88d53e0-508c-46ef-90bf-04df7e4db20d\")>,\n",
       " <selenium.webdriver.remote.webelement.WebElement (session=\"4afacaaf1443d61299bd4eec2a00ee93\", element=\"ef610338-5bdc-4899-a103-0d629227cef8\")>,\n",
       " <selenium.webdriver.remote.webelement.WebElement (session=\"4afacaaf1443d61299bd4eec2a00ee93\", element=\"a2f3da5f-50d7-4a73-91a6-e3b33a5bcdaf\")>,\n",
       " <selenium.webdriver.remote.webelement.WebElement (session=\"4afacaaf1443d61299bd4eec2a00ee93\", element=\"1bf9e221-0004-498d-a780-3dc57dd7a3cb\")>,\n",
       " <selenium.webdriver.remote.webelement.WebElement (session=\"4afacaaf1443d61299bd4eec2a00ee93\", element=\"dba4a59a-5bf1-4559-9771-9551e2ce6f67\")>,\n",
       " <selenium.webdriver.remote.webelement.WebElement (session=\"4afacaaf1443d61299bd4eec2a00ee93\", element=\"ff39c158-5438-4f2a-bca4-fab6d64adeb6\")>,\n",
       " <selenium.webdriver.remote.webelement.WebElement (session=\"4afacaaf1443d61299bd4eec2a00ee93\", element=\"bb5d5333-b20a-40fa-9a87-a6ad2e92c141\")>,\n",
       " <selenium.webdriver.remote.webelement.WebElement (session=\"4afacaaf1443d61299bd4eec2a00ee93\", element=\"62170875-1946-4364-a0b6-a05625676ad5\")>,\n",
       " <selenium.webdriver.remote.webelement.WebElement (session=\"4afacaaf1443d61299bd4eec2a00ee93\", element=\"960e2954-1eb3-4c9e-a52d-923f1d343421\")>]"
      ]
     },
     "execution_count": 101,
     "metadata": {},
     "output_type": "execute_result"
    }
   ],
   "source": [
    "Brand_tags=driver.find_elements_by_xpath('//div[@class=\"_2WkVRV\"]')\n",
    "len(Brand_tags)\n",
    "Brand_tags[0:20]"
   ]
  },
  {
   "cell_type": "code",
   "execution_count": 102,
   "id": "6b9dac0f",
   "metadata": {},
   "outputs": [
    {
     "data": {
      "text/plain": [
       "['VINCENT CHASE',\n",
       " 'VINCENT CHASE',\n",
       " 'SRPM',\n",
       " 'SUNBEE',\n",
       " 'PIRASO',\n",
       " 'Elligator',\n",
       " 'PIRASO',\n",
       " 'ROZZETTA CRAFT',\n",
       " 'DEIXELS',\n",
       " 'SHAAH COLLECTIONS',\n",
       " 'New Specs',\n",
       " 'VINCENT CHASE',\n",
       " 'Fastrack',\n",
       " 'GANSTA',\n",
       " 'PIRASO',\n",
       " 'VINCENT CHASE',\n",
       " 'Lee Topper',\n",
       " 'Fastrack',\n",
       " 'ROZZETTA CRAFT',\n",
       " 'VINCENT CHASE']"
      ]
     },
     "execution_count": 102,
     "metadata": {},
     "output_type": "execute_result"
    }
   ],
   "source": [
    "for i in Brand_tags:\n",
    "    Brand_titles.append(i.text)\n",
    "    \n",
    "len(Brand_titles)\n",
    "Brand_titles[0:20]"
   ]
  },
  {
   "cell_type": "markdown",
   "id": "42eca5aa",
   "metadata": {},
   "source": [
    "Sunglasses description"
   ]
  },
  {
   "cell_type": "code",
   "execution_count": 103,
   "id": "abc2fc87",
   "metadata": {},
   "outputs": [
    {
     "data": {
      "text/plain": [
       "[<selenium.webdriver.remote.webelement.WebElement (session=\"4afacaaf1443d61299bd4eec2a00ee93\", element=\"914f9bca-4b71-48be-9a7e-8563ec7ae856\")>,\n",
       " <selenium.webdriver.remote.webelement.WebElement (session=\"4afacaaf1443d61299bd4eec2a00ee93\", element=\"1b1c5843-8b8e-4f06-8f32-44dbc7aed3a3\")>,\n",
       " <selenium.webdriver.remote.webelement.WebElement (session=\"4afacaaf1443d61299bd4eec2a00ee93\", element=\"3d16da7d-9c16-474c-b411-b24902c15228\")>,\n",
       " <selenium.webdriver.remote.webelement.WebElement (session=\"4afacaaf1443d61299bd4eec2a00ee93\", element=\"69cff3ec-2044-4a6f-b0c5-1cbef56cc3dd\")>,\n",
       " <selenium.webdriver.remote.webelement.WebElement (session=\"4afacaaf1443d61299bd4eec2a00ee93\", element=\"f76f5a63-2e75-48cf-8612-4927e81edff0\")>,\n",
       " <selenium.webdriver.remote.webelement.WebElement (session=\"4afacaaf1443d61299bd4eec2a00ee93\", element=\"c69083c0-4b06-49ab-8df1-cc3687b4460f\")>,\n",
       " <selenium.webdriver.remote.webelement.WebElement (session=\"4afacaaf1443d61299bd4eec2a00ee93\", element=\"53ac0c4d-b5c0-4d7d-85fe-c3fea48bee96\")>,\n",
       " <selenium.webdriver.remote.webelement.WebElement (session=\"4afacaaf1443d61299bd4eec2a00ee93\", element=\"af6ceacc-7625-4ee3-bfb6-fa9fbf35798b\")>,\n",
       " <selenium.webdriver.remote.webelement.WebElement (session=\"4afacaaf1443d61299bd4eec2a00ee93\", element=\"7398d9cf-53b8-4bed-ba10-ce5da080ad25\")>,\n",
       " <selenium.webdriver.remote.webelement.WebElement (session=\"4afacaaf1443d61299bd4eec2a00ee93\", element=\"fc761661-e41d-41b3-b054-a7af2215e812\")>,\n",
       " <selenium.webdriver.remote.webelement.WebElement (session=\"4afacaaf1443d61299bd4eec2a00ee93\", element=\"be60eefc-e9c0-4565-a5d6-233f90709e83\")>,\n",
       " <selenium.webdriver.remote.webelement.WebElement (session=\"4afacaaf1443d61299bd4eec2a00ee93\", element=\"52461c17-cfd0-4635-aae5-b69e71d68fc1\")>,\n",
       " <selenium.webdriver.remote.webelement.WebElement (session=\"4afacaaf1443d61299bd4eec2a00ee93\", element=\"ca13e261-21c6-4ff0-81ab-96b60d092e65\")>,\n",
       " <selenium.webdriver.remote.webelement.WebElement (session=\"4afacaaf1443d61299bd4eec2a00ee93\", element=\"48eaa1d1-257e-45c8-9443-2416b5e5c80a\")>,\n",
       " <selenium.webdriver.remote.webelement.WebElement (session=\"4afacaaf1443d61299bd4eec2a00ee93\", element=\"30302078-8cc8-4ca0-a44d-d22d1fd78abc\")>,\n",
       " <selenium.webdriver.remote.webelement.WebElement (session=\"4afacaaf1443d61299bd4eec2a00ee93\", element=\"5c487684-39ba-4a37-b6ed-409545deeb34\")>,\n",
       " <selenium.webdriver.remote.webelement.WebElement (session=\"4afacaaf1443d61299bd4eec2a00ee93\", element=\"99b13c77-b4e8-4239-87be-ea57355b8ca4\")>,\n",
       " <selenium.webdriver.remote.webelement.WebElement (session=\"4afacaaf1443d61299bd4eec2a00ee93\", element=\"36c9b818-5aac-4448-b5c7-2ef3f8f8b963\")>,\n",
       " <selenium.webdriver.remote.webelement.WebElement (session=\"4afacaaf1443d61299bd4eec2a00ee93\", element=\"28e539dc-2549-4905-b271-744b08ecd27b\")>,\n",
       " <selenium.webdriver.remote.webelement.WebElement (session=\"4afacaaf1443d61299bd4eec2a00ee93\", element=\"7e17709e-2d28-4c53-bfeb-b24e3582b4dd\")>]"
      ]
     },
     "execution_count": 103,
     "metadata": {},
     "output_type": "execute_result"
    }
   ],
   "source": [
    "Product_tags=driver.find_elements_by_xpath('//a[@class=\"IRpwTa\"]')\n",
    "len(Product_tags)\n",
    "Product_tags[0:20]"
   ]
  },
  {
   "cell_type": "code",
   "execution_count": 104,
   "id": "5e9d21a1",
   "metadata": {},
   "outputs": [
    {
     "data": {
      "text/plain": [
       "['by Lenskart Polarized, UV Protection Wayfarer Sunglasse...',\n",
       " 'by Lenskart Polarized, UV Protection Round Sunglasses (...',\n",
       " 'UV Protection Wayfarer Sunglasses (50)',\n",
       " 'UV Protection, Polarized Wayfarer Sunglasses (Free Size...',\n",
       " 'UV Protection Aviator Sunglasses (54)',\n",
       " 'UV Protection Round Sunglasses (54)',\n",
       " 'UV Protection Aviator Sunglasses (54)',\n",
       " 'UV Protection, Gradient Rectangular Sunglasses (Free Si...',\n",
       " 'UV Protection Aviator, Wayfarer Sunglasses (Free Size)',\n",
       " 'UV Protection, Polarized, Mirrored Rectangular Sunglass...',\n",
       " 'UV Protection Rectangular Sunglasses (Free Size)',\n",
       " 'by Lenskart Polarized, UV Protection Cat-eye Sunglasses...',\n",
       " 'UV Protection Rectangular Sunglasses (Free Size)',\n",
       " 'UV Protection, Riding Glasses Wayfarer Sunglasses (53)',\n",
       " 'UV Protection Aviator Sunglasses (54)',\n",
       " 'by Lenskart Polarized, UV Protection Round Sunglasses (...',\n",
       " 'Riding Glasses Wrap-around Sunglasses (Free Size)',\n",
       " 'Gradient, UV Protection Wayfarer Sunglasses (Free Size)',\n",
       " 'Polarized, Night Vision, Riding Glasses Sports, Wrap-ar...',\n",
       " 'by Lenskart Polarized, UV Protection Round Sunglasses (...']"
      ]
     },
     "execution_count": 104,
     "metadata": {},
     "output_type": "execute_result"
    }
   ],
   "source": [
    "for i in Product_tags:\n",
    "    Product_titles.append(i.text)\n",
    "    \n",
    "len(Product_titles)\n",
    "Product_titles[0:20]"
   ]
  },
  {
   "cell_type": "markdown",
   "id": "3f1ab0a4",
   "metadata": {},
   "source": [
    "Price tags"
   ]
  },
  {
   "cell_type": "code",
   "execution_count": 105,
   "id": "5d2bfb25",
   "metadata": {},
   "outputs": [
    {
     "data": {
      "text/plain": [
       "[<selenium.webdriver.remote.webelement.WebElement (session=\"4afacaaf1443d61299bd4eec2a00ee93\", element=\"9daffca8-a736-4090-b92d-41d2e46d72a4\")>,\n",
       " <selenium.webdriver.remote.webelement.WebElement (session=\"4afacaaf1443d61299bd4eec2a00ee93\", element=\"79e1871f-bf60-4106-a76f-b5f34259e836\")>,\n",
       " <selenium.webdriver.remote.webelement.WebElement (session=\"4afacaaf1443d61299bd4eec2a00ee93\", element=\"d8e6ebe8-b88d-43f2-a981-f7207d7cfa94\")>,\n",
       " <selenium.webdriver.remote.webelement.WebElement (session=\"4afacaaf1443d61299bd4eec2a00ee93\", element=\"317f5cbf-122d-4d71-8521-5f623dbf5d14\")>,\n",
       " <selenium.webdriver.remote.webelement.WebElement (session=\"4afacaaf1443d61299bd4eec2a00ee93\", element=\"1cc6ff89-75c6-40b3-9db7-c3c1263b9bdf\")>,\n",
       " <selenium.webdriver.remote.webelement.WebElement (session=\"4afacaaf1443d61299bd4eec2a00ee93\", element=\"dea90711-7296-4461-8925-44dd9c1e15a8\")>,\n",
       " <selenium.webdriver.remote.webelement.WebElement (session=\"4afacaaf1443d61299bd4eec2a00ee93\", element=\"c0913820-d33b-4535-8cf2-8dcaba9aa806\")>,\n",
       " <selenium.webdriver.remote.webelement.WebElement (session=\"4afacaaf1443d61299bd4eec2a00ee93\", element=\"7998b4c4-5ae3-4dcd-b833-34e754379345\")>,\n",
       " <selenium.webdriver.remote.webelement.WebElement (session=\"4afacaaf1443d61299bd4eec2a00ee93\", element=\"2e2d9777-016b-46af-93b6-19fa36681236\")>,\n",
       " <selenium.webdriver.remote.webelement.WebElement (session=\"4afacaaf1443d61299bd4eec2a00ee93\", element=\"af4fe3c4-c99f-4e3d-8309-b44f11ecfebf\")>,\n",
       " <selenium.webdriver.remote.webelement.WebElement (session=\"4afacaaf1443d61299bd4eec2a00ee93\", element=\"f7e2e414-da90-4eab-8d67-fa32bb459e5c\")>,\n",
       " <selenium.webdriver.remote.webelement.WebElement (session=\"4afacaaf1443d61299bd4eec2a00ee93\", element=\"3b77ef4c-87d6-402c-bbed-5df00db76539\")>,\n",
       " <selenium.webdriver.remote.webelement.WebElement (session=\"4afacaaf1443d61299bd4eec2a00ee93\", element=\"367b8488-2b7e-4e10-a570-12985f507a60\")>,\n",
       " <selenium.webdriver.remote.webelement.WebElement (session=\"4afacaaf1443d61299bd4eec2a00ee93\", element=\"097cd3d8-49a7-4b79-89cb-5a576cde0ed6\")>,\n",
       " <selenium.webdriver.remote.webelement.WebElement (session=\"4afacaaf1443d61299bd4eec2a00ee93\", element=\"5ad81373-91c7-4359-b996-0331b6577bfb\")>,\n",
       " <selenium.webdriver.remote.webelement.WebElement (session=\"4afacaaf1443d61299bd4eec2a00ee93\", element=\"1e4b42c6-d7e4-4309-8aaf-68b3ae48d75f\")>,\n",
       " <selenium.webdriver.remote.webelement.WebElement (session=\"4afacaaf1443d61299bd4eec2a00ee93\", element=\"83b6f9c9-dd5d-4ebd-8916-400fb110ef06\")>,\n",
       " <selenium.webdriver.remote.webelement.WebElement (session=\"4afacaaf1443d61299bd4eec2a00ee93\", element=\"dda6e53d-9f56-4322-8296-554d8c70fa57\")>,\n",
       " <selenium.webdriver.remote.webelement.WebElement (session=\"4afacaaf1443d61299bd4eec2a00ee93\", element=\"8ebf8bbd-881b-4db5-b54d-85afe1d6840e\")>,\n",
       " <selenium.webdriver.remote.webelement.WebElement (session=\"4afacaaf1443d61299bd4eec2a00ee93\", element=\"26e1d481-f6ed-4e52-8294-e21015cfd843\")>]"
      ]
     },
     "execution_count": 105,
     "metadata": {},
     "output_type": "execute_result"
    }
   ],
   "source": [
    "Price_tags=driver.find_elements_by_xpath('//div[@class=\"_30jeq3\"]')\n",
    "len(Price_tags)\n",
    "Price_tags[0:20]"
   ]
  },
  {
   "cell_type": "code",
   "execution_count": 106,
   "id": "64900397",
   "metadata": {},
   "outputs": [
    {
     "data": {
      "text/plain": [
       "['₹749',\n",
       " '₹949',\n",
       " '₹203',\n",
       " '₹208',\n",
       " '₹152',\n",
       " '₹115',\n",
       " '₹175',\n",
       " '₹399',\n",
       " '₹629',\n",
       " '₹175',\n",
       " '₹629',\n",
       " '₹949',\n",
       " '₹225',\n",
       " '₹128',\n",
       " '₹134',\n",
       " '₹799',\n",
       " '₹549',\n",
       " '₹424',\n",
       " '₹183',\n",
       " '₹949']"
      ]
     },
     "execution_count": 106,
     "metadata": {},
     "output_type": "execute_result"
    }
   ],
   "source": [
    "for i in Price_tags:\n",
    "    Price_titles.append(i.text)\n",
    "    \n",
    "len(Price_titles)\n",
    "Price_titles[0:20]"
   ]
  },
  {
   "cell_type": "code",
   "execution_count": 107,
   "id": "82d88e8b",
   "metadata": {},
   "outputs": [
    {
     "data": {
      "text/plain": [
       "(160, 160, 200)"
      ]
     },
     "execution_count": 107,
     "metadata": {},
     "output_type": "execute_result"
    }
   ],
   "source": [
    "len(Brand_titles),len(Product_titles),len(Price_titles)"
   ]
  },
  {
   "cell_type": "markdown",
   "id": "c966fa70",
   "metadata": {},
   "source": [
    "putting the scrapped data into the data frame"
   ]
  },
  {
   "cell_type": "code",
   "execution_count": 109,
   "id": "9ffb5bfa",
   "metadata": {},
   "outputs": [
    {
     "data": {
      "text/html": [
       "<div>\n",
       "<style scoped>\n",
       "    .dataframe tbody tr th:only-of-type {\n",
       "        vertical-align: middle;\n",
       "    }\n",
       "\n",
       "    .dataframe tbody tr th {\n",
       "        vertical-align: top;\n",
       "    }\n",
       "\n",
       "    .dataframe thead th {\n",
       "        text-align: right;\n",
       "    }\n",
       "</style>\n",
       "<table border=\"1\" class=\"dataframe\">\n",
       "  <thead>\n",
       "    <tr style=\"text-align: right;\">\n",
       "      <th></th>\n",
       "      <th>Brand Names</th>\n",
       "      <th>Product Names</th>\n",
       "      <th>Product Price</th>\n",
       "    </tr>\n",
       "  </thead>\n",
       "  <tbody>\n",
       "    <tr>\n",
       "      <th>0</th>\n",
       "      <td>VINCENT CHASE</td>\n",
       "      <td>by Lenskart Polarized, UV Protection Wayfarer ...</td>\n",
       "      <td>₹749</td>\n",
       "    </tr>\n",
       "    <tr>\n",
       "      <th>1</th>\n",
       "      <td>VINCENT CHASE</td>\n",
       "      <td>by Lenskart Polarized, UV Protection Round Sun...</td>\n",
       "      <td>₹949</td>\n",
       "    </tr>\n",
       "    <tr>\n",
       "      <th>2</th>\n",
       "      <td>SRPM</td>\n",
       "      <td>UV Protection Wayfarer Sunglasses (50)</td>\n",
       "      <td>₹203</td>\n",
       "    </tr>\n",
       "    <tr>\n",
       "      <th>3</th>\n",
       "      <td>SUNBEE</td>\n",
       "      <td>UV Protection, Polarized Wayfarer Sunglasses (...</td>\n",
       "      <td>₹208</td>\n",
       "    </tr>\n",
       "    <tr>\n",
       "      <th>4</th>\n",
       "      <td>PIRASO</td>\n",
       "      <td>UV Protection Aviator Sunglasses (54)</td>\n",
       "      <td>₹152</td>\n",
       "    </tr>\n",
       "    <tr>\n",
       "      <th>...</th>\n",
       "      <td>...</td>\n",
       "      <td>...</td>\n",
       "      <td>...</td>\n",
       "    </tr>\n",
       "    <tr>\n",
       "      <th>155</th>\n",
       "      <td>ROZZETTA CRAFT</td>\n",
       "      <td>UV Protection, Gradient Retro Square Sunglasse...</td>\n",
       "      <td>₹281</td>\n",
       "    </tr>\n",
       "    <tr>\n",
       "      <th>156</th>\n",
       "      <td>Rich Club</td>\n",
       "      <td>UV Protection Round Sunglasses (48)</td>\n",
       "      <td>₹159</td>\n",
       "    </tr>\n",
       "    <tr>\n",
       "      <th>157</th>\n",
       "      <td>GANSTA</td>\n",
       "      <td>UV Protection Aviator Sunglasses (57)</td>\n",
       "      <td>₹234</td>\n",
       "    </tr>\n",
       "    <tr>\n",
       "      <th>158</th>\n",
       "      <td>PHENOMENAL</td>\n",
       "      <td>UV Protection Clubmaster Sunglasses (Free Size)</td>\n",
       "      <td>₹257</td>\n",
       "    </tr>\n",
       "    <tr>\n",
       "      <th>159</th>\n",
       "      <td>ROYAL SON</td>\n",
       "      <td>UV Protection, Gradient Butterfly Sunglasses (55)</td>\n",
       "      <td>₹614</td>\n",
       "    </tr>\n",
       "  </tbody>\n",
       "</table>\n",
       "<p>160 rows × 3 columns</p>\n",
       "</div>"
      ],
      "text/plain": [
       "        Brand Names                                      Product Names  \\\n",
       "0     VINCENT CHASE  by Lenskart Polarized, UV Protection Wayfarer ...   \n",
       "1     VINCENT CHASE  by Lenskart Polarized, UV Protection Round Sun...   \n",
       "2              SRPM             UV Protection Wayfarer Sunglasses (50)   \n",
       "3            SUNBEE  UV Protection, Polarized Wayfarer Sunglasses (...   \n",
       "4            PIRASO              UV Protection Aviator Sunglasses (54)   \n",
       "..              ...                                                ...   \n",
       "155  ROZZETTA CRAFT  UV Protection, Gradient Retro Square Sunglasse...   \n",
       "156       Rich Club                UV Protection Round Sunglasses (48)   \n",
       "157          GANSTA              UV Protection Aviator Sunglasses (57)   \n",
       "158      PHENOMENAL    UV Protection Clubmaster Sunglasses (Free Size)   \n",
       "159       ROYAL SON  UV Protection, Gradient Butterfly Sunglasses (55)   \n",
       "\n",
       "    Product Price  \n",
       "0            ₹749  \n",
       "1            ₹949  \n",
       "2            ₹203  \n",
       "3            ₹208  \n",
       "4            ₹152  \n",
       "..            ...  \n",
       "155          ₹281  \n",
       "156          ₹159  \n",
       "157          ₹234  \n",
       "158          ₹257  \n",
       "159          ₹614  \n",
       "\n",
       "[160 rows x 3 columns]"
      ]
     },
     "execution_count": 109,
     "metadata": {},
     "output_type": "execute_result"
    }
   ],
   "source": [
    "import numpy as np\n",
    "Sunglass=pd.DataFrame()\n",
    "Sunglass['Brand Names']=Brand_titles\n",
    "Sunglass['Product Names']=Product_titles\n",
    "Sunglass['Product Price']=pd.Series(Price_titles)\n",
    "Sunglass"
   ]
  },
  {
   "cell_type": "markdown",
   "id": "6d960e60",
   "metadata": {},
   "source": [
    "## Q 5 Scrape 100 reviews data from flipkart.com for iphone11 phone."
   ]
  },
  {
   "cell_type": "markdown",
   "id": "59a2abc3",
   "metadata": {},
   "source": [
    "Login into the Website for webscrapping"
   ]
  },
  {
   "cell_type": "code",
   "execution_count": 3,
   "id": "fc6a7f25",
   "metadata": {},
   "outputs": [],
   "source": [
    "url = 'https://www.flipkart.com/'\n",
    "driver.get(url)"
   ]
  },
  {
   "cell_type": "code",
   "execution_count": 4,
   "id": "08d32022",
   "metadata": {},
   "outputs": [
    {
     "data": {
      "text/plain": [
       "<selenium.webdriver.remote.webelement.WebElement (session=\"c0070932c0694d76843f21cf9018be78\", element=\"f75c58eb-1c43-4cf7-b3fa-6b3ebbc03098\")>"
      ]
     },
     "execution_count": 4,
     "metadata": {},
     "output_type": "execute_result"
    }
   ],
   "source": [
    "search_Product1 = driver.find_element_by_class_name(\"_3704LK\")\n",
    "search_Product1"
   ]
  },
  {
   "cell_type": "code",
   "execution_count": 5,
   "id": "c38ac4e7",
   "metadata": {},
   "outputs": [],
   "source": [
    "search_Product1.send_keys(\"apple-iphone-11-black-64-gb\")"
   ]
  },
  {
   "cell_type": "code",
   "execution_count": 6,
   "id": "9211aa49",
   "metadata": {},
   "outputs": [
    {
     "data": {
      "text/plain": [
       "<selenium.webdriver.remote.webelement.WebElement (session=\"c0070932c0694d76843f21cf9018be78\", element=\"5f1ea07c-516b-4bb4-8feb-55446324e730\")>"
      ]
     },
     "execution_count": 6,
     "metadata": {},
     "output_type": "execute_result"
    }
   ],
   "source": [
    "search_btn4 = driver.find_element_by_xpath('/html/body/div[1]/div/div[1]/div[1]/div[2]/div[2]/form/div/button')\n",
    "search_btn4"
   ]
  },
  {
   "cell_type": "code",
   "execution_count": 7,
   "id": "6fa59e3e",
   "metadata": {},
   "outputs": [],
   "source": [
    "search_btn4.click()"
   ]
  },
  {
   "cell_type": "markdown",
   "id": "e6a5bd45",
   "metadata": {},
   "source": [
    "Rating For the Product"
   ]
  },
  {
   "cell_type": "code",
   "execution_count": 8,
   "id": "7a02d51f",
   "metadata": {},
   "outputs": [
    {
     "data": {
      "text/plain": [
       "[<selenium.webdriver.remote.webelement.WebElement (session=\"c0070932c0694d76843f21cf9018be78\", element=\"4ec82db3-fafe-4604-8894-2aacf7e0843e\")>,\n",
       " <selenium.webdriver.remote.webelement.WebElement (session=\"c0070932c0694d76843f21cf9018be78\", element=\"ccfecc4e-2e53-44b7-91cc-5feea74947cd\")>,\n",
       " <selenium.webdriver.remote.webelement.WebElement (session=\"c0070932c0694d76843f21cf9018be78\", element=\"7c50fe3f-289c-4255-b8a8-76e9576b0d98\")>,\n",
       " <selenium.webdriver.remote.webelement.WebElement (session=\"c0070932c0694d76843f21cf9018be78\", element=\"02d9de6c-7f73-43ef-b327-d60dbb495be4\")>,\n",
       " <selenium.webdriver.remote.webelement.WebElement (session=\"c0070932c0694d76843f21cf9018be78\", element=\"57405f2f-6b0c-453a-95fe-112b85e39933\")>,\n",
       " <selenium.webdriver.remote.webelement.WebElement (session=\"c0070932c0694d76843f21cf9018be78\", element=\"76c22dfe-c496-421a-97e3-0bda072c63a3\")>]"
      ]
     },
     "execution_count": 8,
     "metadata": {},
     "output_type": "execute_result"
    }
   ],
   "source": [
    "Rating_tags=driver.find_elements_by_xpath('//div[@class=\"_3LWZlK\"]')\n",
    "Rating_tags"
   ]
  },
  {
   "cell_type": "code",
   "execution_count": 9,
   "id": "d675057f",
   "metadata": {},
   "outputs": [
    {
     "data": {
      "text/plain": [
       "['4.6', '4.6', '4.6', '4.6', '4.6', '4.6']"
      ]
     },
     "execution_count": 9,
     "metadata": {},
     "output_type": "execute_result"
    }
   ],
   "source": [
    "Rating_titles=[]\n",
    "\n",
    "for i in Rating_tags:\n",
    "    Rating_titles.append(i.text)\n",
    "    \n",
    "len(Rating_titles)\n",
    "Rating_titles"
   ]
  },
  {
   "cell_type": "code",
   "execution_count": 33,
   "id": "8a4f0ae4",
   "metadata": {},
   "outputs": [
    {
     "data": {
      "text/plain": [
       "[]"
      ]
     },
     "execution_count": 33,
     "metadata": {},
     "output_type": "execute_result"
    }
   ],
   "source": [
    "Rating_heading=driver.find_elements_by_xpath('//p[@class=\"_2-N8zT\"]')\n",
    "Rating_heading"
   ]
  },
  {
   "cell_type": "code",
   "execution_count": 28,
   "id": "4a70f859",
   "metadata": {},
   "outputs": [
    {
     "data": {
      "text/plain": [
       "[]"
      ]
     },
     "execution_count": 28,
     "metadata": {},
     "output_type": "execute_result"
    }
   ],
   "source": [
    "Summary_titles=[]\n",
    "\n",
    "for i in Rating_heading:\n",
    "    Summary_titles.append(i.text)\n",
    "    \n",
    "len(Summary_titles)\n",
    "Summary_titles"
   ]
  },
  {
   "cell_type": "code",
   "execution_count": 14,
   "id": "0e0a12ec",
   "metadata": {},
   "outputs": [
    {
     "data": {
      "text/plain": [
       "[]"
      ]
     },
     "execution_count": 14,
     "metadata": {},
     "output_type": "execute_result"
    }
   ],
   "source": [
    "Summary_review=driver.find_elements_by_xpath('//div[@class=\"t-ZTKy\"]')\n",
    "Summary_review"
   ]
  },
  {
   "cell_type": "code",
   "execution_count": 168,
   "id": "e94082bc",
   "metadata": {},
   "outputs": [
    {
     "data": {
      "text/plain": [
       "[]"
      ]
     },
     "execution_count": 168,
     "metadata": {},
     "output_type": "execute_result"
    }
   ],
   "source": [
    "Summary_Topic=[]\n",
    "\n",
    "for i in Summary_review:\n",
    "    Summary_Topic.append(i.text)\n",
    "    \n",
    "len(Summary_Topic)\n",
    "Summary_Topic"
   ]
  },
  {
   "cell_type": "code",
   "execution_count": null,
   "id": "5aa321b8",
   "metadata": {},
   "outputs": [],
   "source": [
    "Page_check3=driver.find_element_by_xpath('/html/body/div[1]/div/div[3]/div/div/div[2]/div[13]/div/div/nav/a[11]')\n",
    "Page_check3.click()"
   ]
  },
  {
   "cell_type": "code",
   "execution_count": 25,
   "id": "5e0a1981",
   "metadata": {},
   "outputs": [
    {
     "data": {
      "text/plain": [
       "[]"
      ]
     },
     "execution_count": 25,
     "metadata": {},
     "output_type": "execute_result"
    }
   ],
   "source": [
    "Summary_tags=driver.find_elements_by_xpath('//div[@class=\"_2-N8zT\"]')\n",
    "Summary_tags"
   ]
  },
  {
   "cell_type": "code",
   "execution_count": 170,
   "id": "7bad76e5",
   "metadata": {},
   "outputs": [
    {
     "data": {
      "text/plain": [
       "[]"
      ]
     },
     "execution_count": 170,
     "metadata": {},
     "output_type": "execute_result"
    }
   ],
   "source": [
    "for i in Summary_tags:\n",
    "    Summary_titles.append(i.text)\n",
    "    \n",
    "len(Summary_titles)\n",
    "Summary_titles"
   ]
  },
  {
   "cell_type": "markdown",
   "id": "366417a4",
   "metadata": {},
   "source": [
    "# # Q 6 Scrape data for first 100 sneakers"
   ]
  },
  {
   "cell_type": "markdown",
   "id": "7ad66b87",
   "metadata": {},
   "source": [
    "login into the website"
   ]
  },
  {
   "cell_type": "code",
   "execution_count": 36,
   "id": "79e5a68c",
   "metadata": {},
   "outputs": [],
   "source": [
    "url = 'https://www.flipkart.com/'\n",
    "driver.get(url)"
   ]
  },
  {
   "cell_type": "code",
   "execution_count": 37,
   "id": "c0b7b594",
   "metadata": {},
   "outputs": [
    {
     "data": {
      "text/plain": [
       "<selenium.webdriver.remote.webelement.WebElement (session=\"6efa028b1d1c18230c37c16e9c7e1fbc\", element=\"83a801b9-8401-428c-9b5f-63aac5d2b91c\")>"
      ]
     },
     "execution_count": 37,
     "metadata": {},
     "output_type": "execute_result"
    }
   ],
   "source": [
    "search_Product6 = driver.find_element_by_class_name(\"_3704LK\")\n",
    "search_Product6"
   ]
  },
  {
   "cell_type": "code",
   "execution_count": 38,
   "id": "0f5486af",
   "metadata": {},
   "outputs": [],
   "source": [
    "search_Product6.send_keys(\"sneakers\")"
   ]
  },
  {
   "cell_type": "code",
   "execution_count": 39,
   "id": "34c7ec3b",
   "metadata": {},
   "outputs": [
    {
     "data": {
      "text/plain": [
       "<selenium.webdriver.remote.webelement.WebElement (session=\"6efa028b1d1c18230c37c16e9c7e1fbc\", element=\"262277dd-7747-414e-94aa-7f388d961a94\")>"
      ]
     },
     "execution_count": 39,
     "metadata": {},
     "output_type": "execute_result"
    }
   ],
   "source": [
    "search_btn6 = driver.find_element_by_xpath('/html/body/div[1]/div/div[1]/div[1]/div[2]/div[2]/form/div/button')\n",
    "search_btn6"
   ]
  },
  {
   "cell_type": "code",
   "execution_count": 40,
   "id": "b1e6b6fe",
   "metadata": {},
   "outputs": [],
   "source": [
    "search_btn6.click()"
   ]
  },
  {
   "cell_type": "markdown",
   "id": "d5374d81",
   "metadata": {},
   "source": [
    "Sneakers Brand"
   ]
  },
  {
   "cell_type": "code",
   "execution_count": 41,
   "id": "521da923",
   "metadata": {},
   "outputs": [
    {
     "data": {
      "text/plain": [
       "[<selenium.webdriver.remote.webelement.WebElement (session=\"6efa028b1d1c18230c37c16e9c7e1fbc\", element=\"774d6c4b-c8bb-4960-8163-4d4110bee608\")>,\n",
       " <selenium.webdriver.remote.webelement.WebElement (session=\"6efa028b1d1c18230c37c16e9c7e1fbc\", element=\"70cae98b-7a0e-40ee-becd-1707deab6a9d\")>,\n",
       " <selenium.webdriver.remote.webelement.WebElement (session=\"6efa028b1d1c18230c37c16e9c7e1fbc\", element=\"7b855f8e-7b0b-4534-a1c2-e48935cf414c\")>,\n",
       " <selenium.webdriver.remote.webelement.WebElement (session=\"6efa028b1d1c18230c37c16e9c7e1fbc\", element=\"4c48420c-da0c-4bcf-8a8a-940cd5fff5ab\")>,\n",
       " <selenium.webdriver.remote.webelement.WebElement (session=\"6efa028b1d1c18230c37c16e9c7e1fbc\", element=\"61f34015-5559-49b6-ab33-1b2813ebf621\")>,\n",
       " <selenium.webdriver.remote.webelement.WebElement (session=\"6efa028b1d1c18230c37c16e9c7e1fbc\", element=\"8131783b-6dc2-4b70-902d-76c4f696451a\")>,\n",
       " <selenium.webdriver.remote.webelement.WebElement (session=\"6efa028b1d1c18230c37c16e9c7e1fbc\", element=\"6d8d593a-d7c1-4b16-b6a4-cb5d7c3d6c87\")>,\n",
       " <selenium.webdriver.remote.webelement.WebElement (session=\"6efa028b1d1c18230c37c16e9c7e1fbc\", element=\"eb93fe61-a846-4c3c-9471-92dbffbe3ed4\")>,\n",
       " <selenium.webdriver.remote.webelement.WebElement (session=\"6efa028b1d1c18230c37c16e9c7e1fbc\", element=\"24add8a5-2141-4a53-8e5c-80c402ffea8f\")>,\n",
       " <selenium.webdriver.remote.webelement.WebElement (session=\"6efa028b1d1c18230c37c16e9c7e1fbc\", element=\"b558e9a8-d212-4a0f-b820-c8055e117185\")>,\n",
       " <selenium.webdriver.remote.webelement.WebElement (session=\"6efa028b1d1c18230c37c16e9c7e1fbc\", element=\"129b9663-8e39-4335-98fb-f4bafd2b189a\")>,\n",
       " <selenium.webdriver.remote.webelement.WebElement (session=\"6efa028b1d1c18230c37c16e9c7e1fbc\", element=\"126f3675-14d3-4e5b-b95d-c6ee817a1dde\")>,\n",
       " <selenium.webdriver.remote.webelement.WebElement (session=\"6efa028b1d1c18230c37c16e9c7e1fbc\", element=\"f8f273fc-be31-47a3-891e-129c1eed358a\")>,\n",
       " <selenium.webdriver.remote.webelement.WebElement (session=\"6efa028b1d1c18230c37c16e9c7e1fbc\", element=\"08f71ce8-014d-430a-8da8-95bf3a3fbe3b\")>,\n",
       " <selenium.webdriver.remote.webelement.WebElement (session=\"6efa028b1d1c18230c37c16e9c7e1fbc\", element=\"a923d6cf-acbb-4107-bb30-fe46b9c01189\")>,\n",
       " <selenium.webdriver.remote.webelement.WebElement (session=\"6efa028b1d1c18230c37c16e9c7e1fbc\", element=\"a38b157e-6264-4f22-96fb-c7f2404e3ee0\")>,\n",
       " <selenium.webdriver.remote.webelement.WebElement (session=\"6efa028b1d1c18230c37c16e9c7e1fbc\", element=\"21f5fa96-6093-474a-af73-3e2bdba71dfd\")>,\n",
       " <selenium.webdriver.remote.webelement.WebElement (session=\"6efa028b1d1c18230c37c16e9c7e1fbc\", element=\"cef0a9fd-02a5-41ff-a994-f091e4d5dd92\")>,\n",
       " <selenium.webdriver.remote.webelement.WebElement (session=\"6efa028b1d1c18230c37c16e9c7e1fbc\", element=\"8ecc797e-dceb-42e7-9c5b-f120ec475e60\")>,\n",
       " <selenium.webdriver.remote.webelement.WebElement (session=\"6efa028b1d1c18230c37c16e9c7e1fbc\", element=\"fc5b22d2-6c3b-4a90-b892-55da1c471bd5\")>,\n",
       " <selenium.webdriver.remote.webelement.WebElement (session=\"6efa028b1d1c18230c37c16e9c7e1fbc\", element=\"42aababa-76da-4b79-a89b-8f23d066de95\")>,\n",
       " <selenium.webdriver.remote.webelement.WebElement (session=\"6efa028b1d1c18230c37c16e9c7e1fbc\", element=\"01587da2-6c1b-4765-aa54-126f2b1e87af\")>,\n",
       " <selenium.webdriver.remote.webelement.WebElement (session=\"6efa028b1d1c18230c37c16e9c7e1fbc\", element=\"79ac5503-37aa-4d3a-b663-e1df738b8946\")>,\n",
       " <selenium.webdriver.remote.webelement.WebElement (session=\"6efa028b1d1c18230c37c16e9c7e1fbc\", element=\"30860782-229f-4897-ac43-41f9b902ca10\")>,\n",
       " <selenium.webdriver.remote.webelement.WebElement (session=\"6efa028b1d1c18230c37c16e9c7e1fbc\", element=\"0379ab62-8d2d-4336-99e8-af5423ba97e9\")>,\n",
       " <selenium.webdriver.remote.webelement.WebElement (session=\"6efa028b1d1c18230c37c16e9c7e1fbc\", element=\"ec7013ba-b3c7-43c1-841f-ff2d45a6fd6b\")>,\n",
       " <selenium.webdriver.remote.webelement.WebElement (session=\"6efa028b1d1c18230c37c16e9c7e1fbc\", element=\"88820263-3bcb-42d9-b02e-704351f32380\")>,\n",
       " <selenium.webdriver.remote.webelement.WebElement (session=\"6efa028b1d1c18230c37c16e9c7e1fbc\", element=\"dce5b648-a15e-4181-af15-09260ffeb21b\")>,\n",
       " <selenium.webdriver.remote.webelement.WebElement (session=\"6efa028b1d1c18230c37c16e9c7e1fbc\", element=\"e882349a-7002-495a-ba26-4793d35650cf\")>,\n",
       " <selenium.webdriver.remote.webelement.WebElement (session=\"6efa028b1d1c18230c37c16e9c7e1fbc\", element=\"bb4bd0c9-1b3b-4621-a0c6-8125ca38f2e2\")>,\n",
       " <selenium.webdriver.remote.webelement.WebElement (session=\"6efa028b1d1c18230c37c16e9c7e1fbc\", element=\"01c59535-b180-4a55-911d-4a72ed66c1df\")>,\n",
       " <selenium.webdriver.remote.webelement.WebElement (session=\"6efa028b1d1c18230c37c16e9c7e1fbc\", element=\"5bcfc55b-6916-4f9a-855a-76ed8f378cda\")>,\n",
       " <selenium.webdriver.remote.webelement.WebElement (session=\"6efa028b1d1c18230c37c16e9c7e1fbc\", element=\"f08ab71a-07df-4c0c-90c2-bfdeef8a4141\")>,\n",
       " <selenium.webdriver.remote.webelement.WebElement (session=\"6efa028b1d1c18230c37c16e9c7e1fbc\", element=\"fb98e7d8-9eae-47bd-af4e-f05fccfe4de5\")>,\n",
       " <selenium.webdriver.remote.webelement.WebElement (session=\"6efa028b1d1c18230c37c16e9c7e1fbc\", element=\"e5104f7a-8236-4b66-aa49-d9e1147f88c5\")>,\n",
       " <selenium.webdriver.remote.webelement.WebElement (session=\"6efa028b1d1c18230c37c16e9c7e1fbc\", element=\"0ec92ce3-d97a-4516-b87e-acf250ce31bb\")>,\n",
       " <selenium.webdriver.remote.webelement.WebElement (session=\"6efa028b1d1c18230c37c16e9c7e1fbc\", element=\"ecb26cf1-62dd-4067-94aa-3a90c3b1312f\")>,\n",
       " <selenium.webdriver.remote.webelement.WebElement (session=\"6efa028b1d1c18230c37c16e9c7e1fbc\", element=\"735e27b9-6e2d-4c7f-b031-d9ea97334eee\")>,\n",
       " <selenium.webdriver.remote.webelement.WebElement (session=\"6efa028b1d1c18230c37c16e9c7e1fbc\", element=\"c07c92d2-0c85-4fde-b6d0-c4bdfc967dd8\")>,\n",
       " <selenium.webdriver.remote.webelement.WebElement (session=\"6efa028b1d1c18230c37c16e9c7e1fbc\", element=\"261c0b3e-6b34-4083-9544-0c89038f4cfe\")>]"
      ]
     },
     "execution_count": 41,
     "metadata": {},
     "output_type": "execute_result"
    }
   ],
   "source": [
    "Brand_tags6=driver.find_elements_by_xpath('//div[@class=\"_2WkVRV\"]')\n",
    "len(Brand_tags6)\n",
    "Brand_tags6"
   ]
  },
  {
   "cell_type": "code",
   "execution_count": 42,
   "id": "c97f5e7b",
   "metadata": {},
   "outputs": [
    {
     "data": {
      "text/plain": [
       "['RapidBox',\n",
       " 'Zordic Shoes',\n",
       " 'Chevit',\n",
       " 'Magnolia',\n",
       " 'corsac',\n",
       " 'World Wear Footwear',\n",
       " 'BRUTON',\n",
       " 'Roadster',\n",
       " 'luxury fashion',\n",
       " 'KWIK FIT',\n",
       " 'CAMPUS',\n",
       " 'Jimnastic shoes',\n",
       " 'Kraasa',\n",
       " 'D-SNEAKERZ',\n",
       " 'URBANBOX',\n",
       " 'HRX by Hrithik Roshan',\n",
       " 'Shoes Bank',\n",
       " 'DUNKASTON',\n",
       " 'BRUTON',\n",
       " 'AMICO',\n",
       " 'aadi',\n",
       " 'World Wear Footwear',\n",
       " 'Elevarse',\n",
       " 'RapidBox',\n",
       " 'CLYMB',\n",
       " 'Magnolia',\n",
       " 'BRUTON',\n",
       " 'Echor',\n",
       " 'RapidBox',\n",
       " 'Kraasa',\n",
       " 'SCATCHITE',\n",
       " 'sixXplus',\n",
       " 'Rzisbo',\n",
       " 'Labbin',\n",
       " 'Kzaara',\n",
       " 'Roadster',\n",
       " 'luxury fashion',\n",
       " 'Xtoon',\n",
       " 'India hub',\n",
       " 'RapidBox']"
      ]
     },
     "execution_count": 42,
     "metadata": {},
     "output_type": "execute_result"
    }
   ],
   "source": [
    "Brand_titles6=[]\n",
    "\n",
    "for i in Brand_tags6:\n",
    "    Brand_titles6.append(i.text)\n",
    "    \n",
    "len(Brand_titles6)\n",
    "Brand_titles6"
   ]
  },
  {
   "cell_type": "markdown",
   "id": "71f7d774",
   "metadata": {},
   "source": [
    "Sneakers description"
   ]
  },
  {
   "cell_type": "code",
   "execution_count": 43,
   "id": "6c6199de",
   "metadata": {},
   "outputs": [
    {
     "data": {
      "text/plain": [
       "[<selenium.webdriver.remote.webelement.WebElement (session=\"6efa028b1d1c18230c37c16e9c7e1fbc\", element=\"46a13afd-f72c-4464-b500-c158ff3a8fc4\")>,\n",
       " <selenium.webdriver.remote.webelement.WebElement (session=\"6efa028b1d1c18230c37c16e9c7e1fbc\", element=\"0471a4a0-63b3-40a3-9991-ae4002c71c22\")>,\n",
       " <selenium.webdriver.remote.webelement.WebElement (session=\"6efa028b1d1c18230c37c16e9c7e1fbc\", element=\"741432e1-1f2b-476c-b89a-aee79326f231\")>,\n",
       " <selenium.webdriver.remote.webelement.WebElement (session=\"6efa028b1d1c18230c37c16e9c7e1fbc\", element=\"43a16dd2-4370-48c5-b2ec-1b325b943034\")>,\n",
       " <selenium.webdriver.remote.webelement.WebElement (session=\"6efa028b1d1c18230c37c16e9c7e1fbc\", element=\"d4cac234-8710-44d1-8635-c52e7fa5ed23\")>,\n",
       " <selenium.webdriver.remote.webelement.WebElement (session=\"6efa028b1d1c18230c37c16e9c7e1fbc\", element=\"050cadc6-4faf-4be5-aa63-510124de5ea5\")>,\n",
       " <selenium.webdriver.remote.webelement.WebElement (session=\"6efa028b1d1c18230c37c16e9c7e1fbc\", element=\"2677a768-e847-4798-8c45-d12513866b7e\")>,\n",
       " <selenium.webdriver.remote.webelement.WebElement (session=\"6efa028b1d1c18230c37c16e9c7e1fbc\", element=\"d8a7d1ab-d56c-484b-a020-6d5528eaa6b6\")>,\n",
       " <selenium.webdriver.remote.webelement.WebElement (session=\"6efa028b1d1c18230c37c16e9c7e1fbc\", element=\"927450a0-663c-4ef7-9748-45629a019964\")>,\n",
       " <selenium.webdriver.remote.webelement.WebElement (session=\"6efa028b1d1c18230c37c16e9c7e1fbc\", element=\"9061198e-ac79-4fde-a48b-d2e680821f50\")>,\n",
       " <selenium.webdriver.remote.webelement.WebElement (session=\"6efa028b1d1c18230c37c16e9c7e1fbc\", element=\"c0b286ba-3a3b-48f2-ac46-c0e7c6f8aacc\")>,\n",
       " <selenium.webdriver.remote.webelement.WebElement (session=\"6efa028b1d1c18230c37c16e9c7e1fbc\", element=\"149d66f3-9219-469a-aeaa-4dbb1abfa244\")>,\n",
       " <selenium.webdriver.remote.webelement.WebElement (session=\"6efa028b1d1c18230c37c16e9c7e1fbc\", element=\"0a33c32e-aebc-472d-af8c-4cd733db919c\")>,\n",
       " <selenium.webdriver.remote.webelement.WebElement (session=\"6efa028b1d1c18230c37c16e9c7e1fbc\", element=\"d074adf3-f6df-4ec5-b0f9-f982c54b5fe8\")>,\n",
       " <selenium.webdriver.remote.webelement.WebElement (session=\"6efa028b1d1c18230c37c16e9c7e1fbc\", element=\"1d0b0faa-9ea6-42a3-9f73-8cf35e7c36e4\")>,\n",
       " <selenium.webdriver.remote.webelement.WebElement (session=\"6efa028b1d1c18230c37c16e9c7e1fbc\", element=\"3cbe012f-4d5c-46ae-9aa1-87f73ab596d4\")>,\n",
       " <selenium.webdriver.remote.webelement.WebElement (session=\"6efa028b1d1c18230c37c16e9c7e1fbc\", element=\"8ecfe6b9-c9e8-4f24-9f06-65e72ebc818d\")>,\n",
       " <selenium.webdriver.remote.webelement.WebElement (session=\"6efa028b1d1c18230c37c16e9c7e1fbc\", element=\"fc8ece5c-65b3-4343-bc2e-cf8cd56b5ad8\")>,\n",
       " <selenium.webdriver.remote.webelement.WebElement (session=\"6efa028b1d1c18230c37c16e9c7e1fbc\", element=\"6cb4a927-f33e-49b3-9eab-06f291ca3119\")>,\n",
       " <selenium.webdriver.remote.webelement.WebElement (session=\"6efa028b1d1c18230c37c16e9c7e1fbc\", element=\"81fa985f-a6f8-4397-b5fc-3434039b52fb\")>,\n",
       " <selenium.webdriver.remote.webelement.WebElement (session=\"6efa028b1d1c18230c37c16e9c7e1fbc\", element=\"6fda7add-42f7-4073-b6c1-2c1c964c6be4\")>,\n",
       " <selenium.webdriver.remote.webelement.WebElement (session=\"6efa028b1d1c18230c37c16e9c7e1fbc\", element=\"15e35a96-efd7-4ee8-8679-48c7f6ab873f\")>,\n",
       " <selenium.webdriver.remote.webelement.WebElement (session=\"6efa028b1d1c18230c37c16e9c7e1fbc\", element=\"78cb98f7-bccb-42d0-af26-a5f27caaf33d\")>,\n",
       " <selenium.webdriver.remote.webelement.WebElement (session=\"6efa028b1d1c18230c37c16e9c7e1fbc\", element=\"5470ff4d-23fc-4de4-820c-ad3721e3d807\")>,\n",
       " <selenium.webdriver.remote.webelement.WebElement (session=\"6efa028b1d1c18230c37c16e9c7e1fbc\", element=\"9f940321-b8e5-47ff-92b9-bda6869c02a1\")>,\n",
       " <selenium.webdriver.remote.webelement.WebElement (session=\"6efa028b1d1c18230c37c16e9c7e1fbc\", element=\"6fe3f930-5f83-46ce-bced-4d4bc6b9355e\")>,\n",
       " <selenium.webdriver.remote.webelement.WebElement (session=\"6efa028b1d1c18230c37c16e9c7e1fbc\", element=\"d1c60f00-0cb7-466d-8f6f-e6219068b2e3\")>,\n",
       " <selenium.webdriver.remote.webelement.WebElement (session=\"6efa028b1d1c18230c37c16e9c7e1fbc\", element=\"b733b767-b434-4542-bff7-b24bf1bffdb1\")>,\n",
       " <selenium.webdriver.remote.webelement.WebElement (session=\"6efa028b1d1c18230c37c16e9c7e1fbc\", element=\"a6d8a61d-2f2f-4358-97ae-f93b356d8e46\")>,\n",
       " <selenium.webdriver.remote.webelement.WebElement (session=\"6efa028b1d1c18230c37c16e9c7e1fbc\", element=\"2dae1fc7-36bc-4534-a531-704dc87529cd\")>]"
      ]
     },
     "execution_count": 43,
     "metadata": {},
     "output_type": "execute_result"
    }
   ],
   "source": [
    "Product_tags6=driver.find_elements_by_xpath('//a[@class=\"IRpwTa\"]')\n",
    "len(Product_tags6)\n",
    "Product_tags6"
   ]
  },
  {
   "cell_type": "code",
   "execution_count": 44,
   "id": "3f3c1539",
   "metadata": {},
   "outputs": [
    {
     "data": {
      "text/plain": [
       "['Super Stylish & Trendy Combo Pack of 02 Pairs Sneakers ...',\n",
       " 'Sneakers For Men',\n",
       " '5011-Latest Collection Stylish Casual Loafer Sneakers S...',\n",
       " 'Modern Trendy Sneakers Shoes Sneakers For Men',\n",
       " 'Men Blue Solid Sneakers Sneakers For Men',\n",
       " 'Luxury Fashionable casual sneaker shoes Sneakers For Me...',\n",
       " 'Kwik FIT casual sneaker shoes and partywear shoes Casua...',\n",
       " 'Series 7 Sneakers For Men',\n",
       " \"Casual , Partywear Sneakers Shoes For Men's And Boys Wh...\",\n",
       " 'Men White Printed Sneakers Sneakers For Men',\n",
       " \"White Sneaker For Men's/Boy's Sneakers For Men\",\n",
       " 'Sneakers For Men',\n",
       " 'Modern & Trendy Collection Combo Pack of 02 Shoes for M...',\n",
       " 'Sneakers For Men',\n",
       " 'Sneakers For Men',\n",
       " 'Sneakers For Men',\n",
       " 'Sneakers For Men',\n",
       " 'Sneakers For Men',\n",
       " 'Sneakers For Men',\n",
       " 'Combo Pack Of 4 Casual Shoes Loafer Shoes Sneakers For ...',\n",
       " \"Echor Men's Sneakers Fashion Lightweight Running Shoes ...\",\n",
       " 'Shark-41 Sneakers For Men',\n",
       " 'Sneakers For Men',\n",
       " 'Sneakers For Men',\n",
       " 'Sneakers For Men',\n",
       " 'Sneakers For Men',\n",
       " 'Men White Solid Sneakers Sneakers For Men',\n",
       " 'Fashionable sneaker shoes Sneakers For Men',\n",
       " \"white Casual shoes,Sneakers for men's Sneakers For Men\",\n",
       " 'Luxury Fashionable casual sneaker shoes Sneakers For Me...']"
      ]
     },
     "execution_count": 44,
     "metadata": {},
     "output_type": "execute_result"
    }
   ],
   "source": [
    "Product_titles6=[]\n",
    "\n",
    "for i in Product_tags6:\n",
    "    Product_titles6.append(i.text)\n",
    "    \n",
    "len(Product_titles6)\n",
    "Product_titles6"
   ]
  },
  {
   "cell_type": "markdown",
   "id": "0bb28e9b",
   "metadata": {},
   "source": [
    "Price List of Sneaker"
   ]
  },
  {
   "cell_type": "code",
   "execution_count": 45,
   "id": "2e554a1f",
   "metadata": {},
   "outputs": [
    {
     "data": {
      "text/plain": [
       "[<selenium.webdriver.remote.webelement.WebElement (session=\"6efa028b1d1c18230c37c16e9c7e1fbc\", element=\"80e4ac00-1621-4a49-90f7-5877d8bac04e\")>,\n",
       " <selenium.webdriver.remote.webelement.WebElement (session=\"6efa028b1d1c18230c37c16e9c7e1fbc\", element=\"b9f50599-156d-419c-9994-c2cd3b700dde\")>,\n",
       " <selenium.webdriver.remote.webelement.WebElement (session=\"6efa028b1d1c18230c37c16e9c7e1fbc\", element=\"da5682e3-1049-4a37-8204-6ca5dd81cb6c\")>,\n",
       " <selenium.webdriver.remote.webelement.WebElement (session=\"6efa028b1d1c18230c37c16e9c7e1fbc\", element=\"8cdef8fd-17f3-4f0f-b7d3-922659a48328\")>,\n",
       " <selenium.webdriver.remote.webelement.WebElement (session=\"6efa028b1d1c18230c37c16e9c7e1fbc\", element=\"958bdf2e-0d49-4f42-99d3-eb3975dae3a6\")>,\n",
       " <selenium.webdriver.remote.webelement.WebElement (session=\"6efa028b1d1c18230c37c16e9c7e1fbc\", element=\"76f9a9cd-84b2-4f85-89c6-f3afb0cb7a1e\")>,\n",
       " <selenium.webdriver.remote.webelement.WebElement (session=\"6efa028b1d1c18230c37c16e9c7e1fbc\", element=\"eb4113b8-1e60-4b47-9d67-c7297406ed7a\")>,\n",
       " <selenium.webdriver.remote.webelement.WebElement (session=\"6efa028b1d1c18230c37c16e9c7e1fbc\", element=\"6de08cd5-033e-4d3c-a49d-61b4f2b85a95\")>,\n",
       " <selenium.webdriver.remote.webelement.WebElement (session=\"6efa028b1d1c18230c37c16e9c7e1fbc\", element=\"81e9f96c-c248-440f-9657-076deced73ca\")>,\n",
       " <selenium.webdriver.remote.webelement.WebElement (session=\"6efa028b1d1c18230c37c16e9c7e1fbc\", element=\"3f160f4c-cb21-4e1a-910c-2c59b7a2cd29\")>,\n",
       " <selenium.webdriver.remote.webelement.WebElement (session=\"6efa028b1d1c18230c37c16e9c7e1fbc\", element=\"85bcdb8d-35c0-44bc-914b-79a638672dcd\")>,\n",
       " <selenium.webdriver.remote.webelement.WebElement (session=\"6efa028b1d1c18230c37c16e9c7e1fbc\", element=\"64eac189-8b4a-490f-8f0c-a5814c6478c9\")>,\n",
       " <selenium.webdriver.remote.webelement.WebElement (session=\"6efa028b1d1c18230c37c16e9c7e1fbc\", element=\"432e5b87-d5ac-42f8-a77f-94fd43d14e1b\")>,\n",
       " <selenium.webdriver.remote.webelement.WebElement (session=\"6efa028b1d1c18230c37c16e9c7e1fbc\", element=\"d4e101fd-5f88-47b9-a327-ce4d5a00b3bb\")>,\n",
       " <selenium.webdriver.remote.webelement.WebElement (session=\"6efa028b1d1c18230c37c16e9c7e1fbc\", element=\"acf0cbb0-1b8b-4357-b240-5cd1fe5072d5\")>,\n",
       " <selenium.webdriver.remote.webelement.WebElement (session=\"6efa028b1d1c18230c37c16e9c7e1fbc\", element=\"f836dfad-95e9-4afe-a8db-b22cfe78c589\")>,\n",
       " <selenium.webdriver.remote.webelement.WebElement (session=\"6efa028b1d1c18230c37c16e9c7e1fbc\", element=\"a5bca95c-8033-41f9-b8d3-8058ad9be31b\")>,\n",
       " <selenium.webdriver.remote.webelement.WebElement (session=\"6efa028b1d1c18230c37c16e9c7e1fbc\", element=\"b76bdfc8-66f8-4070-864a-9fc4a2e53b29\")>,\n",
       " <selenium.webdriver.remote.webelement.WebElement (session=\"6efa028b1d1c18230c37c16e9c7e1fbc\", element=\"1f51274d-28bc-4fe3-b2ad-9630b78f4c0e\")>,\n",
       " <selenium.webdriver.remote.webelement.WebElement (session=\"6efa028b1d1c18230c37c16e9c7e1fbc\", element=\"7a931c07-8598-4e71-a9d4-209eb2eeb7a3\")>,\n",
       " <selenium.webdriver.remote.webelement.WebElement (session=\"6efa028b1d1c18230c37c16e9c7e1fbc\", element=\"7ce083bb-d13d-48a6-ac6a-3c1866ccd65f\")>,\n",
       " <selenium.webdriver.remote.webelement.WebElement (session=\"6efa028b1d1c18230c37c16e9c7e1fbc\", element=\"5706353d-b700-4076-b61b-ff6641673766\")>,\n",
       " <selenium.webdriver.remote.webelement.WebElement (session=\"6efa028b1d1c18230c37c16e9c7e1fbc\", element=\"dd09932a-5856-4bde-8908-6865c0ebe718\")>,\n",
       " <selenium.webdriver.remote.webelement.WebElement (session=\"6efa028b1d1c18230c37c16e9c7e1fbc\", element=\"864ed01c-db75-459c-8267-8529d464f6af\")>,\n",
       " <selenium.webdriver.remote.webelement.WebElement (session=\"6efa028b1d1c18230c37c16e9c7e1fbc\", element=\"3e7e9519-f9a2-4046-b6fd-6ac2770a59a7\")>,\n",
       " <selenium.webdriver.remote.webelement.WebElement (session=\"6efa028b1d1c18230c37c16e9c7e1fbc\", element=\"f7e47a25-32f3-43a4-87b8-88484145b3c9\")>,\n",
       " <selenium.webdriver.remote.webelement.WebElement (session=\"6efa028b1d1c18230c37c16e9c7e1fbc\", element=\"4e872c0e-0db4-45a9-8a7c-c59d666d0c62\")>,\n",
       " <selenium.webdriver.remote.webelement.WebElement (session=\"6efa028b1d1c18230c37c16e9c7e1fbc\", element=\"8f9276ce-4749-41db-97aa-a857288b66bf\")>,\n",
       " <selenium.webdriver.remote.webelement.WebElement (session=\"6efa028b1d1c18230c37c16e9c7e1fbc\", element=\"1767d70b-669b-44ef-a17d-6746cf8472be\")>,\n",
       " <selenium.webdriver.remote.webelement.WebElement (session=\"6efa028b1d1c18230c37c16e9c7e1fbc\", element=\"5ffe2a6f-00b9-4e43-b353-c3a7c4facd2e\")>,\n",
       " <selenium.webdriver.remote.webelement.WebElement (session=\"6efa028b1d1c18230c37c16e9c7e1fbc\", element=\"01a4fe3b-f85e-434f-af76-ca0f1f02b553\")>,\n",
       " <selenium.webdriver.remote.webelement.WebElement (session=\"6efa028b1d1c18230c37c16e9c7e1fbc\", element=\"7ce7b49d-a512-4187-9f36-184cd228dcde\")>,\n",
       " <selenium.webdriver.remote.webelement.WebElement (session=\"6efa028b1d1c18230c37c16e9c7e1fbc\", element=\"321469ae-6aa0-473a-9ac2-ad7a599a9cfa\")>,\n",
       " <selenium.webdriver.remote.webelement.WebElement (session=\"6efa028b1d1c18230c37c16e9c7e1fbc\", element=\"40124fbb-34f2-4703-9b59-3c19a94bb141\")>,\n",
       " <selenium.webdriver.remote.webelement.WebElement (session=\"6efa028b1d1c18230c37c16e9c7e1fbc\", element=\"e99d557f-f42e-4fa7-a2b1-ffc0ee413ac1\")>,\n",
       " <selenium.webdriver.remote.webelement.WebElement (session=\"6efa028b1d1c18230c37c16e9c7e1fbc\", element=\"c2777cdf-eb56-4b4f-8e98-f8848f7838d3\")>,\n",
       " <selenium.webdriver.remote.webelement.WebElement (session=\"6efa028b1d1c18230c37c16e9c7e1fbc\", element=\"66649d74-5cb1-4b20-bbb1-157e59db0821\")>,\n",
       " <selenium.webdriver.remote.webelement.WebElement (session=\"6efa028b1d1c18230c37c16e9c7e1fbc\", element=\"e6e215ec-e334-4c64-b916-7ad89dfe895f\")>,\n",
       " <selenium.webdriver.remote.webelement.WebElement (session=\"6efa028b1d1c18230c37c16e9c7e1fbc\", element=\"dfb3e845-6049-4d8a-9387-d8442056a8a1\")>,\n",
       " <selenium.webdriver.remote.webelement.WebElement (session=\"6efa028b1d1c18230c37c16e9c7e1fbc\", element=\"382dfcad-011b-4fe6-aa55-b81f92b3a8f6\")>]"
      ]
     },
     "execution_count": 45,
     "metadata": {},
     "output_type": "execute_result"
    }
   ],
   "source": [
    "Price_tags6=driver.find_elements_by_xpath('//div[@class=\"_30jeq3\"]')\n",
    "len(Price_tags6)\n",
    "Price_tags6"
   ]
  },
  {
   "cell_type": "code",
   "execution_count": 46,
   "id": "70faa844",
   "metadata": {},
   "outputs": [
    {
     "data": {
      "text/plain": [
       "['₹580',\n",
       " '₹347',\n",
       " '₹501',\n",
       " '₹327',\n",
       " '₹424',\n",
       " '₹149',\n",
       " '₹209',\n",
       " '₹1,249',\n",
       " '₹399',\n",
       " '₹349',\n",
       " '₹999',\n",
       " '₹347',\n",
       " '₹394',\n",
       " '₹249',\n",
       " '₹148',\n",
       " '₹2,049',\n",
       " '₹248',\n",
       " '₹269',\n",
       " '₹421',\n",
       " '₹474',\n",
       " '₹269',\n",
       " '₹190',\n",
       " '₹349',\n",
       " '₹630',\n",
       " '₹534',\n",
       " '₹349',\n",
       " '₹449',\n",
       " '₹433',\n",
       " '₹630',\n",
       " '₹394',\n",
       " '₹348',\n",
       " '₹399',\n",
       " '₹499',\n",
       " '₹424',\n",
       " '₹209',\n",
       " '₹1,634',\n",
       " '₹449',\n",
       " '₹429',\n",
       " '₹349',\n",
       " '₹590']"
      ]
     },
     "execution_count": 46,
     "metadata": {},
     "output_type": "execute_result"
    }
   ],
   "source": [
    "Price_titles6=[]\n",
    "\n",
    "for i in Price_tags6:\n",
    "    Price_titles6.append(i.text)\n",
    "    \n",
    "len(Price_titles6)\n",
    "Price_titles6"
   ]
  },
  {
   "cell_type": "markdown",
   "id": "e38c5962",
   "metadata": {},
   "source": [
    "Changing of page to acces more data"
   ]
  },
  {
   "cell_type": "code",
   "execution_count": 47,
   "id": "61d9cb3a",
   "metadata": {},
   "outputs": [],
   "source": [
    "Page_check=driver.find_element_by_xpath('/html/body/div[1]/div/div[3]/div[1]/div[2]/div[12]/div/div/nav/a[11]')\n",
    "Page_check.click()"
   ]
  },
  {
   "cell_type": "markdown",
   "id": "0230f98c",
   "metadata": {},
   "source": [
    "SNEAKERS BRAND NAME EXTENSION"
   ]
  },
  {
   "cell_type": "code",
   "execution_count": 48,
   "id": "9fd96f4b",
   "metadata": {},
   "outputs": [
    {
     "data": {
      "text/plain": [
       "[<selenium.webdriver.remote.webelement.WebElement (session=\"6efa028b1d1c18230c37c16e9c7e1fbc\", element=\"a637c18d-522b-4fb6-b54f-bba55748c736\")>,\n",
       " <selenium.webdriver.remote.webelement.WebElement (session=\"6efa028b1d1c18230c37c16e9c7e1fbc\", element=\"5706b6c3-e080-4361-bb50-22350df22b43\")>,\n",
       " <selenium.webdriver.remote.webelement.WebElement (session=\"6efa028b1d1c18230c37c16e9c7e1fbc\", element=\"e7e60e8d-a6c9-4468-9567-96a0390db3bd\")>,\n",
       " <selenium.webdriver.remote.webelement.WebElement (session=\"6efa028b1d1c18230c37c16e9c7e1fbc\", element=\"9178419d-1e78-471b-800a-35c2b51ab12a\")>,\n",
       " <selenium.webdriver.remote.webelement.WebElement (session=\"6efa028b1d1c18230c37c16e9c7e1fbc\", element=\"cdd10e1f-0532-40ef-a610-8e83d69d22ed\")>,\n",
       " <selenium.webdriver.remote.webelement.WebElement (session=\"6efa028b1d1c18230c37c16e9c7e1fbc\", element=\"ab2b15f1-903e-46ff-8cc6-03addf8d03e7\")>,\n",
       " <selenium.webdriver.remote.webelement.WebElement (session=\"6efa028b1d1c18230c37c16e9c7e1fbc\", element=\"ce528ad9-aa2c-4abb-bffc-4ad634cd66cd\")>,\n",
       " <selenium.webdriver.remote.webelement.WebElement (session=\"6efa028b1d1c18230c37c16e9c7e1fbc\", element=\"f265684a-c5e9-4fb1-bf1d-6bea86328c4a\")>,\n",
       " <selenium.webdriver.remote.webelement.WebElement (session=\"6efa028b1d1c18230c37c16e9c7e1fbc\", element=\"fcc8ca64-eb3f-4737-aeb5-63a5587edc70\")>,\n",
       " <selenium.webdriver.remote.webelement.WebElement (session=\"6efa028b1d1c18230c37c16e9c7e1fbc\", element=\"2c48cb4b-6e98-4849-ab54-7820762e1497\")>,\n",
       " <selenium.webdriver.remote.webelement.WebElement (session=\"6efa028b1d1c18230c37c16e9c7e1fbc\", element=\"96beda07-3a8e-4199-a851-317fd3d8e86f\")>,\n",
       " <selenium.webdriver.remote.webelement.WebElement (session=\"6efa028b1d1c18230c37c16e9c7e1fbc\", element=\"5b51609a-2831-4ba5-9f2a-73bbab29b2c9\")>,\n",
       " <selenium.webdriver.remote.webelement.WebElement (session=\"6efa028b1d1c18230c37c16e9c7e1fbc\", element=\"f1ab7975-6c47-4a26-bf9b-0f4c0f77cdc7\")>,\n",
       " <selenium.webdriver.remote.webelement.WebElement (session=\"6efa028b1d1c18230c37c16e9c7e1fbc\", element=\"bc562b66-a50e-4c80-87a2-960cc32d1a8f\")>,\n",
       " <selenium.webdriver.remote.webelement.WebElement (session=\"6efa028b1d1c18230c37c16e9c7e1fbc\", element=\"44aee8f9-6289-4a79-983c-98c9c243d2f8\")>,\n",
       " <selenium.webdriver.remote.webelement.WebElement (session=\"6efa028b1d1c18230c37c16e9c7e1fbc\", element=\"a01bef5f-3c66-48c5-a3f0-cd1fca9e949c\")>,\n",
       " <selenium.webdriver.remote.webelement.WebElement (session=\"6efa028b1d1c18230c37c16e9c7e1fbc\", element=\"4500cbc1-a372-41fd-8011-8a16ed164471\")>,\n",
       " <selenium.webdriver.remote.webelement.WebElement (session=\"6efa028b1d1c18230c37c16e9c7e1fbc\", element=\"5d646fb1-8dd2-4f37-9b72-59eaeb148ae5\")>,\n",
       " <selenium.webdriver.remote.webelement.WebElement (session=\"6efa028b1d1c18230c37c16e9c7e1fbc\", element=\"bdc71cf9-4eae-4b2c-9079-308d702991ca\")>,\n",
       " <selenium.webdriver.remote.webelement.WebElement (session=\"6efa028b1d1c18230c37c16e9c7e1fbc\", element=\"37a241a7-60e0-450f-84ce-ec8936697a6e\")>,\n",
       " <selenium.webdriver.remote.webelement.WebElement (session=\"6efa028b1d1c18230c37c16e9c7e1fbc\", element=\"01563d9b-f015-421d-ba58-313810189cbe\")>,\n",
       " <selenium.webdriver.remote.webelement.WebElement (session=\"6efa028b1d1c18230c37c16e9c7e1fbc\", element=\"3f207606-7b8c-48fe-8d8e-3b12c018feba\")>,\n",
       " <selenium.webdriver.remote.webelement.WebElement (session=\"6efa028b1d1c18230c37c16e9c7e1fbc\", element=\"b59a5c2b-3cb2-443e-8716-6f441b3c0493\")>,\n",
       " <selenium.webdriver.remote.webelement.WebElement (session=\"6efa028b1d1c18230c37c16e9c7e1fbc\", element=\"af5b01ff-bd11-4ca0-a19c-f91df471e871\")>,\n",
       " <selenium.webdriver.remote.webelement.WebElement (session=\"6efa028b1d1c18230c37c16e9c7e1fbc\", element=\"e55d3460-0a00-471c-913c-22c8e84d7d2e\")>,\n",
       " <selenium.webdriver.remote.webelement.WebElement (session=\"6efa028b1d1c18230c37c16e9c7e1fbc\", element=\"9bd66091-344d-4652-981b-952bc89d8899\")>,\n",
       " <selenium.webdriver.remote.webelement.WebElement (session=\"6efa028b1d1c18230c37c16e9c7e1fbc\", element=\"8f6e2805-6034-4ea8-8809-739679994a5a\")>,\n",
       " <selenium.webdriver.remote.webelement.WebElement (session=\"6efa028b1d1c18230c37c16e9c7e1fbc\", element=\"70ce419c-a34b-4c6b-bcb1-9bb2f6024875\")>,\n",
       " <selenium.webdriver.remote.webelement.WebElement (session=\"6efa028b1d1c18230c37c16e9c7e1fbc\", element=\"6ff0c6db-5d61-438d-b5ce-ffc30d54f82a\")>,\n",
       " <selenium.webdriver.remote.webelement.WebElement (session=\"6efa028b1d1c18230c37c16e9c7e1fbc\", element=\"ffea0ca1-a24a-4fef-8846-81116d50919a\")>,\n",
       " <selenium.webdriver.remote.webelement.WebElement (session=\"6efa028b1d1c18230c37c16e9c7e1fbc\", element=\"6efffeab-fb73-4adb-8647-31b7875e0d29\")>,\n",
       " <selenium.webdriver.remote.webelement.WebElement (session=\"6efa028b1d1c18230c37c16e9c7e1fbc\", element=\"e6e86a53-0d19-4d65-8bc3-34852f090e4d\")>,\n",
       " <selenium.webdriver.remote.webelement.WebElement (session=\"6efa028b1d1c18230c37c16e9c7e1fbc\", element=\"cf9c4de6-adf9-4549-8fba-e92f42482a3f\")>,\n",
       " <selenium.webdriver.remote.webelement.WebElement (session=\"6efa028b1d1c18230c37c16e9c7e1fbc\", element=\"52322406-a201-49cb-9e29-66a9b3dbe740\")>,\n",
       " <selenium.webdriver.remote.webelement.WebElement (session=\"6efa028b1d1c18230c37c16e9c7e1fbc\", element=\"1574fc9d-8a51-4ff2-aaf6-4cf9a901c2e4\")>,\n",
       " <selenium.webdriver.remote.webelement.WebElement (session=\"6efa028b1d1c18230c37c16e9c7e1fbc\", element=\"5c811eeb-7ad7-4522-a7ec-e39a3796bace\")>,\n",
       " <selenium.webdriver.remote.webelement.WebElement (session=\"6efa028b1d1c18230c37c16e9c7e1fbc\", element=\"4a5ad70c-f889-4fd6-8fff-636bc33e522a\")>,\n",
       " <selenium.webdriver.remote.webelement.WebElement (session=\"6efa028b1d1c18230c37c16e9c7e1fbc\", element=\"8c4b6892-e325-4965-a911-bd846d8e2f1e\")>,\n",
       " <selenium.webdriver.remote.webelement.WebElement (session=\"6efa028b1d1c18230c37c16e9c7e1fbc\", element=\"d46a6833-ec31-46ce-bc37-752eaee1094a\")>,\n",
       " <selenium.webdriver.remote.webelement.WebElement (session=\"6efa028b1d1c18230c37c16e9c7e1fbc\", element=\"f2ed9d19-fc93-475a-9ef3-222b4181d774\")>]"
      ]
     },
     "execution_count": 48,
     "metadata": {},
     "output_type": "execute_result"
    }
   ],
   "source": [
    "Brand_tags6=driver.find_elements_by_xpath('//div[@class=\"_2WkVRV\"]')\n",
    "len(Brand_tags6)\n",
    "Brand_tags6"
   ]
  },
  {
   "cell_type": "code",
   "execution_count": 49,
   "id": "6be9ef1a",
   "metadata": {},
   "outputs": [
    {
     "data": {
      "text/plain": [
       "['RapidBox',\n",
       " 'Zordic Shoes',\n",
       " 'Chevit',\n",
       " 'Magnolia',\n",
       " 'corsac',\n",
       " 'World Wear Footwear',\n",
       " 'BRUTON',\n",
       " 'Roadster',\n",
       " 'luxury fashion',\n",
       " 'KWIK FIT',\n",
       " 'CAMPUS',\n",
       " 'Jimnastic shoes',\n",
       " 'Kraasa',\n",
       " 'D-SNEAKERZ',\n",
       " 'URBANBOX',\n",
       " 'HRX by Hrithik Roshan',\n",
       " 'Shoes Bank',\n",
       " 'DUNKASTON',\n",
       " 'BRUTON',\n",
       " 'AMICO',\n",
       " 'aadi',\n",
       " 'World Wear Footwear',\n",
       " 'Elevarse',\n",
       " 'RapidBox',\n",
       " 'CLYMB',\n",
       " 'Magnolia',\n",
       " 'BRUTON',\n",
       " 'Echor',\n",
       " 'RapidBox',\n",
       " 'Kraasa',\n",
       " 'SCATCHITE',\n",
       " 'sixXplus',\n",
       " 'Rzisbo',\n",
       " 'Labbin',\n",
       " 'Kzaara',\n",
       " 'Roadster',\n",
       " 'luxury fashion',\n",
       " 'Xtoon',\n",
       " 'India hub',\n",
       " 'RapidBox',\n",
       " 'BRUTON',\n",
       " 'Airland',\n",
       " 'Echor',\n",
       " 'BIRDE',\n",
       " 'Numenzo',\n",
       " 'Vellinto',\n",
       " 'Zsyto',\n",
       " 'Varito',\n",
       " 'BRUTON',\n",
       " 'RAFTAR FASHION',\n",
       " 'Chevit',\n",
       " 'HRX by Hrithik Roshan',\n",
       " 'BRUTON',\n",
       " 'World Wear Footwear',\n",
       " 'Numenzo',\n",
       " 'Chevit',\n",
       " 'World Wear Footwear',\n",
       " 'SWIGGY',\n",
       " 'TR',\n",
       " 'bluemaker',\n",
       " 'CLYMB',\n",
       " 'Robbie jones',\n",
       " 'ASTEROID',\n",
       " 'Rising Wolf',\n",
       " 'Robbie jones',\n",
       " 'D-SNEAKERZ',\n",
       " 'Magnolia',\n",
       " 'OZJI',\n",
       " 'CLYMB',\n",
       " 'Dizzler',\n",
       " 'Kraasa',\n",
       " 'bluemaker',\n",
       " 'Zorth',\n",
       " 'Robbie jones',\n",
       " 'ADIDAS',\n",
       " 'HRX by Hrithik Roshan',\n",
       " 'Echor',\n",
       " 'ASIAN',\n",
       " 'Zorth',\n",
       " 'HRX by Hrithik Roshan']"
      ]
     },
     "execution_count": 49,
     "metadata": {},
     "output_type": "execute_result"
    }
   ],
   "source": [
    "for i in Brand_tags6:\n",
    "    Brand_titles6.append(i.text)\n",
    "    \n",
    "len(Brand_titles6)\n",
    "Brand_titles6"
   ]
  },
  {
   "cell_type": "markdown",
   "id": "f084cef8",
   "metadata": {},
   "source": [
    "Sneaker description"
   ]
  },
  {
   "cell_type": "code",
   "execution_count": 50,
   "id": "932f51ec",
   "metadata": {},
   "outputs": [
    {
     "data": {
      "text/plain": [
       "[<selenium.webdriver.remote.webelement.WebElement (session=\"6efa028b1d1c18230c37c16e9c7e1fbc\", element=\"844bd45c-7c1e-416e-aa4b-01c1924e4e00\")>,\n",
       " <selenium.webdriver.remote.webelement.WebElement (session=\"6efa028b1d1c18230c37c16e9c7e1fbc\", element=\"b87865b1-a2d1-4a26-8f64-2c54a03d63aa\")>,\n",
       " <selenium.webdriver.remote.webelement.WebElement (session=\"6efa028b1d1c18230c37c16e9c7e1fbc\", element=\"cad54d6f-1469-4861-8857-df3b52c907ad\")>,\n",
       " <selenium.webdriver.remote.webelement.WebElement (session=\"6efa028b1d1c18230c37c16e9c7e1fbc\", element=\"8b90c9df-e752-4a4c-a0b9-d767fedd7167\")>,\n",
       " <selenium.webdriver.remote.webelement.WebElement (session=\"6efa028b1d1c18230c37c16e9c7e1fbc\", element=\"f6f58254-0900-441e-9356-cd0a0dcb2b9f\")>,\n",
       " <selenium.webdriver.remote.webelement.WebElement (session=\"6efa028b1d1c18230c37c16e9c7e1fbc\", element=\"baa4f841-14d8-4890-bf1c-4a2da2ee5252\")>,\n",
       " <selenium.webdriver.remote.webelement.WebElement (session=\"6efa028b1d1c18230c37c16e9c7e1fbc\", element=\"67e06b56-cb6b-4683-8635-c69b36da050a\")>,\n",
       " <selenium.webdriver.remote.webelement.WebElement (session=\"6efa028b1d1c18230c37c16e9c7e1fbc\", element=\"6f7c6a27-f2ca-4164-b8d1-1df821b74732\")>,\n",
       " <selenium.webdriver.remote.webelement.WebElement (session=\"6efa028b1d1c18230c37c16e9c7e1fbc\", element=\"c1930035-94ee-48a9-87ed-383252a1c8fd\")>,\n",
       " <selenium.webdriver.remote.webelement.WebElement (session=\"6efa028b1d1c18230c37c16e9c7e1fbc\", element=\"61e6afe1-6801-46cc-9d94-f1e4c6375cb4\")>,\n",
       " <selenium.webdriver.remote.webelement.WebElement (session=\"6efa028b1d1c18230c37c16e9c7e1fbc\", element=\"39e27ca8-0565-4cf8-b32a-4c1c7983205a\")>,\n",
       " <selenium.webdriver.remote.webelement.WebElement (session=\"6efa028b1d1c18230c37c16e9c7e1fbc\", element=\"9952b3fd-8d9f-4a5b-9597-05b9f45da578\")>,\n",
       " <selenium.webdriver.remote.webelement.WebElement (session=\"6efa028b1d1c18230c37c16e9c7e1fbc\", element=\"9f01034a-b098-440b-9631-92ad33afcc61\")>,\n",
       " <selenium.webdriver.remote.webelement.WebElement (session=\"6efa028b1d1c18230c37c16e9c7e1fbc\", element=\"db06f116-f0d6-4b59-a694-7a5e539763e9\")>,\n",
       " <selenium.webdriver.remote.webelement.WebElement (session=\"6efa028b1d1c18230c37c16e9c7e1fbc\", element=\"ac462732-6317-4362-9648-49e7b1ef4901\")>,\n",
       " <selenium.webdriver.remote.webelement.WebElement (session=\"6efa028b1d1c18230c37c16e9c7e1fbc\", element=\"04ed8550-b480-4088-9ed3-32a813c30ddd\")>,\n",
       " <selenium.webdriver.remote.webelement.WebElement (session=\"6efa028b1d1c18230c37c16e9c7e1fbc\", element=\"12b475ee-3f01-430a-bc2e-e3eced2ec77c\")>,\n",
       " <selenium.webdriver.remote.webelement.WebElement (session=\"6efa028b1d1c18230c37c16e9c7e1fbc\", element=\"52264fc3-0e01-4665-a083-c02afee2203e\")>,\n",
       " <selenium.webdriver.remote.webelement.WebElement (session=\"6efa028b1d1c18230c37c16e9c7e1fbc\", element=\"ec28b278-9abd-4c52-95d0-06c783a5e513\")>,\n",
       " <selenium.webdriver.remote.webelement.WebElement (session=\"6efa028b1d1c18230c37c16e9c7e1fbc\", element=\"18170298-4792-4e97-8a38-a5ac19811f5b\")>,\n",
       " <selenium.webdriver.remote.webelement.WebElement (session=\"6efa028b1d1c18230c37c16e9c7e1fbc\", element=\"1fdf775f-1daa-4e0e-baa5-4b67831b4cb4\")>,\n",
       " <selenium.webdriver.remote.webelement.WebElement (session=\"6efa028b1d1c18230c37c16e9c7e1fbc\", element=\"a365641a-3df7-4e28-9633-b2e5de1e0c2c\")>,\n",
       " <selenium.webdriver.remote.webelement.WebElement (session=\"6efa028b1d1c18230c37c16e9c7e1fbc\", element=\"1efc3602-6271-4694-a466-eebd3b4802be\")>,\n",
       " <selenium.webdriver.remote.webelement.WebElement (session=\"6efa028b1d1c18230c37c16e9c7e1fbc\", element=\"970cfaf1-acba-472c-a598-ef93bbdd3172\")>,\n",
       " <selenium.webdriver.remote.webelement.WebElement (session=\"6efa028b1d1c18230c37c16e9c7e1fbc\", element=\"4b75cae4-d8ee-43c3-b8a7-eb36050f8cff\")>,\n",
       " <selenium.webdriver.remote.webelement.WebElement (session=\"6efa028b1d1c18230c37c16e9c7e1fbc\", element=\"f03889c5-6e36-40ee-994c-12c5f1335912\")>,\n",
       " <selenium.webdriver.remote.webelement.WebElement (session=\"6efa028b1d1c18230c37c16e9c7e1fbc\", element=\"70886b4b-3d6e-4213-984a-9dfd9569011f\")>,\n",
       " <selenium.webdriver.remote.webelement.WebElement (session=\"6efa028b1d1c18230c37c16e9c7e1fbc\", element=\"892189a5-33c0-41a9-8736-61bcbd965a28\")>,\n",
       " <selenium.webdriver.remote.webelement.WebElement (session=\"6efa028b1d1c18230c37c16e9c7e1fbc\", element=\"966a0c41-fd69-4147-a23c-a17bc4270052\")>,\n",
       " <selenium.webdriver.remote.webelement.WebElement (session=\"6efa028b1d1c18230c37c16e9c7e1fbc\", element=\"ef12b5f5-7b61-411e-838f-e3763af5a7ba\")>,\n",
       " <selenium.webdriver.remote.webelement.WebElement (session=\"6efa028b1d1c18230c37c16e9c7e1fbc\", element=\"773e6ae9-43c1-4706-8e6f-4dbbaa99a8ec\")>,\n",
       " <selenium.webdriver.remote.webelement.WebElement (session=\"6efa028b1d1c18230c37c16e9c7e1fbc\", element=\"573f523d-f02c-4b34-957d-fb782fdb9ade\")>,\n",
       " <selenium.webdriver.remote.webelement.WebElement (session=\"6efa028b1d1c18230c37c16e9c7e1fbc\", element=\"e4882cf5-481f-45c5-8aba-d69d445c1ad1\")>,\n",
       " <selenium.webdriver.remote.webelement.WebElement (session=\"6efa028b1d1c18230c37c16e9c7e1fbc\", element=\"ee47e86f-e399-42e5-afef-baa8fce08004\")>,\n",
       " <selenium.webdriver.remote.webelement.WebElement (session=\"6efa028b1d1c18230c37c16e9c7e1fbc\", element=\"b3fa2bc0-3381-4834-ab11-b1b807e9f984\")>,\n",
       " <selenium.webdriver.remote.webelement.WebElement (session=\"6efa028b1d1c18230c37c16e9c7e1fbc\", element=\"b6357c91-2777-4d9a-b139-34d12309f295\")>,\n",
       " <selenium.webdriver.remote.webelement.WebElement (session=\"6efa028b1d1c18230c37c16e9c7e1fbc\", element=\"7ac18c8a-e1d8-4418-9c3e-45a2db541318\")>]"
      ]
     },
     "execution_count": 50,
     "metadata": {},
     "output_type": "execute_result"
    }
   ],
   "source": [
    "Product_tags6=driver.find_elements_by_xpath('//a[@class=\"IRpwTa\"]')\n",
    "len(Product_tags6)\n",
    "Product_tags6"
   ]
  },
  {
   "cell_type": "code",
   "execution_count": 51,
   "id": "0765a29c",
   "metadata": {},
   "outputs": [
    {
     "data": {
      "text/plain": [
       "['Super Stylish & Trendy Combo Pack of 02 Pairs Sneakers ...',\n",
       " 'Sneakers For Men',\n",
       " '5011-Latest Collection Stylish Casual Loafer Sneakers S...',\n",
       " 'Modern Trendy Sneakers Shoes Sneakers For Men',\n",
       " 'Men Blue Solid Sneakers Sneakers For Men',\n",
       " 'Luxury Fashionable casual sneaker shoes Sneakers For Me...',\n",
       " 'Kwik FIT casual sneaker shoes and partywear shoes Casua...',\n",
       " 'Series 7 Sneakers For Men',\n",
       " \"Casual , Partywear Sneakers Shoes For Men's And Boys Wh...\",\n",
       " 'Men White Printed Sneakers Sneakers For Men',\n",
       " \"White Sneaker For Men's/Boy's Sneakers For Men\",\n",
       " 'Sneakers For Men',\n",
       " 'Modern & Trendy Collection Combo Pack of 02 Shoes for M...',\n",
       " 'Sneakers For Men',\n",
       " 'Sneakers For Men',\n",
       " 'Sneakers For Men',\n",
       " 'Sneakers For Men',\n",
       " 'Sneakers For Men',\n",
       " 'Sneakers For Men',\n",
       " 'Combo Pack Of 4 Casual Shoes Loafer Shoes Sneakers For ...',\n",
       " \"Echor Men's Sneakers Fashion Lightweight Running Shoes ...\",\n",
       " 'Shark-41 Sneakers For Men',\n",
       " 'Sneakers For Men',\n",
       " 'Sneakers For Men',\n",
       " 'Sneakers For Men',\n",
       " 'Sneakers For Men',\n",
       " 'Men White Solid Sneakers Sneakers For Men',\n",
       " 'Fashionable sneaker shoes Sneakers For Men',\n",
       " \"white Casual shoes,Sneakers for men's Sneakers For Men\",\n",
       " 'Luxury Fashionable casual sneaker shoes Sneakers For Me...',\n",
       " 'Lattest Sneakers Shoe Sneakers For Men',\n",
       " 'sneaker men red 1258 - 6 Sneakers For Men',\n",
       " \"Men's Sneakers Fashion Lightweight Running Shoes Tennis...\",\n",
       " 'Stylish Comfortable Lightweight, Breathable Running Sho...',\n",
       " 'Sneakers For Men',\n",
       " 'Casual Sneakrs For Men Sneakers For Men',\n",
       " 'Combo Pack Of 2 Latest Stylish Casual Shoes for Men Lac...',\n",
       " 'Sneakers For Men',\n",
       " '516 Trendy Star Perfect Sneakers For Men',\n",
       " 'Men Grey Woven Design Sneakers Sneakers For Men',\n",
       " 'Modern & Trendy Collection Combo Pack of 02 Shoes for M...',\n",
       " 'Men 5014 Latest Collection Stylish Casual Sports Loafer...',\n",
       " '411 Casual Sneakers For Men',\n",
       " '494 Perfect Sports Shoes for Running Training Hikking &...',\n",
       " 'Latest Collection-1227 Stylish Casual Sports Sneakers F...',\n",
       " 'casual sneakers shoes For Mens Multicolor Combo(MR)-179...',\n",
       " 'Sneakers For Men',\n",
       " 'casual for men Sneakers For Men',\n",
       " \"Perfect Sports Shoes for Men's Running ,Cycling & Trekk...\",\n",
       " 'Sneakers For Men',\n",
       " 'Sneakers For Men',\n",
       " 'Sneakers For Men',\n",
       " 'Sneakers For Men',\n",
       " \"Casual , Partywear Sneakers Shoes For Men's And Boys Wh...\",\n",
       " 'Sneakers For Men',\n",
       " 'Sneakers For Men',\n",
       " 'Sneakers For Men',\n",
       " 'Casuals, Canvas, Partywear Sneakers For Men',\n",
       " 'casual for men (blue 06) Sneakers For Men',\n",
       " 'Sneakers For Men',\n",
       " 'Casual Sneakers White Shoes For Men Sneakers For Men',\n",
       " 'STREET ICON M Sneakers For Men',\n",
       " 'Sneakers For Men',\n",
       " \"Men's Sneakers Fashion Lightweight Running Shoes Tennis...\",\n",
       " 'Skypy-31 Walking Shoes,Training Shoes,Sneakers,Loafers,...',\n",
       " 'New Fashion Outdoor Trendy Lightweight Casual,Canvas St...',\n",
       " 'Men Black Urban Street Athleisure Shoes Sneakers For Me...']"
      ]
     },
     "execution_count": 51,
     "metadata": {},
     "output_type": "execute_result"
    }
   ],
   "source": [
    "for i in Product_tags6:\n",
    "    Product_titles6.append(i.text)\n",
    "    \n",
    "len(Product_titles6)\n",
    "Product_titles6"
   ]
  },
  {
   "cell_type": "markdown",
   "id": "1acf6996",
   "metadata": {},
   "source": [
    "Sneakers Price tag"
   ]
  },
  {
   "cell_type": "code",
   "execution_count": 52,
   "id": "67b3538b",
   "metadata": {},
   "outputs": [
    {
     "data": {
      "text/plain": [
       "[<selenium.webdriver.remote.webelement.WebElement (session=\"6efa028b1d1c18230c37c16e9c7e1fbc\", element=\"c4bd2bd4-000d-4668-a565-3a4b26a6922f\")>,\n",
       " <selenium.webdriver.remote.webelement.WebElement (session=\"6efa028b1d1c18230c37c16e9c7e1fbc\", element=\"77fe196f-e136-453e-8abe-bd8c00b84f7d\")>,\n",
       " <selenium.webdriver.remote.webelement.WebElement (session=\"6efa028b1d1c18230c37c16e9c7e1fbc\", element=\"403a9356-0ada-4b27-9414-a527a28ddedb\")>,\n",
       " <selenium.webdriver.remote.webelement.WebElement (session=\"6efa028b1d1c18230c37c16e9c7e1fbc\", element=\"21316c83-14ef-4a6f-8550-83ee24656443\")>,\n",
       " <selenium.webdriver.remote.webelement.WebElement (session=\"6efa028b1d1c18230c37c16e9c7e1fbc\", element=\"7f57b7e0-d048-454f-a552-028d36c7c1ac\")>,\n",
       " <selenium.webdriver.remote.webelement.WebElement (session=\"6efa028b1d1c18230c37c16e9c7e1fbc\", element=\"397acb06-05a8-45d6-8997-bf92be4a6d07\")>,\n",
       " <selenium.webdriver.remote.webelement.WebElement (session=\"6efa028b1d1c18230c37c16e9c7e1fbc\", element=\"288c15ca-ba37-4bdc-9d41-7b11992d8583\")>,\n",
       " <selenium.webdriver.remote.webelement.WebElement (session=\"6efa028b1d1c18230c37c16e9c7e1fbc\", element=\"e56f6a9e-9ab2-4e31-a2f1-c0fcd42d9e81\")>,\n",
       " <selenium.webdriver.remote.webelement.WebElement (session=\"6efa028b1d1c18230c37c16e9c7e1fbc\", element=\"5f5769c1-be07-42cd-9c15-90922429c59a\")>,\n",
       " <selenium.webdriver.remote.webelement.WebElement (session=\"6efa028b1d1c18230c37c16e9c7e1fbc\", element=\"55528aaf-2cbb-4110-aa6c-eb33f28d0ad4\")>,\n",
       " <selenium.webdriver.remote.webelement.WebElement (session=\"6efa028b1d1c18230c37c16e9c7e1fbc\", element=\"9baef857-e78d-45f1-ba27-a35d7a7e369a\")>,\n",
       " <selenium.webdriver.remote.webelement.WebElement (session=\"6efa028b1d1c18230c37c16e9c7e1fbc\", element=\"7b0570dd-7e2e-4237-ba48-f073fd20de03\")>,\n",
       " <selenium.webdriver.remote.webelement.WebElement (session=\"6efa028b1d1c18230c37c16e9c7e1fbc\", element=\"ab6129f6-e0a5-4a7f-a665-6a2fb49faa74\")>,\n",
       " <selenium.webdriver.remote.webelement.WebElement (session=\"6efa028b1d1c18230c37c16e9c7e1fbc\", element=\"d9e3c94d-1118-4ddc-8e00-d8494f13bf66\")>,\n",
       " <selenium.webdriver.remote.webelement.WebElement (session=\"6efa028b1d1c18230c37c16e9c7e1fbc\", element=\"84ff41da-e1a8-4275-92d9-f8684e04974b\")>,\n",
       " <selenium.webdriver.remote.webelement.WebElement (session=\"6efa028b1d1c18230c37c16e9c7e1fbc\", element=\"156a4e66-c6b1-432c-a69c-af5d845ec03e\")>,\n",
       " <selenium.webdriver.remote.webelement.WebElement (session=\"6efa028b1d1c18230c37c16e9c7e1fbc\", element=\"c3b80b32-305d-49f3-bef1-b812e56e302f\")>,\n",
       " <selenium.webdriver.remote.webelement.WebElement (session=\"6efa028b1d1c18230c37c16e9c7e1fbc\", element=\"a2aa3270-4e21-4c9d-b469-1a11c575353a\")>,\n",
       " <selenium.webdriver.remote.webelement.WebElement (session=\"6efa028b1d1c18230c37c16e9c7e1fbc\", element=\"70c03491-cad2-4d52-be19-ac77bda15daf\")>,\n",
       " <selenium.webdriver.remote.webelement.WebElement (session=\"6efa028b1d1c18230c37c16e9c7e1fbc\", element=\"b515421b-d909-4a6c-ac2a-957dcb41d7d1\")>,\n",
       " <selenium.webdriver.remote.webelement.WebElement (session=\"6efa028b1d1c18230c37c16e9c7e1fbc\", element=\"b02d98d2-04c3-46cb-a2a3-98e0211b1e5f\")>,\n",
       " <selenium.webdriver.remote.webelement.WebElement (session=\"6efa028b1d1c18230c37c16e9c7e1fbc\", element=\"f01c1837-6be2-4898-bd5a-ef66b13245bf\")>,\n",
       " <selenium.webdriver.remote.webelement.WebElement (session=\"6efa028b1d1c18230c37c16e9c7e1fbc\", element=\"b24f42ba-8d6e-4fec-a4fe-05804e7f9d70\")>,\n",
       " <selenium.webdriver.remote.webelement.WebElement (session=\"6efa028b1d1c18230c37c16e9c7e1fbc\", element=\"09791fe0-5e5e-4ab0-adad-10d0d1341a5a\")>,\n",
       " <selenium.webdriver.remote.webelement.WebElement (session=\"6efa028b1d1c18230c37c16e9c7e1fbc\", element=\"e8b6b89e-6096-48e8-8bfe-c8652c880948\")>,\n",
       " <selenium.webdriver.remote.webelement.WebElement (session=\"6efa028b1d1c18230c37c16e9c7e1fbc\", element=\"806a1608-497b-4470-bb5c-ecf692a60d2c\")>,\n",
       " <selenium.webdriver.remote.webelement.WebElement (session=\"6efa028b1d1c18230c37c16e9c7e1fbc\", element=\"24002c34-4fa2-4ba4-99d8-0dd31d751020\")>,\n",
       " <selenium.webdriver.remote.webelement.WebElement (session=\"6efa028b1d1c18230c37c16e9c7e1fbc\", element=\"2a5d26e9-3cec-4501-b5fa-68eb9a143376\")>,\n",
       " <selenium.webdriver.remote.webelement.WebElement (session=\"6efa028b1d1c18230c37c16e9c7e1fbc\", element=\"ab3f1994-14f0-48ed-a66a-a9f56c3eabdc\")>,\n",
       " <selenium.webdriver.remote.webelement.WebElement (session=\"6efa028b1d1c18230c37c16e9c7e1fbc\", element=\"ff2367fe-268b-4fa9-86ec-111ea8b1fbc6\")>,\n",
       " <selenium.webdriver.remote.webelement.WebElement (session=\"6efa028b1d1c18230c37c16e9c7e1fbc\", element=\"36d1fdbf-6266-4f16-a3e7-37ba5cd43029\")>,\n",
       " <selenium.webdriver.remote.webelement.WebElement (session=\"6efa028b1d1c18230c37c16e9c7e1fbc\", element=\"1a9e0a6e-4fed-45df-90bb-b11fa0a24b11\")>,\n",
       " <selenium.webdriver.remote.webelement.WebElement (session=\"6efa028b1d1c18230c37c16e9c7e1fbc\", element=\"c5c3fe9f-c796-4bfe-b769-1a670f2c16ad\")>,\n",
       " <selenium.webdriver.remote.webelement.WebElement (session=\"6efa028b1d1c18230c37c16e9c7e1fbc\", element=\"cc4b32ea-b69d-48e6-a76f-86862aaa8341\")>,\n",
       " <selenium.webdriver.remote.webelement.WebElement (session=\"6efa028b1d1c18230c37c16e9c7e1fbc\", element=\"10987406-86f6-4407-9194-d86433faab09\")>,\n",
       " <selenium.webdriver.remote.webelement.WebElement (session=\"6efa028b1d1c18230c37c16e9c7e1fbc\", element=\"7206cfcd-070f-4fbe-8d6f-e339a0b241f5\")>,\n",
       " <selenium.webdriver.remote.webelement.WebElement (session=\"6efa028b1d1c18230c37c16e9c7e1fbc\", element=\"45eb6953-2ae9-475c-aa4a-0c6588445a98\")>,\n",
       " <selenium.webdriver.remote.webelement.WebElement (session=\"6efa028b1d1c18230c37c16e9c7e1fbc\", element=\"ffd17426-75c6-484f-b50e-deb422064754\")>,\n",
       " <selenium.webdriver.remote.webelement.WebElement (session=\"6efa028b1d1c18230c37c16e9c7e1fbc\", element=\"9b3d382d-c881-4d51-8096-d9a9faf9e30c\")>,\n",
       " <selenium.webdriver.remote.webelement.WebElement (session=\"6efa028b1d1c18230c37c16e9c7e1fbc\", element=\"e946c63e-0073-43b6-9ccc-66c4a8cd3ab6\")>]"
      ]
     },
     "execution_count": 52,
     "metadata": {},
     "output_type": "execute_result"
    }
   ],
   "source": [
    "Price_tags6=driver.find_elements_by_xpath('//div[@class=\"_30jeq3\"]')\n",
    "len(Price_tags6)\n",
    "Price_tags6"
   ]
  },
  {
   "cell_type": "code",
   "execution_count": 53,
   "id": "cf7e7e39",
   "metadata": {},
   "outputs": [
    {
     "data": {
      "text/plain": [
       "['₹580',\n",
       " '₹347',\n",
       " '₹501',\n",
       " '₹327',\n",
       " '₹424',\n",
       " '₹149',\n",
       " '₹209',\n",
       " '₹1,249',\n",
       " '₹399',\n",
       " '₹349',\n",
       " '₹999',\n",
       " '₹347',\n",
       " '₹394',\n",
       " '₹249',\n",
       " '₹148',\n",
       " '₹2,049',\n",
       " '₹248',\n",
       " '₹269',\n",
       " '₹421',\n",
       " '₹474',\n",
       " '₹269',\n",
       " '₹190',\n",
       " '₹349',\n",
       " '₹630',\n",
       " '₹534',\n",
       " '₹349',\n",
       " '₹449',\n",
       " '₹433',\n",
       " '₹630',\n",
       " '₹394',\n",
       " '₹348',\n",
       " '₹399',\n",
       " '₹499',\n",
       " '₹424',\n",
       " '₹209',\n",
       " '₹1,634',\n",
       " '₹449',\n",
       " '₹429',\n",
       " '₹349',\n",
       " '₹590',\n",
       " '₹249',\n",
       " '₹148',\n",
       " '₹424',\n",
       " '₹369',\n",
       " '₹599',\n",
       " '₹549',\n",
       " '₹261',\n",
       " '₹449',\n",
       " '₹449',\n",
       " '₹649',\n",
       " '₹209',\n",
       " '₹2,249',\n",
       " '₹486',\n",
       " '₹209',\n",
       " '₹424',\n",
       " '₹248',\n",
       " '₹209',\n",
       " '₹580',\n",
       " '₹272',\n",
       " '₹424',\n",
       " '₹199',\n",
       " '₹424',\n",
       " '₹424',\n",
       " '₹459',\n",
       " '₹424',\n",
       " '₹334',\n",
       " '₹327',\n",
       " '₹397',\n",
       " '₹534',\n",
       " '₹445',\n",
       " '₹444',\n",
       " '₹424',\n",
       " '₹397',\n",
       " '₹424',\n",
       " '₹1,821',\n",
       " '₹1,849',\n",
       " '₹424',\n",
       " '₹498',\n",
       " '₹385',\n",
       " '₹1,849']"
      ]
     },
     "execution_count": 53,
     "metadata": {},
     "output_type": "execute_result"
    }
   ],
   "source": [
    "for i in Price_tags6:\n",
    "    Price_titles6.append(i.text)\n",
    "    \n",
    "len(Price_titles6)\n",
    "Price_titles6"
   ]
  },
  {
   "cell_type": "code",
   "execution_count": 54,
   "id": "899f1fda",
   "metadata": {},
   "outputs": [],
   "source": [
    "age_check=driver.find_element_by_xpath('/html/body/div[1]/div/div[3]/div[1]/div[2]/div[12]/div/div/nav/a[11]')\n",
    "Page_check.click()"
   ]
  },
  {
   "cell_type": "code",
   "execution_count": 55,
   "id": "aa0055f8",
   "metadata": {},
   "outputs": [
    {
     "data": {
      "text/plain": [
       "(80, 67, 80)"
      ]
     },
     "execution_count": 55,
     "metadata": {},
     "output_type": "execute_result"
    }
   ],
   "source": [
    "len(Brand_titles6),len(Product_titles6),len(Price_titles6)"
   ]
  },
  {
   "cell_type": "markdown",
   "id": "fa9be915",
   "metadata": {},
   "source": [
    "Sneakers Brand Names"
   ]
  },
  {
   "cell_type": "code",
   "execution_count": 56,
   "id": "3f745cdf",
   "metadata": {},
   "outputs": [
    {
     "data": {
      "text/plain": [
       "[<selenium.webdriver.remote.webelement.WebElement (session=\"6efa028b1d1c18230c37c16e9c7e1fbc\", element=\"8488e2bb-b20a-4698-b526-113d60cc5282\")>,\n",
       " <selenium.webdriver.remote.webelement.WebElement (session=\"6efa028b1d1c18230c37c16e9c7e1fbc\", element=\"42313285-0563-496b-9953-b6ddebf86ab9\")>,\n",
       " <selenium.webdriver.remote.webelement.WebElement (session=\"6efa028b1d1c18230c37c16e9c7e1fbc\", element=\"8f6bdc54-028b-407f-9453-dd251a77650a\")>,\n",
       " <selenium.webdriver.remote.webelement.WebElement (session=\"6efa028b1d1c18230c37c16e9c7e1fbc\", element=\"4331c016-a2b8-458c-a143-d83f29b09dab\")>,\n",
       " <selenium.webdriver.remote.webelement.WebElement (session=\"6efa028b1d1c18230c37c16e9c7e1fbc\", element=\"a42a333e-879b-42cc-b678-868589bcff60\")>,\n",
       " <selenium.webdriver.remote.webelement.WebElement (session=\"6efa028b1d1c18230c37c16e9c7e1fbc\", element=\"c1bd1853-df4c-4449-9b6e-8c9f5ead3fe4\")>,\n",
       " <selenium.webdriver.remote.webelement.WebElement (session=\"6efa028b1d1c18230c37c16e9c7e1fbc\", element=\"921304d6-3d1a-4d96-af16-f5959f59402d\")>,\n",
       " <selenium.webdriver.remote.webelement.WebElement (session=\"6efa028b1d1c18230c37c16e9c7e1fbc\", element=\"57066bcf-4234-4870-bf7c-fde3720b535b\")>,\n",
       " <selenium.webdriver.remote.webelement.WebElement (session=\"6efa028b1d1c18230c37c16e9c7e1fbc\", element=\"2da0be3e-98d0-45ee-888f-aa87ff5e92d9\")>,\n",
       " <selenium.webdriver.remote.webelement.WebElement (session=\"6efa028b1d1c18230c37c16e9c7e1fbc\", element=\"6e0964bc-edfc-4708-9450-3a7e90b19a86\")>,\n",
       " <selenium.webdriver.remote.webelement.WebElement (session=\"6efa028b1d1c18230c37c16e9c7e1fbc\", element=\"e4eb2898-8f79-48ee-aa29-3bfacd60780e\")>,\n",
       " <selenium.webdriver.remote.webelement.WebElement (session=\"6efa028b1d1c18230c37c16e9c7e1fbc\", element=\"82f2d0d2-6e6f-44f7-ba28-6e00f7aed9b7\")>,\n",
       " <selenium.webdriver.remote.webelement.WebElement (session=\"6efa028b1d1c18230c37c16e9c7e1fbc\", element=\"80f37efe-bf17-442b-adf1-916e2903204d\")>,\n",
       " <selenium.webdriver.remote.webelement.WebElement (session=\"6efa028b1d1c18230c37c16e9c7e1fbc\", element=\"edbc5255-23f9-418b-ae70-520d756e1b47\")>,\n",
       " <selenium.webdriver.remote.webelement.WebElement (session=\"6efa028b1d1c18230c37c16e9c7e1fbc\", element=\"e63d8ee5-f2df-4e57-8247-b5e6f599253a\")>,\n",
       " <selenium.webdriver.remote.webelement.WebElement (session=\"6efa028b1d1c18230c37c16e9c7e1fbc\", element=\"f5508c20-4e1b-465c-a3c4-8cf60e6058f1\")>,\n",
       " <selenium.webdriver.remote.webelement.WebElement (session=\"6efa028b1d1c18230c37c16e9c7e1fbc\", element=\"b47e54ab-6503-425b-a40f-ca76ef940119\")>,\n",
       " <selenium.webdriver.remote.webelement.WebElement (session=\"6efa028b1d1c18230c37c16e9c7e1fbc\", element=\"1c38c05e-67f4-47b1-a0d3-169e3bb23c7c\")>,\n",
       " <selenium.webdriver.remote.webelement.WebElement (session=\"6efa028b1d1c18230c37c16e9c7e1fbc\", element=\"d43b67a2-53ba-4d65-8d89-7adbac38aeed\")>,\n",
       " <selenium.webdriver.remote.webelement.WebElement (session=\"6efa028b1d1c18230c37c16e9c7e1fbc\", element=\"236f2481-7c87-4d9e-9817-b1d12f1affa8\")>,\n",
       " <selenium.webdriver.remote.webelement.WebElement (session=\"6efa028b1d1c18230c37c16e9c7e1fbc\", element=\"63662658-d09c-4668-b1eb-51de6bcfc9f2\")>,\n",
       " <selenium.webdriver.remote.webelement.WebElement (session=\"6efa028b1d1c18230c37c16e9c7e1fbc\", element=\"dc17eb98-5ee1-414c-8341-0510ece1be1f\")>,\n",
       " <selenium.webdriver.remote.webelement.WebElement (session=\"6efa028b1d1c18230c37c16e9c7e1fbc\", element=\"64a0ea97-31f4-42bf-8a6d-239c8073ec8c\")>,\n",
       " <selenium.webdriver.remote.webelement.WebElement (session=\"6efa028b1d1c18230c37c16e9c7e1fbc\", element=\"9fd33efb-0286-4d0e-83b8-01fe27360714\")>,\n",
       " <selenium.webdriver.remote.webelement.WebElement (session=\"6efa028b1d1c18230c37c16e9c7e1fbc\", element=\"b0422e1b-f407-4c6a-af00-c649a73a1bee\")>,\n",
       " <selenium.webdriver.remote.webelement.WebElement (session=\"6efa028b1d1c18230c37c16e9c7e1fbc\", element=\"bf9243e0-eca2-4c3f-aabb-eb1298e66585\")>,\n",
       " <selenium.webdriver.remote.webelement.WebElement (session=\"6efa028b1d1c18230c37c16e9c7e1fbc\", element=\"15ab5611-19b6-4969-8c79-0c942f20ecac\")>,\n",
       " <selenium.webdriver.remote.webelement.WebElement (session=\"6efa028b1d1c18230c37c16e9c7e1fbc\", element=\"60885184-6ee6-4a3d-855e-d79473429ef9\")>,\n",
       " <selenium.webdriver.remote.webelement.WebElement (session=\"6efa028b1d1c18230c37c16e9c7e1fbc\", element=\"587a9e16-6127-4406-8466-972ef06bc936\")>,\n",
       " <selenium.webdriver.remote.webelement.WebElement (session=\"6efa028b1d1c18230c37c16e9c7e1fbc\", element=\"c6bf26ad-0627-42f0-bf84-0d3eeca06979\")>,\n",
       " <selenium.webdriver.remote.webelement.WebElement (session=\"6efa028b1d1c18230c37c16e9c7e1fbc\", element=\"25786dc1-e108-45d5-a669-dba21ad1df17\")>,\n",
       " <selenium.webdriver.remote.webelement.WebElement (session=\"6efa028b1d1c18230c37c16e9c7e1fbc\", element=\"fd63e31d-35e1-4b3d-a44c-6a6b66f38a59\")>,\n",
       " <selenium.webdriver.remote.webelement.WebElement (session=\"6efa028b1d1c18230c37c16e9c7e1fbc\", element=\"d0095780-df7d-49f8-b75d-5b3a0853fc42\")>,\n",
       " <selenium.webdriver.remote.webelement.WebElement (session=\"6efa028b1d1c18230c37c16e9c7e1fbc\", element=\"f81cda2e-9b48-47fe-8c73-6912c2087139\")>,\n",
       " <selenium.webdriver.remote.webelement.WebElement (session=\"6efa028b1d1c18230c37c16e9c7e1fbc\", element=\"85cbbaaf-277f-4d06-af27-64b1f9606401\")>,\n",
       " <selenium.webdriver.remote.webelement.WebElement (session=\"6efa028b1d1c18230c37c16e9c7e1fbc\", element=\"90b6e984-8565-4317-a2fc-2426404d061e\")>,\n",
       " <selenium.webdriver.remote.webelement.WebElement (session=\"6efa028b1d1c18230c37c16e9c7e1fbc\", element=\"22abde20-eecf-4979-aab9-eb449cfdac9d\")>,\n",
       " <selenium.webdriver.remote.webelement.WebElement (session=\"6efa028b1d1c18230c37c16e9c7e1fbc\", element=\"533a6389-3e94-4628-ad3b-73a609f110c6\")>,\n",
       " <selenium.webdriver.remote.webelement.WebElement (session=\"6efa028b1d1c18230c37c16e9c7e1fbc\", element=\"43edb06e-eeae-4882-8330-7312cb1173a8\")>,\n",
       " <selenium.webdriver.remote.webelement.WebElement (session=\"6efa028b1d1c18230c37c16e9c7e1fbc\", element=\"94197686-e5c5-4770-8275-f9cdf0630394\")>]"
      ]
     },
     "execution_count": 56,
     "metadata": {},
     "output_type": "execute_result"
    }
   ],
   "source": [
    "Brand_tags6=driver.find_elements_by_xpath('//div[@class=\"_2WkVRV\"]')\n",
    "len(Brand_tags6)\n",
    "Brand_tags6"
   ]
  },
  {
   "cell_type": "code",
   "execution_count": 57,
   "id": "eaa0b495",
   "metadata": {},
   "outputs": [
    {
     "data": {
      "text/plain": [
       "['RapidBox',\n",
       " 'Zordic Shoes',\n",
       " 'Chevit',\n",
       " 'Magnolia',\n",
       " 'corsac',\n",
       " 'World Wear Footwear',\n",
       " 'BRUTON',\n",
       " 'Roadster',\n",
       " 'luxury fashion',\n",
       " 'KWIK FIT',\n",
       " 'CAMPUS',\n",
       " 'Jimnastic shoes',\n",
       " 'Kraasa',\n",
       " 'D-SNEAKERZ',\n",
       " 'URBANBOX',\n",
       " 'HRX by Hrithik Roshan',\n",
       " 'Shoes Bank',\n",
       " 'DUNKASTON',\n",
       " 'BRUTON',\n",
       " 'AMICO',\n",
       " 'aadi',\n",
       " 'World Wear Footwear',\n",
       " 'Elevarse',\n",
       " 'RapidBox',\n",
       " 'CLYMB',\n",
       " 'Magnolia',\n",
       " 'BRUTON',\n",
       " 'Echor',\n",
       " 'RapidBox',\n",
       " 'Kraasa',\n",
       " 'SCATCHITE',\n",
       " 'sixXplus',\n",
       " 'Rzisbo',\n",
       " 'Labbin',\n",
       " 'Kzaara',\n",
       " 'Roadster',\n",
       " 'luxury fashion',\n",
       " 'Xtoon',\n",
       " 'India hub',\n",
       " 'RapidBox',\n",
       " 'BRUTON',\n",
       " 'Airland',\n",
       " 'Echor',\n",
       " 'BIRDE',\n",
       " 'Numenzo',\n",
       " 'Vellinto',\n",
       " 'Zsyto',\n",
       " 'Varito',\n",
       " 'BRUTON',\n",
       " 'RAFTAR FASHION',\n",
       " 'Chevit',\n",
       " 'HRX by Hrithik Roshan',\n",
       " 'BRUTON',\n",
       " 'World Wear Footwear',\n",
       " 'Numenzo',\n",
       " 'Chevit',\n",
       " 'World Wear Footwear',\n",
       " 'SWIGGY',\n",
       " 'TR',\n",
       " 'bluemaker',\n",
       " 'CLYMB',\n",
       " 'Robbie jones',\n",
       " 'ASTEROID',\n",
       " 'Rising Wolf',\n",
       " 'Robbie jones',\n",
       " 'D-SNEAKERZ',\n",
       " 'Magnolia',\n",
       " 'OZJI',\n",
       " 'CLYMB',\n",
       " 'Dizzler',\n",
       " 'Kraasa',\n",
       " 'bluemaker',\n",
       " 'Zorth',\n",
       " 'Robbie jones',\n",
       " 'ADIDAS',\n",
       " 'HRX by Hrithik Roshan',\n",
       " 'Echor',\n",
       " 'ASIAN',\n",
       " 'Zorth',\n",
       " 'HRX by Hrithik Roshan',\n",
       " 'LE GREEM',\n",
       " 'Nilatin',\n",
       " 'KNIGHT WALKERS',\n",
       " 'Elevarse',\n",
       " 'SPARX',\n",
       " 'Chevit',\n",
       " 'DUNKASTON',\n",
       " 'Bacan',\n",
       " 'PUMA',\n",
       " 'CAMPUS',\n",
       " 'Hot & Knot',\n",
       " 'Style Tone',\n",
       " 'Rzisbo',\n",
       " 'BIRDE',\n",
       " 'asics',\n",
       " 'HOTSTYLE',\n",
       " 'BAUCHHAAR',\n",
       " 'bluemaker',\n",
       " 'Kraasa',\n",
       " 'FEWROK',\n",
       " 'Brainer',\n",
       " 'Hida',\n",
       " 'PUMA',\n",
       " 'SNEAKSET',\n",
       " 'Echor',\n",
       " 'SPARX',\n",
       " 'ESSENCE',\n",
       " 'SNEAKSET',\n",
       " 'SLAZENGER',\n",
       " 'WHITE WALKERS',\n",
       " 'Robbie jones',\n",
       " 'Echor',\n",
       " 'BRUTON',\n",
       " 'PUMA',\n",
       " 'Trendmode',\n",
       " 'BRUTON',\n",
       " 'WHITE WALKERS',\n",
       " 'HOTSTYLE',\n",
       " 'Kzaara',\n",
       " 'Chevit']"
      ]
     },
     "execution_count": 57,
     "metadata": {},
     "output_type": "execute_result"
    }
   ],
   "source": [
    "for i in Brand_tags6:\n",
    "    Brand_titles6.append(i.text)\n",
    "    \n",
    "len(Brand_titles6)\n",
    "Brand_titles6"
   ]
  },
  {
   "cell_type": "markdown",
   "id": "346b4f90",
   "metadata": {},
   "source": [
    "Sneakers Description"
   ]
  },
  {
   "cell_type": "code",
   "execution_count": 58,
   "id": "49bff674",
   "metadata": {},
   "outputs": [
    {
     "data": {
      "text/plain": [
       "[<selenium.webdriver.remote.webelement.WebElement (session=\"6efa028b1d1c18230c37c16e9c7e1fbc\", element=\"225373a1-42b5-4704-8d74-7e9863e067f2\")>,\n",
       " <selenium.webdriver.remote.webelement.WebElement (session=\"6efa028b1d1c18230c37c16e9c7e1fbc\", element=\"5824834e-da3a-45b4-907c-fd18983f3d46\")>,\n",
       " <selenium.webdriver.remote.webelement.WebElement (session=\"6efa028b1d1c18230c37c16e9c7e1fbc\", element=\"6a7f3d2a-0b68-42d5-bda4-e3288585252f\")>,\n",
       " <selenium.webdriver.remote.webelement.WebElement (session=\"6efa028b1d1c18230c37c16e9c7e1fbc\", element=\"9fd7c564-2380-40c3-9360-2fda35d66e0d\")>,\n",
       " <selenium.webdriver.remote.webelement.WebElement (session=\"6efa028b1d1c18230c37c16e9c7e1fbc\", element=\"523cbaad-84aa-4fef-8946-8a4f9d1caca0\")>,\n",
       " <selenium.webdriver.remote.webelement.WebElement (session=\"6efa028b1d1c18230c37c16e9c7e1fbc\", element=\"3fb9a03a-4ee5-4ae1-a8ab-636b2131c9e2\")>,\n",
       " <selenium.webdriver.remote.webelement.WebElement (session=\"6efa028b1d1c18230c37c16e9c7e1fbc\", element=\"341d817b-18c5-482d-9e22-2bf3ef31171d\")>,\n",
       " <selenium.webdriver.remote.webelement.WebElement (session=\"6efa028b1d1c18230c37c16e9c7e1fbc\", element=\"ac17f599-9f43-4c1d-99f2-a2f05842467d\")>,\n",
       " <selenium.webdriver.remote.webelement.WebElement (session=\"6efa028b1d1c18230c37c16e9c7e1fbc\", element=\"69d527c9-db51-4556-bf23-b82963888eea\")>,\n",
       " <selenium.webdriver.remote.webelement.WebElement (session=\"6efa028b1d1c18230c37c16e9c7e1fbc\", element=\"b538af79-3bb4-4f6f-9ecb-8e1b9c082c30\")>,\n",
       " <selenium.webdriver.remote.webelement.WebElement (session=\"6efa028b1d1c18230c37c16e9c7e1fbc\", element=\"f28e9a99-2264-4116-bd8f-4536355aeb5f\")>,\n",
       " <selenium.webdriver.remote.webelement.WebElement (session=\"6efa028b1d1c18230c37c16e9c7e1fbc\", element=\"e1060e11-1eb1-4ab1-ab56-3311b23e7ef2\")>,\n",
       " <selenium.webdriver.remote.webelement.WebElement (session=\"6efa028b1d1c18230c37c16e9c7e1fbc\", element=\"8be1ab15-bf06-402f-a8db-a3d660bdf5f7\")>,\n",
       " <selenium.webdriver.remote.webelement.WebElement (session=\"6efa028b1d1c18230c37c16e9c7e1fbc\", element=\"ceb70713-fa8c-40e7-8798-be0588315465\")>,\n",
       " <selenium.webdriver.remote.webelement.WebElement (session=\"6efa028b1d1c18230c37c16e9c7e1fbc\", element=\"dc853c8d-2498-4c8b-b8d8-136aea1b5f02\")>,\n",
       " <selenium.webdriver.remote.webelement.WebElement (session=\"6efa028b1d1c18230c37c16e9c7e1fbc\", element=\"3150777a-13c1-4fae-8a15-ebee6adaf255\")>,\n",
       " <selenium.webdriver.remote.webelement.WebElement (session=\"6efa028b1d1c18230c37c16e9c7e1fbc\", element=\"a961c53d-eca1-462c-8171-ec21582cc256\")>,\n",
       " <selenium.webdriver.remote.webelement.WebElement (session=\"6efa028b1d1c18230c37c16e9c7e1fbc\", element=\"b31ef4d1-8816-4a18-9c1c-cc4341a9f928\")>,\n",
       " <selenium.webdriver.remote.webelement.WebElement (session=\"6efa028b1d1c18230c37c16e9c7e1fbc\", element=\"90ef2a10-3475-40f8-923e-c9aed7a27643\")>,\n",
       " <selenium.webdriver.remote.webelement.WebElement (session=\"6efa028b1d1c18230c37c16e9c7e1fbc\", element=\"0df6e518-ae4c-45c8-b842-e16b3437fa09\")>,\n",
       " <selenium.webdriver.remote.webelement.WebElement (session=\"6efa028b1d1c18230c37c16e9c7e1fbc\", element=\"12601c98-7d1c-474f-99c6-4989979e494e\")>,\n",
       " <selenium.webdriver.remote.webelement.WebElement (session=\"6efa028b1d1c18230c37c16e9c7e1fbc\", element=\"fd9aff29-8d90-4c5c-8c6c-9f64d9b61d03\")>,\n",
       " <selenium.webdriver.remote.webelement.WebElement (session=\"6efa028b1d1c18230c37c16e9c7e1fbc\", element=\"60ea96c7-e108-4517-953c-046660ad49a1\")>,\n",
       " <selenium.webdriver.remote.webelement.WebElement (session=\"6efa028b1d1c18230c37c16e9c7e1fbc\", element=\"2705d61e-927f-4e94-a1f9-dd3335878d4c\")>,\n",
       " <selenium.webdriver.remote.webelement.WebElement (session=\"6efa028b1d1c18230c37c16e9c7e1fbc\", element=\"b52c9d37-0af7-4903-affe-a58aa6b19537\")>,\n",
       " <selenium.webdriver.remote.webelement.WebElement (session=\"6efa028b1d1c18230c37c16e9c7e1fbc\", element=\"e6bfecb9-13e5-482c-bf5e-672e63ce9ab9\")>,\n",
       " <selenium.webdriver.remote.webelement.WebElement (session=\"6efa028b1d1c18230c37c16e9c7e1fbc\", element=\"3b1272d4-de08-480b-91f5-9a0c15111a23\")>,\n",
       " <selenium.webdriver.remote.webelement.WebElement (session=\"6efa028b1d1c18230c37c16e9c7e1fbc\", element=\"d9df01dc-8b0f-4329-9185-191fd4b959c2\")>,\n",
       " <selenium.webdriver.remote.webelement.WebElement (session=\"6efa028b1d1c18230c37c16e9c7e1fbc\", element=\"ebd2ca7a-8761-4365-ba85-884e1a4d7fa9\")>,\n",
       " <selenium.webdriver.remote.webelement.WebElement (session=\"6efa028b1d1c18230c37c16e9c7e1fbc\", element=\"98453ae5-71df-4dad-af65-8e17e309bedd\")>,\n",
       " <selenium.webdriver.remote.webelement.WebElement (session=\"6efa028b1d1c18230c37c16e9c7e1fbc\", element=\"cdf88c3d-5f58-4d41-b7fb-e18d2ad47bab\")>,\n",
       " <selenium.webdriver.remote.webelement.WebElement (session=\"6efa028b1d1c18230c37c16e9c7e1fbc\", element=\"e1a65f42-f03f-4a8a-9da4-ba4c69ca0948\")>,\n",
       " <selenium.webdriver.remote.webelement.WebElement (session=\"6efa028b1d1c18230c37c16e9c7e1fbc\", element=\"aebaa9d2-7433-4cac-afce-f511747779d1\")>]"
      ]
     },
     "execution_count": 58,
     "metadata": {},
     "output_type": "execute_result"
    }
   ],
   "source": [
    "Product_tags6=driver.find_elements_by_xpath('//a[@class=\"IRpwTa\"]')\n",
    "len(Product_tags6)\n",
    "Product_tags6"
   ]
  },
  {
   "cell_type": "code",
   "execution_count": 59,
   "id": "d9036546",
   "metadata": {},
   "outputs": [
    {
     "data": {
      "text/plain": [
       "['Super Stylish & Trendy Combo Pack of 02 Pairs Sneakers ...',\n",
       " 'Sneakers For Men',\n",
       " '5011-Latest Collection Stylish Casual Loafer Sneakers S...',\n",
       " 'Modern Trendy Sneakers Shoes Sneakers For Men',\n",
       " 'Men Blue Solid Sneakers Sneakers For Men',\n",
       " 'Luxury Fashionable casual sneaker shoes Sneakers For Me...',\n",
       " 'Kwik FIT casual sneaker shoes and partywear shoes Casua...',\n",
       " 'Series 7 Sneakers For Men',\n",
       " \"Casual , Partywear Sneakers Shoes For Men's And Boys Wh...\",\n",
       " 'Men White Printed Sneakers Sneakers For Men',\n",
       " \"White Sneaker For Men's/Boy's Sneakers For Men\",\n",
       " 'Sneakers For Men',\n",
       " 'Modern & Trendy Collection Combo Pack of 02 Shoes for M...',\n",
       " 'Sneakers For Men',\n",
       " 'Sneakers For Men',\n",
       " 'Sneakers For Men',\n",
       " 'Sneakers For Men',\n",
       " 'Sneakers For Men',\n",
       " 'Sneakers For Men',\n",
       " 'Combo Pack Of 4 Casual Shoes Loafer Shoes Sneakers For ...',\n",
       " \"Echor Men's Sneakers Fashion Lightweight Running Shoes ...\",\n",
       " 'Shark-41 Sneakers For Men',\n",
       " 'Sneakers For Men',\n",
       " 'Sneakers For Men',\n",
       " 'Sneakers For Men',\n",
       " 'Sneakers For Men',\n",
       " 'Men White Solid Sneakers Sneakers For Men',\n",
       " 'Fashionable sneaker shoes Sneakers For Men',\n",
       " \"white Casual shoes,Sneakers for men's Sneakers For Men\",\n",
       " 'Luxury Fashionable casual sneaker shoes Sneakers For Me...',\n",
       " 'Lattest Sneakers Shoe Sneakers For Men',\n",
       " 'sneaker men red 1258 - 6 Sneakers For Men',\n",
       " \"Men's Sneakers Fashion Lightweight Running Shoes Tennis...\",\n",
       " 'Stylish Comfortable Lightweight, Breathable Running Sho...',\n",
       " 'Sneakers For Men',\n",
       " 'Casual Sneakrs For Men Sneakers For Men',\n",
       " 'Combo Pack Of 2 Latest Stylish Casual Shoes for Men Lac...',\n",
       " 'Sneakers For Men',\n",
       " '516 Trendy Star Perfect Sneakers For Men',\n",
       " 'Men Grey Woven Design Sneakers Sneakers For Men',\n",
       " 'Modern & Trendy Collection Combo Pack of 02 Shoes for M...',\n",
       " 'Men 5014 Latest Collection Stylish Casual Sports Loafer...',\n",
       " '411 Casual Sneakers For Men',\n",
       " '494 Perfect Sports Shoes for Running Training Hikking &...',\n",
       " 'Latest Collection-1227 Stylish Casual Sports Sneakers F...',\n",
       " 'casual sneakers shoes For Mens Multicolor Combo(MR)-179...',\n",
       " 'Sneakers For Men',\n",
       " 'casual for men Sneakers For Men',\n",
       " \"Perfect Sports Shoes for Men's Running ,Cycling & Trekk...\",\n",
       " 'Sneakers For Men',\n",
       " 'Sneakers For Men',\n",
       " 'Sneakers For Men',\n",
       " 'Sneakers For Men',\n",
       " \"Casual , Partywear Sneakers Shoes For Men's And Boys Wh...\",\n",
       " 'Sneakers For Men',\n",
       " 'Sneakers For Men',\n",
       " 'Sneakers For Men',\n",
       " 'Casuals, Canvas, Partywear Sneakers For Men',\n",
       " 'casual for men (blue 06) Sneakers For Men',\n",
       " 'Sneakers For Men',\n",
       " 'Casual Sneakers White Shoes For Men Sneakers For Men',\n",
       " 'STREET ICON M Sneakers For Men',\n",
       " 'Sneakers For Men',\n",
       " \"Men's Sneakers Fashion Lightweight Running Shoes Tennis...\",\n",
       " 'Skypy-31 Walking Shoes,Training Shoes,Sneakers,Loafers,...',\n",
       " 'New Fashion Outdoor Trendy Lightweight Casual,Canvas St...',\n",
       " 'Men Black Urban Street Athleisure Shoes Sneakers For Me...',\n",
       " 'Comfortable & Ultra Light Weight Sneaker Sneakers For M...',\n",
       " 'Sneakers For Men',\n",
       " 'Sneakers For Men',\n",
       " 'Stylish Comfortable shoes Sneakers For Men',\n",
       " 'SM-439 Sneakers For Men',\n",
       " 'Unique & Perfect Collection Combo Pack of 02 Shoes for ...',\n",
       " 'Sneakers For Men',\n",
       " 'Sneakers For Men',\n",
       " 'Sneakers For Men',\n",
       " 'EXPLORE Sneakers For Men',\n",
       " 'High Top Casual Party Wear Boot Stylish Sneakers For Me...',\n",
       " 'Sneakers For Men',\n",
       " 'Stylish and Trendy New Design Lightweight,Casual shoes ...',\n",
       " 'LYTECOURT Sneakers For Men',\n",
       " 'sports shoes for men | Latest Stylish Casual sneakers f...',\n",
       " 'casual for men Sneakers For Men',\n",
       " 'Shark-41 Sneakers For Men',\n",
       " 'Sneakers For Men',\n",
       " 'BMW MMS Future Kart Cat Sneakers For Men',\n",
       " 'Sneakers For Men',\n",
       " 'Sneakers For Men',\n",
       " 'Sneakers For Men',\n",
       " 'Stylish & Trending Outdoor Walking Comfortable Sneakers...',\n",
       " 'Sneakers For Men',\n",
       " \"Men's casual shoe Black sneaker shoe for men Sneakers F...\",\n",
       " 'Lightweight Pack Of 1 Trendy Sneakers Sneakers Sneakers...',\n",
       " 'Puma Wired Cage Sneakers For Men',\n",
       " 'Sneakers For Men',\n",
       " 'Combo Pack Of 4 Casual Sneakers For Men',\n",
       " 'Sneakers For Men',\n",
       " 'Sneakers For Men',\n",
       " 'Kzaara Sneakers Casual Canvas shoes | Branded Stylish O...',\n",
       " 'Speed Set of 5 Pairs Sneakers Outdoors Casuals for Men ...']"
      ]
     },
     "execution_count": 59,
     "metadata": {},
     "output_type": "execute_result"
    }
   ],
   "source": [
    "for i in Product_tags6:\n",
    "    Product_titles6.append(i.text)\n",
    "    \n",
    "len(Product_titles6)\n",
    "Product_titles6"
   ]
  },
  {
   "cell_type": "markdown",
   "id": "1cb78578",
   "metadata": {},
   "source": [
    "Sneaker price extension"
   ]
  },
  {
   "cell_type": "code",
   "execution_count": 60,
   "id": "491ae223",
   "metadata": {},
   "outputs": [
    {
     "data": {
      "text/plain": [
       "[<selenium.webdriver.remote.webelement.WebElement (session=\"6efa028b1d1c18230c37c16e9c7e1fbc\", element=\"97a1422b-89af-4a47-aa69-1eb7db769be4\")>,\n",
       " <selenium.webdriver.remote.webelement.WebElement (session=\"6efa028b1d1c18230c37c16e9c7e1fbc\", element=\"76538147-b0e9-4f42-8a29-1c659aab06e9\")>,\n",
       " <selenium.webdriver.remote.webelement.WebElement (session=\"6efa028b1d1c18230c37c16e9c7e1fbc\", element=\"a15437d6-eba7-4509-acb5-bf468c532292\")>,\n",
       " <selenium.webdriver.remote.webelement.WebElement (session=\"6efa028b1d1c18230c37c16e9c7e1fbc\", element=\"b17bee32-4477-4617-9bb7-039d8faf6531\")>,\n",
       " <selenium.webdriver.remote.webelement.WebElement (session=\"6efa028b1d1c18230c37c16e9c7e1fbc\", element=\"0caf3147-95c5-4a54-90ce-448ae92875fe\")>,\n",
       " <selenium.webdriver.remote.webelement.WebElement (session=\"6efa028b1d1c18230c37c16e9c7e1fbc\", element=\"5a86d0ac-14ff-4b21-a1ff-93ac82287e0e\")>,\n",
       " <selenium.webdriver.remote.webelement.WebElement (session=\"6efa028b1d1c18230c37c16e9c7e1fbc\", element=\"9a418bbd-8d08-430f-91ed-ba327493b58c\")>,\n",
       " <selenium.webdriver.remote.webelement.WebElement (session=\"6efa028b1d1c18230c37c16e9c7e1fbc\", element=\"91a621be-3805-4a40-bc41-a5e199d4b2c8\")>,\n",
       " <selenium.webdriver.remote.webelement.WebElement (session=\"6efa028b1d1c18230c37c16e9c7e1fbc\", element=\"c2229c72-056a-4a87-918c-889b5878bce1\")>,\n",
       " <selenium.webdriver.remote.webelement.WebElement (session=\"6efa028b1d1c18230c37c16e9c7e1fbc\", element=\"9c1920b9-fc40-4ac5-85ab-bb55ca8a8968\")>,\n",
       " <selenium.webdriver.remote.webelement.WebElement (session=\"6efa028b1d1c18230c37c16e9c7e1fbc\", element=\"d04a295f-adf3-45db-ae08-f280d2c6b7c1\")>,\n",
       " <selenium.webdriver.remote.webelement.WebElement (session=\"6efa028b1d1c18230c37c16e9c7e1fbc\", element=\"8d63f29f-ffae-4a4d-a1f6-22adeb666da3\")>,\n",
       " <selenium.webdriver.remote.webelement.WebElement (session=\"6efa028b1d1c18230c37c16e9c7e1fbc\", element=\"5d1a6820-e8ec-45b3-938c-39a390c553d5\")>,\n",
       " <selenium.webdriver.remote.webelement.WebElement (session=\"6efa028b1d1c18230c37c16e9c7e1fbc\", element=\"58cb363c-0410-4a2a-b867-8465e905bf6b\")>,\n",
       " <selenium.webdriver.remote.webelement.WebElement (session=\"6efa028b1d1c18230c37c16e9c7e1fbc\", element=\"b405c22d-823f-4312-8df9-fd478f565310\")>,\n",
       " <selenium.webdriver.remote.webelement.WebElement (session=\"6efa028b1d1c18230c37c16e9c7e1fbc\", element=\"d8082294-9f3c-4be7-baa4-d8b2c450463b\")>,\n",
       " <selenium.webdriver.remote.webelement.WebElement (session=\"6efa028b1d1c18230c37c16e9c7e1fbc\", element=\"2011424b-c398-44a1-904b-67551fb7f31c\")>,\n",
       " <selenium.webdriver.remote.webelement.WebElement (session=\"6efa028b1d1c18230c37c16e9c7e1fbc\", element=\"9a9ac80d-c448-4679-a778-84058c03ae82\")>,\n",
       " <selenium.webdriver.remote.webelement.WebElement (session=\"6efa028b1d1c18230c37c16e9c7e1fbc\", element=\"8a49a013-a487-4f47-9035-b8fc111f6771\")>,\n",
       " <selenium.webdriver.remote.webelement.WebElement (session=\"6efa028b1d1c18230c37c16e9c7e1fbc\", element=\"fbf5622c-bc21-4ea9-8e7d-d6cbd39fedee\")>,\n",
       " <selenium.webdriver.remote.webelement.WebElement (session=\"6efa028b1d1c18230c37c16e9c7e1fbc\", element=\"078acf7f-e14f-42a1-be56-42b8c845b5ab\")>,\n",
       " <selenium.webdriver.remote.webelement.WebElement (session=\"6efa028b1d1c18230c37c16e9c7e1fbc\", element=\"8a22ca30-601c-48c0-a8b2-f9e40a242a67\")>,\n",
       " <selenium.webdriver.remote.webelement.WebElement (session=\"6efa028b1d1c18230c37c16e9c7e1fbc\", element=\"889c2a8d-226f-4f35-96ff-c3ace18f4c88\")>,\n",
       " <selenium.webdriver.remote.webelement.WebElement (session=\"6efa028b1d1c18230c37c16e9c7e1fbc\", element=\"f4c3d50c-3a55-45af-acd8-545ffb5e155b\")>,\n",
       " <selenium.webdriver.remote.webelement.WebElement (session=\"6efa028b1d1c18230c37c16e9c7e1fbc\", element=\"f97fd9e6-40d8-4d26-9f1d-55508891d0f9\")>,\n",
       " <selenium.webdriver.remote.webelement.WebElement (session=\"6efa028b1d1c18230c37c16e9c7e1fbc\", element=\"c35550a2-ee04-481b-9e20-931340411f09\")>,\n",
       " <selenium.webdriver.remote.webelement.WebElement (session=\"6efa028b1d1c18230c37c16e9c7e1fbc\", element=\"00e44ab6-9459-4b9f-908a-bc8ca730356d\")>,\n",
       " <selenium.webdriver.remote.webelement.WebElement (session=\"6efa028b1d1c18230c37c16e9c7e1fbc\", element=\"21d644f3-38cd-4a64-bd87-e95cc9216a57\")>,\n",
       " <selenium.webdriver.remote.webelement.WebElement (session=\"6efa028b1d1c18230c37c16e9c7e1fbc\", element=\"a786cfbb-71b0-47a8-88c0-a4776d70da70\")>,\n",
       " <selenium.webdriver.remote.webelement.WebElement (session=\"6efa028b1d1c18230c37c16e9c7e1fbc\", element=\"2505ac31-0fb0-4632-a8dc-0f760cae046e\")>,\n",
       " <selenium.webdriver.remote.webelement.WebElement (session=\"6efa028b1d1c18230c37c16e9c7e1fbc\", element=\"80bce681-5138-472f-9d45-0036a83c4130\")>,\n",
       " <selenium.webdriver.remote.webelement.WebElement (session=\"6efa028b1d1c18230c37c16e9c7e1fbc\", element=\"4e90355e-6844-433d-852c-b8a2ffc7c4d5\")>,\n",
       " <selenium.webdriver.remote.webelement.WebElement (session=\"6efa028b1d1c18230c37c16e9c7e1fbc\", element=\"13c06129-e79b-40da-877d-0fdb76e8d387\")>,\n",
       " <selenium.webdriver.remote.webelement.WebElement (session=\"6efa028b1d1c18230c37c16e9c7e1fbc\", element=\"7f7b3586-1646-4997-a3c0-aee20e71ba38\")>,\n",
       " <selenium.webdriver.remote.webelement.WebElement (session=\"6efa028b1d1c18230c37c16e9c7e1fbc\", element=\"f6e8b1ed-9850-44af-b25d-22e632f14b39\")>,\n",
       " <selenium.webdriver.remote.webelement.WebElement (session=\"6efa028b1d1c18230c37c16e9c7e1fbc\", element=\"4b6906ab-0b55-49ec-b957-a36d685100e3\")>,\n",
       " <selenium.webdriver.remote.webelement.WebElement (session=\"6efa028b1d1c18230c37c16e9c7e1fbc\", element=\"1c5b59e0-223a-43ce-9d3c-b999489e6925\")>,\n",
       " <selenium.webdriver.remote.webelement.WebElement (session=\"6efa028b1d1c18230c37c16e9c7e1fbc\", element=\"e5f17f29-3f04-4a30-a623-190ecbabd917\")>,\n",
       " <selenium.webdriver.remote.webelement.WebElement (session=\"6efa028b1d1c18230c37c16e9c7e1fbc\", element=\"d666d46b-38db-4054-ab4f-1a7feb037401\")>,\n",
       " <selenium.webdriver.remote.webelement.WebElement (session=\"6efa028b1d1c18230c37c16e9c7e1fbc\", element=\"9e3c4a8d-cb58-438c-b6e0-25f4bbdb9f0a\")>]"
      ]
     },
     "execution_count": 60,
     "metadata": {},
     "output_type": "execute_result"
    }
   ],
   "source": [
    "Price_tags6=driver.find_elements_by_xpath('//div[@class=\"_30jeq3\"]')\n",
    "len(Price_tags6)\n",
    "Price_tags6"
   ]
  },
  {
   "cell_type": "code",
   "execution_count": 61,
   "id": "51e685d2",
   "metadata": {},
   "outputs": [
    {
     "data": {
      "text/plain": [
       "['₹580',\n",
       " '₹347',\n",
       " '₹501',\n",
       " '₹327',\n",
       " '₹424',\n",
       " '₹149',\n",
       " '₹209',\n",
       " '₹1,249',\n",
       " '₹399',\n",
       " '₹349',\n",
       " '₹999',\n",
       " '₹347',\n",
       " '₹394',\n",
       " '₹249',\n",
       " '₹148',\n",
       " '₹2,049',\n",
       " '₹248',\n",
       " '₹269',\n",
       " '₹421',\n",
       " '₹474',\n",
       " '₹269',\n",
       " '₹190',\n",
       " '₹349',\n",
       " '₹630',\n",
       " '₹534',\n",
       " '₹349',\n",
       " '₹449',\n",
       " '₹433',\n",
       " '₹630',\n",
       " '₹394',\n",
       " '₹348',\n",
       " '₹399',\n",
       " '₹499',\n",
       " '₹424',\n",
       " '₹209',\n",
       " '₹1,634',\n",
       " '₹449',\n",
       " '₹429',\n",
       " '₹349',\n",
       " '₹590',\n",
       " '₹249',\n",
       " '₹148',\n",
       " '₹424',\n",
       " '₹369',\n",
       " '₹599',\n",
       " '₹549',\n",
       " '₹261',\n",
       " '₹449',\n",
       " '₹449',\n",
       " '₹649',\n",
       " '₹209',\n",
       " '₹2,249',\n",
       " '₹486',\n",
       " '₹209',\n",
       " '₹424',\n",
       " '₹248',\n",
       " '₹209',\n",
       " '₹580',\n",
       " '₹272',\n",
       " '₹424',\n",
       " '₹199',\n",
       " '₹424',\n",
       " '₹424',\n",
       " '₹459',\n",
       " '₹424',\n",
       " '₹334',\n",
       " '₹327',\n",
       " '₹397',\n",
       " '₹534',\n",
       " '₹445',\n",
       " '₹444',\n",
       " '₹424',\n",
       " '₹397',\n",
       " '₹424',\n",
       " '₹1,821',\n",
       " '₹1,849',\n",
       " '₹424',\n",
       " '₹498',\n",
       " '₹385',\n",
       " '₹1,849',\n",
       " '₹399',\n",
       " '₹599',\n",
       " '₹598',\n",
       " '₹349',\n",
       " '₹735',\n",
       " '₹373',\n",
       " '₹309',\n",
       " '₹476',\n",
       " '₹3,262',\n",
       " '₹1,849',\n",
       " '₹539',\n",
       " '₹419',\n",
       " '₹549',\n",
       " '₹289',\n",
       " '₹2,244',\n",
       " '₹139',\n",
       " '₹349',\n",
       " '₹424',\n",
       " '₹394',\n",
       " '₹399',\n",
       " '₹449',\n",
       " '₹566',\n",
       " '₹3,099',\n",
       " '₹1,754',\n",
       " '₹449',\n",
       " '₹799',\n",
       " '₹349',\n",
       " '₹1,680',\n",
       " '₹929',\n",
       " '₹549',\n",
       " '₹424',\n",
       " '₹449',\n",
       " '₹149',\n",
       " '₹1,294',\n",
       " '₹209',\n",
       " '₹374',\n",
       " '₹549',\n",
       " '₹193',\n",
       " '₹209',\n",
       " '₹663']"
      ]
     },
     "execution_count": 61,
     "metadata": {},
     "output_type": "execute_result"
    }
   ],
   "source": [
    "for i in Price_tags6:\n",
    "    Price_titles6.append(i.text)\n",
    "    \n",
    "len(Price_titles6)\n",
    "Price_titles6"
   ]
  },
  {
   "cell_type": "code",
   "execution_count": 62,
   "id": "50219ca2",
   "metadata": {},
   "outputs": [
    {
     "data": {
      "text/plain": [
       "(120, 100, 120)"
      ]
     },
     "execution_count": 62,
     "metadata": {},
     "output_type": "execute_result"
    }
   ],
   "source": [
    "len(Brand_titles6),len(Product_titles6),len(Price_titles6)"
   ]
  },
  {
   "cell_type": "markdown",
   "id": "f7fd3474",
   "metadata": {},
   "source": [
    "Putting the scrapred Data into Data frame"
   ]
  },
  {
   "cell_type": "code",
   "execution_count": 63,
   "id": "8f94a03e",
   "metadata": {},
   "outputs": [
    {
     "data": {
      "text/html": [
       "<div>\n",
       "<style scoped>\n",
       "    .dataframe tbody tr th:only-of-type {\n",
       "        vertical-align: middle;\n",
       "    }\n",
       "\n",
       "    .dataframe tbody tr th {\n",
       "        vertical-align: top;\n",
       "    }\n",
       "\n",
       "    .dataframe thead th {\n",
       "        text-align: right;\n",
       "    }\n",
       "</style>\n",
       "<table border=\"1\" class=\"dataframe\">\n",
       "  <thead>\n",
       "    <tr style=\"text-align: right;\">\n",
       "      <th></th>\n",
       "      <th>Brand Names</th>\n",
       "      <th>Product Names</th>\n",
       "      <th>Product Price</th>\n",
       "    </tr>\n",
       "  </thead>\n",
       "  <tbody>\n",
       "    <tr>\n",
       "      <th>0</th>\n",
       "      <td>RapidBox</td>\n",
       "      <td>Super Stylish &amp; Trendy Combo Pack of 02 Pairs ...</td>\n",
       "      <td>₹580</td>\n",
       "    </tr>\n",
       "    <tr>\n",
       "      <th>1</th>\n",
       "      <td>Zordic Shoes</td>\n",
       "      <td>Sneakers For Men</td>\n",
       "      <td>₹347</td>\n",
       "    </tr>\n",
       "    <tr>\n",
       "      <th>2</th>\n",
       "      <td>Chevit</td>\n",
       "      <td>5011-Latest Collection Stylish Casual Loafer S...</td>\n",
       "      <td>₹501</td>\n",
       "    </tr>\n",
       "    <tr>\n",
       "      <th>3</th>\n",
       "      <td>Magnolia</td>\n",
       "      <td>Modern Trendy Sneakers Shoes Sneakers For Men</td>\n",
       "      <td>₹327</td>\n",
       "    </tr>\n",
       "    <tr>\n",
       "      <th>4</th>\n",
       "      <td>corsac</td>\n",
       "      <td>Men Blue Solid Sneakers Sneakers For Men</td>\n",
       "      <td>₹424</td>\n",
       "    </tr>\n",
       "    <tr>\n",
       "      <th>...</th>\n",
       "      <td>...</td>\n",
       "      <td>...</td>\n",
       "      <td>...</td>\n",
       "    </tr>\n",
       "    <tr>\n",
       "      <th>115</th>\n",
       "      <td>BRUTON</td>\n",
       "      <td>NaN</td>\n",
       "      <td>₹374</td>\n",
       "    </tr>\n",
       "    <tr>\n",
       "      <th>116</th>\n",
       "      <td>WHITE WALKERS</td>\n",
       "      <td>NaN</td>\n",
       "      <td>₹549</td>\n",
       "    </tr>\n",
       "    <tr>\n",
       "      <th>117</th>\n",
       "      <td>HOTSTYLE</td>\n",
       "      <td>NaN</td>\n",
       "      <td>₹193</td>\n",
       "    </tr>\n",
       "    <tr>\n",
       "      <th>118</th>\n",
       "      <td>Kzaara</td>\n",
       "      <td>NaN</td>\n",
       "      <td>₹209</td>\n",
       "    </tr>\n",
       "    <tr>\n",
       "      <th>119</th>\n",
       "      <td>Chevit</td>\n",
       "      <td>NaN</td>\n",
       "      <td>₹663</td>\n",
       "    </tr>\n",
       "  </tbody>\n",
       "</table>\n",
       "<p>120 rows × 3 columns</p>\n",
       "</div>"
      ],
      "text/plain": [
       "       Brand Names                                      Product Names  \\\n",
       "0         RapidBox  Super Stylish & Trendy Combo Pack of 02 Pairs ...   \n",
       "1     Zordic Shoes                                   Sneakers For Men   \n",
       "2           Chevit  5011-Latest Collection Stylish Casual Loafer S...   \n",
       "3         Magnolia      Modern Trendy Sneakers Shoes Sneakers For Men   \n",
       "4           corsac           Men Blue Solid Sneakers Sneakers For Men   \n",
       "..             ...                                                ...   \n",
       "115         BRUTON                                                NaN   \n",
       "116  WHITE WALKERS                                                NaN   \n",
       "117       HOTSTYLE                                                NaN   \n",
       "118         Kzaara                                                NaN   \n",
       "119         Chevit                                                NaN   \n",
       "\n",
       "    Product Price  \n",
       "0            ₹580  \n",
       "1            ₹347  \n",
       "2            ₹501  \n",
       "3            ₹327  \n",
       "4            ₹424  \n",
       "..            ...  \n",
       "115          ₹374  \n",
       "116          ₹549  \n",
       "117          ₹193  \n",
       "118          ₹209  \n",
       "119          ₹663  \n",
       "\n",
       "[120 rows x 3 columns]"
      ]
     },
     "execution_count": 63,
     "metadata": {},
     "output_type": "execute_result"
    }
   ],
   "source": [
    "import numpy as np\n",
    "Sneakers=pd.DataFrame()\n",
    "Sneakers['Brand Names']=Brand_titles6\n",
    "Sneakers['Product Names']=pd.Series(Product_titles6)\n",
    "Sneakers['Product Price']=Price_titles6\n",
    "Sneakers"
   ]
  },
  {
   "cell_type": "markdown",
   "id": "e6400685",
   "metadata": {},
   "source": [
    "## Q 7 Scrape First 100 shoes Data From Mesho "
   ]
  },
  {
   "cell_type": "markdown",
   "id": "edb6e027",
   "metadata": {},
   "source": [
    "Login into the Companies website for Web Scrapping"
   ]
  },
  {
   "cell_type": "code",
   "execution_count": 67,
   "id": "79701b2b",
   "metadata": {},
   "outputs": [],
   "source": [
    "url = 'https://www.myntra.com/shoes'\n",
    "driver.get(url)"
   ]
  },
  {
   "cell_type": "code",
   "execution_count": 68,
   "id": "975fe5c3",
   "metadata": {},
   "outputs": [],
   "source": [
    "price_check7=driver.find_element_by_xpath('/html/body/div[2]/div/div[1]/main/div[3]/div[1]/section/div/div[5]/ul/li[2]/label')"
   ]
  },
  {
   "cell_type": "code",
   "execution_count": 69,
   "id": "574ea621",
   "metadata": {},
   "outputs": [],
   "source": [
    "price_check7.click()"
   ]
  },
  {
   "cell_type": "code",
   "execution_count": 70,
   "id": "60b75316",
   "metadata": {},
   "outputs": [],
   "source": [
    "colour_check7=driver.find_element_by_xpath('/html/body/div[2]/div/div[1]/main/div[3]/div[1]/section/div/div[6]/ul/li[1]/label')"
   ]
  },
  {
   "cell_type": "code",
   "execution_count": 71,
   "id": "03fe5beb",
   "metadata": {},
   "outputs": [],
   "source": [
    "colour_check7.click()"
   ]
  },
  {
   "cell_type": "markdown",
   "id": "3c135815",
   "metadata": {},
   "source": [
    "Products Brand Name"
   ]
  },
  {
   "cell_type": "code",
   "execution_count": 72,
   "id": "80ed13c5",
   "metadata": {},
   "outputs": [
    {
     "data": {
      "text/plain": [
       "[<selenium.webdriver.remote.webelement.WebElement (session=\"c41d892573fae6fc9e139e3ec2f0e72c\", element=\"a48fe6f5-75b8-438d-931c-24194ee7f271\")>,\n",
       " <selenium.webdriver.remote.webelement.WebElement (session=\"c41d892573fae6fc9e139e3ec2f0e72c\", element=\"7e156a94-7c0f-4600-ad30-7fb8bdc811ea\")>,\n",
       " <selenium.webdriver.remote.webelement.WebElement (session=\"c41d892573fae6fc9e139e3ec2f0e72c\", element=\"99cd5986-0320-4447-b067-08721b9242b1\")>,\n",
       " <selenium.webdriver.remote.webelement.WebElement (session=\"c41d892573fae6fc9e139e3ec2f0e72c\", element=\"c233d7cc-5fbf-4f5d-92a3-09d5b68007b2\")>,\n",
       " <selenium.webdriver.remote.webelement.WebElement (session=\"c41d892573fae6fc9e139e3ec2f0e72c\", element=\"394d1854-65a8-460b-966c-9ba782a2bba6\")>,\n",
       " <selenium.webdriver.remote.webelement.WebElement (session=\"c41d892573fae6fc9e139e3ec2f0e72c\", element=\"9ccc60fe-6bf3-46cd-b8cf-4e38e8c701fc\")>,\n",
       " <selenium.webdriver.remote.webelement.WebElement (session=\"c41d892573fae6fc9e139e3ec2f0e72c\", element=\"31ee6ae5-153a-491e-9532-161eefdabd53\")>,\n",
       " <selenium.webdriver.remote.webelement.WebElement (session=\"c41d892573fae6fc9e139e3ec2f0e72c\", element=\"f8d0d8fe-7fab-40b2-a7c1-8cccf8cac505\")>,\n",
       " <selenium.webdriver.remote.webelement.WebElement (session=\"c41d892573fae6fc9e139e3ec2f0e72c\", element=\"8a9d2041-b676-40f1-9b87-3fa5f8085ac5\")>,\n",
       " <selenium.webdriver.remote.webelement.WebElement (session=\"c41d892573fae6fc9e139e3ec2f0e72c\", element=\"340f7fe2-fb8d-4d85-8bd3-d891fe7899eb\")>,\n",
       " <selenium.webdriver.remote.webelement.WebElement (session=\"c41d892573fae6fc9e139e3ec2f0e72c\", element=\"21ef3f33-e5d1-4664-a57d-e62ffb804809\")>,\n",
       " <selenium.webdriver.remote.webelement.WebElement (session=\"c41d892573fae6fc9e139e3ec2f0e72c\", element=\"47802d52-d962-4cda-89e3-361deec6e90c\")>,\n",
       " <selenium.webdriver.remote.webelement.WebElement (session=\"c41d892573fae6fc9e139e3ec2f0e72c\", element=\"6096fa26-1f2c-4b78-ac43-b4aa32eb4404\")>,\n",
       " <selenium.webdriver.remote.webelement.WebElement (session=\"c41d892573fae6fc9e139e3ec2f0e72c\", element=\"5f8cd292-243b-4848-8879-fbb734cb5c9a\")>,\n",
       " <selenium.webdriver.remote.webelement.WebElement (session=\"c41d892573fae6fc9e139e3ec2f0e72c\", element=\"156dcac6-50f5-4d85-b9e3-76afc3aa261c\")>,\n",
       " <selenium.webdriver.remote.webelement.WebElement (session=\"c41d892573fae6fc9e139e3ec2f0e72c\", element=\"46418bc5-057d-4cf1-b3c0-5930a6977b02\")>,\n",
       " <selenium.webdriver.remote.webelement.WebElement (session=\"c41d892573fae6fc9e139e3ec2f0e72c\", element=\"f2b004af-e8e5-42c5-af71-ff8582258848\")>,\n",
       " <selenium.webdriver.remote.webelement.WebElement (session=\"c41d892573fae6fc9e139e3ec2f0e72c\", element=\"c5a605b4-088c-49ab-ac7d-89955e9da8ed\")>,\n",
       " <selenium.webdriver.remote.webelement.WebElement (session=\"c41d892573fae6fc9e139e3ec2f0e72c\", element=\"e17fa7e9-037e-40a5-9a7a-5f7252fd417e\")>,\n",
       " <selenium.webdriver.remote.webelement.WebElement (session=\"c41d892573fae6fc9e139e3ec2f0e72c\", element=\"9823d65b-0ba2-4e41-bd79-7f88a00f5969\")>,\n",
       " <selenium.webdriver.remote.webelement.WebElement (session=\"c41d892573fae6fc9e139e3ec2f0e72c\", element=\"5afddf82-5f53-46b2-bea9-be2fbea83fe2\")>,\n",
       " <selenium.webdriver.remote.webelement.WebElement (session=\"c41d892573fae6fc9e139e3ec2f0e72c\", element=\"f8ca4a48-0508-412c-b911-2f05d820bb2e\")>,\n",
       " <selenium.webdriver.remote.webelement.WebElement (session=\"c41d892573fae6fc9e139e3ec2f0e72c\", element=\"7038b4a5-acbb-4ca1-9b2b-c2884d2abef2\")>,\n",
       " <selenium.webdriver.remote.webelement.WebElement (session=\"c41d892573fae6fc9e139e3ec2f0e72c\", element=\"00690217-0d7e-4c01-8697-221f3063164c\")>,\n",
       " <selenium.webdriver.remote.webelement.WebElement (session=\"c41d892573fae6fc9e139e3ec2f0e72c\", element=\"91e798bb-343b-457a-94e4-4bd6b6b68d01\")>,\n",
       " <selenium.webdriver.remote.webelement.WebElement (session=\"c41d892573fae6fc9e139e3ec2f0e72c\", element=\"df9108db-77a0-409b-ad1a-74b492a41d86\")>,\n",
       " <selenium.webdriver.remote.webelement.WebElement (session=\"c41d892573fae6fc9e139e3ec2f0e72c\", element=\"30685f17-ee89-4e26-99d0-2603ed9a77e7\")>,\n",
       " <selenium.webdriver.remote.webelement.WebElement (session=\"c41d892573fae6fc9e139e3ec2f0e72c\", element=\"20b5229a-3d3a-4428-905c-c73893ee0a29\")>,\n",
       " <selenium.webdriver.remote.webelement.WebElement (session=\"c41d892573fae6fc9e139e3ec2f0e72c\", element=\"3792c559-613e-4710-b989-30b10e19aaa8\")>,\n",
       " <selenium.webdriver.remote.webelement.WebElement (session=\"c41d892573fae6fc9e139e3ec2f0e72c\", element=\"96aed2f8-2baf-4d30-8daa-2ce2994e0734\")>,\n",
       " <selenium.webdriver.remote.webelement.WebElement (session=\"c41d892573fae6fc9e139e3ec2f0e72c\", element=\"b7fa09a0-6a2b-4270-8cf8-410bf05edfcf\")>,\n",
       " <selenium.webdriver.remote.webelement.WebElement (session=\"c41d892573fae6fc9e139e3ec2f0e72c\", element=\"088daeec-643b-4d18-ab8f-d1d76dff26bf\")>,\n",
       " <selenium.webdriver.remote.webelement.WebElement (session=\"c41d892573fae6fc9e139e3ec2f0e72c\", element=\"2937194d-bb75-4a3f-ada4-9d334e26e7ef\")>,\n",
       " <selenium.webdriver.remote.webelement.WebElement (session=\"c41d892573fae6fc9e139e3ec2f0e72c\", element=\"f5cd31c2-11b6-4bce-8897-9b6ac5468cb2\")>,\n",
       " <selenium.webdriver.remote.webelement.WebElement (session=\"c41d892573fae6fc9e139e3ec2f0e72c\", element=\"63ea856d-5a2b-4e8d-9faf-59bc2ad1761e\")>,\n",
       " <selenium.webdriver.remote.webelement.WebElement (session=\"c41d892573fae6fc9e139e3ec2f0e72c\", element=\"c7e83142-24b4-4cc6-9cd0-8a95bad13d46\")>,\n",
       " <selenium.webdriver.remote.webelement.WebElement (session=\"c41d892573fae6fc9e139e3ec2f0e72c\", element=\"9dbdc42e-de02-41b3-a2b5-a905cb697d18\")>,\n",
       " <selenium.webdriver.remote.webelement.WebElement (session=\"c41d892573fae6fc9e139e3ec2f0e72c\", element=\"5a8f6ac2-5792-4342-a044-4cfcc498b6f3\")>,\n",
       " <selenium.webdriver.remote.webelement.WebElement (session=\"c41d892573fae6fc9e139e3ec2f0e72c\", element=\"548bd10d-c042-4e08-bd7c-b21eae84f9a2\")>,\n",
       " <selenium.webdriver.remote.webelement.WebElement (session=\"c41d892573fae6fc9e139e3ec2f0e72c\", element=\"efd23ed1-5c04-4874-9380-256ef1f422e7\")>,\n",
       " <selenium.webdriver.remote.webelement.WebElement (session=\"c41d892573fae6fc9e139e3ec2f0e72c\", element=\"89ea299c-9015-4a36-b3ce-cdff5517fd61\")>,\n",
       " <selenium.webdriver.remote.webelement.WebElement (session=\"c41d892573fae6fc9e139e3ec2f0e72c\", element=\"22f60e20-b11a-4669-b8b7-0987fafe140b\")>,\n",
       " <selenium.webdriver.remote.webelement.WebElement (session=\"c41d892573fae6fc9e139e3ec2f0e72c\", element=\"e37175c6-ad55-4c5d-bae7-5cbc29ef9a86\")>,\n",
       " <selenium.webdriver.remote.webelement.WebElement (session=\"c41d892573fae6fc9e139e3ec2f0e72c\", element=\"bedc8dba-0f50-49ae-9d85-7f170ec12341\")>,\n",
       " <selenium.webdriver.remote.webelement.WebElement (session=\"c41d892573fae6fc9e139e3ec2f0e72c\", element=\"3896a65d-02a2-49a2-8921-db7572ac0b4d\")>,\n",
       " <selenium.webdriver.remote.webelement.WebElement (session=\"c41d892573fae6fc9e139e3ec2f0e72c\", element=\"e96d0c1b-2678-4a00-b9b9-1415122afcc3\")>,\n",
       " <selenium.webdriver.remote.webelement.WebElement (session=\"c41d892573fae6fc9e139e3ec2f0e72c\", element=\"c26e0a68-e8d3-483e-977e-ce7c599be574\")>,\n",
       " <selenium.webdriver.remote.webelement.WebElement (session=\"c41d892573fae6fc9e139e3ec2f0e72c\", element=\"8a43b6e3-4463-40a6-953a-a7c3cca8c2ae\")>,\n",
       " <selenium.webdriver.remote.webelement.WebElement (session=\"c41d892573fae6fc9e139e3ec2f0e72c\", element=\"21174aaf-a27d-49c8-ab17-2a5c8d310288\")>,\n",
       " <selenium.webdriver.remote.webelement.WebElement (session=\"c41d892573fae6fc9e139e3ec2f0e72c\", element=\"0045cb02-381c-4416-b55b-ef41e506d073\")>]"
      ]
     },
     "execution_count": 72,
     "metadata": {},
     "output_type": "execute_result"
    }
   ],
   "source": [
    "Brand_tags7=driver.find_elements_by_xpath('//h3[@class=\"product-brand\"]')\n",
    "len(Brand_tags7)\n",
    "Brand_tags7"
   ]
  },
  {
   "cell_type": "code",
   "execution_count": 73,
   "id": "c28baddc",
   "metadata": {},
   "outputs": [
    {
     "data": {
      "text/plain": [
       "['Nike',\n",
       " 'ALDO',\n",
       " 'ALDO',\n",
       " 'Puma',\n",
       " 'Tommy Hilfiger',\n",
       " 'ALDO',\n",
       " 'Puma',\n",
       " 'Puma',\n",
       " 'Hush Puppies',\n",
       " 'Puma',\n",
       " 'Nike',\n",
       " 'Puma',\n",
       " 'PUMA Motorsport',\n",
       " 'Hush Puppies',\n",
       " 'Bugatti',\n",
       " 'Puma',\n",
       " 'Hush Puppies',\n",
       " 'J.FONTINI',\n",
       " 'Clarks',\n",
       " 'Hush Puppies',\n",
       " 'Hush Puppies',\n",
       " 'Saint G',\n",
       " 'J.FONTINI',\n",
       " 'ASICS',\n",
       " 'Puma',\n",
       " 'ALDO',\n",
       " 'DAVINCHI',\n",
       " 'Clarks',\n",
       " 'TRIBAN By Decathlon',\n",
       " 'Saint G',\n",
       " 'Clarks',\n",
       " 'FILA',\n",
       " 'J.FONTINI',\n",
       " 'Geox',\n",
       " 'ALDO',\n",
       " 'DAVINCHI',\n",
       " 'Saint G',\n",
       " 'Geox',\n",
       " 'Saint G',\n",
       " 'fitflop',\n",
       " 'ROSSO BRUNELLO',\n",
       " 'Saint G',\n",
       " 'Sole To Soul',\n",
       " 'Sole To Soul',\n",
       " 'Sole To Soul',\n",
       " 'FILA',\n",
       " 'Sole To Soul',\n",
       " 'MANGO',\n",
       " 'New Balance',\n",
       " 'Columbia']"
      ]
     },
     "execution_count": 73,
     "metadata": {},
     "output_type": "execute_result"
    }
   ],
   "source": [
    "Brand_titles7=[]\n",
    "\n",
    "for i in Brand_tags7:\n",
    "    Brand_titles7.append(i.text)\n",
    "    \n",
    "len(Brand_titles7)\n",
    "Brand_titles7"
   ]
  },
  {
   "cell_type": "markdown",
   "id": "9cc658e8",
   "metadata": {},
   "source": [
    "Product Description"
   ]
  },
  {
   "cell_type": "code",
   "execution_count": 76,
   "id": "9cdd40e7",
   "metadata": {},
   "outputs": [
    {
     "data": {
      "text/plain": [
       "[<selenium.webdriver.remote.webelement.WebElement (session=\"c41d892573fae6fc9e139e3ec2f0e72c\", element=\"9c4ac4cd-2b59-4283-9c96-cb6354b47a90\")>,\n",
       " <selenium.webdriver.remote.webelement.WebElement (session=\"c41d892573fae6fc9e139e3ec2f0e72c\", element=\"cb365f82-babd-41df-8436-64b75c888233\")>,\n",
       " <selenium.webdriver.remote.webelement.WebElement (session=\"c41d892573fae6fc9e139e3ec2f0e72c\", element=\"89ead043-6475-45b6-99ea-de4d38ff3221\")>,\n",
       " <selenium.webdriver.remote.webelement.WebElement (session=\"c41d892573fae6fc9e139e3ec2f0e72c\", element=\"99ec75ae-013b-4643-b72d-80635c660cb7\")>,\n",
       " <selenium.webdriver.remote.webelement.WebElement (session=\"c41d892573fae6fc9e139e3ec2f0e72c\", element=\"2953aa30-5d28-404a-a511-7b69eb4d10d9\")>,\n",
       " <selenium.webdriver.remote.webelement.WebElement (session=\"c41d892573fae6fc9e139e3ec2f0e72c\", element=\"a24289b5-0547-44d0-9d55-8fb780bd682f\")>,\n",
       " <selenium.webdriver.remote.webelement.WebElement (session=\"c41d892573fae6fc9e139e3ec2f0e72c\", element=\"3baf0ad6-0a8c-4eca-92a1-79bd806f1f8d\")>,\n",
       " <selenium.webdriver.remote.webelement.WebElement (session=\"c41d892573fae6fc9e139e3ec2f0e72c\", element=\"63a7e0d8-e88c-407f-a7d0-999280e6e94f\")>,\n",
       " <selenium.webdriver.remote.webelement.WebElement (session=\"c41d892573fae6fc9e139e3ec2f0e72c\", element=\"ad51fb44-483d-42f7-960b-96c3a73e2911\")>,\n",
       " <selenium.webdriver.remote.webelement.WebElement (session=\"c41d892573fae6fc9e139e3ec2f0e72c\", element=\"c7f3b3d1-c2d1-4893-947f-79fb50129ba8\")>,\n",
       " <selenium.webdriver.remote.webelement.WebElement (session=\"c41d892573fae6fc9e139e3ec2f0e72c\", element=\"d8d965e3-2dd1-4572-b375-1b9f9c725c88\")>,\n",
       " <selenium.webdriver.remote.webelement.WebElement (session=\"c41d892573fae6fc9e139e3ec2f0e72c\", element=\"64e2cb02-0caf-4a44-a56d-6b7232385476\")>,\n",
       " <selenium.webdriver.remote.webelement.WebElement (session=\"c41d892573fae6fc9e139e3ec2f0e72c\", element=\"09e8dd42-002e-439e-a1b0-1682c8ef2e63\")>,\n",
       " <selenium.webdriver.remote.webelement.WebElement (session=\"c41d892573fae6fc9e139e3ec2f0e72c\", element=\"76479832-1548-4f7d-8437-836369f125b5\")>,\n",
       " <selenium.webdriver.remote.webelement.WebElement (session=\"c41d892573fae6fc9e139e3ec2f0e72c\", element=\"d6fd6f54-621b-4096-96a4-b26a8ca035fd\")>,\n",
       " <selenium.webdriver.remote.webelement.WebElement (session=\"c41d892573fae6fc9e139e3ec2f0e72c\", element=\"655e5bd1-a013-4380-b4b8-8f97b6273858\")>,\n",
       " <selenium.webdriver.remote.webelement.WebElement (session=\"c41d892573fae6fc9e139e3ec2f0e72c\", element=\"f72f17cd-ee4a-43d8-8211-ca0e639fcd24\")>,\n",
       " <selenium.webdriver.remote.webelement.WebElement (session=\"c41d892573fae6fc9e139e3ec2f0e72c\", element=\"eda7dc06-6b43-4efa-ae34-3fe47d73791f\")>,\n",
       " <selenium.webdriver.remote.webelement.WebElement (session=\"c41d892573fae6fc9e139e3ec2f0e72c\", element=\"04ad72c8-348e-4205-8cba-c4c6fc5cdd86\")>,\n",
       " <selenium.webdriver.remote.webelement.WebElement (session=\"c41d892573fae6fc9e139e3ec2f0e72c\", element=\"4c9b3705-5355-4d09-a090-2ace8e291fe1\")>,\n",
       " <selenium.webdriver.remote.webelement.WebElement (session=\"c41d892573fae6fc9e139e3ec2f0e72c\", element=\"63266cc0-33d6-490d-ba0d-8f919fa69b08\")>,\n",
       " <selenium.webdriver.remote.webelement.WebElement (session=\"c41d892573fae6fc9e139e3ec2f0e72c\", element=\"01aa24b1-7529-4e42-b4b6-b89d07dc302b\")>,\n",
       " <selenium.webdriver.remote.webelement.WebElement (session=\"c41d892573fae6fc9e139e3ec2f0e72c\", element=\"f82ea2c9-e204-46b6-b017-4d144570ac47\")>,\n",
       " <selenium.webdriver.remote.webelement.WebElement (session=\"c41d892573fae6fc9e139e3ec2f0e72c\", element=\"f5bda120-8a0b-4d02-adcc-ab319f83e5b3\")>,\n",
       " <selenium.webdriver.remote.webelement.WebElement (session=\"c41d892573fae6fc9e139e3ec2f0e72c\", element=\"790487da-c74f-4778-9017-2b0274693ca8\")>,\n",
       " <selenium.webdriver.remote.webelement.WebElement (session=\"c41d892573fae6fc9e139e3ec2f0e72c\", element=\"a2eb1f8f-4654-48c6-a763-734564cd17b9\")>,\n",
       " <selenium.webdriver.remote.webelement.WebElement (session=\"c41d892573fae6fc9e139e3ec2f0e72c\", element=\"b347439e-096e-4739-9665-cf6d5da1b218\")>,\n",
       " <selenium.webdriver.remote.webelement.WebElement (session=\"c41d892573fae6fc9e139e3ec2f0e72c\", element=\"359c18a4-27f8-4860-8a71-f6177eba9eeb\")>,\n",
       " <selenium.webdriver.remote.webelement.WebElement (session=\"c41d892573fae6fc9e139e3ec2f0e72c\", element=\"12596b42-28f4-4944-b696-3110c3ea425e\")>,\n",
       " <selenium.webdriver.remote.webelement.WebElement (session=\"c41d892573fae6fc9e139e3ec2f0e72c\", element=\"225a89e8-ec54-4dde-93a8-7f0cbde7c592\")>,\n",
       " <selenium.webdriver.remote.webelement.WebElement (session=\"c41d892573fae6fc9e139e3ec2f0e72c\", element=\"08f54477-a8ca-4623-96e0-5cc73855d98b\")>,\n",
       " <selenium.webdriver.remote.webelement.WebElement (session=\"c41d892573fae6fc9e139e3ec2f0e72c\", element=\"1bde1adc-dbcc-412d-8947-763591427809\")>,\n",
       " <selenium.webdriver.remote.webelement.WebElement (session=\"c41d892573fae6fc9e139e3ec2f0e72c\", element=\"f77e2637-a832-434a-950e-444ed436ee5e\")>,\n",
       " <selenium.webdriver.remote.webelement.WebElement (session=\"c41d892573fae6fc9e139e3ec2f0e72c\", element=\"7e9491aa-69c6-4e63-8dfa-b4998a97e795\")>,\n",
       " <selenium.webdriver.remote.webelement.WebElement (session=\"c41d892573fae6fc9e139e3ec2f0e72c\", element=\"f199f0f5-ef8f-41a8-8509-fac9b091d156\")>,\n",
       " <selenium.webdriver.remote.webelement.WebElement (session=\"c41d892573fae6fc9e139e3ec2f0e72c\", element=\"3756f11b-3f05-4db8-89de-e90c4e8fab6c\")>,\n",
       " <selenium.webdriver.remote.webelement.WebElement (session=\"c41d892573fae6fc9e139e3ec2f0e72c\", element=\"a75a25a9-77f4-4521-8d28-15217068477a\")>,\n",
       " <selenium.webdriver.remote.webelement.WebElement (session=\"c41d892573fae6fc9e139e3ec2f0e72c\", element=\"bd7a2963-013e-4dc5-aaf5-a4ecf8f404c0\")>,\n",
       " <selenium.webdriver.remote.webelement.WebElement (session=\"c41d892573fae6fc9e139e3ec2f0e72c\", element=\"43a974a1-d300-4d5f-8374-f8d574649696\")>,\n",
       " <selenium.webdriver.remote.webelement.WebElement (session=\"c41d892573fae6fc9e139e3ec2f0e72c\", element=\"0b14bd89-8956-4b05-be74-e3c54d89f491\")>,\n",
       " <selenium.webdriver.remote.webelement.WebElement (session=\"c41d892573fae6fc9e139e3ec2f0e72c\", element=\"2e1a7078-ecc6-45f8-9313-f0f3a4098562\")>,\n",
       " <selenium.webdriver.remote.webelement.WebElement (session=\"c41d892573fae6fc9e139e3ec2f0e72c\", element=\"cb12be15-fbfc-40b5-9fbe-0277de3d954c\")>,\n",
       " <selenium.webdriver.remote.webelement.WebElement (session=\"c41d892573fae6fc9e139e3ec2f0e72c\", element=\"1d8cf183-5240-4f6b-a7e1-0a5e3bae6cf2\")>,\n",
       " <selenium.webdriver.remote.webelement.WebElement (session=\"c41d892573fae6fc9e139e3ec2f0e72c\", element=\"05908c59-9988-4499-9faa-50e59db1889b\")>,\n",
       " <selenium.webdriver.remote.webelement.WebElement (session=\"c41d892573fae6fc9e139e3ec2f0e72c\", element=\"687a1e21-a36a-4ba4-9b21-30832dab313d\")>,\n",
       " <selenium.webdriver.remote.webelement.WebElement (session=\"c41d892573fae6fc9e139e3ec2f0e72c\", element=\"0d826f9b-6b5d-4fa3-a386-082d8dc01fc2\")>,\n",
       " <selenium.webdriver.remote.webelement.WebElement (session=\"c41d892573fae6fc9e139e3ec2f0e72c\", element=\"a591838c-1ee5-4ba8-9187-9fa8cde77345\")>,\n",
       " <selenium.webdriver.remote.webelement.WebElement (session=\"c41d892573fae6fc9e139e3ec2f0e72c\", element=\"6213b35a-5553-4e4f-8fb9-87c4bae5b29d\")>,\n",
       " <selenium.webdriver.remote.webelement.WebElement (session=\"c41d892573fae6fc9e139e3ec2f0e72c\", element=\"0418d05f-c53d-4933-9342-5f0089c6821f\")>,\n",
       " <selenium.webdriver.remote.webelement.WebElement (session=\"c41d892573fae6fc9e139e3ec2f0e72c\", element=\"5a0d6229-6302-4ca7-b035-6b17c2bedb95\")>]"
      ]
     },
     "execution_count": 76,
     "metadata": {},
     "output_type": "execute_result"
    }
   ],
   "source": [
    "Product_tags7=driver.find_elements_by_xpath('//h4[@class=\"product-product\"]')\n",
    "len(Product_tags7)\n",
    "Product_tags7"
   ]
  },
  {
   "cell_type": "code",
   "execution_count": 77,
   "id": "3eefaf2b",
   "metadata": {},
   "outputs": [
    {
     "data": {
      "text/plain": [
       "['Men Winflo 7 Running Shoes',\n",
       " 'Men Printed Sneakers',\n",
       " 'Men Leather Driving Shoes',\n",
       " 'Eternity Nitro Running Shoes',\n",
       " 'Men Cleated Leather Sneakers',\n",
       " 'Men Woven Design Sneakers',\n",
       " 'Electrify Nitro Running Shoes',\n",
       " 'Men Jamming 2.0 Running Shoes',\n",
       " 'Men Solid Leather Formal Slip-Ons',\n",
       " 'Men Training or Gym Shoes',\n",
       " 'Men Air Max Dawn Sneakers',\n",
       " 'Women Eternity NITRO Shoes',\n",
       " 'Unisex Ferrari Drift8 Sneakers',\n",
       " 'Men Formal Derbys',\n",
       " 'Men Textured Leather High-Top Flat Boots',\n",
       " 'Women Velocity NITRO Runners',\n",
       " 'Men Solid Leather Formal Slip-Ons',\n",
       " 'Men Black Leather Loafers',\n",
       " 'Men Solid Formal Leather Derbys',\n",
       " 'Men Solid Leather Formal Derbys',\n",
       " 'Men Solid Formal Slip-Ons',\n",
       " 'Women Leather Block Heels',\n",
       " 'Men Solid Loafers',\n",
       " 'Women Running Shoes',\n",
       " 'Men FUSE Training Shoes',\n",
       " 'Wedge Sandals',\n",
       " 'Men Textured Formal Leather Loafers',\n",
       " 'Men Solid Leather Formal Loafers',\n",
       " 'Unisex Training or Gym Shoes',\n",
       " 'Men Mid-Top Chelsea Boots',\n",
       " 'Men Leather Derbys',\n",
       " 'Men Printed Trekking Shoes',\n",
       " 'Men Textured Leather Loafers',\n",
       " 'Men Formal Derbys',\n",
       " 'Leather Slim Heels',\n",
       " 'Men Formal Leather Slip-Ons',\n",
       " 'Leather Block Heeled Boots',\n",
       " 'Women Leather Pumps',\n",
       " 'Striped Suede Flatform Heeled Boots',\n",
       " 'Embellished Leather Flatform Sandals',\n",
       " 'PU Block Pumps with Buckles',\n",
       " 'Leather Party Block Mules',\n",
       " 'Women Block Heeled Boots',\n",
       " 'High-Top Block Heeled Boots',\n",
       " 'Suede High-Top Block Heeled Boots',\n",
       " 'Women Leather Sneakers',\n",
       " 'High-Top Platform Heeled Boots',\n",
       " 'Women Solid Sneakers',\n",
       " 'Women Woven Running Shoes',\n",
       " 'PEAKFREAK XCRSN Trekking Shoe']"
      ]
     },
     "execution_count": 77,
     "metadata": {},
     "output_type": "execute_result"
    }
   ],
   "source": [
    "Product_titles7=[]\n",
    "\n",
    "for i in Product_tags7:\n",
    "    Product_titles7.append(i.text)\n",
    "    \n",
    "len(Product_titles7)\n",
    "Product_titles7"
   ]
  },
  {
   "cell_type": "markdown",
   "id": "8a41cf31",
   "metadata": {},
   "source": [
    "product Price"
   ]
  },
  {
   "cell_type": "code",
   "execution_count": 78,
   "id": "ad64fdac",
   "metadata": {},
   "outputs": [
    {
     "data": {
      "text/plain": [
       "[<selenium.webdriver.remote.webelement.WebElement (session=\"c41d892573fae6fc9e139e3ec2f0e72c\", element=\"caa1fb29-27fc-4d95-b62e-03bd06c18548\")>,\n",
       " <selenium.webdriver.remote.webelement.WebElement (session=\"c41d892573fae6fc9e139e3ec2f0e72c\", element=\"bc243f48-9a7d-4c90-898a-f0d44f38ec01\")>,\n",
       " <selenium.webdriver.remote.webelement.WebElement (session=\"c41d892573fae6fc9e139e3ec2f0e72c\", element=\"ef9a6667-3dc0-42f7-afe8-fca6ab1dabe8\")>,\n",
       " <selenium.webdriver.remote.webelement.WebElement (session=\"c41d892573fae6fc9e139e3ec2f0e72c\", element=\"f365f01a-7438-4723-a563-770ab4c826a7\")>,\n",
       " <selenium.webdriver.remote.webelement.WebElement (session=\"c41d892573fae6fc9e139e3ec2f0e72c\", element=\"582af1f3-389e-46d7-ba78-4dbab5bcc9f8\")>,\n",
       " <selenium.webdriver.remote.webelement.WebElement (session=\"c41d892573fae6fc9e139e3ec2f0e72c\", element=\"a4ee9cc0-ad00-47bc-be49-137e986434f2\")>,\n",
       " <selenium.webdriver.remote.webelement.WebElement (session=\"c41d892573fae6fc9e139e3ec2f0e72c\", element=\"29345184-e13b-4da7-9890-19437fa863fe\")>,\n",
       " <selenium.webdriver.remote.webelement.WebElement (session=\"c41d892573fae6fc9e139e3ec2f0e72c\", element=\"f2d2ad8a-2af9-43db-b30c-67bcde411b37\")>,\n",
       " <selenium.webdriver.remote.webelement.WebElement (session=\"c41d892573fae6fc9e139e3ec2f0e72c\", element=\"32c011ad-3595-41eb-b983-2976188ac3d1\")>,\n",
       " <selenium.webdriver.remote.webelement.WebElement (session=\"c41d892573fae6fc9e139e3ec2f0e72c\", element=\"c6fb74eb-65a3-4851-b24f-bf06e08acc10\")>,\n",
       " <selenium.webdriver.remote.webelement.WebElement (session=\"c41d892573fae6fc9e139e3ec2f0e72c\", element=\"3ab654ea-b3fa-4ad7-96e8-f0cdc957a022\")>,\n",
       " <selenium.webdriver.remote.webelement.WebElement (session=\"c41d892573fae6fc9e139e3ec2f0e72c\", element=\"b95b0944-902a-4478-a608-b82925f2f2b1\")>,\n",
       " <selenium.webdriver.remote.webelement.WebElement (session=\"c41d892573fae6fc9e139e3ec2f0e72c\", element=\"4d5501b9-0b36-400e-bad4-4f9792a640fe\")>,\n",
       " <selenium.webdriver.remote.webelement.WebElement (session=\"c41d892573fae6fc9e139e3ec2f0e72c\", element=\"e2ceb238-62c3-428f-9ddb-413eadabdc5b\")>,\n",
       " <selenium.webdriver.remote.webelement.WebElement (session=\"c41d892573fae6fc9e139e3ec2f0e72c\", element=\"61b87ffd-3316-4905-882c-d7c90dfb8c8f\")>,\n",
       " <selenium.webdriver.remote.webelement.WebElement (session=\"c41d892573fae6fc9e139e3ec2f0e72c\", element=\"681a7bd7-d08f-4bda-8483-503191e82317\")>,\n",
       " <selenium.webdriver.remote.webelement.WebElement (session=\"c41d892573fae6fc9e139e3ec2f0e72c\", element=\"3d5557e8-a525-4ac8-986c-2fc8941bc47b\")>,\n",
       " <selenium.webdriver.remote.webelement.WebElement (session=\"c41d892573fae6fc9e139e3ec2f0e72c\", element=\"0966dc4a-70c2-453b-a702-a945e2a58e45\")>,\n",
       " <selenium.webdriver.remote.webelement.WebElement (session=\"c41d892573fae6fc9e139e3ec2f0e72c\", element=\"292b3158-f662-48dc-9239-bb8ae1e96626\")>,\n",
       " <selenium.webdriver.remote.webelement.WebElement (session=\"c41d892573fae6fc9e139e3ec2f0e72c\", element=\"485b05c6-6c00-48c2-8983-0cb34b6088f6\")>,\n",
       " <selenium.webdriver.remote.webelement.WebElement (session=\"c41d892573fae6fc9e139e3ec2f0e72c\", element=\"315e0fea-9194-4900-b3e0-056545f1432c\")>,\n",
       " <selenium.webdriver.remote.webelement.WebElement (session=\"c41d892573fae6fc9e139e3ec2f0e72c\", element=\"1132edaf-d075-4f58-83b5-743f64f9ab17\")>,\n",
       " <selenium.webdriver.remote.webelement.WebElement (session=\"c41d892573fae6fc9e139e3ec2f0e72c\", element=\"49dff328-78a4-483c-9d00-74bf3e8fa322\")>,\n",
       " <selenium.webdriver.remote.webelement.WebElement (session=\"c41d892573fae6fc9e139e3ec2f0e72c\", element=\"4eab0ec6-7a6c-4870-ad92-5ea138e5be5c\")>,\n",
       " <selenium.webdriver.remote.webelement.WebElement (session=\"c41d892573fae6fc9e139e3ec2f0e72c\", element=\"357378b7-d0dc-468f-9030-4b94702cb360\")>,\n",
       " <selenium.webdriver.remote.webelement.WebElement (session=\"c41d892573fae6fc9e139e3ec2f0e72c\", element=\"46a1114f-936a-4280-93ee-49e12ad8723b\")>,\n",
       " <selenium.webdriver.remote.webelement.WebElement (session=\"c41d892573fae6fc9e139e3ec2f0e72c\", element=\"d95a97cb-733a-497a-a078-6d7f4e4ef4ac\")>,\n",
       " <selenium.webdriver.remote.webelement.WebElement (session=\"c41d892573fae6fc9e139e3ec2f0e72c\", element=\"4f2bbcb8-b36f-4965-86f0-9e7a8e656bb5\")>,\n",
       " <selenium.webdriver.remote.webelement.WebElement (session=\"c41d892573fae6fc9e139e3ec2f0e72c\", element=\"a1a65818-9679-43af-b02d-968e6231dabd\")>,\n",
       " <selenium.webdriver.remote.webelement.WebElement (session=\"c41d892573fae6fc9e139e3ec2f0e72c\", element=\"054c7328-652e-4991-98c7-db7a29cebb55\")>,\n",
       " <selenium.webdriver.remote.webelement.WebElement (session=\"c41d892573fae6fc9e139e3ec2f0e72c\", element=\"c7f5fc5c-8ff3-4294-a0d8-96c97786e319\")>,\n",
       " <selenium.webdriver.remote.webelement.WebElement (session=\"c41d892573fae6fc9e139e3ec2f0e72c\", element=\"594dc9d9-a9a4-4df6-b2c5-8d950302b841\")>,\n",
       " <selenium.webdriver.remote.webelement.WebElement (session=\"c41d892573fae6fc9e139e3ec2f0e72c\", element=\"d87c4347-a39b-4ba0-a351-a8377ed2c765\")>,\n",
       " <selenium.webdriver.remote.webelement.WebElement (session=\"c41d892573fae6fc9e139e3ec2f0e72c\", element=\"cef62c8f-ae8e-4014-8a48-b5ed4d6d887d\")>,\n",
       " <selenium.webdriver.remote.webelement.WebElement (session=\"c41d892573fae6fc9e139e3ec2f0e72c\", element=\"e468a105-d292-41fd-bf46-404906e3bdc0\")>,\n",
       " <selenium.webdriver.remote.webelement.WebElement (session=\"c41d892573fae6fc9e139e3ec2f0e72c\", element=\"30ec6b38-945e-41fb-8eef-818c34876adb\")>,\n",
       " <selenium.webdriver.remote.webelement.WebElement (session=\"c41d892573fae6fc9e139e3ec2f0e72c\", element=\"19463509-f3a0-48de-ba36-578e8a77f6c0\")>,\n",
       " <selenium.webdriver.remote.webelement.WebElement (session=\"c41d892573fae6fc9e139e3ec2f0e72c\", element=\"9facd089-b03e-49c6-bc58-11944d77e969\")>,\n",
       " <selenium.webdriver.remote.webelement.WebElement (session=\"c41d892573fae6fc9e139e3ec2f0e72c\", element=\"d340ab20-c12d-4ee1-b690-380d4e3b09b9\")>,\n",
       " <selenium.webdriver.remote.webelement.WebElement (session=\"c41d892573fae6fc9e139e3ec2f0e72c\", element=\"8b925a28-7692-48c3-b908-23ee04b7fe65\")>,\n",
       " <selenium.webdriver.remote.webelement.WebElement (session=\"c41d892573fae6fc9e139e3ec2f0e72c\", element=\"aa08d351-4319-4632-82a5-a9c6b44bc906\")>,\n",
       " <selenium.webdriver.remote.webelement.WebElement (session=\"c41d892573fae6fc9e139e3ec2f0e72c\", element=\"bca75417-37c6-408d-bc6d-0f7e3f0f31d7\")>,\n",
       " <selenium.webdriver.remote.webelement.WebElement (session=\"c41d892573fae6fc9e139e3ec2f0e72c\", element=\"26eb23c0-2439-431b-b66f-ee5cbce0094c\")>,\n",
       " <selenium.webdriver.remote.webelement.WebElement (session=\"c41d892573fae6fc9e139e3ec2f0e72c\", element=\"e8022042-ecd9-42f0-9557-d5d4c2a11acb\")>,\n",
       " <selenium.webdriver.remote.webelement.WebElement (session=\"c41d892573fae6fc9e139e3ec2f0e72c\", element=\"f82875c2-6a01-43c9-af94-5e1110e15316\")>,\n",
       " <selenium.webdriver.remote.webelement.WebElement (session=\"c41d892573fae6fc9e139e3ec2f0e72c\", element=\"b0393ce0-0fca-4b6f-9ece-651a7c6164a3\")>,\n",
       " <selenium.webdriver.remote.webelement.WebElement (session=\"c41d892573fae6fc9e139e3ec2f0e72c\", element=\"1c740883-e498-4ffa-b15c-e54f8ece3b01\")>,\n",
       " <selenium.webdriver.remote.webelement.WebElement (session=\"c41d892573fae6fc9e139e3ec2f0e72c\", element=\"5d3b0706-68ad-4f2b-a9e6-660f6328e021\")>,\n",
       " <selenium.webdriver.remote.webelement.WebElement (session=\"c41d892573fae6fc9e139e3ec2f0e72c\", element=\"a13afeb3-f58d-4ca4-b9ce-60dc33e17bee\")>,\n",
       " <selenium.webdriver.remote.webelement.WebElement (session=\"c41d892573fae6fc9e139e3ec2f0e72c\", element=\"5b141344-ba89-4ed2-9703-46b5a39ec9b0\")>]"
      ]
     },
     "execution_count": 78,
     "metadata": {},
     "output_type": "execute_result"
    }
   ],
   "source": [
    "Price_tags7=driver.find_elements_by_xpath('//div[@class=\"product-price\"]')\n",
    "len(Price_tags7)\n",
    "Price_tags7"
   ]
  },
  {
   "cell_type": "code",
   "execution_count": 79,
   "id": "87081fbd",
   "metadata": {},
   "outputs": [
    {
     "data": {
      "text/plain": [
       "['Rs. 7995',\n",
       " 'Rs. 9099Rs. 12999(30% OFF)',\n",
       " 'Rs. 12999',\n",
       " 'Rs. 12999',\n",
       " 'Rs. 7739Rs. 8599(10% OFF)',\n",
       " 'Rs. 13999',\n",
       " 'Rs. 9999',\n",
       " 'Rs. 12999',\n",
       " 'Rs. 7649Rs. 8999(15% OFF)',\n",
       " 'Rs. 7999',\n",
       " 'Rs. 10995',\n",
       " 'Rs. 9099Rs. 12999(30% OFF)',\n",
       " 'Rs. 7999',\n",
       " 'Rs. 8499Rs. 9999(15% OFF)',\n",
       " 'Rs. 8399Rs. 11999(30% OFF)',\n",
       " 'Rs. 7149Rs. 10999(35% OFF)',\n",
       " 'Rs. 8499Rs. 9999(15% OFF)',\n",
       " 'Rs. 8490',\n",
       " 'Rs. 9999',\n",
       " 'Rs. 8499Rs. 9999(15% OFF)',\n",
       " 'Rs. 8499Rs. 9999(15% OFF)',\n",
       " 'Rs. 7480Rs. 8500(12% OFF)',\n",
       " 'Rs. 8990',\n",
       " 'Rs. 7999',\n",
       " 'Rs. 7999',\n",
       " 'Rs. 7999',\n",
       " 'Rs. 8990',\n",
       " 'Rs. 7999',\n",
       " 'Rs. 8029Rs. 10999(27% OFF)',\n",
       " 'Rs. 10500Rs. 10900(Rs. 400 OFF)',\n",
       " 'Rs. 7499',\n",
       " 'Rs. 11599',\n",
       " 'Rs. 8490',\n",
       " 'Rs. 9990',\n",
       " 'Rs. 8399Rs. 11999(30% OFF)',\n",
       " 'Rs. 8990',\n",
       " 'Rs. 9265Rs. 10900(15% OFF)',\n",
       " 'Rs. 8999',\n",
       " 'Rs. 8415Rs. 9900(15% OFF)',\n",
       " 'Rs. 8299',\n",
       " 'Rs. 7499',\n",
       " 'Rs. 7380Rs. 8200(10% OFF)',\n",
       " 'Rs. 8900',\n",
       " 'Rs. 7900',\n",
       " 'Rs. 9500',\n",
       " 'Rs. 8499',\n",
       " 'Rs. 8900',\n",
       " 'Rs. 7192Rs. 8990(20% OFF)',\n",
       " 'Rs. 7149Rs. 12999(45% OFF)',\n",
       " 'Rs. 9999']"
      ]
     },
     "execution_count": 79,
     "metadata": {},
     "output_type": "execute_result"
    }
   ],
   "source": [
    "Price_titles7=[]\n",
    "\n",
    "for i in Price_tags7:\n",
    "    Price_titles7.append(i.text)\n",
    "    \n",
    "len(Price_titles7)\n",
    "Price_titles7"
   ]
  },
  {
   "cell_type": "markdown",
   "id": "6b70dd16",
   "metadata": {},
   "source": [
    "Changing page to add more data into th list"
   ]
  },
  {
   "cell_type": "code",
   "execution_count": 81,
   "id": "c9f4ad6d",
   "metadata": {},
   "outputs": [],
   "source": [
    "Page_check=driver.find_element_by_xpath('/html/body/div[2]/div/div[1]/main/div[3]/div[2]/div/div[2]/section/div[2]/ul/li[12]/a')\n",
    "Page_check.click()"
   ]
  },
  {
   "cell_type": "markdown",
   "id": "6fd56532",
   "metadata": {},
   "source": [
    "Products Company Name"
   ]
  },
  {
   "cell_type": "code",
   "execution_count": 82,
   "id": "a99222ee",
   "metadata": {},
   "outputs": [
    {
     "data": {
      "text/plain": [
       "[<selenium.webdriver.remote.webelement.WebElement (session=\"c41d892573fae6fc9e139e3ec2f0e72c\", element=\"0045cb02-381c-4416-b55b-ef41e506d073\")>,\n",
       " <selenium.webdriver.remote.webelement.WebElement (session=\"c41d892573fae6fc9e139e3ec2f0e72c\", element=\"d1562531-c68b-4768-a5b3-c9d6fb545edf\")>,\n",
       " <selenium.webdriver.remote.webelement.WebElement (session=\"c41d892573fae6fc9e139e3ec2f0e72c\", element=\"eae1bbd5-1d13-4e5d-a615-68d6e2307367\")>,\n",
       " <selenium.webdriver.remote.webelement.WebElement (session=\"c41d892573fae6fc9e139e3ec2f0e72c\", element=\"4b347712-b89e-4f5e-aa7e-3e8cea1d276e\")>,\n",
       " <selenium.webdriver.remote.webelement.WebElement (session=\"c41d892573fae6fc9e139e3ec2f0e72c\", element=\"8c553ab7-1d95-4939-a790-2c77f90c852c\")>,\n",
       " <selenium.webdriver.remote.webelement.WebElement (session=\"c41d892573fae6fc9e139e3ec2f0e72c\", element=\"b6fb1bac-3931-4c23-9564-249aed8a0a57\")>,\n",
       " <selenium.webdriver.remote.webelement.WebElement (session=\"c41d892573fae6fc9e139e3ec2f0e72c\", element=\"57791d00-6628-40a8-9f2e-bf6241d0998b\")>,\n",
       " <selenium.webdriver.remote.webelement.WebElement (session=\"c41d892573fae6fc9e139e3ec2f0e72c\", element=\"5b87e574-97b3-481a-bbc9-c5dd7556697a\")>,\n",
       " <selenium.webdriver.remote.webelement.WebElement (session=\"c41d892573fae6fc9e139e3ec2f0e72c\", element=\"3770c4f4-a2b0-473f-9529-85ce61cff1f3\")>,\n",
       " <selenium.webdriver.remote.webelement.WebElement (session=\"c41d892573fae6fc9e139e3ec2f0e72c\", element=\"868166c5-5fe4-47ac-b807-e6da1f496de6\")>,\n",
       " <selenium.webdriver.remote.webelement.WebElement (session=\"c41d892573fae6fc9e139e3ec2f0e72c\", element=\"a36139e6-5fc8-4d64-a228-f96e5a683713\")>,\n",
       " <selenium.webdriver.remote.webelement.WebElement (session=\"c41d892573fae6fc9e139e3ec2f0e72c\", element=\"74e6fe9a-660f-4e7c-b2c2-76be95f65282\")>,\n",
       " <selenium.webdriver.remote.webelement.WebElement (session=\"c41d892573fae6fc9e139e3ec2f0e72c\", element=\"cb6f9cd8-9f43-407b-a574-c1e1cb8f54d2\")>,\n",
       " <selenium.webdriver.remote.webelement.WebElement (session=\"c41d892573fae6fc9e139e3ec2f0e72c\", element=\"22a518d7-b51b-44d3-852d-ba5f15b5774a\")>,\n",
       " <selenium.webdriver.remote.webelement.WebElement (session=\"c41d892573fae6fc9e139e3ec2f0e72c\", element=\"9c5bd454-33c5-4fd1-ba02-ca68b7c185f6\")>,\n",
       " <selenium.webdriver.remote.webelement.WebElement (session=\"c41d892573fae6fc9e139e3ec2f0e72c\", element=\"3fdb91e9-7447-4993-bb90-fa4be3cd9f12\")>,\n",
       " <selenium.webdriver.remote.webelement.WebElement (session=\"c41d892573fae6fc9e139e3ec2f0e72c\", element=\"58d8800a-c2df-4115-aefa-67e64e776d53\")>,\n",
       " <selenium.webdriver.remote.webelement.WebElement (session=\"c41d892573fae6fc9e139e3ec2f0e72c\", element=\"80e7b5cd-6409-40b2-8656-7e7af7f178c6\")>,\n",
       " <selenium.webdriver.remote.webelement.WebElement (session=\"c41d892573fae6fc9e139e3ec2f0e72c\", element=\"e164ec55-e1be-4069-a761-7aba7ceb347d\")>,\n",
       " <selenium.webdriver.remote.webelement.WebElement (session=\"c41d892573fae6fc9e139e3ec2f0e72c\", element=\"c5139155-5bbb-4108-8556-6bcec3a64732\")>,\n",
       " <selenium.webdriver.remote.webelement.WebElement (session=\"c41d892573fae6fc9e139e3ec2f0e72c\", element=\"09493817-fdea-4903-bf6d-da4add4d9789\")>,\n",
       " <selenium.webdriver.remote.webelement.WebElement (session=\"c41d892573fae6fc9e139e3ec2f0e72c\", element=\"79ba4a10-629d-4241-80f1-d64a92abaf8e\")>,\n",
       " <selenium.webdriver.remote.webelement.WebElement (session=\"c41d892573fae6fc9e139e3ec2f0e72c\", element=\"39439341-d628-48a1-8ea8-2789187e91fd\")>,\n",
       " <selenium.webdriver.remote.webelement.WebElement (session=\"c41d892573fae6fc9e139e3ec2f0e72c\", element=\"b4f9fe03-32b6-4062-a7bc-525a38914eea\")>,\n",
       " <selenium.webdriver.remote.webelement.WebElement (session=\"c41d892573fae6fc9e139e3ec2f0e72c\", element=\"48c17163-db66-4418-a58a-3d8a10ce5df4\")>,\n",
       " <selenium.webdriver.remote.webelement.WebElement (session=\"c41d892573fae6fc9e139e3ec2f0e72c\", element=\"cc158746-4c58-43b9-8ca6-1c3a9ee05631\")>,\n",
       " <selenium.webdriver.remote.webelement.WebElement (session=\"c41d892573fae6fc9e139e3ec2f0e72c\", element=\"33b64ba3-ed67-4d1f-b54e-51b60fcde539\")>,\n",
       " <selenium.webdriver.remote.webelement.WebElement (session=\"c41d892573fae6fc9e139e3ec2f0e72c\", element=\"15b221a2-52d2-4608-8c30-dc33171cee9d\")>,\n",
       " <selenium.webdriver.remote.webelement.WebElement (session=\"c41d892573fae6fc9e139e3ec2f0e72c\", element=\"004dc629-2173-4852-91a6-250b8f71645e\")>,\n",
       " <selenium.webdriver.remote.webelement.WebElement (session=\"c41d892573fae6fc9e139e3ec2f0e72c\", element=\"544a3bc6-9cbb-4e17-b5d3-2e659b99bace\")>,\n",
       " <selenium.webdriver.remote.webelement.WebElement (session=\"c41d892573fae6fc9e139e3ec2f0e72c\", element=\"daeb748d-d784-44e7-8c7c-c785d830b115\")>,\n",
       " <selenium.webdriver.remote.webelement.WebElement (session=\"c41d892573fae6fc9e139e3ec2f0e72c\", element=\"04707268-5acc-4f68-9524-274aa1c9b639\")>,\n",
       " <selenium.webdriver.remote.webelement.WebElement (session=\"c41d892573fae6fc9e139e3ec2f0e72c\", element=\"a780c49f-6044-4624-b623-b4a6b74994ed\")>,\n",
       " <selenium.webdriver.remote.webelement.WebElement (session=\"c41d892573fae6fc9e139e3ec2f0e72c\", element=\"9cae76f8-3ae2-444f-b3b5-725d4f23b947\")>,\n",
       " <selenium.webdriver.remote.webelement.WebElement (session=\"c41d892573fae6fc9e139e3ec2f0e72c\", element=\"37d20f0a-8071-4293-adcb-ce8d1553f28a\")>,\n",
       " <selenium.webdriver.remote.webelement.WebElement (session=\"c41d892573fae6fc9e139e3ec2f0e72c\", element=\"2335cdd6-e424-4b15-b584-87dc61a0096d\")>,\n",
       " <selenium.webdriver.remote.webelement.WebElement (session=\"c41d892573fae6fc9e139e3ec2f0e72c\", element=\"07099397-1c73-4bbd-875b-2cc4da5792f6\")>,\n",
       " <selenium.webdriver.remote.webelement.WebElement (session=\"c41d892573fae6fc9e139e3ec2f0e72c\", element=\"97eadcf6-9477-4e20-98e7-ab720da34972\")>,\n",
       " <selenium.webdriver.remote.webelement.WebElement (session=\"c41d892573fae6fc9e139e3ec2f0e72c\", element=\"fff9d062-7868-41e7-9842-fe64f1fbc41a\")>,\n",
       " <selenium.webdriver.remote.webelement.WebElement (session=\"c41d892573fae6fc9e139e3ec2f0e72c\", element=\"0623316c-b8d6-46df-b41f-89a229b31e05\")>,\n",
       " <selenium.webdriver.remote.webelement.WebElement (session=\"c41d892573fae6fc9e139e3ec2f0e72c\", element=\"e4f8ffbe-77b1-4505-8916-d11fe778ee12\")>,\n",
       " <selenium.webdriver.remote.webelement.WebElement (session=\"c41d892573fae6fc9e139e3ec2f0e72c\", element=\"c3c5a15a-336c-469b-af71-b3776e2863b8\")>,\n",
       " <selenium.webdriver.remote.webelement.WebElement (session=\"c41d892573fae6fc9e139e3ec2f0e72c\", element=\"a7fae797-0acf-4078-bf2d-b53346dbff77\")>,\n",
       " <selenium.webdriver.remote.webelement.WebElement (session=\"c41d892573fae6fc9e139e3ec2f0e72c\", element=\"1826bb24-72c9-4fd3-86b9-b261b0cf29b0\")>,\n",
       " <selenium.webdriver.remote.webelement.WebElement (session=\"c41d892573fae6fc9e139e3ec2f0e72c\", element=\"bf2dbe19-78d6-433d-85b6-0ae10cc869de\")>,\n",
       " <selenium.webdriver.remote.webelement.WebElement (session=\"c41d892573fae6fc9e139e3ec2f0e72c\", element=\"d64662b0-e764-48ba-b4c7-199f154bb5a8\")>,\n",
       " <selenium.webdriver.remote.webelement.WebElement (session=\"c41d892573fae6fc9e139e3ec2f0e72c\", element=\"3b08172f-64c4-4933-ab64-33f72319c8f4\")>,\n",
       " <selenium.webdriver.remote.webelement.WebElement (session=\"c41d892573fae6fc9e139e3ec2f0e72c\", element=\"8b26530f-c2ff-4036-92d7-9cd59baee7b6\")>,\n",
       " <selenium.webdriver.remote.webelement.WebElement (session=\"c41d892573fae6fc9e139e3ec2f0e72c\", element=\"cbd80604-65fc-48e8-abf3-72d544b2c335\")>,\n",
       " <selenium.webdriver.remote.webelement.WebElement (session=\"c41d892573fae6fc9e139e3ec2f0e72c\", element=\"055f48cc-2e43-4d77-b6db-ccc2af779996\")>]"
      ]
     },
     "execution_count": 82,
     "metadata": {},
     "output_type": "execute_result"
    }
   ],
   "source": [
    "Brand_tags7=driver.find_elements_by_xpath('//h3[@class=\"product-brand\"]')\n",
    "len(Brand_tags7)\n",
    "Brand_tags7"
   ]
  },
  {
   "cell_type": "code",
   "execution_count": 83,
   "id": "b8793d2e",
   "metadata": {},
   "outputs": [
    {
     "data": {
      "text/plain": [
       "['Nike',\n",
       " 'ALDO',\n",
       " 'ALDO',\n",
       " 'Puma',\n",
       " 'Tommy Hilfiger',\n",
       " 'ALDO',\n",
       " 'Puma',\n",
       " 'Puma',\n",
       " 'Hush Puppies',\n",
       " 'Puma',\n",
       " 'Nike',\n",
       " 'Puma',\n",
       " 'PUMA Motorsport',\n",
       " 'Hush Puppies',\n",
       " 'Bugatti',\n",
       " 'Puma',\n",
       " 'Hush Puppies',\n",
       " 'J.FONTINI',\n",
       " 'Clarks',\n",
       " 'Hush Puppies',\n",
       " 'Hush Puppies',\n",
       " 'Saint G',\n",
       " 'J.FONTINI',\n",
       " 'ASICS',\n",
       " 'Puma',\n",
       " 'ALDO',\n",
       " 'DAVINCHI',\n",
       " 'Clarks',\n",
       " 'TRIBAN By Decathlon',\n",
       " 'Saint G',\n",
       " 'Clarks',\n",
       " 'FILA',\n",
       " 'J.FONTINI',\n",
       " 'Geox',\n",
       " 'ALDO',\n",
       " 'DAVINCHI',\n",
       " 'Saint G',\n",
       " 'Geox',\n",
       " 'Saint G',\n",
       " 'fitflop',\n",
       " 'ROSSO BRUNELLO',\n",
       " 'Saint G',\n",
       " 'Sole To Soul',\n",
       " 'Sole To Soul',\n",
       " 'Sole To Soul',\n",
       " 'FILA',\n",
       " 'Sole To Soul',\n",
       " 'MANGO',\n",
       " 'New Balance',\n",
       " 'Columbia',\n",
       " 'Columbia',\n",
       " 'Columbia',\n",
       " 'Columbia',\n",
       " 'Bugatti',\n",
       " 'Bugatti',\n",
       " 'Geox',\n",
       " 'Cole Haan',\n",
       " 'Cole Haan',\n",
       " 'J.FONTINI',\n",
       " 'Cobblerz',\n",
       " 'Columbia',\n",
       " 'Saint G',\n",
       " 'Geox',\n",
       " 'Geox',\n",
       " 'Xtep',\n",
       " 'Heel & Buckle London',\n",
       " 'RARE RABBIT',\n",
       " 'Geox',\n",
       " 'Royal Enfield',\n",
       " 'Cole Haan',\n",
       " 'ASICS',\n",
       " 'Cole Haan',\n",
       " 'Geox',\n",
       " 'J.FONTINI',\n",
       " 'Cole Haan',\n",
       " 'Saint G',\n",
       " 'Saint G',\n",
       " 'Saint G',\n",
       " 'Saint G',\n",
       " 'J.FONTINI',\n",
       " 'Pavers England',\n",
       " 'Sole To Soul',\n",
       " 'Bugatti',\n",
       " 'Saint G',\n",
       " 'DAVINCHI',\n",
       " 'DAVINCHI',\n",
       " 'Saint G',\n",
       " 'Saint G',\n",
       " 'J.FONTINI',\n",
       " 'Saint G',\n",
       " 'Saint G',\n",
       " 'Saint G',\n",
       " 'Saint G',\n",
       " 'J.FONTINI',\n",
       " 'Saint G',\n",
       " 'DAVINCHI',\n",
       " 'Saint G',\n",
       " 'DAVINCHI',\n",
       " 'Saint G',\n",
       " 'Saint G']"
      ]
     },
     "execution_count": 83,
     "metadata": {},
     "output_type": "execute_result"
    }
   ],
   "source": [
    "for i in Brand_tags7:\n",
    "    Brand_titles7.append(i.text)\n",
    "    \n",
    "len(Brand_titles7)\n",
    "Brand_titles7"
   ]
  },
  {
   "cell_type": "markdown",
   "id": "7f2a3741",
   "metadata": {},
   "source": [
    "Product description list"
   ]
  },
  {
   "cell_type": "code",
   "execution_count": 84,
   "id": "df5934f3",
   "metadata": {},
   "outputs": [
    {
     "data": {
      "text/plain": [
       "[<selenium.webdriver.remote.webelement.WebElement (session=\"c41d892573fae6fc9e139e3ec2f0e72c\", element=\"5a0d6229-6302-4ca7-b035-6b17c2bedb95\")>,\n",
       " <selenium.webdriver.remote.webelement.WebElement (session=\"c41d892573fae6fc9e139e3ec2f0e72c\", element=\"af9bd199-2715-4233-b211-f0da9a6b1d72\")>,\n",
       " <selenium.webdriver.remote.webelement.WebElement (session=\"c41d892573fae6fc9e139e3ec2f0e72c\", element=\"60388a3c-7cd4-41b8-8535-aaa27e2bdca0\")>,\n",
       " <selenium.webdriver.remote.webelement.WebElement (session=\"c41d892573fae6fc9e139e3ec2f0e72c\", element=\"2c3ed905-d469-465b-907c-fcfa5ddd7ce5\")>,\n",
       " <selenium.webdriver.remote.webelement.WebElement (session=\"c41d892573fae6fc9e139e3ec2f0e72c\", element=\"d24cf218-038e-4313-855a-1552b28f669e\")>,\n",
       " <selenium.webdriver.remote.webelement.WebElement (session=\"c41d892573fae6fc9e139e3ec2f0e72c\", element=\"d15382fb-e53f-44dc-afff-ce45dee29807\")>,\n",
       " <selenium.webdriver.remote.webelement.WebElement (session=\"c41d892573fae6fc9e139e3ec2f0e72c\", element=\"8642a7ec-787b-4f24-8948-684847ff0903\")>,\n",
       " <selenium.webdriver.remote.webelement.WebElement (session=\"c41d892573fae6fc9e139e3ec2f0e72c\", element=\"f4f2fb83-c299-4226-b533-029cf1c925d7\")>,\n",
       " <selenium.webdriver.remote.webelement.WebElement (session=\"c41d892573fae6fc9e139e3ec2f0e72c\", element=\"97237bd7-a6ef-4512-981a-7ba1903b027d\")>,\n",
       " <selenium.webdriver.remote.webelement.WebElement (session=\"c41d892573fae6fc9e139e3ec2f0e72c\", element=\"2d026a42-e611-4675-88f4-3505f49a7416\")>,\n",
       " <selenium.webdriver.remote.webelement.WebElement (session=\"c41d892573fae6fc9e139e3ec2f0e72c\", element=\"24966592-99c8-4cc2-8b79-bda172e80a6c\")>,\n",
       " <selenium.webdriver.remote.webelement.WebElement (session=\"c41d892573fae6fc9e139e3ec2f0e72c\", element=\"ef33298e-9732-4344-b45a-eacd7e608a7a\")>,\n",
       " <selenium.webdriver.remote.webelement.WebElement (session=\"c41d892573fae6fc9e139e3ec2f0e72c\", element=\"8237501f-d182-40ab-b072-5ce5260cfb7a\")>,\n",
       " <selenium.webdriver.remote.webelement.WebElement (session=\"c41d892573fae6fc9e139e3ec2f0e72c\", element=\"c276dae6-8028-408b-a00d-5e76309c84cc\")>,\n",
       " <selenium.webdriver.remote.webelement.WebElement (session=\"c41d892573fae6fc9e139e3ec2f0e72c\", element=\"319592da-2d91-4d47-a751-689913d38046\")>,\n",
       " <selenium.webdriver.remote.webelement.WebElement (session=\"c41d892573fae6fc9e139e3ec2f0e72c\", element=\"d4356fa4-726a-4772-88a4-40404bd085d4\")>,\n",
       " <selenium.webdriver.remote.webelement.WebElement (session=\"c41d892573fae6fc9e139e3ec2f0e72c\", element=\"8a07c28a-2e0c-40f9-89d3-b7ca0f6937a3\")>,\n",
       " <selenium.webdriver.remote.webelement.WebElement (session=\"c41d892573fae6fc9e139e3ec2f0e72c\", element=\"32644636-4494-47da-9f31-0d6912b998b8\")>,\n",
       " <selenium.webdriver.remote.webelement.WebElement (session=\"c41d892573fae6fc9e139e3ec2f0e72c\", element=\"55888300-0c38-445d-8a64-754748525060\")>,\n",
       " <selenium.webdriver.remote.webelement.WebElement (session=\"c41d892573fae6fc9e139e3ec2f0e72c\", element=\"beb2b6f5-caa1-445e-a7e2-5b9e9fb93058\")>,\n",
       " <selenium.webdriver.remote.webelement.WebElement (session=\"c41d892573fae6fc9e139e3ec2f0e72c\", element=\"89f588db-58b6-4f3f-a344-347c7ab37490\")>,\n",
       " <selenium.webdriver.remote.webelement.WebElement (session=\"c41d892573fae6fc9e139e3ec2f0e72c\", element=\"d86671bb-14f2-4059-a82d-88db5c1a0211\")>,\n",
       " <selenium.webdriver.remote.webelement.WebElement (session=\"c41d892573fae6fc9e139e3ec2f0e72c\", element=\"cb1ce2d5-f8b6-459f-8a29-feeb7a489213\")>,\n",
       " <selenium.webdriver.remote.webelement.WebElement (session=\"c41d892573fae6fc9e139e3ec2f0e72c\", element=\"0efe5b26-00a0-416d-a2cc-1b26188f3327\")>,\n",
       " <selenium.webdriver.remote.webelement.WebElement (session=\"c41d892573fae6fc9e139e3ec2f0e72c\", element=\"820e7d6d-51e3-4f7c-8516-e8afb39af10c\")>,\n",
       " <selenium.webdriver.remote.webelement.WebElement (session=\"c41d892573fae6fc9e139e3ec2f0e72c\", element=\"dd899132-7887-4586-ba68-63d99de6ec95\")>,\n",
       " <selenium.webdriver.remote.webelement.WebElement (session=\"c41d892573fae6fc9e139e3ec2f0e72c\", element=\"4314c778-5b49-4af5-a15e-f37e5ea4fc79\")>,\n",
       " <selenium.webdriver.remote.webelement.WebElement (session=\"c41d892573fae6fc9e139e3ec2f0e72c\", element=\"85bf938a-aa85-4ac0-a090-8d5501dbb505\")>,\n",
       " <selenium.webdriver.remote.webelement.WebElement (session=\"c41d892573fae6fc9e139e3ec2f0e72c\", element=\"39e99983-355e-46e4-8844-91544f7d4ff1\")>,\n",
       " <selenium.webdriver.remote.webelement.WebElement (session=\"c41d892573fae6fc9e139e3ec2f0e72c\", element=\"f2dc32b5-ccd9-45b7-aa23-2504825936e6\")>,\n",
       " <selenium.webdriver.remote.webelement.WebElement (session=\"c41d892573fae6fc9e139e3ec2f0e72c\", element=\"f0ee98e8-aaee-4070-8e38-457f0f318283\")>,\n",
       " <selenium.webdriver.remote.webelement.WebElement (session=\"c41d892573fae6fc9e139e3ec2f0e72c\", element=\"9eccc618-f692-4477-9354-d454456b3416\")>,\n",
       " <selenium.webdriver.remote.webelement.WebElement (session=\"c41d892573fae6fc9e139e3ec2f0e72c\", element=\"3cce5ea9-2a34-494f-b65c-176b1d4f55b7\")>,\n",
       " <selenium.webdriver.remote.webelement.WebElement (session=\"c41d892573fae6fc9e139e3ec2f0e72c\", element=\"14b2f292-50fc-409d-a275-6f81fbd83482\")>,\n",
       " <selenium.webdriver.remote.webelement.WebElement (session=\"c41d892573fae6fc9e139e3ec2f0e72c\", element=\"b9ef2897-03a1-43e2-ba96-748e7ab0e81c\")>,\n",
       " <selenium.webdriver.remote.webelement.WebElement (session=\"c41d892573fae6fc9e139e3ec2f0e72c\", element=\"4ec28d49-0f4d-4c57-a7fd-a3b4151a1212\")>,\n",
       " <selenium.webdriver.remote.webelement.WebElement (session=\"c41d892573fae6fc9e139e3ec2f0e72c\", element=\"b6f4749b-53b2-4166-b293-a3549f266dcf\")>,\n",
       " <selenium.webdriver.remote.webelement.WebElement (session=\"c41d892573fae6fc9e139e3ec2f0e72c\", element=\"80e656b8-1309-49ae-ad7d-3b09ff257224\")>,\n",
       " <selenium.webdriver.remote.webelement.WebElement (session=\"c41d892573fae6fc9e139e3ec2f0e72c\", element=\"7a1cca5c-6db9-4ea5-939f-612c08b0d4f2\")>,\n",
       " <selenium.webdriver.remote.webelement.WebElement (session=\"c41d892573fae6fc9e139e3ec2f0e72c\", element=\"2daf14be-b9ea-4369-a236-1a17d9adc0e0\")>,\n",
       " <selenium.webdriver.remote.webelement.WebElement (session=\"c41d892573fae6fc9e139e3ec2f0e72c\", element=\"8638af3e-81fa-4ca3-93fa-0d409f148915\")>,\n",
       " <selenium.webdriver.remote.webelement.WebElement (session=\"c41d892573fae6fc9e139e3ec2f0e72c\", element=\"38d7634f-2b9c-44be-9b1d-91d5a5273b44\")>,\n",
       " <selenium.webdriver.remote.webelement.WebElement (session=\"c41d892573fae6fc9e139e3ec2f0e72c\", element=\"6a3e0acc-bcd8-47a6-9b2d-5a4cc9b0319b\")>,\n",
       " <selenium.webdriver.remote.webelement.WebElement (session=\"c41d892573fae6fc9e139e3ec2f0e72c\", element=\"91bc2483-9bea-4e59-855b-87011655b5be\")>,\n",
       " <selenium.webdriver.remote.webelement.WebElement (session=\"c41d892573fae6fc9e139e3ec2f0e72c\", element=\"e3ca341c-fa83-4215-9247-1b822c29e861\")>,\n",
       " <selenium.webdriver.remote.webelement.WebElement (session=\"c41d892573fae6fc9e139e3ec2f0e72c\", element=\"6ed7af56-88eb-40a5-877c-ede320127d11\")>,\n",
       " <selenium.webdriver.remote.webelement.WebElement (session=\"c41d892573fae6fc9e139e3ec2f0e72c\", element=\"959750fa-2b11-4983-8e82-75ee37edc5ad\")>,\n",
       " <selenium.webdriver.remote.webelement.WebElement (session=\"c41d892573fae6fc9e139e3ec2f0e72c\", element=\"8665c334-45cd-4ec7-97d4-9606aafef20f\")>,\n",
       " <selenium.webdriver.remote.webelement.WebElement (session=\"c41d892573fae6fc9e139e3ec2f0e72c\", element=\"79b5cc6e-2ae1-49eb-ad68-91a648206b9a\")>,\n",
       " <selenium.webdriver.remote.webelement.WebElement (session=\"c41d892573fae6fc9e139e3ec2f0e72c\", element=\"7c2281b4-b021-4971-9d66-8aad1d3b84d4\")>]"
      ]
     },
     "execution_count": 84,
     "metadata": {},
     "output_type": "execute_result"
    }
   ],
   "source": [
    "Product_tags7=driver.find_elements_by_xpath('//h4[@class=\"product-product\"]')\n",
    "len(Product_tags7)\n",
    "Product_tags7"
   ]
  },
  {
   "cell_type": "code",
   "execution_count": 85,
   "id": "e31b75b3",
   "metadata": {},
   "outputs": [
    {
     "data": {
      "text/plain": [
       "['Men Winflo 7 Running Shoes',\n",
       " 'Men Printed Sneakers',\n",
       " 'Men Leather Driving Shoes',\n",
       " 'Eternity Nitro Running Shoes',\n",
       " 'Men Cleated Leather Sneakers',\n",
       " 'Men Woven Design Sneakers',\n",
       " 'Electrify Nitro Running Shoes',\n",
       " 'Men Jamming 2.0 Running Shoes',\n",
       " 'Men Solid Leather Formal Slip-Ons',\n",
       " 'Men Training or Gym Shoes',\n",
       " 'Men Air Max Dawn Sneakers',\n",
       " 'Women Eternity NITRO Shoes',\n",
       " 'Unisex Ferrari Drift8 Sneakers',\n",
       " 'Men Formal Derbys',\n",
       " 'Men Textured Leather High-Top Flat Boots',\n",
       " 'Women Velocity NITRO Runners',\n",
       " 'Men Solid Leather Formal Slip-Ons',\n",
       " 'Men Black Leather Loafers',\n",
       " 'Men Solid Formal Leather Derbys',\n",
       " 'Men Solid Leather Formal Derbys',\n",
       " 'Men Solid Formal Slip-Ons',\n",
       " 'Women Leather Block Heels',\n",
       " 'Men Solid Loafers',\n",
       " 'Women Running Shoes',\n",
       " 'Men FUSE Training Shoes',\n",
       " 'Wedge Sandals',\n",
       " 'Men Textured Formal Leather Loafers',\n",
       " 'Men Solid Leather Formal Loafers',\n",
       " 'Unisex Training or Gym Shoes',\n",
       " 'Men Mid-Top Chelsea Boots',\n",
       " 'Men Leather Derbys',\n",
       " 'Men Printed Trekking Shoes',\n",
       " 'Men Textured Leather Loafers',\n",
       " 'Men Formal Derbys',\n",
       " 'Leather Slim Heels',\n",
       " 'Men Formal Leather Slip-Ons',\n",
       " 'Leather Block Heeled Boots',\n",
       " 'Women Leather Pumps',\n",
       " 'Striped Suede Flatform Heeled Boots',\n",
       " 'Embellished Leather Flatform Sandals',\n",
       " 'PU Block Pumps with Buckles',\n",
       " 'Leather Party Block Mules',\n",
       " 'Women Block Heeled Boots',\n",
       " 'High-Top Block Heeled Boots',\n",
       " 'Suede High-Top Block Heeled Boots',\n",
       " 'Women Leather Sneakers',\n",
       " 'High-Top Platform Heeled Boots',\n",
       " 'Women Solid Sneakers',\n",
       " 'Women Woven Running Shoes',\n",
       " 'PEAKFREAK XCRSN Trekking Shoe',\n",
       " 'PEAKFREAK XCRSN Trekking Shoe',\n",
       " 'Women REDMOND V2 TrekkingShoe',\n",
       " 'PEAKFREAK OUTDRY Trekking Shoe',\n",
       " 'Men Solid Formal Oxfords',\n",
       " 'Men Solid Leather Formal Derbys',\n",
       " 'Men Leather Driving Shoes',\n",
       " 'Men Wingtip Oxford Sneakers',\n",
       " 'Men GENERATION ZEROGRAND STITCHLITE',\n",
       " 'Men Textured Leather Loafers',\n",
       " 'Men Textured Leather Formal Derbys',\n",
       " 'Men FACET OUTDRY Trekking Shoe',\n",
       " 'Women Leather Mules',\n",
       " 'Women Solid Leather Pumps',\n",
       " 'Women Solid Leather Pumps',\n",
       " 'Men Running Shoes',\n",
       " 'Men Formal Leather Derby',\n",
       " 'Men Leather Flat Boots',\n",
       " 'Men Leather Loafers',\n",
       " 'Cabo WP Riding Boots',\n",
       " 'Women Open Toe Flats',\n",
       " 'Men Colourblocked PU Sneakers',\n",
       " 'Women Sneakers',\n",
       " 'Women Solid Leather Ballerinas',\n",
       " 'Men Leather Formal Loafers',\n",
       " 'Women Solid Leather Ballerinas',\n",
       " 'Leather Heeled Knee High Boots',\n",
       " 'Women Leather Heeled Boots',\n",
       " 'Women Leather Heeled Boots',\n",
       " 'Women Leather Knee High Boots',\n",
       " 'Men Leather Formal Loafers',\n",
       " 'Men Leather Driving Shoes',\n",
       " 'Platform Peep Toes with Buckles',\n",
       " 'Block Heeled Boots',\n",
       " 'Leather Wedge Heeled Boots with Buckles',\n",
       " 'Ustraa black',\n",
       " 'Solid Slip On Shoes',\n",
       " 'Leather High-Top Block Heeled Boots',\n",
       " 'Leather Kitten Heeled Boots',\n",
       " 'Men Solid Leather Formal Loafers',\n",
       " 'Printed Flatform Heeled Boots with Buckles',\n",
       " 'Leather Platform Heeled Boots',\n",
       " 'Leather Block Heeled Boots with Bows',\n",
       " 'Suede Party High-Top Block Heeled Boots',\n",
       " 'Men Textured Leather Formal Loafers',\n",
       " 'Leather High-Top Heeled Boots',\n",
       " 'Men Solid Leather Formal Derbys',\n",
       " 'Suede High-Top Flatform Heeled Boots',\n",
       " 'Men Textured Formal Leather Loafers',\n",
       " 'Leather Boots with Buckles',\n",
       " 'Embellished Leather Block Heeled Boots']"
      ]
     },
     "execution_count": 85,
     "metadata": {},
     "output_type": "execute_result"
    }
   ],
   "source": [
    "for i in Product_tags7:\n",
    "    Product_titles7.append(i.text)\n",
    "    \n",
    "len(Product_titles7)\n",
    "Product_titles7"
   ]
  },
  {
   "cell_type": "markdown",
   "id": "7d5874a8",
   "metadata": {},
   "source": [
    "Product Price List"
   ]
  },
  {
   "cell_type": "code",
   "execution_count": 86,
   "id": "a40893c5",
   "metadata": {},
   "outputs": [
    {
     "data": {
      "text/plain": [
       "[<selenium.webdriver.remote.webelement.WebElement (session=\"c41d892573fae6fc9e139e3ec2f0e72c\", element=\"5b141344-ba89-4ed2-9703-46b5a39ec9b0\")>,\n",
       " <selenium.webdriver.remote.webelement.WebElement (session=\"c41d892573fae6fc9e139e3ec2f0e72c\", element=\"5a52221a-6940-4c0e-bdf0-706d84cc90ef\")>,\n",
       " <selenium.webdriver.remote.webelement.WebElement (session=\"c41d892573fae6fc9e139e3ec2f0e72c\", element=\"d80165aa-c987-4de9-9078-f63ce77a0f69\")>,\n",
       " <selenium.webdriver.remote.webelement.WebElement (session=\"c41d892573fae6fc9e139e3ec2f0e72c\", element=\"90750ed4-4ec1-4687-b279-87cf5d0d1571\")>,\n",
       " <selenium.webdriver.remote.webelement.WebElement (session=\"c41d892573fae6fc9e139e3ec2f0e72c\", element=\"fbf29466-8ef0-4840-84c9-2e97f8a2f6a5\")>,\n",
       " <selenium.webdriver.remote.webelement.WebElement (session=\"c41d892573fae6fc9e139e3ec2f0e72c\", element=\"afe4ebd4-00b8-410e-aa43-5656f0f05cf1\")>,\n",
       " <selenium.webdriver.remote.webelement.WebElement (session=\"c41d892573fae6fc9e139e3ec2f0e72c\", element=\"e7bcecf0-b482-4aa1-8ded-711654bd074f\")>,\n",
       " <selenium.webdriver.remote.webelement.WebElement (session=\"c41d892573fae6fc9e139e3ec2f0e72c\", element=\"e49e5156-a30d-480b-907c-271ce1b4565f\")>,\n",
       " <selenium.webdriver.remote.webelement.WebElement (session=\"c41d892573fae6fc9e139e3ec2f0e72c\", element=\"63477157-2b7e-498e-b19c-1d99970a2d6a\")>,\n",
       " <selenium.webdriver.remote.webelement.WebElement (session=\"c41d892573fae6fc9e139e3ec2f0e72c\", element=\"297704d7-51f2-4cf4-8a82-33561e1e0060\")>,\n",
       " <selenium.webdriver.remote.webelement.WebElement (session=\"c41d892573fae6fc9e139e3ec2f0e72c\", element=\"66a106bf-d89e-4082-9d5d-fdc5ee3b8e6f\")>,\n",
       " <selenium.webdriver.remote.webelement.WebElement (session=\"c41d892573fae6fc9e139e3ec2f0e72c\", element=\"84ca616a-8f9a-4547-948c-e8f1ec59e8d6\")>,\n",
       " <selenium.webdriver.remote.webelement.WebElement (session=\"c41d892573fae6fc9e139e3ec2f0e72c\", element=\"dd497377-14b2-4ca8-8b90-ab05bab5925e\")>,\n",
       " <selenium.webdriver.remote.webelement.WebElement (session=\"c41d892573fae6fc9e139e3ec2f0e72c\", element=\"0cea18c3-1040-4c19-af43-df11f8d6b102\")>,\n",
       " <selenium.webdriver.remote.webelement.WebElement (session=\"c41d892573fae6fc9e139e3ec2f0e72c\", element=\"a09ed487-d8c7-495d-8567-9fa3269c19c3\")>,\n",
       " <selenium.webdriver.remote.webelement.WebElement (session=\"c41d892573fae6fc9e139e3ec2f0e72c\", element=\"3a77234f-29ea-4e6f-b867-32985f01dcfb\")>,\n",
       " <selenium.webdriver.remote.webelement.WebElement (session=\"c41d892573fae6fc9e139e3ec2f0e72c\", element=\"2aac4fe7-0ad2-4854-8ea4-095da0b01f33\")>,\n",
       " <selenium.webdriver.remote.webelement.WebElement (session=\"c41d892573fae6fc9e139e3ec2f0e72c\", element=\"8c31fee0-72f4-4a30-8f88-039e73b18477\")>,\n",
       " <selenium.webdriver.remote.webelement.WebElement (session=\"c41d892573fae6fc9e139e3ec2f0e72c\", element=\"78ea739d-bb05-4d45-a6c5-49016cad7465\")>,\n",
       " <selenium.webdriver.remote.webelement.WebElement (session=\"c41d892573fae6fc9e139e3ec2f0e72c\", element=\"59d166de-edcb-4496-9999-dfee7dcb563c\")>,\n",
       " <selenium.webdriver.remote.webelement.WebElement (session=\"c41d892573fae6fc9e139e3ec2f0e72c\", element=\"51b520f9-b2ee-484d-9495-a5b1fd87797e\")>,\n",
       " <selenium.webdriver.remote.webelement.WebElement (session=\"c41d892573fae6fc9e139e3ec2f0e72c\", element=\"ce363de0-1101-4fee-ae48-507f74dc8651\")>,\n",
       " <selenium.webdriver.remote.webelement.WebElement (session=\"c41d892573fae6fc9e139e3ec2f0e72c\", element=\"080cc246-ef8e-4d4b-acf1-dacb48dbff08\")>,\n",
       " <selenium.webdriver.remote.webelement.WebElement (session=\"c41d892573fae6fc9e139e3ec2f0e72c\", element=\"adb6ff60-15ea-463f-89c8-d9ffb7b3e8b1\")>,\n",
       " <selenium.webdriver.remote.webelement.WebElement (session=\"c41d892573fae6fc9e139e3ec2f0e72c\", element=\"ccf5070a-611c-4c4f-901d-20c4db786787\")>,\n",
       " <selenium.webdriver.remote.webelement.WebElement (session=\"c41d892573fae6fc9e139e3ec2f0e72c\", element=\"2f0e2b0b-ebab-4822-beb7-a4c5c5d75345\")>,\n",
       " <selenium.webdriver.remote.webelement.WebElement (session=\"c41d892573fae6fc9e139e3ec2f0e72c\", element=\"6e309f80-8932-4e90-aef4-68ae7da9e2f0\")>,\n",
       " <selenium.webdriver.remote.webelement.WebElement (session=\"c41d892573fae6fc9e139e3ec2f0e72c\", element=\"e20e4bea-69bb-45af-bf5e-d1c23fdd0c7e\")>,\n",
       " <selenium.webdriver.remote.webelement.WebElement (session=\"c41d892573fae6fc9e139e3ec2f0e72c\", element=\"171bb9d0-6c56-41fc-b56a-012f81f02bd4\")>,\n",
       " <selenium.webdriver.remote.webelement.WebElement (session=\"c41d892573fae6fc9e139e3ec2f0e72c\", element=\"32a2cf8d-6292-4ae4-ac72-b4025e89aa13\")>,\n",
       " <selenium.webdriver.remote.webelement.WebElement (session=\"c41d892573fae6fc9e139e3ec2f0e72c\", element=\"c0eb788e-4dc7-4fb4-b3bb-488f240359f6\")>,\n",
       " <selenium.webdriver.remote.webelement.WebElement (session=\"c41d892573fae6fc9e139e3ec2f0e72c\", element=\"fb5a2c0f-0ef4-4a20-9f80-eb0330d6a003\")>,\n",
       " <selenium.webdriver.remote.webelement.WebElement (session=\"c41d892573fae6fc9e139e3ec2f0e72c\", element=\"3bc1f1f7-6434-4a90-986d-f218019408dc\")>,\n",
       " <selenium.webdriver.remote.webelement.WebElement (session=\"c41d892573fae6fc9e139e3ec2f0e72c\", element=\"754fc542-19e9-445c-bea6-9956c63a3396\")>,\n",
       " <selenium.webdriver.remote.webelement.WebElement (session=\"c41d892573fae6fc9e139e3ec2f0e72c\", element=\"58811ad0-218b-41a9-b208-4a853b00cbe4\")>,\n",
       " <selenium.webdriver.remote.webelement.WebElement (session=\"c41d892573fae6fc9e139e3ec2f0e72c\", element=\"bbea0309-6de2-4859-8f6c-87d901b6ac81\")>,\n",
       " <selenium.webdriver.remote.webelement.WebElement (session=\"c41d892573fae6fc9e139e3ec2f0e72c\", element=\"a892dce6-2f84-4401-8e25-46c3131abfaf\")>,\n",
       " <selenium.webdriver.remote.webelement.WebElement (session=\"c41d892573fae6fc9e139e3ec2f0e72c\", element=\"b6180964-8c61-4ed6-aac2-30e147f7fa2c\")>,\n",
       " <selenium.webdriver.remote.webelement.WebElement (session=\"c41d892573fae6fc9e139e3ec2f0e72c\", element=\"ef448e94-c757-4982-8d54-9ee8b89b45da\")>,\n",
       " <selenium.webdriver.remote.webelement.WebElement (session=\"c41d892573fae6fc9e139e3ec2f0e72c\", element=\"922f1eb6-a541-4fd8-996a-6eb769547746\")>,\n",
       " <selenium.webdriver.remote.webelement.WebElement (session=\"c41d892573fae6fc9e139e3ec2f0e72c\", element=\"29385f94-2c62-4107-9c1c-1000c14a3232\")>,\n",
       " <selenium.webdriver.remote.webelement.WebElement (session=\"c41d892573fae6fc9e139e3ec2f0e72c\", element=\"e8af5830-397d-4c92-97db-292450f94793\")>,\n",
       " <selenium.webdriver.remote.webelement.WebElement (session=\"c41d892573fae6fc9e139e3ec2f0e72c\", element=\"9bdb4b77-a4ce-4feb-882d-997f7d87ce7a\")>,\n",
       " <selenium.webdriver.remote.webelement.WebElement (session=\"c41d892573fae6fc9e139e3ec2f0e72c\", element=\"c3c08e0a-ad74-44b7-b3e3-0cfb1de49e09\")>,\n",
       " <selenium.webdriver.remote.webelement.WebElement (session=\"c41d892573fae6fc9e139e3ec2f0e72c\", element=\"2e78ab79-240f-4372-87c5-5c1c79739af5\")>,\n",
       " <selenium.webdriver.remote.webelement.WebElement (session=\"c41d892573fae6fc9e139e3ec2f0e72c\", element=\"b3ee24da-1816-4d95-bf1a-eb690dcd09b5\")>,\n",
       " <selenium.webdriver.remote.webelement.WebElement (session=\"c41d892573fae6fc9e139e3ec2f0e72c\", element=\"ecc48f53-ce06-4035-a3a6-324c8100c3a8\")>,\n",
       " <selenium.webdriver.remote.webelement.WebElement (session=\"c41d892573fae6fc9e139e3ec2f0e72c\", element=\"3b581761-b330-45bc-bbf6-f1564924d170\")>,\n",
       " <selenium.webdriver.remote.webelement.WebElement (session=\"c41d892573fae6fc9e139e3ec2f0e72c\", element=\"639cb9c8-00bc-409e-885f-06cc10aa7466\")>,\n",
       " <selenium.webdriver.remote.webelement.WebElement (session=\"c41d892573fae6fc9e139e3ec2f0e72c\", element=\"79bbeb1f-34ee-4995-bad9-0b6547bb8634\")>]"
      ]
     },
     "execution_count": 86,
     "metadata": {},
     "output_type": "execute_result"
    }
   ],
   "source": [
    "Price_tags7=driver.find_elements_by_xpath('//div[@class=\"product-price\"]')\n",
    "len(Price_tags7)\n",
    "Price_tags7"
   ]
  },
  {
   "cell_type": "code",
   "execution_count": 87,
   "id": "7c075309",
   "metadata": {},
   "outputs": [
    {
     "data": {
      "text/plain": [
       "['Rs. 7995',\n",
       " 'Rs. 9099Rs. 12999(30% OFF)',\n",
       " 'Rs. 12999',\n",
       " 'Rs. 12999',\n",
       " 'Rs. 7739Rs. 8599(10% OFF)',\n",
       " 'Rs. 13999',\n",
       " 'Rs. 9999',\n",
       " 'Rs. 12999',\n",
       " 'Rs. 7649Rs. 8999(15% OFF)',\n",
       " 'Rs. 7999',\n",
       " 'Rs. 10995',\n",
       " 'Rs. 9099Rs. 12999(30% OFF)',\n",
       " 'Rs. 7999',\n",
       " 'Rs. 8499Rs. 9999(15% OFF)',\n",
       " 'Rs. 8399Rs. 11999(30% OFF)',\n",
       " 'Rs. 7149Rs. 10999(35% OFF)',\n",
       " 'Rs. 8499Rs. 9999(15% OFF)',\n",
       " 'Rs. 8490',\n",
       " 'Rs. 9999',\n",
       " 'Rs. 8499Rs. 9999(15% OFF)',\n",
       " 'Rs. 8499Rs. 9999(15% OFF)',\n",
       " 'Rs. 7480Rs. 8500(12% OFF)',\n",
       " 'Rs. 8990',\n",
       " 'Rs. 7999',\n",
       " 'Rs. 7999',\n",
       " 'Rs. 7999',\n",
       " 'Rs. 8990',\n",
       " 'Rs. 7999',\n",
       " 'Rs. 8029Rs. 10999(27% OFF)',\n",
       " 'Rs. 10500Rs. 10900(Rs. 400 OFF)',\n",
       " 'Rs. 7499',\n",
       " 'Rs. 11599',\n",
       " 'Rs. 8490',\n",
       " 'Rs. 9990',\n",
       " 'Rs. 8399Rs. 11999(30% OFF)',\n",
       " 'Rs. 8990',\n",
       " 'Rs. 9265Rs. 10900(15% OFF)',\n",
       " 'Rs. 8999',\n",
       " 'Rs. 8415Rs. 9900(15% OFF)',\n",
       " 'Rs. 8299',\n",
       " 'Rs. 7499',\n",
       " 'Rs. 7380Rs. 8200(10% OFF)',\n",
       " 'Rs. 8900',\n",
       " 'Rs. 7900',\n",
       " 'Rs. 9500',\n",
       " 'Rs. 8499',\n",
       " 'Rs. 8900',\n",
       " 'Rs. 7192Rs. 8990(20% OFF)',\n",
       " 'Rs. 7149Rs. 12999(45% OFF)',\n",
       " 'Rs. 9999',\n",
       " 'Rs. 9999',\n",
       " 'Rs. 7999',\n",
       " 'Rs. 9999',\n",
       " 'Rs. 8999',\n",
       " 'Rs. 9499',\n",
       " 'Rs. 9499',\n",
       " 'Rs. 12999',\n",
       " 'Rs. 11999',\n",
       " 'Rs. 7990',\n",
       " 'Rs. 8999Rs. 9999(Rs. 1000 OFF)',\n",
       " 'Rs. 12999',\n",
       " 'Rs. 7216Rs. 8200(12% OFF)',\n",
       " 'Rs. 7999',\n",
       " 'Rs. 10990',\n",
       " 'Rs. 7699',\n",
       " 'Rs. 7990',\n",
       " 'Rs. 8099Rs. 9999(19% OFF)',\n",
       " 'Rs. 9999',\n",
       " 'Rs. 8500',\n",
       " 'Rs. 11999',\n",
       " 'Rs. 9999',\n",
       " 'Rs. 12999',\n",
       " 'Rs. 8999',\n",
       " 'Rs. 7490',\n",
       " 'Rs. 13999',\n",
       " 'Rs. 12325Rs. 14500(15% OFF)',\n",
       " 'Rs. 12325Rs. 14500(15% OFF)',\n",
       " 'Rs. 14025Rs. 16500(15% OFF)',\n",
       " 'Rs. 11815Rs. 13900(15% OFF)',\n",
       " 'Rs. 7490',\n",
       " 'Rs. 7499',\n",
       " 'Rs. 7690',\n",
       " 'Rs. 7699Rs. 10999(30% OFF)',\n",
       " 'Rs. 12665Rs. 14900(15% OFF)',\n",
       " 'Rs. 8990',\n",
       " 'Rs. 7990',\n",
       " 'Rs. 14025Rs. 16500(15% OFF)',\n",
       " 'Rs. 8415Rs. 9900(15% OFF)',\n",
       " 'Rs. 9990',\n",
       " 'Rs. 8415Rs. 9900(15% OFF)',\n",
       " 'Rs. 9265Rs. 10900(15% OFF)',\n",
       " 'Rs. 11815Rs. 13900(15% OFF)',\n",
       " 'Rs. 8925Rs. 10500(15% OFF)',\n",
       " 'Rs. 8990',\n",
       " 'Rs. 10625Rs. 12500(15% OFF)',\n",
       " 'Rs. 9990',\n",
       " 'Rs. 11475Rs. 13500(15% OFF)',\n",
       " 'Rs. 8990',\n",
       " 'Rs. 8925Rs. 10500(15% OFF)',\n",
       " 'Rs. 7869Rs. 12900(39% OFF)']"
      ]
     },
     "execution_count": 87,
     "metadata": {},
     "output_type": "execute_result"
    }
   ],
   "source": [
    "for i in Price_tags7:\n",
    "    Price_titles7.append(i.text)\n",
    "    \n",
    "len(Price_titles7)\n",
    "Price_titles7"
   ]
  },
  {
   "cell_type": "code",
   "execution_count": 88,
   "id": "4f9ca998",
   "metadata": {},
   "outputs": [
    {
     "data": {
      "text/plain": [
       "(100, 100, 100)"
      ]
     },
     "execution_count": 88,
     "metadata": {},
     "output_type": "execute_result"
    }
   ],
   "source": [
    "len(Brand_titles7),len(Product_titles7),len(Price_titles7)"
   ]
  },
  {
   "cell_type": "markdown",
   "id": "488daade",
   "metadata": {},
   "source": [
    "Framing the scrapped data into data frame"
   ]
  },
  {
   "cell_type": "code",
   "execution_count": 89,
   "id": "993ecb9a",
   "metadata": {},
   "outputs": [
    {
     "data": {
      "text/html": [
       "<div>\n",
       "<style scoped>\n",
       "    .dataframe tbody tr th:only-of-type {\n",
       "        vertical-align: middle;\n",
       "    }\n",
       "\n",
       "    .dataframe tbody tr th {\n",
       "        vertical-align: top;\n",
       "    }\n",
       "\n",
       "    .dataframe thead th {\n",
       "        text-align: right;\n",
       "    }\n",
       "</style>\n",
       "<table border=\"1\" class=\"dataframe\">\n",
       "  <thead>\n",
       "    <tr style=\"text-align: right;\">\n",
       "      <th></th>\n",
       "      <th>Brand Names</th>\n",
       "      <th>Product Names</th>\n",
       "      <th>Product Price</th>\n",
       "    </tr>\n",
       "  </thead>\n",
       "  <tbody>\n",
       "    <tr>\n",
       "      <th>0</th>\n",
       "      <td>Nike</td>\n",
       "      <td>Men Winflo 7 Running Shoes</td>\n",
       "      <td>Rs. 7995</td>\n",
       "    </tr>\n",
       "    <tr>\n",
       "      <th>1</th>\n",
       "      <td>ALDO</td>\n",
       "      <td>Men Printed Sneakers</td>\n",
       "      <td>Rs. 9099Rs. 12999(30% OFF)</td>\n",
       "    </tr>\n",
       "    <tr>\n",
       "      <th>2</th>\n",
       "      <td>ALDO</td>\n",
       "      <td>Men Leather Driving Shoes</td>\n",
       "      <td>Rs. 12999</td>\n",
       "    </tr>\n",
       "    <tr>\n",
       "      <th>3</th>\n",
       "      <td>Puma</td>\n",
       "      <td>Eternity Nitro Running Shoes</td>\n",
       "      <td>Rs. 12999</td>\n",
       "    </tr>\n",
       "    <tr>\n",
       "      <th>4</th>\n",
       "      <td>Tommy Hilfiger</td>\n",
       "      <td>Men Cleated Leather Sneakers</td>\n",
       "      <td>Rs. 7739Rs. 8599(10% OFF)</td>\n",
       "    </tr>\n",
       "    <tr>\n",
       "      <th>...</th>\n",
       "      <td>...</td>\n",
       "      <td>...</td>\n",
       "      <td>...</td>\n",
       "    </tr>\n",
       "    <tr>\n",
       "      <th>95</th>\n",
       "      <td>DAVINCHI</td>\n",
       "      <td>Men Solid Leather Formal Derbys</td>\n",
       "      <td>Rs. 9990</td>\n",
       "    </tr>\n",
       "    <tr>\n",
       "      <th>96</th>\n",
       "      <td>Saint G</td>\n",
       "      <td>Suede High-Top Flatform Heeled Boots</td>\n",
       "      <td>Rs. 11475Rs. 13500(15% OFF)</td>\n",
       "    </tr>\n",
       "    <tr>\n",
       "      <th>97</th>\n",
       "      <td>DAVINCHI</td>\n",
       "      <td>Men Textured Formal Leather Loafers</td>\n",
       "      <td>Rs. 8990</td>\n",
       "    </tr>\n",
       "    <tr>\n",
       "      <th>98</th>\n",
       "      <td>Saint G</td>\n",
       "      <td>Leather Boots with Buckles</td>\n",
       "      <td>Rs. 8925Rs. 10500(15% OFF)</td>\n",
       "    </tr>\n",
       "    <tr>\n",
       "      <th>99</th>\n",
       "      <td>Saint G</td>\n",
       "      <td>Embellished Leather Block Heeled Boots</td>\n",
       "      <td>Rs. 7869Rs. 12900(39% OFF)</td>\n",
       "    </tr>\n",
       "  </tbody>\n",
       "</table>\n",
       "<p>100 rows × 3 columns</p>\n",
       "</div>"
      ],
      "text/plain": [
       "       Brand Names                           Product Names  \\\n",
       "0             Nike              Men Winflo 7 Running Shoes   \n",
       "1             ALDO                    Men Printed Sneakers   \n",
       "2             ALDO               Men Leather Driving Shoes   \n",
       "3             Puma            Eternity Nitro Running Shoes   \n",
       "4   Tommy Hilfiger            Men Cleated Leather Sneakers   \n",
       "..             ...                                     ...   \n",
       "95        DAVINCHI         Men Solid Leather Formal Derbys   \n",
       "96         Saint G    Suede High-Top Flatform Heeled Boots   \n",
       "97        DAVINCHI     Men Textured Formal Leather Loafers   \n",
       "98         Saint G              Leather Boots with Buckles   \n",
       "99         Saint G  Embellished Leather Block Heeled Boots   \n",
       "\n",
       "                  Product Price  \n",
       "0                      Rs. 7995  \n",
       "1    Rs. 9099Rs. 12999(30% OFF)  \n",
       "2                     Rs. 12999  \n",
       "3                     Rs. 12999  \n",
       "4     Rs. 7739Rs. 8599(10% OFF)  \n",
       "..                          ...  \n",
       "95                     Rs. 9990  \n",
       "96  Rs. 11475Rs. 13500(15% OFF)  \n",
       "97                     Rs. 8990  \n",
       "98   Rs. 8925Rs. 10500(15% OFF)  \n",
       "99   Rs. 7869Rs. 12900(39% OFF)  \n",
       "\n",
       "[100 rows x 3 columns]"
      ]
     },
     "execution_count": 89,
     "metadata": {},
     "output_type": "execute_result"
    }
   ],
   "source": [
    "Shoes=pd.DataFrame()\n",
    "Shoes['Brand Names']=Brand_titles7\n",
    "Shoes['Product Names']=Product_titles7\n",
    "Shoes['Product Price']=Price_titles7\n",
    "Shoes"
   ]
  },
  {
   "cell_type": "markdown",
   "id": "40f03b17",
   "metadata": {},
   "source": [
    "## Q 8 Scrapping Laptop Data from Amazon"
   ]
  },
  {
   "cell_type": "markdown",
   "id": "2957b455",
   "metadata": {},
   "source": [
    "login into the website for web scrapping"
   ]
  },
  {
   "cell_type": "code",
   "execution_count": 107,
   "id": "1eb41cf4",
   "metadata": {},
   "outputs": [],
   "source": [
    "url = 'https://www.amazon.in/'\n",
    "driver.get(url)"
   ]
  },
  {
   "cell_type": "code",
   "execution_count": 115,
   "id": "c10f71f5",
   "metadata": {},
   "outputs": [
    {
     "data": {
      "text/plain": [
       "<selenium.webdriver.remote.webelement.WebElement (session=\"fec608870c3d326d18b4dbb961755f8f\", element=\"4ae3a0ab-8e26-423e-a286-f9e2f076b282\")>"
      ]
     },
     "execution_count": 115,
     "metadata": {},
     "output_type": "execute_result"
    }
   ],
   "source": [
    "search_Product8= driver.find_element_by_xpath('/html/body/div[1]/header/div/div[1]/div[2]/div/form/div[2]/div[1]/input')\n",
    "search_Product8"
   ]
  },
  {
   "cell_type": "code",
   "execution_count": 116,
   "id": "23c71ee4",
   "metadata": {},
   "outputs": [],
   "source": [
    "search_Product8.send_keys(\"Laptop\")"
   ]
  },
  {
   "cell_type": "code",
   "execution_count": 117,
   "id": "dae8bb76",
   "metadata": {},
   "outputs": [
    {
     "data": {
      "text/plain": [
       "<selenium.webdriver.remote.webelement.WebElement (session=\"fec608870c3d326d18b4dbb961755f8f\", element=\"bac02a9d-4244-418d-ad29-691708cc3e20\")>"
      ]
     },
     "execution_count": 117,
     "metadata": {},
     "output_type": "execute_result"
    }
   ],
   "source": [
    "search_btn8 = driver.find_element_by_xpath('/html/body/div[1]/header/div/div[1]/div[2]/div/form/div[3]/div/span/input')\n",
    "search_btn8"
   ]
  },
  {
   "cell_type": "code",
   "execution_count": 118,
   "id": "40359bba",
   "metadata": {},
   "outputs": [],
   "source": [
    "search_btn8.click()"
   ]
  },
  {
   "cell_type": "code",
   "execution_count": 121,
   "id": "f5f63e2e",
   "metadata": {},
   "outputs": [],
   "source": [
    "cpu_check8=driver.find_element_by_xpath('//*[@id=\"p_n_feature_thirteen_browse-bin/12598163031\"]/span/a/span')"
   ]
  },
  {
   "cell_type": "code",
   "execution_count": 122,
   "id": "87824362",
   "metadata": {},
   "outputs": [],
   "source": [
    "cpu_check8.click()"
   ]
  },
  {
   "cell_type": "code",
   "execution_count": null,
   "id": "c6024402",
   "metadata": {},
   "outputs": [],
   "source": [
    "cpu_check7=driver.find_element_by_xpath('//*[@id=\"p_n_feature_thirteen_browse-bin/12598163031\"]/span/a/span')"
   ]
  },
  {
   "cell_type": "code",
   "execution_count": null,
   "id": "b0cb9335",
   "metadata": {},
   "outputs": [],
   "source": [
    "cpu_check7.click()"
   ]
  },
  {
   "cell_type": "markdown",
   "id": "ef793f80",
   "metadata": {},
   "source": [
    "Laptop Names"
   ]
  },
  {
   "cell_type": "code",
   "execution_count": 124,
   "id": "a9921ef8",
   "metadata": {},
   "outputs": [
    {
     "data": {
      "text/plain": [
       "[<selenium.webdriver.remote.webelement.WebElement (session=\"fec608870c3d326d18b4dbb961755f8f\", element=\"c83a791b-3832-4d6d-ab7b-81104924d22c\")>,\n",
       " <selenium.webdriver.remote.webelement.WebElement (session=\"fec608870c3d326d18b4dbb961755f8f\", element=\"c646935a-7bf7-4982-878f-ca26da998461\")>,\n",
       " <selenium.webdriver.remote.webelement.WebElement (session=\"fec608870c3d326d18b4dbb961755f8f\", element=\"24707d1f-b624-472c-90b9-449b30706f8a\")>,\n",
       " <selenium.webdriver.remote.webelement.WebElement (session=\"fec608870c3d326d18b4dbb961755f8f\", element=\"adeddf13-f5bf-4677-a019-72f82c1ed647\")>,\n",
       " <selenium.webdriver.remote.webelement.WebElement (session=\"fec608870c3d326d18b4dbb961755f8f\", element=\"5bb32fbc-06d4-4ed0-ae98-cd553df293b8\")>,\n",
       " <selenium.webdriver.remote.webelement.WebElement (session=\"fec608870c3d326d18b4dbb961755f8f\", element=\"1a7b8abb-3d74-4fe2-845c-d06d3ba9d3ee\")>,\n",
       " <selenium.webdriver.remote.webelement.WebElement (session=\"fec608870c3d326d18b4dbb961755f8f\", element=\"f718cf00-2c46-4725-b6e7-28059d2be2ea\")>,\n",
       " <selenium.webdriver.remote.webelement.WebElement (session=\"fec608870c3d326d18b4dbb961755f8f\", element=\"1521fa37-0742-4101-8c77-a7ef897857f8\")>,\n",
       " <selenium.webdriver.remote.webelement.WebElement (session=\"fec608870c3d326d18b4dbb961755f8f\", element=\"8451f4bb-04c4-440e-ab38-e2746b47265b\")>,\n",
       " <selenium.webdriver.remote.webelement.WebElement (session=\"fec608870c3d326d18b4dbb961755f8f\", element=\"c75517e2-f7b7-4c20-9bd7-e60ef30ec630\")>,\n",
       " <selenium.webdriver.remote.webelement.WebElement (session=\"fec608870c3d326d18b4dbb961755f8f\", element=\"7d197f07-a0df-4dc7-b809-f9f19669c83a\")>,\n",
       " <selenium.webdriver.remote.webelement.WebElement (session=\"fec608870c3d326d18b4dbb961755f8f\", element=\"f514dcd1-1a51-413e-9edd-61e61bedcdfb\")>,\n",
       " <selenium.webdriver.remote.webelement.WebElement (session=\"fec608870c3d326d18b4dbb961755f8f\", element=\"a436909a-e24f-425b-af90-866adb49bf59\")>,\n",
       " <selenium.webdriver.remote.webelement.WebElement (session=\"fec608870c3d326d18b4dbb961755f8f\", element=\"ace5c15c-4d44-4108-97d1-5a2941fc27b0\")>,\n",
       " <selenium.webdriver.remote.webelement.WebElement (session=\"fec608870c3d326d18b4dbb961755f8f\", element=\"1a9020ac-ab78-41dd-ade3-3c0cc996aec5\")>,\n",
       " <selenium.webdriver.remote.webelement.WebElement (session=\"fec608870c3d326d18b4dbb961755f8f\", element=\"f8780bd5-975e-4a1f-943e-0a687ed64381\")>,\n",
       " <selenium.webdriver.remote.webelement.WebElement (session=\"fec608870c3d326d18b4dbb961755f8f\", element=\"e8437d26-4049-4b3c-bb5d-bf8f3fbff9c4\")>,\n",
       " <selenium.webdriver.remote.webelement.WebElement (session=\"fec608870c3d326d18b4dbb961755f8f\", element=\"5ba633da-8255-4354-8b36-fe5a343c40e1\")>,\n",
       " <selenium.webdriver.remote.webelement.WebElement (session=\"fec608870c3d326d18b4dbb961755f8f\", element=\"092c6b1c-38b5-4955-9757-64979995b124\")>,\n",
       " <selenium.webdriver.remote.webelement.WebElement (session=\"fec608870c3d326d18b4dbb961755f8f\", element=\"a68b999b-0a1b-46e7-a2de-d9dfe5d8b105\")>,\n",
       " <selenium.webdriver.remote.webelement.WebElement (session=\"fec608870c3d326d18b4dbb961755f8f\", element=\"1f7e750d-5e6d-4024-a285-dede9e13209b\")>,\n",
       " <selenium.webdriver.remote.webelement.WebElement (session=\"fec608870c3d326d18b4dbb961755f8f\", element=\"a2738c2a-55ea-4aee-982c-71af9ede9641\")>,\n",
       " <selenium.webdriver.remote.webelement.WebElement (session=\"fec608870c3d326d18b4dbb961755f8f\", element=\"f6e9dec6-4c29-4e2e-998e-a68c7512f0fd\")>,\n",
       " <selenium.webdriver.remote.webelement.WebElement (session=\"fec608870c3d326d18b4dbb961755f8f\", element=\"73b5ee34-4478-4ba4-87cc-23cd270acac0\")>,\n",
       " <selenium.webdriver.remote.webelement.WebElement (session=\"fec608870c3d326d18b4dbb961755f8f\", element=\"fdf6c7bf-e594-4e2d-8260-bb1d5b210eb4\")>,\n",
       " <selenium.webdriver.remote.webelement.WebElement (session=\"fec608870c3d326d18b4dbb961755f8f\", element=\"447a78a7-f2c6-490d-b915-f832c0f99858\")>,\n",
       " <selenium.webdriver.remote.webelement.WebElement (session=\"fec608870c3d326d18b4dbb961755f8f\", element=\"035b331e-7483-4d04-8a61-7f27b0fc970e\")>,\n",
       " <selenium.webdriver.remote.webelement.WebElement (session=\"fec608870c3d326d18b4dbb961755f8f\", element=\"5f8adcac-a1a5-470b-ab9e-c99a09f5f6a9\")>,\n",
       " <selenium.webdriver.remote.webelement.WebElement (session=\"fec608870c3d326d18b4dbb961755f8f\", element=\"bbf80b2e-0a0f-4585-8910-fe74c49a9c3d\")>,\n",
       " <selenium.webdriver.remote.webelement.WebElement (session=\"fec608870c3d326d18b4dbb961755f8f\", element=\"5b4b737c-6d56-45c6-acfc-9c772f1f69e8\")>]"
      ]
     },
     "execution_count": 124,
     "metadata": {},
     "output_type": "execute_result"
    }
   ],
   "source": [
    "Brand_tags8=driver.find_elements_by_xpath('//h2[@class=\"a-size-mini a-spacing-none a-color-base s-line-clamp-2\"]')\n",
    "len(Brand_tags8)\n",
    "Brand_tags8"
   ]
  },
  {
   "cell_type": "code",
   "execution_count": 125,
   "id": "7aaf09db",
   "metadata": {},
   "outputs": [
    {
     "data": {
      "text/plain": [
       "['LG Gram 16 Ultra-Light Intel Evo 11th Gen Core i7 16 inches Laptop (16 GB RAM, 512 GB SSD, Windows 10 Home, Iris Xe Graphics, Thunderbolt 4, USC -C x 2 (with Power), 1.19 kg, 16Z90P, Black)',\n",
       " 'LG Gram Intel Evo 11th Gen Core i7 17 inches Ultra-Light Laptop (16 GB RAM, 512 GB SSD, New Windows 11 Home Preload, Iris Xe Graphics, USC -C x 2 (with Power), 1.35 kg, 17Z90P-G.AH85A2, Black)',\n",
       " 'Mi Notebook Ultra 3.2K Resolution Display Intel Core i7-11370H 11th Gen 15.6-inch(39.62 cm) Thin and Light Laptop (16GB/512GB SSD/Iris Xe Graphic/Win 10/MS Office/Backlit KB/Fingerprint Sensor/1.7Kg)',\n",
       " 'ASUS VivoBook 14 (2021), 14-inch (35.56 cms) FHD, Intel Core i7-1065G7 10th Gen, Thin and Light Laptop (16GB/512GB SSD/Integrated Graphics/Office 2021/Windows 11/Silver/1.6 Kg), X415JA-EK701WS',\n",
       " 'LG Gram 16 inches Intel Evo 11th Gen Core i7 Ultra-Light Laptop (16 GB RAM, 512 GB SSD, New Windows 11 Home Preload, Iris Xe Graphics, USC -C x 2 (with Power), 1.19 kg, 16Z90P-G.AH85A2, Black)',\n",
       " 'ASUS TUF Gaming F15 (2021), 15.6\" (39.62 cms) FHD 144Hz, Intel Core i7-11600H 11th Gen, 4GB RTX 3050 Graphics, Gaming Laptop (16GB/512GB SSD/Windows 10/Office 2019/Gray/2.3 Kg), FX566HCB-HN299TS',\n",
       " 'LG Gram Intel Evo 11th Gen Core i7 17 inches Ultra-Light Laptop (16 GB RAM, 512 GB SSD, New Windows 11 Home Preload, Iris Xe Graphics, USC -C x 2 (with Power), 1.35 kg, 17Z90P-G.AH85A2, Black)',\n",
       " 'Lenovo Yoga 7 11th Gen Intel Core i7 14\"(35.56cm) FHD IPS 2-in-1 Touchscreen Convertible Laptop(16GB/512GB SSD/Windows 11/Office 2021/Lenovo Digital Pen/Slate Grey/Aluminium Surface/1.43Kg),82BH00HWIN',\n",
       " 'Lenovo IdeaPad Flex 5 11th Gen Intel Core i7 14\" FHD 2-in-1 Convertible Laptop (16 GB/512GB SDD/Windows 11/MS Office 2021/Backlit Keyboard /Graphite Grey/1.5Kg), 82HS018XIN',\n",
       " 'HP Pavilion x360 11th Gen Intel Core i7 14 inches FHD, IPS, Convertible Laptop (16 GB RAM/512GB SSD, B&O/Win 11 Home/Backlit keyboard/FPR/ Alexa-Built in/MS Office/Natural Silver/1.52 Kg) -14-dy1013TU',\n",
       " 'ASUS VivoBook K15 OLED (2021), 15.6-inch (39.62 cms) FHD OLED, Intel Core i7-1165G7 11th Gen, Thin and Light Laptop (16GB/512GB SSD/Iris Xe Graphics/Office 2021/Windows 11/Silver/1.8 Kg) K513EA-L712WS',\n",
       " 'Fujitsu UH-X 11th Gen Intel Core i7 13.3” FHD IPS 400Nits Thin & Light Laptop(16GB/512GB SSD/Windows 11/Office 2021/Iris Xe Graphics/Backlit Kb/Fingerprint Reader/2Yr Warranty/Black/878gms),4ZR1F38024',\n",
       " 'ASUS ZenBook Duo 14 (2021), Intel Evo Core i7-1165G7 11th Gen 14 inches FHD Dual-Screen Business Touch Laptop (16GB/1TB SSD/Iris Xe Graphics/Office 2019/Win 10 Home, Celestial Blue/1.57 Kg)',\n",
       " 'Dell 14 (2021) i7-1195G7 2in1 Touch Screen Laptop, 16GB, 512Gb SSD, Win 11 + MSO\\'21, 14\" (35.56 cms) FHD, Platinum Silver Color, FPR + Backlit KB & Active Pen (Inspiron 5410, D560629WIN9S)',\n",
       " 'Dell 15 (2022) i7-11800H, 16GB / 512GB SSD, Win 11+MSO\\'21, NVIDIA RTX 3050 Ti 4GB, 15.6\" (39.61 cms) UHD+ Display, Platinum Silver (D560061WIN9S, XPS 9510)',\n",
       " 'Mi Notebook Ultra 3.2K Resolution Display Intel Core i7-11370H 11th Gen 15.6-inch(39.62 cm) Thin and Light Laptop (16GB/512GB SSD/Iris Xe Graphic/Win 10/MS Office/Backlit KB/Fingerprint Sensor/1.7Kg)',\n",
       " 'ASUS ZenBook 13 OLED (2021) Intel Core i7-1165G7 11th Gen 14\" (35.56cms) FHD Thin and Light Laptop (16GB/512GB SSD/Windows 10/Office 2019/Intel Iris Xᵉ Graphics/Pine Grey/1.14 kg), UX325EA-KG722TS',\n",
       " 'Lenovo Yoga 7i 11th Gen Intel Core i7-1165G7 14 inches FHD IPS 2-in-1 Touchscreen Business Laptop (16GB/512GB SSD/Windows 10/MS Office/Digital Pen/Fingerprint Reader/Slate Grey/1.43Kg), 82BH004HIN',\n",
       " 'HP Pavilion Gaming 11th Gen Intel Core i7 Processor 39.62 cm(15.6-inch) FHD Gaming Laptop (16GB/512GB SSD/Win 11/NVIDIA RTX 3050 Graphics/MS Office/ Shadow Black & Ultra Violet/2.23 Kg), 15-dk2096TX',\n",
       " 'Lenovo IdeaPad 5 Pro 11th Gen Intel Core i7 14\" (35.56cm)QHD IPS Thin & Light Laptop(16GB/512GB SSD/Iris Xe Graphics/3Yr Warranty/Windows 11/Office 2021/Backlit/300Nits/Storm Grey/1.41Kg), 82L3006YIN',\n",
       " 'Dell 15 (2021) i7-11390H, 16GB, 1TB SSD, Win 11 + MS Office\\'21, NVIDIA MX450 2GB, 15.6\" (39.62 cms) FHD Display, Silver Color, FPR + Backlit KB (Inspiron 5518, D560636WIN9S)',\n",
       " 'Dell G15 Intel i7-11800H Gaming Laptop, 16GB DDR4, 512GB SSD, Win 10+MSO, NVIDIA RTX 3050 Ti 4GB GDDR6, 15.6\" (39.62cm) FHD AG 250 nits 120Hz, Backlit KB Orange, Grey (G15 5511, D560640WIN9B), 2.6kg',\n",
       " 'Lenovo ThinkBook Yoga 14s Intel Core i7 11th Gen 14\"(35.56cm) FHD IPS 300 nits 100% sRGB Dolby Vision 2-in-1 Touchscreen Laptop (16GB RAM/512GB SSD/Windows 10/MS Office/Active Pen/1.50 kg) 20WEA01EIH',\n",
       " '(Renewed) Acer Nitro 5 11th Gen Intel Core i5-11400H 15.6\" (39.62cms) FHD 144Hz Gaming Laptop (8 GB/512GB SSD/Win 10/4 GB Graphics/NVIDIA GeForce GTX 1650/Shale Black, 2.2 kg/RGB Backlit Keyboard) AN515-57',\n",
       " '(Renewed) Lenovo Intel 5th Gen Core i7 14 Inch(35.56 cms) 1366 x 768 HD Laptop (16GB RAM /1TB SSD/Windows 10 Pro/MS Office/ Intel HD graphics,Black,2.0kg) Lenovo ThinkPad T450',\n",
       " '(Renewed) HP 840g3 Elitebook 14 Inch Screen Laptop (6th Gen Intel Core i7 - 6600u /4 GB/180 GB SSD/Windows 10 Pro), Black',\n",
       " '(Renewed) Life Digital Laptop 15.6-inch (39.62 cms) (Intel Core i7, 8GB RAM, 512GB SSD, Windows 10), ZED AIR CX7',\n",
       " '(Renewed) Dell Intel 4th Gen Core i7 4600U 14-Inch (35.56 cms) 1366x768 Laptop (4 GB/256 GB SSD/Windows 10/MS Office Pro 2019 /Intel HD Graphics 4600/Silver/1.80 kg), Dell Lattitude E7440',\n",
       " 'ASUS VivoBook 14 (2021), 14-inch (35.56 cms) FHD, Intel Core i7-1065G7 10th Gen, Thin and Light Laptop (16GB/512GB SSD/Integrated Graphics/Office 2021/Windows 11/Silver/1.6 Kg), X415JA-EK701WS',\n",
       " 'ASUS ZenBook 14 (2020) Intel Core i7-1165G7 11th Gen 14 inches FHD Business Laptop (16GB/512GB SSD/Office 2019/Windows 10 Home/Iris Xe Graphics/Pine Grey/1.17 kg), UX425EA-KI701TS']"
      ]
     },
     "execution_count": 125,
     "metadata": {},
     "output_type": "execute_result"
    }
   ],
   "source": [
    "Brand_titles8=[]\n",
    "\n",
    "for i in Brand_tags8:\n",
    "    Brand_titles8.append(i.text)\n",
    "    \n",
    "len(Brand_titles8)\n",
    "Brand_titles8"
   ]
  },
  {
   "cell_type": "markdown",
   "id": "d6d3c412",
   "metadata": {},
   "source": [
    "Laptop Rating"
   ]
  },
  {
   "cell_type": "code",
   "execution_count": 126,
   "id": "6a43de83",
   "metadata": {},
   "outputs": [
    {
     "data": {
      "text/plain": [
       "[<selenium.webdriver.remote.webelement.WebElement (session=\"fec608870c3d326d18b4dbb961755f8f\", element=\"3bd713b0-0414-4d08-8d96-018a12f485dd\")>,\n",
       " <selenium.webdriver.remote.webelement.WebElement (session=\"fec608870c3d326d18b4dbb961755f8f\", element=\"485ade08-d144-471c-9465-6bb051341130\")>,\n",
       " <selenium.webdriver.remote.webelement.WebElement (session=\"fec608870c3d326d18b4dbb961755f8f\", element=\"0fe0cd9a-2826-4b17-bc92-cdd0a21f8505\")>,\n",
       " <selenium.webdriver.remote.webelement.WebElement (session=\"fec608870c3d326d18b4dbb961755f8f\", element=\"1e63b818-ccd2-48da-8686-d6d9a4e0b054\")>,\n",
       " <selenium.webdriver.remote.webelement.WebElement (session=\"fec608870c3d326d18b4dbb961755f8f\", element=\"7090eab7-32bb-41c9-8cf4-011b9eec14f8\")>,\n",
       " <selenium.webdriver.remote.webelement.WebElement (session=\"fec608870c3d326d18b4dbb961755f8f\", element=\"3ff93c6f-cf52-48f3-a0c8-b93d50d820f9\")>,\n",
       " <selenium.webdriver.remote.webelement.WebElement (session=\"fec608870c3d326d18b4dbb961755f8f\", element=\"523d4cce-3bca-410e-b546-ad8d9dbfa56c\")>,\n",
       " <selenium.webdriver.remote.webelement.WebElement (session=\"fec608870c3d326d18b4dbb961755f8f\", element=\"1af3d50b-3e5f-4ca8-99a3-18448c8dbabc\")>,\n",
       " <selenium.webdriver.remote.webelement.WebElement (session=\"fec608870c3d326d18b4dbb961755f8f\", element=\"07a9cc00-d679-4e78-aaf2-6f0dc33680d4\")>,\n",
       " <selenium.webdriver.remote.webelement.WebElement (session=\"fec608870c3d326d18b4dbb961755f8f\", element=\"08db0dc1-e3ec-48b6-a127-e4139907eabb\")>,\n",
       " <selenium.webdriver.remote.webelement.WebElement (session=\"fec608870c3d326d18b4dbb961755f8f\", element=\"c8a80b82-369e-47ef-9bc6-271522fbe481\")>,\n",
       " <selenium.webdriver.remote.webelement.WebElement (session=\"fec608870c3d326d18b4dbb961755f8f\", element=\"c88b5026-b9d2-4c4a-b922-4b6bfb7ed173\")>]"
      ]
     },
     "execution_count": 126,
     "metadata": {},
     "output_type": "execute_result"
    }
   ],
   "source": [
    "Brand_ratting8=driver.find_elements_by_xpath('//i[@class=\"a-icon a-icon-star-small a-star-small-4-5 aok-align-bottom\"]')\n",
    "len(Brand_ratting8)\n",
    "Brand_ratting8"
   ]
  },
  {
   "cell_type": "code",
   "execution_count": 127,
   "id": "bc1b7c8d",
   "metadata": {},
   "outputs": [
    {
     "data": {
      "text/plain": [
       "['', '', '', '', '', '', '', '', '', '', '', '']"
      ]
     },
     "execution_count": 127,
     "metadata": {},
     "output_type": "execute_result"
    }
   ],
   "source": [
    "Brand_rates8=[]\n",
    "\n",
    "for i in Brand_ratting8:\n",
    "    Brand_rates8.append(i.text)\n",
    "    \n",
    "len(Brand_rates8)\n",
    "Brand_rates8"
   ]
  },
  {
   "cell_type": "markdown",
   "id": "2768a540",
   "metadata": {},
   "source": [
    "Laptop price"
   ]
  },
  {
   "cell_type": "code",
   "execution_count": 132,
   "id": "35b53bb0",
   "metadata": {},
   "outputs": [
    {
     "data": {
      "text/plain": [
       "[<selenium.webdriver.remote.webelement.WebElement (session=\"fec608870c3d326d18b4dbb961755f8f\", element=\"cc341a0e-b3fb-40cc-b5bc-51d4037b9658\")>,\n",
       " <selenium.webdriver.remote.webelement.WebElement (session=\"fec608870c3d326d18b4dbb961755f8f\", element=\"a942523b-d516-43ff-95a8-bc1e18aae5b5\")>,\n",
       " <selenium.webdriver.remote.webelement.WebElement (session=\"fec608870c3d326d18b4dbb961755f8f\", element=\"43c11647-a51b-4680-9012-095cb26eb63f\")>,\n",
       " <selenium.webdriver.remote.webelement.WebElement (session=\"fec608870c3d326d18b4dbb961755f8f\", element=\"5c6ed52b-94ae-4d48-b2db-b06956cb40ba\")>,\n",
       " <selenium.webdriver.remote.webelement.WebElement (session=\"fec608870c3d326d18b4dbb961755f8f\", element=\"53034cf1-92cd-48db-9293-2d101e210478\")>,\n",
       " <selenium.webdriver.remote.webelement.WebElement (session=\"fec608870c3d326d18b4dbb961755f8f\", element=\"5add6b82-9b05-422e-9cf6-25b3975251ed\")>,\n",
       " <selenium.webdriver.remote.webelement.WebElement (session=\"fec608870c3d326d18b4dbb961755f8f\", element=\"06b599db-cfd5-4147-a679-838f80ef1df1\")>,\n",
       " <selenium.webdriver.remote.webelement.WebElement (session=\"fec608870c3d326d18b4dbb961755f8f\", element=\"4a5be917-c49e-461c-83bd-42d78ee72864\")>,\n",
       " <selenium.webdriver.remote.webelement.WebElement (session=\"fec608870c3d326d18b4dbb961755f8f\", element=\"0cbf1596-9521-4e0a-859f-f17e919dc407\")>,\n",
       " <selenium.webdriver.remote.webelement.WebElement (session=\"fec608870c3d326d18b4dbb961755f8f\", element=\"3ff7d7f5-c90f-47f9-873d-d0099c2d0167\")>,\n",
       " <selenium.webdriver.remote.webelement.WebElement (session=\"fec608870c3d326d18b4dbb961755f8f\", element=\"434a1f57-34e4-4249-81be-6b9a25788585\")>,\n",
       " <selenium.webdriver.remote.webelement.WebElement (session=\"fec608870c3d326d18b4dbb961755f8f\", element=\"05a8e1f7-a3c4-48f2-b6da-4cd133efb164\")>,\n",
       " <selenium.webdriver.remote.webelement.WebElement (session=\"fec608870c3d326d18b4dbb961755f8f\", element=\"e07f9a4a-6961-4062-b773-38a9c8738021\")>,\n",
       " <selenium.webdriver.remote.webelement.WebElement (session=\"fec608870c3d326d18b4dbb961755f8f\", element=\"4d701501-11aa-4dd5-817d-1f0433c16aaa\")>,\n",
       " <selenium.webdriver.remote.webelement.WebElement (session=\"fec608870c3d326d18b4dbb961755f8f\", element=\"7e26aceb-dc4b-4503-9bdb-1cca7929f7c8\")>,\n",
       " <selenium.webdriver.remote.webelement.WebElement (session=\"fec608870c3d326d18b4dbb961755f8f\", element=\"ddafabc4-6e75-4bbf-ab89-f9c2bce0c3fd\")>,\n",
       " <selenium.webdriver.remote.webelement.WebElement (session=\"fec608870c3d326d18b4dbb961755f8f\", element=\"2d9c4c18-4443-4b08-8b30-906dee0d785b\")>,\n",
       " <selenium.webdriver.remote.webelement.WebElement (session=\"fec608870c3d326d18b4dbb961755f8f\", element=\"75988b47-03a0-4a61-a4e9-f3fdc9d0d9e5\")>,\n",
       " <selenium.webdriver.remote.webelement.WebElement (session=\"fec608870c3d326d18b4dbb961755f8f\", element=\"115f5291-0f88-4907-a95f-9350817abf7a\")>,\n",
       " <selenium.webdriver.remote.webelement.WebElement (session=\"fec608870c3d326d18b4dbb961755f8f\", element=\"03b14840-cd5f-46d3-ac88-6449176b1eb1\")>,\n",
       " <selenium.webdriver.remote.webelement.WebElement (session=\"fec608870c3d326d18b4dbb961755f8f\", element=\"04400c63-3698-40ff-9b2e-69538426667d\")>,\n",
       " <selenium.webdriver.remote.webelement.WebElement (session=\"fec608870c3d326d18b4dbb961755f8f\", element=\"b72f8c12-377e-47b6-abe6-cb71f5b31175\")>,\n",
       " <selenium.webdriver.remote.webelement.WebElement (session=\"fec608870c3d326d18b4dbb961755f8f\", element=\"973c8253-7a7a-4fe6-b772-ebbeeca2aeab\")>,\n",
       " <selenium.webdriver.remote.webelement.WebElement (session=\"fec608870c3d326d18b4dbb961755f8f\", element=\"771c295e-5a5c-4d7b-972d-d6652be72592\")>,\n",
       " <selenium.webdriver.remote.webelement.WebElement (session=\"fec608870c3d326d18b4dbb961755f8f\", element=\"980a942d-802f-4c7c-a842-d4d18d328a5e\")>,\n",
       " <selenium.webdriver.remote.webelement.WebElement (session=\"fec608870c3d326d18b4dbb961755f8f\", element=\"b73525d4-80db-476f-9673-1204665666cd\")>,\n",
       " <selenium.webdriver.remote.webelement.WebElement (session=\"fec608870c3d326d18b4dbb961755f8f\", element=\"2da2aba3-666e-4495-9baa-353d2a070fdf\")>,\n",
       " <selenium.webdriver.remote.webelement.WebElement (session=\"fec608870c3d326d18b4dbb961755f8f\", element=\"6e594932-f00e-42f5-b5c6-f248caaefe55\")>,\n",
       " <selenium.webdriver.remote.webelement.WebElement (session=\"fec608870c3d326d18b4dbb961755f8f\", element=\"2e59bbe9-f5e2-4d6a-b7e4-9e6a464ac2c1\")>,\n",
       " <selenium.webdriver.remote.webelement.WebElement (session=\"fec608870c3d326d18b4dbb961755f8f\", element=\"b0d51209-38f5-4f86-b9c9-9498d7220252\")>,\n",
       " <selenium.webdriver.remote.webelement.WebElement (session=\"fec608870c3d326d18b4dbb961755f8f\", element=\"bb1e5edc-f2cd-4cbc-97d1-d65514f0cfe1\")>,\n",
       " <selenium.webdriver.remote.webelement.WebElement (session=\"fec608870c3d326d18b4dbb961755f8f\", element=\"cc486129-690f-4939-8919-85991e550f53\")>,\n",
       " <selenium.webdriver.remote.webelement.WebElement (session=\"fec608870c3d326d18b4dbb961755f8f\", element=\"ad1de934-7847-42f0-b5b6-cc99d6ee28d5\")>,\n",
       " <selenium.webdriver.remote.webelement.WebElement (session=\"fec608870c3d326d18b4dbb961755f8f\", element=\"7e6990e2-e3f7-48bb-97f5-cb166cbdbc25\")>,\n",
       " <selenium.webdriver.remote.webelement.WebElement (session=\"fec608870c3d326d18b4dbb961755f8f\", element=\"bd750bc7-b66e-4899-90bf-fcd54656a767\")>,\n",
       " <selenium.webdriver.remote.webelement.WebElement (session=\"fec608870c3d326d18b4dbb961755f8f\", element=\"c9080710-ce20-4120-b138-8910c5223c21\")>,\n",
       " <selenium.webdriver.remote.webelement.WebElement (session=\"fec608870c3d326d18b4dbb961755f8f\", element=\"ddc5c2ab-7aa5-4c7f-8522-2b284c0b60cb\")>,\n",
       " <selenium.webdriver.remote.webelement.WebElement (session=\"fec608870c3d326d18b4dbb961755f8f\", element=\"1ae29f18-93c8-49ae-b573-f034d79f5203\")>,\n",
       " <selenium.webdriver.remote.webelement.WebElement (session=\"fec608870c3d326d18b4dbb961755f8f\", element=\"1cfaf0d1-c78d-45b1-afe1-7a333e040e20\")>,\n",
       " <selenium.webdriver.remote.webelement.WebElement (session=\"fec608870c3d326d18b4dbb961755f8f\", element=\"6b7d8b47-3a63-42c1-8f96-15b86bca2bd7\")>,\n",
       " <selenium.webdriver.remote.webelement.WebElement (session=\"fec608870c3d326d18b4dbb961755f8f\", element=\"5e0c1aea-c68c-4811-b632-c2a9d1c08774\")>,\n",
       " <selenium.webdriver.remote.webelement.WebElement (session=\"fec608870c3d326d18b4dbb961755f8f\", element=\"150983f8-0465-4032-b489-12bc18f6c33e\")>,\n",
       " <selenium.webdriver.remote.webelement.WebElement (session=\"fec608870c3d326d18b4dbb961755f8f\", element=\"8d653378-6c47-43e7-a823-724816d0b28d\")>,\n",
       " <selenium.webdriver.remote.webelement.WebElement (session=\"fec608870c3d326d18b4dbb961755f8f\", element=\"8af691a2-67a5-4cd6-82ee-2b2454949bc6\")>,\n",
       " <selenium.webdriver.remote.webelement.WebElement (session=\"fec608870c3d326d18b4dbb961755f8f\", element=\"fe37b999-df6a-48d0-b67f-fb10c4a9cf2f\")>,\n",
       " <selenium.webdriver.remote.webelement.WebElement (session=\"fec608870c3d326d18b4dbb961755f8f\", element=\"6e393c62-b5ad-42b7-a144-0789af9c8e74\")>,\n",
       " <selenium.webdriver.remote.webelement.WebElement (session=\"fec608870c3d326d18b4dbb961755f8f\", element=\"bf35fa68-e15e-4614-9378-c12f1d5b8a8b\")>]"
      ]
     },
     "execution_count": 132,
     "metadata": {},
     "output_type": "execute_result"
    }
   ],
   "source": [
    "Brand_price8=driver.find_elements_by_xpath('//span[@class=\"a-price-whole\"]')\n",
    "len(Brand_price8)\n",
    "Brand_price8"
   ]
  },
  {
   "cell_type": "code",
   "execution_count": 133,
   "id": "51e6bdb2",
   "metadata": {},
   "outputs": [
    {
     "data": {
      "text/plain": [
       "['86,999',\n",
       " '96,999',\n",
       " '77,499',\n",
       " '57,490',\n",
       " '89,999',\n",
       " '89,990',\n",
       " '96,999',\n",
       " '95,990',\n",
       " '85,990',\n",
       " '85,790',\n",
       " '82,990',\n",
       " '84,990',\n",
       " '1,16,990',\n",
       " '98,000',\n",
       " '2,26,390',\n",
       " '77,499',\n",
       " '92,990',\n",
       " '1,03,990',\n",
       " '93,090',\n",
       " '80,900',\n",
       " '97,700',\n",
       " '1,01,200',\n",
       " '87,990',\n",
       " '62,990',\n",
       " '47,199',\n",
       " '38,290',\n",
       " '30,990',\n",
       " '46,099',\n",
       " '57,490',\n",
       " '88,990',\n",
       " '5,499.',\n",
       " '4,989.',\n",
       " '6,136.',\n",
       " '2,799.',\n",
       " '',\n",
       " '269.',\n",
       " '289.',\n",
       " '249.',\n",
       " '699.',\n",
       " '259.',\n",
       " '1,599.',\n",
       " '799.',\n",
       " '849.',\n",
       " '169.',\n",
       " '1,449',\n",
       " '',\n",
       " '']"
      ]
     },
     "execution_count": 133,
     "metadata": {},
     "output_type": "execute_result"
    }
   ],
   "source": [
    "Brand_rating8=[]\n",
    "\n",
    "for i in Brand_price8:\n",
    "    Brand_rating8.append(i.text)\n",
    "    \n",
    "len(Brand_rating8)\n",
    "Brand_rating8"
   ]
  },
  {
   "cell_type": "code",
   "execution_count": 136,
   "id": "080df9fe",
   "metadata": {},
   "outputs": [
    {
     "data": {
      "text/plain": [
       "(30, 12, 47)"
      ]
     },
     "execution_count": 136,
     "metadata": {},
     "output_type": "execute_result"
    }
   ],
   "source": [
    "len(Brand_titles8),len(Brand_rates8),len(Brand_rating8)"
   ]
  },
  {
   "cell_type": "markdown",
   "id": "dbe3f997",
   "metadata": {},
   "source": [
    "Framing the scrapped data into dataframe"
   ]
  },
  {
   "cell_type": "code",
   "execution_count": 143,
   "id": "23ebf798",
   "metadata": {},
   "outputs": [
    {
     "data": {
      "text/html": [
       "<div>\n",
       "<style scoped>\n",
       "    .dataframe tbody tr th:only-of-type {\n",
       "        vertical-align: middle;\n",
       "    }\n",
       "\n",
       "    .dataframe tbody tr th {\n",
       "        vertical-align: top;\n",
       "    }\n",
       "\n",
       "    .dataframe thead th {\n",
       "        text-align: right;\n",
       "    }\n",
       "</style>\n",
       "<table border=\"1\" class=\"dataframe\">\n",
       "  <thead>\n",
       "    <tr style=\"text-align: right;\">\n",
       "      <th></th>\n",
       "      <th>Brand Names</th>\n",
       "      <th>Product Price</th>\n",
       "    </tr>\n",
       "  </thead>\n",
       "  <tbody>\n",
       "    <tr>\n",
       "      <th>0</th>\n",
       "      <td>LG Gram 16 Ultra-Light Intel Evo 11th Gen Core...</td>\n",
       "      <td>86,999</td>\n",
       "    </tr>\n",
       "    <tr>\n",
       "      <th>1</th>\n",
       "      <td>LG Gram Intel Evo 11th Gen Core i7 17 inches U...</td>\n",
       "      <td>96,999</td>\n",
       "    </tr>\n",
       "    <tr>\n",
       "      <th>2</th>\n",
       "      <td>Mi Notebook Ultra 3.2K Resolution Display Inte...</td>\n",
       "      <td>77,499</td>\n",
       "    </tr>\n",
       "    <tr>\n",
       "      <th>3</th>\n",
       "      <td>ASUS VivoBook 14 (2021), 14-inch (35.56 cms) F...</td>\n",
       "      <td>57,490</td>\n",
       "    </tr>\n",
       "    <tr>\n",
       "      <th>4</th>\n",
       "      <td>LG Gram 16 inches Intel Evo 11th Gen Core i7 U...</td>\n",
       "      <td>89,999</td>\n",
       "    </tr>\n",
       "    <tr>\n",
       "      <th>5</th>\n",
       "      <td>ASUS TUF Gaming F15 (2021), 15.6\" (39.62 cms) ...</td>\n",
       "      <td>89,990</td>\n",
       "    </tr>\n",
       "    <tr>\n",
       "      <th>6</th>\n",
       "      <td>LG Gram Intel Evo 11th Gen Core i7 17 inches U...</td>\n",
       "      <td>96,999</td>\n",
       "    </tr>\n",
       "    <tr>\n",
       "      <th>7</th>\n",
       "      <td>Lenovo Yoga 7 11th Gen Intel Core i7 14\"(35.56...</td>\n",
       "      <td>95,990</td>\n",
       "    </tr>\n",
       "    <tr>\n",
       "      <th>8</th>\n",
       "      <td>Lenovo IdeaPad Flex 5 11th Gen Intel Core i7 1...</td>\n",
       "      <td>85,990</td>\n",
       "    </tr>\n",
       "    <tr>\n",
       "      <th>9</th>\n",
       "      <td>HP Pavilion x360 11th Gen Intel Core i7 14 inc...</td>\n",
       "      <td>85,790</td>\n",
       "    </tr>\n",
       "    <tr>\n",
       "      <th>10</th>\n",
       "      <td>ASUS VivoBook K15 OLED (2021), 15.6-inch (39.6...</td>\n",
       "      <td>82,990</td>\n",
       "    </tr>\n",
       "    <tr>\n",
       "      <th>11</th>\n",
       "      <td>Fujitsu UH-X 11th Gen Intel Core i7 13.3” FHD ...</td>\n",
       "      <td>84,990</td>\n",
       "    </tr>\n",
       "    <tr>\n",
       "      <th>12</th>\n",
       "      <td>ASUS ZenBook Duo 14 (2021), Intel Evo Core i7-...</td>\n",
       "      <td>1,16,990</td>\n",
       "    </tr>\n",
       "    <tr>\n",
       "      <th>13</th>\n",
       "      <td>Dell 14 (2021) i7-1195G7 2in1 Touch Screen Lap...</td>\n",
       "      <td>98,000</td>\n",
       "    </tr>\n",
       "    <tr>\n",
       "      <th>14</th>\n",
       "      <td>Dell 15 (2022) i7-11800H, 16GB / 512GB SSD, Wi...</td>\n",
       "      <td>2,26,390</td>\n",
       "    </tr>\n",
       "    <tr>\n",
       "      <th>15</th>\n",
       "      <td>Mi Notebook Ultra 3.2K Resolution Display Inte...</td>\n",
       "      <td>77,499</td>\n",
       "    </tr>\n",
       "    <tr>\n",
       "      <th>16</th>\n",
       "      <td>ASUS ZenBook 13 OLED (2021) Intel Core i7-1165...</td>\n",
       "      <td>92,990</td>\n",
       "    </tr>\n",
       "    <tr>\n",
       "      <th>17</th>\n",
       "      <td>Lenovo Yoga 7i 11th Gen Intel Core i7-1165G7 1...</td>\n",
       "      <td>1,03,990</td>\n",
       "    </tr>\n",
       "    <tr>\n",
       "      <th>18</th>\n",
       "      <td>HP Pavilion Gaming 11th Gen Intel Core i7 Proc...</td>\n",
       "      <td>93,090</td>\n",
       "    </tr>\n",
       "    <tr>\n",
       "      <th>19</th>\n",
       "      <td>Lenovo IdeaPad 5 Pro 11th Gen Intel Core i7 14...</td>\n",
       "      <td>80,900</td>\n",
       "    </tr>\n",
       "    <tr>\n",
       "      <th>20</th>\n",
       "      <td>Dell 15 (2021) i7-11390H, 16GB, 1TB SSD, Win 1...</td>\n",
       "      <td>97,700</td>\n",
       "    </tr>\n",
       "    <tr>\n",
       "      <th>21</th>\n",
       "      <td>Dell G15 Intel i7-11800H Gaming Laptop, 16GB D...</td>\n",
       "      <td>1,01,200</td>\n",
       "    </tr>\n",
       "    <tr>\n",
       "      <th>22</th>\n",
       "      <td>Lenovo ThinkBook Yoga 14s Intel Core i7 11th G...</td>\n",
       "      <td>87,990</td>\n",
       "    </tr>\n",
       "    <tr>\n",
       "      <th>23</th>\n",
       "      <td>(Renewed) Acer Nitro 5 11th Gen Intel Core i5-...</td>\n",
       "      <td>62,990</td>\n",
       "    </tr>\n",
       "    <tr>\n",
       "      <th>24</th>\n",
       "      <td>(Renewed) Lenovo Intel 5th Gen Core i7 14 Inch...</td>\n",
       "      <td>47,199</td>\n",
       "    </tr>\n",
       "    <tr>\n",
       "      <th>25</th>\n",
       "      <td>(Renewed) HP 840g3 Elitebook 14 Inch Screen La...</td>\n",
       "      <td>38,290</td>\n",
       "    </tr>\n",
       "    <tr>\n",
       "      <th>26</th>\n",
       "      <td>(Renewed) Life Digital Laptop 15.6-inch (39.62...</td>\n",
       "      <td>30,990</td>\n",
       "    </tr>\n",
       "    <tr>\n",
       "      <th>27</th>\n",
       "      <td>(Renewed) Dell Intel 4th Gen Core i7 4600U 14-...</td>\n",
       "      <td>46,099</td>\n",
       "    </tr>\n",
       "    <tr>\n",
       "      <th>28</th>\n",
       "      <td>ASUS VivoBook 14 (2021), 14-inch (35.56 cms) F...</td>\n",
       "      <td>57,490</td>\n",
       "    </tr>\n",
       "    <tr>\n",
       "      <th>29</th>\n",
       "      <td>ASUS ZenBook 14 (2020) Intel Core i7-1165G7 11...</td>\n",
       "      <td>88,990</td>\n",
       "    </tr>\n",
       "  </tbody>\n",
       "</table>\n",
       "</div>"
      ],
      "text/plain": [
       "                                          Brand Names Product Price\n",
       "0   LG Gram 16 Ultra-Light Intel Evo 11th Gen Core...        86,999\n",
       "1   LG Gram Intel Evo 11th Gen Core i7 17 inches U...        96,999\n",
       "2   Mi Notebook Ultra 3.2K Resolution Display Inte...        77,499\n",
       "3   ASUS VivoBook 14 (2021), 14-inch (35.56 cms) F...        57,490\n",
       "4   LG Gram 16 inches Intel Evo 11th Gen Core i7 U...        89,999\n",
       "5   ASUS TUF Gaming F15 (2021), 15.6\" (39.62 cms) ...        89,990\n",
       "6   LG Gram Intel Evo 11th Gen Core i7 17 inches U...        96,999\n",
       "7   Lenovo Yoga 7 11th Gen Intel Core i7 14\"(35.56...        95,990\n",
       "8   Lenovo IdeaPad Flex 5 11th Gen Intel Core i7 1...        85,990\n",
       "9   HP Pavilion x360 11th Gen Intel Core i7 14 inc...        85,790\n",
       "10  ASUS VivoBook K15 OLED (2021), 15.6-inch (39.6...        82,990\n",
       "11  Fujitsu UH-X 11th Gen Intel Core i7 13.3” FHD ...        84,990\n",
       "12  ASUS ZenBook Duo 14 (2021), Intel Evo Core i7-...      1,16,990\n",
       "13  Dell 14 (2021) i7-1195G7 2in1 Touch Screen Lap...        98,000\n",
       "14  Dell 15 (2022) i7-11800H, 16GB / 512GB SSD, Wi...      2,26,390\n",
       "15  Mi Notebook Ultra 3.2K Resolution Display Inte...        77,499\n",
       "16  ASUS ZenBook 13 OLED (2021) Intel Core i7-1165...        92,990\n",
       "17  Lenovo Yoga 7i 11th Gen Intel Core i7-1165G7 1...      1,03,990\n",
       "18  HP Pavilion Gaming 11th Gen Intel Core i7 Proc...        93,090\n",
       "19  Lenovo IdeaPad 5 Pro 11th Gen Intel Core i7 14...        80,900\n",
       "20  Dell 15 (2021) i7-11390H, 16GB, 1TB SSD, Win 1...        97,700\n",
       "21  Dell G15 Intel i7-11800H Gaming Laptop, 16GB D...      1,01,200\n",
       "22  Lenovo ThinkBook Yoga 14s Intel Core i7 11th G...        87,990\n",
       "23  (Renewed) Acer Nitro 5 11th Gen Intel Core i5-...        62,990\n",
       "24  (Renewed) Lenovo Intel 5th Gen Core i7 14 Inch...        47,199\n",
       "25  (Renewed) HP 840g3 Elitebook 14 Inch Screen La...        38,290\n",
       "26  (Renewed) Life Digital Laptop 15.6-inch (39.62...        30,990\n",
       "27  (Renewed) Dell Intel 4th Gen Core i7 4600U 14-...        46,099\n",
       "28  ASUS VivoBook 14 (2021), 14-inch (35.56 cms) F...        57,490\n",
       "29  ASUS ZenBook 14 (2020) Intel Core i7-1165G7 11...        88,990"
      ]
     },
     "execution_count": 143,
     "metadata": {},
     "output_type": "execute_result"
    }
   ],
   "source": [
    "import numpy as np\n",
    "laptop=pd.DataFrame()\n",
    "laptop['Brand Names']=Brand_titles8\n",
    "laptop['Product Price']=pd.Series(Brand_rating8)\n",
    "laptop"
   ]
  },
  {
   "cell_type": "markdown",
   "id": "0540f958",
   "metadata": {},
   "source": [
    "## Q 9  Program to scrape data for first 10 job results for Data Scientist Designation in Noida "
   ]
  },
  {
   "cell_type": "markdown",
   "id": "78df4760",
   "metadata": {},
   "source": [
    "Login into the website for web scrapping"
   ]
  },
  {
   "cell_type": "code",
   "execution_count": 4,
   "id": "aa6df54a",
   "metadata": {},
   "outputs": [],
   "source": [
    "url = 'https://www.ambitionbox.com/'\n",
    "driver.get(url)"
   ]
  },
  {
   "cell_type": "code",
   "execution_count": 11,
   "id": "da9b7167",
   "metadata": {},
   "outputs": [
    {
     "data": {
      "text/plain": [
       "<selenium.webdriver.remote.webelement.WebElement (session=\"478cce7b22799d0b76ab26239afe92a5\", element=\"2550dd5b-570e-44eb-9fb4-bf9df862c298\")>"
      ]
     },
     "execution_count": 11,
     "metadata": {},
     "output_type": "execute_result"
    }
   ],
   "source": [
    "job_portal9= driver.find_element_by_xpath('/html/body/div[1]/nav/nav/a[6]')\n",
    "job_portal9"
   ]
  },
  {
   "cell_type": "code",
   "execution_count": 12,
   "id": "ebb1a88d",
   "metadata": {},
   "outputs": [],
   "source": [
    "job_portal9.click()"
   ]
  },
  {
   "cell_type": "code",
   "execution_count": 13,
   "id": "e5f7b3fd",
   "metadata": {},
   "outputs": [
    {
     "data": {
      "text/plain": [
       "<selenium.webdriver.remote.webelement.WebElement (session=\"478cce7b22799d0b76ab26239afe92a5\", element=\"6ca3362d-a590-40e5-9b1f-c763ceb75393\")>"
      ]
     },
     "execution_count": 13,
     "metadata": {},
     "output_type": "execute_result"
    }
   ],
   "source": [
    "search9= driver.find_element_by_xpath('/html/body/div/div/div/div[2]/div[1]/div/div/div/div/span/input')\n",
    "search9                              "
   ]
  },
  {
   "cell_type": "code",
   "execution_count": 14,
   "id": "ff1e20ba",
   "metadata": {},
   "outputs": [],
   "source": [
    "search9.send_keys(\"Data Scientist\")"
   ]
  },
  {
   "cell_type": "code",
   "execution_count": 15,
   "id": "44ff4b8c",
   "metadata": {},
   "outputs": [
    {
     "data": {
      "text/plain": [
       "<selenium.webdriver.remote.webelement.WebElement (session=\"478cce7b22799d0b76ab26239afe92a5\", element=\"2bd5ca09-c8fb-41f7-b84d-5a63843d626d\")>"
      ]
     },
     "execution_count": 15,
     "metadata": {},
     "output_type": "execute_result"
    }
   ],
   "source": [
    "search_btn9 = driver.find_element_by_xpath('/html/body/div/div/div/div[2]/div[1]/div/div/div/button/span')\n",
    "search_btn9"
   ]
  },
  {
   "cell_type": "code",
   "execution_count": 16,
   "id": "f5bf4f32",
   "metadata": {},
   "outputs": [],
   "source": [
    "search_btn9.click()"
   ]
  },
  {
   "cell_type": "code",
   "execution_count": 18,
   "id": "c3d9920a",
   "metadata": {},
   "outputs": [
    {
     "data": {
      "text/plain": [
       "<selenium.webdriver.remote.webelement.WebElement (session=\"478cce7b22799d0b76ab26239afe92a5\", element=\"7507112c-bf58-4c05-b4be-d892c133b0e8\")>"
      ]
     },
     "execution_count": 18,
     "metadata": {},
     "output_type": "execute_result"
    }
   ],
   "source": [
    "location= driver.find_element_by_xpath('/html/body/div/div/div/div[2]/div[2]/div[1]/div/div/div/div[2]/div[2]/div/div[3]/div[1]/div[5]/div/label')\n",
    "location"
   ]
  },
  {
   "cell_type": "code",
   "execution_count": 19,
   "id": "a6dd3d65",
   "metadata": {},
   "outputs": [],
   "source": [
    "location.click()"
   ]
  },
  {
   "cell_type": "markdown",
   "id": "1016b50f",
   "metadata": {},
   "source": [
    "Title of the company"
   ]
  },
  {
   "cell_type": "code",
   "execution_count": 20,
   "id": "8cc6d0e8",
   "metadata": {},
   "outputs": [
    {
     "data": {
      "text/plain": [
       "[<selenium.webdriver.remote.webelement.WebElement (session=\"478cce7b22799d0b76ab26239afe92a5\", element=\"b1bde6de-365c-499f-a26f-9c2acf784c72\")>,\n",
       " <selenium.webdriver.remote.webelement.WebElement (session=\"478cce7b22799d0b76ab26239afe92a5\", element=\"269ce149-c790-4836-9613-3487bb8e3b1b\")>,\n",
       " <selenium.webdriver.remote.webelement.WebElement (session=\"478cce7b22799d0b76ab26239afe92a5\", element=\"afcfe068-76c1-4bd2-9a73-decc12566184\")>,\n",
       " <selenium.webdriver.remote.webelement.WebElement (session=\"478cce7b22799d0b76ab26239afe92a5\", element=\"b99a7a48-95cd-4dae-87cb-c0ad1ba2e0aa\")>,\n",
       " <selenium.webdriver.remote.webelement.WebElement (session=\"478cce7b22799d0b76ab26239afe92a5\", element=\"cf7f8b8a-f139-4f3e-93bf-7e982290738f\")>,\n",
       " <selenium.webdriver.remote.webelement.WebElement (session=\"478cce7b22799d0b76ab26239afe92a5\", element=\"945ef895-9591-4d39-9856-c3a5b3e03c05\")>,\n",
       " <selenium.webdriver.remote.webelement.WebElement (session=\"478cce7b22799d0b76ab26239afe92a5\", element=\"1bbb81dc-3611-432d-b28a-250d52d40d04\")>,\n",
       " <selenium.webdriver.remote.webelement.WebElement (session=\"478cce7b22799d0b76ab26239afe92a5\", element=\"ffadcb60-1279-4b52-84a1-5c1c96d5adf8\")>,\n",
       " <selenium.webdriver.remote.webelement.WebElement (session=\"478cce7b22799d0b76ab26239afe92a5\", element=\"c3cdac82-c959-4623-b888-0d8177d85376\")>,\n",
       " <selenium.webdriver.remote.webelement.WebElement (session=\"478cce7b22799d0b76ab26239afe92a5\", element=\"a4ac0c90-f905-4bda-b917-47ca83117c59\")>]"
      ]
     },
     "execution_count": 20,
     "metadata": {},
     "output_type": "execute_result"
    }
   ],
   "source": [
    "Brand_tags9=driver.find_elements_by_xpath('//p[@class=\"company body-medium\"]')\n",
    "len(Brand_tags9)\n",
    "Brand_tags9"
   ]
  },
  {
   "cell_type": "code",
   "execution_count": 21,
   "id": "37d1a112",
   "metadata": {},
   "outputs": [
    {
     "data": {
      "text/plain": [
       "['NTT DATA GLOBAL DELIVERY SERVICES PRIVATE LIMITED',\n",
       " 'HCL Technologies Limited',\n",
       " 'Optum Global Solutions (India) Private Limited',\n",
       " 'WSP CONSULTANTS INDIA PRIVATE LIMITED',\n",
       " 'Microsoft India (R and D) Pvt Ltd',\n",
       " 'HCL Technologies Ltd',\n",
       " 'Jubilant Foodworks Limited',\n",
       " 'HCL Technologies',\n",
       " 'RATEGAIN TRAVEL TECHNOLOGIES LIMITED',\n",
       " 'Hanu Software Solutions Pvt Ltd']"
      ]
     },
     "execution_count": 21,
     "metadata": {},
     "output_type": "execute_result"
    }
   ],
   "source": [
    "Brand_titles9=[]\n",
    "\n",
    "for i in Brand_tags9:\n",
    "    Brand_titles9.append(i.text)\n",
    "    \n",
    "len(Brand_titles9)\n",
    "Brand_titles9"
   ]
  },
  {
   "cell_type": "markdown",
   "id": "e6d6e6fe",
   "metadata": {},
   "source": [
    "Rating of the company"
   ]
  },
  {
   "cell_type": "code",
   "execution_count": 24,
   "id": "dcbe29a3",
   "metadata": {},
   "outputs": [
    {
     "data": {
      "text/plain": [
       "[<selenium.webdriver.remote.webelement.WebElement (session=\"478cce7b22799d0b76ab26239afe92a5\", element=\"ced7dc5d-4cd2-43aa-b4e7-369e793228a5\")>,\n",
       " <selenium.webdriver.remote.webelement.WebElement (session=\"478cce7b22799d0b76ab26239afe92a5\", element=\"2364bd5f-ae6d-47b6-b313-ead2d994680e\")>,\n",
       " <selenium.webdriver.remote.webelement.WebElement (session=\"478cce7b22799d0b76ab26239afe92a5\", element=\"269074d5-544c-42d7-9217-77887a2cefd2\")>,\n",
       " <selenium.webdriver.remote.webelement.WebElement (session=\"478cce7b22799d0b76ab26239afe92a5\", element=\"d317b563-95af-48b9-a3d9-b7c4394157aa\")>,\n",
       " <selenium.webdriver.remote.webelement.WebElement (session=\"478cce7b22799d0b76ab26239afe92a5\", element=\"93c3c275-a5ed-4075-af41-701f3513fb7b\")>,\n",
       " <selenium.webdriver.remote.webelement.WebElement (session=\"478cce7b22799d0b76ab26239afe92a5\", element=\"0ae69e24-8c8b-4d8c-81fe-d97f101317fa\")>,\n",
       " <selenium.webdriver.remote.webelement.WebElement (session=\"478cce7b22799d0b76ab26239afe92a5\", element=\"07ddbc65-1d88-47a0-9cb3-45cfcb3f07c6\")>,\n",
       " <selenium.webdriver.remote.webelement.WebElement (session=\"478cce7b22799d0b76ab26239afe92a5\", element=\"91b2aedb-748f-4c96-97f0-f2a58d45a064\")>,\n",
       " <selenium.webdriver.remote.webelement.WebElement (session=\"478cce7b22799d0b76ab26239afe92a5\", element=\"2da5798e-01c2-4875-bdbd-cdfa03c3d313\")>,\n",
       " <selenium.webdriver.remote.webelement.WebElement (session=\"478cce7b22799d0b76ab26239afe92a5\", element=\"744d7ebd-8524-45f2-9e18-c069d8984f69\")>]"
      ]
     },
     "execution_count": 24,
     "metadata": {},
     "output_type": "execute_result"
    }
   ],
   "source": [
    "Brand_ratting9=driver.find_elements_by_xpath('//span[@class=\"body-small\"]')\n",
    "len(Brand_ratting9)\n",
    "Brand_ratting9"
   ]
  },
  {
   "cell_type": "code",
   "execution_count": 25,
   "id": "717484af",
   "metadata": {},
   "outputs": [
    {
     "data": {
      "text/plain": [
       "['3.9', '3.8', '4.1', '4.2', '4.2', '3.8', '3.9', '3.8', '3.8', '3.7']"
      ]
     },
     "execution_count": 25,
     "metadata": {},
     "output_type": "execute_result"
    }
   ],
   "source": [
    "Brand_rates9=[]\n",
    "\n",
    "for i in Brand_ratting9:\n",
    "    Brand_rates9.append(i.text)\n",
    "    \n",
    "len(Brand_rates9)\n",
    "Brand_rates9"
   ]
  },
  {
   "cell_type": "markdown",
   "id": "1c5a63c6",
   "metadata": {},
   "source": [
    "No.of days ago job posted"
   ]
  },
  {
   "cell_type": "code",
   "execution_count": 22,
   "id": "37561e4c",
   "metadata": {},
   "outputs": [
    {
     "data": {
      "text/plain": [
       "[<selenium.webdriver.remote.webelement.WebElement (session=\"478cce7b22799d0b76ab26239afe92a5\", element=\"0b2aa528-0fdc-496b-855f-bc2d5cde7c8b\")>,\n",
       " <selenium.webdriver.remote.webelement.WebElement (session=\"478cce7b22799d0b76ab26239afe92a5\", element=\"2951c7b9-4235-4286-aee0-fd1619cba4d3\")>,\n",
       " <selenium.webdriver.remote.webelement.WebElement (session=\"478cce7b22799d0b76ab26239afe92a5\", element=\"b8e2eb4e-08da-4b7d-b344-614f831dcfe4\")>,\n",
       " <selenium.webdriver.remote.webelement.WebElement (session=\"478cce7b22799d0b76ab26239afe92a5\", element=\"7d69da25-3695-48aa-b561-1e65cbdb9331\")>,\n",
       " <selenium.webdriver.remote.webelement.WebElement (session=\"478cce7b22799d0b76ab26239afe92a5\", element=\"183afd52-1e6e-4468-927e-07a0e29a5b36\")>,\n",
       " <selenium.webdriver.remote.webelement.WebElement (session=\"478cce7b22799d0b76ab26239afe92a5\", element=\"45a9240b-007e-4025-a37c-77e610a08a88\")>,\n",
       " <selenium.webdriver.remote.webelement.WebElement (session=\"478cce7b22799d0b76ab26239afe92a5\", element=\"fc6732a1-fea1-43ec-9351-66fd97a9b9a0\")>,\n",
       " <selenium.webdriver.remote.webelement.WebElement (session=\"478cce7b22799d0b76ab26239afe92a5\", element=\"078e6fe0-5159-48ed-bc48-57193b5b2314\")>,\n",
       " <selenium.webdriver.remote.webelement.WebElement (session=\"478cce7b22799d0b76ab26239afe92a5\", element=\"6827a758-202e-45ca-a001-f4da13030e9b\")>,\n",
       " <selenium.webdriver.remote.webelement.WebElement (session=\"478cce7b22799d0b76ab26239afe92a5\", element=\"9f28fcb4-c88c-4602-a2d1-a1639400e09d\")>,\n",
       " <selenium.webdriver.remote.webelement.WebElement (session=\"478cce7b22799d0b76ab26239afe92a5\", element=\"e076fde3-13ca-4a5b-bc9e-1298c7b4f1e7\")>,\n",
       " <selenium.webdriver.remote.webelement.WebElement (session=\"478cce7b22799d0b76ab26239afe92a5\", element=\"5890fdde-664a-42d1-8765-5d7673b3e0e6\")>,\n",
       " <selenium.webdriver.remote.webelement.WebElement (session=\"478cce7b22799d0b76ab26239afe92a5\", element=\"06d9875f-4ddf-40d9-9336-4eb4f590f2a4\")>,\n",
       " <selenium.webdriver.remote.webelement.WebElement (session=\"478cce7b22799d0b76ab26239afe92a5\", element=\"dd6dce19-5355-44c8-b26f-d6bb8aff126c\")>,\n",
       " <selenium.webdriver.remote.webelement.WebElement (session=\"478cce7b22799d0b76ab26239afe92a5\", element=\"27b6c3d1-876f-4a0c-be3b-02a46db17701\")>,\n",
       " <selenium.webdriver.remote.webelement.WebElement (session=\"478cce7b22799d0b76ab26239afe92a5\", element=\"67a65b62-24e6-4aa2-b54f-17bab6734b01\")>,\n",
       " <selenium.webdriver.remote.webelement.WebElement (session=\"478cce7b22799d0b76ab26239afe92a5\", element=\"f8d4453d-8d4f-45d8-b1f8-c69d5fcb1dd1\")>,\n",
       " <selenium.webdriver.remote.webelement.WebElement (session=\"478cce7b22799d0b76ab26239afe92a5\", element=\"f2cd156f-25be-441a-890f-0e773d7a6df4\")>,\n",
       " <selenium.webdriver.remote.webelement.WebElement (session=\"478cce7b22799d0b76ab26239afe92a5\", element=\"d7607da8-d473-41fc-83ca-9312ffe33045\")>,\n",
       " <selenium.webdriver.remote.webelement.WebElement (session=\"478cce7b22799d0b76ab26239afe92a5\", element=\"2ba116b7-be3a-4766-8529-f490665b85d5\")>]"
      ]
     },
     "execution_count": 22,
     "metadata": {},
     "output_type": "execute_result"
    }
   ],
   "source": [
    "Brand_price9=driver.find_elements_by_xpath('//span[@class=\"body-small-l\"]')\n",
    "len(Brand_price9)\n",
    "Brand_price9"
   ]
  },
  {
   "cell_type": "code",
   "execution_count": null,
   "id": "41648438",
   "metadata": {},
   "outputs": [],
   "source": [
    "Brand_rating9=[]\n",
    "\n",
    "for i in Brand_price9:\n",
    "    Brand_rating9.append(i.text)\n",
    "    \n",
    "len(Brand_rating9)\n",
    "Brand_rating9"
   ]
  },
  {
   "cell_type": "code",
   "execution_count": 26,
   "id": "3c9a9a1a",
   "metadata": {},
   "outputs": [
    {
     "data": {
      "text/plain": [
       "(10, 10, 20)"
      ]
     },
     "execution_count": 26,
     "metadata": {},
     "output_type": "execute_result"
    }
   ],
   "source": [
    "len(Brand_titles9),len(Brand_rates9),len(Brand_rating9)"
   ]
  },
  {
   "cell_type": "markdown",
   "id": "89170da8",
   "metadata": {},
   "source": [
    "Scrapping the gathered Data into a dataframe"
   ]
  },
  {
   "cell_type": "code",
   "execution_count": 42,
   "id": "454f62c9",
   "metadata": {},
   "outputs": [
    {
     "data": {
      "text/html": [
       "<div>\n",
       "<style scoped>\n",
       "    .dataframe tbody tr th:only-of-type {\n",
       "        vertical-align: middle;\n",
       "    }\n",
       "\n",
       "    .dataframe tbody tr th {\n",
       "        vertical-align: top;\n",
       "    }\n",
       "\n",
       "    .dataframe thead th {\n",
       "        text-align: right;\n",
       "    }\n",
       "</style>\n",
       "<table border=\"1\" class=\"dataframe\">\n",
       "  <thead>\n",
       "    <tr style=\"text-align: right;\">\n",
       "      <th></th>\n",
       "      <th>Company Name</th>\n",
       "      <th>No of Days job Posted</th>\n",
       "      <th>Company Rating</th>\n",
       "    </tr>\n",
       "  </thead>\n",
       "  <tbody>\n",
       "    <tr>\n",
       "      <th>0</th>\n",
       "      <td>NTT DATA GLOBAL DELIVERY SERVICES PRIVATE LIMITED</td>\n",
       "      <td>6d ago</td>\n",
       "      <td>3.9</td>\n",
       "    </tr>\n",
       "    <tr>\n",
       "      <th>1</th>\n",
       "      <td>HCL Technologies Limited</td>\n",
       "      <td>via naukri.com</td>\n",
       "      <td>3.8</td>\n",
       "    </tr>\n",
       "    <tr>\n",
       "      <th>2</th>\n",
       "      <td>Optum Global Solutions (India) Private Limited</td>\n",
       "      <td>8d ago</td>\n",
       "      <td>4.1</td>\n",
       "    </tr>\n",
       "    <tr>\n",
       "      <th>3</th>\n",
       "      <td>WSP CONSULTANTS INDIA PRIVATE LIMITED</td>\n",
       "      <td>via naukri.com</td>\n",
       "      <td>4.2</td>\n",
       "    </tr>\n",
       "    <tr>\n",
       "      <th>4</th>\n",
       "      <td>Microsoft India (R and D) Pvt Ltd</td>\n",
       "      <td>18d ago</td>\n",
       "      <td>4.2</td>\n",
       "    </tr>\n",
       "    <tr>\n",
       "      <th>5</th>\n",
       "      <td>HCL Technologies Ltd</td>\n",
       "      <td>via naukri.com</td>\n",
       "      <td>3.8</td>\n",
       "    </tr>\n",
       "    <tr>\n",
       "      <th>6</th>\n",
       "      <td>Jubilant Foodworks Limited</td>\n",
       "      <td>8d ago</td>\n",
       "      <td>3.9</td>\n",
       "    </tr>\n",
       "    <tr>\n",
       "      <th>7</th>\n",
       "      <td>HCL Technologies</td>\n",
       "      <td>via naukri.com</td>\n",
       "      <td>3.8</td>\n",
       "    </tr>\n",
       "    <tr>\n",
       "      <th>8</th>\n",
       "      <td>RATEGAIN TRAVEL TECHNOLOGIES LIMITED</td>\n",
       "      <td>19d ago</td>\n",
       "      <td>3.8</td>\n",
       "    </tr>\n",
       "    <tr>\n",
       "      <th>9</th>\n",
       "      <td>Hanu Software Solutions Pvt Ltd</td>\n",
       "      <td>via naukri.com</td>\n",
       "      <td>3.7</td>\n",
       "    </tr>\n",
       "  </tbody>\n",
       "</table>\n",
       "</div>"
      ],
      "text/plain": [
       "                                        Company Name No of Days job Posted  \\\n",
       "0  NTT DATA GLOBAL DELIVERY SERVICES PRIVATE LIMITED                6d ago   \n",
       "1                           HCL Technologies Limited        via naukri.com   \n",
       "2     Optum Global Solutions (India) Private Limited                8d ago   \n",
       "3              WSP CONSULTANTS INDIA PRIVATE LIMITED        via naukri.com   \n",
       "4                  Microsoft India (R and D) Pvt Ltd               18d ago   \n",
       "5                               HCL Technologies Ltd        via naukri.com   \n",
       "6                         Jubilant Foodworks Limited                8d ago   \n",
       "7                                   HCL Technologies        via naukri.com   \n",
       "8               RATEGAIN TRAVEL TECHNOLOGIES LIMITED               19d ago   \n",
       "9                    Hanu Software Solutions Pvt Ltd        via naukri.com   \n",
       "\n",
       "  Company Rating  \n",
       "0            3.9  \n",
       "1            3.8  \n",
       "2            4.1  \n",
       "3            4.2  \n",
       "4            4.2  \n",
       "5            3.8  \n",
       "6            3.9  \n",
       "7            3.8  \n",
       "8            3.8  \n",
       "9            3.7  "
      ]
     },
     "execution_count": 42,
     "metadata": {},
     "output_type": "execute_result"
    }
   ],
   "source": [
    "import numpy as np\n",
    "Datascience9=pd.DataFrame()\n",
    "Datascience9['Company Name']=Brand_titles9\n",
    "Datascience9['No of Days job Posted']=pd.Series(Brand_rating9)\n",
    "Datascience9['Company Rating']=Brand_rates9\n",
    "Datascience9"
   ]
  },
  {
   "cell_type": "markdown",
   "id": "1734bac4",
   "metadata": {},
   "source": [
    "## Q 10 Python Program to Scrape the salary Data for Data Scientist designation"
   ]
  },
  {
   "cell_type": "markdown",
   "id": "2ace8d80",
   "metadata": {},
   "source": [
    "Login into the Website"
   ]
  },
  {
   "cell_type": "code",
   "execution_count": 54,
   "id": "89001250",
   "metadata": {},
   "outputs": [],
   "source": [
    "url = 'https://www.ambitionbox.com/'\n",
    "driver.get(url)"
   ]
  },
  {
   "cell_type": "code",
   "execution_count": 58,
   "id": "0219f540",
   "metadata": {},
   "outputs": [
    {
     "data": {
      "text/plain": [
       "<selenium.webdriver.remote.webelement.WebElement (session=\"9002856664041529b26680dad5cb259f\", element=\"c6ae4c88-7aad-4a54-920f-1334e5398464\")>"
      ]
     },
     "execution_count": 58,
     "metadata": {},
     "output_type": "execute_result"
    }
   ],
   "source": [
    "salary_portal10= driver.find_element_by_xpath('/html/body/div[1]/nav/nav/a[4]')\n",
    "salary_portal10"
   ]
  },
  {
   "cell_type": "code",
   "execution_count": 59,
   "id": "8fc1cd9c",
   "metadata": {},
   "outputs": [],
   "source": [
    "salary_portal10.click()"
   ]
  },
  {
   "cell_type": "code",
   "execution_count": 64,
   "id": "5884c8d3",
   "metadata": {},
   "outputs": [
    {
     "data": {
      "text/plain": [
       "<selenium.webdriver.remote.webelement.WebElement (session=\"9002856664041529b26680dad5cb259f\", element=\"b285728d-99ff-4c78-af38-08a21eba83b4\")>"
      ]
     },
     "execution_count": 64,
     "metadata": {},
     "output_type": "execute_result"
    }
   ],
   "source": [
    "search10= driver.find_element_by_xpath('/html/body/div/div/div/main/section[1]/div[2]/div[1]/span/input')\n",
    "search10"
   ]
  },
  {
   "cell_type": "code",
   "execution_count": 65,
   "id": "718bf546",
   "metadata": {},
   "outputs": [],
   "source": [
    "search10.send_keys(\"Data Scientist\")"
   ]
  },
  {
   "cell_type": "code",
   "execution_count": 62,
   "id": "fe6169bd",
   "metadata": {},
   "outputs": [
    {
     "data": {
      "text/plain": [
       "<selenium.webdriver.remote.webelement.WebElement (session=\"9002856664041529b26680dad5cb259f\", element=\"b1a67932-26ec-4ccf-9775-cbc5577c1420\")>"
      ]
     },
     "execution_count": 62,
     "metadata": {},
     "output_type": "execute_result"
    }
   ],
   "source": [
    "search_btn10 = driver.find_element_by_xpath('/html/body/div/div/div/main/section[1]/div[2]/div[1]/i[1]')\n",
    "search_btn10"
   ]
  },
  {
   "cell_type": "code",
   "execution_count": 63,
   "id": "e666ce4d",
   "metadata": {},
   "outputs": [],
   "source": [
    "search_btn10.click()"
   ]
  },
  {
   "cell_type": "markdown",
   "id": "ab0db9f4",
   "metadata": {},
   "source": [
    "Companies Minimum Salary"
   ]
  },
  {
   "cell_type": "code",
   "execution_count": 67,
   "id": "dc06fd8c",
   "metadata": {},
   "outputs": [
    {
     "data": {
      "text/plain": [
       "[<selenium.webdriver.remote.webelement.WebElement (session=\"9002856664041529b26680dad5cb259f\", element=\"a7c93f6b-36c6-497d-8cb6-73e821c77002\")>,\n",
       " <selenium.webdriver.remote.webelement.WebElement (session=\"9002856664041529b26680dad5cb259f\", element=\"8969c96a-b0de-4177-9777-348ad5952be3\")>,\n",
       " <selenium.webdriver.remote.webelement.WebElement (session=\"9002856664041529b26680dad5cb259f\", element=\"f0bc4269-6bcd-40f6-a777-3bd403518274\")>,\n",
       " <selenium.webdriver.remote.webelement.WebElement (session=\"9002856664041529b26680dad5cb259f\", element=\"2956cfb7-fc4f-4689-b920-77390fba68af\")>,\n",
       " <selenium.webdriver.remote.webelement.WebElement (session=\"9002856664041529b26680dad5cb259f\", element=\"5f02216c-a2fc-4f79-bd35-ddf9a8251aa6\")>,\n",
       " <selenium.webdriver.remote.webelement.WebElement (session=\"9002856664041529b26680dad5cb259f\", element=\"98004760-8d21-4e57-950e-51d0e46b926a\")>,\n",
       " <selenium.webdriver.remote.webelement.WebElement (session=\"9002856664041529b26680dad5cb259f\", element=\"32c25c12-e03f-4b19-9f28-bb456564a222\")>,\n",
       " <selenium.webdriver.remote.webelement.WebElement (session=\"9002856664041529b26680dad5cb259f\", element=\"df8ac141-e328-4793-8fcf-8a27e9f65f46\")>,\n",
       " <selenium.webdriver.remote.webelement.WebElement (session=\"9002856664041529b26680dad5cb259f\", element=\"992d9dbf-9592-4090-bc34-a08459cf42d2\")>,\n",
       " <selenium.webdriver.remote.webelement.WebElement (session=\"9002856664041529b26680dad5cb259f\", element=\"ea65ed98-6b53-4050-80c8-48f2da012df6\")>,\n",
       " <selenium.webdriver.remote.webelement.WebElement (session=\"9002856664041529b26680dad5cb259f\", element=\"bcd25b03-463c-4097-b3bb-6e0bec5d67f8\")>,\n",
       " <selenium.webdriver.remote.webelement.WebElement (session=\"9002856664041529b26680dad5cb259f\", element=\"5ca9a43d-f943-41cf-af13-8b1cede78442\")>,\n",
       " <selenium.webdriver.remote.webelement.WebElement (session=\"9002856664041529b26680dad5cb259f\", element=\"4a065a61-a91c-4429-ab85-9094114418e1\")>,\n",
       " <selenium.webdriver.remote.webelement.WebElement (session=\"9002856664041529b26680dad5cb259f\", element=\"448b1a63-62be-4a4f-96d7-44d016b75e08\")>,\n",
       " <selenium.webdriver.remote.webelement.WebElement (session=\"9002856664041529b26680dad5cb259f\", element=\"71487023-1eb8-40c4-b3ee-46bb5b419021\")>,\n",
       " <selenium.webdriver.remote.webelement.WebElement (session=\"9002856664041529b26680dad5cb259f\", element=\"89e8d980-a8ce-4c63-acdf-1a87727882a4\")>,\n",
       " <selenium.webdriver.remote.webelement.WebElement (session=\"9002856664041529b26680dad5cb259f\", element=\"6cccd601-b7f2-4110-84ac-096908556c6d\")>,\n",
       " <selenium.webdriver.remote.webelement.WebElement (session=\"9002856664041529b26680dad5cb259f\", element=\"7ab823a2-6f5e-45df-b291-1ee42872f55b\")>,\n",
       " <selenium.webdriver.remote.webelement.WebElement (session=\"9002856664041529b26680dad5cb259f\", element=\"3a91a02e-d363-4732-ab8c-cce4e786d712\")>,\n",
       " <selenium.webdriver.remote.webelement.WebElement (session=\"9002856664041529b26680dad5cb259f\", element=\"95792ffd-1d9d-4873-a32e-011a306527bd\")>]"
      ]
     },
     "execution_count": 67,
     "metadata": {},
     "output_type": "execute_result"
    }
   ],
   "source": [
    "Brand_tags10=driver.find_elements_by_xpath('//div[@class=\"value body-medium\"]')\n",
    "len(Brand_tags10)\n",
    "Brand_tags10"
   ]
  },
  {
   "cell_type": "code",
   "execution_count": 68,
   "id": "a996829e",
   "metadata": {},
   "outputs": [
    {
     "data": {
      "text/plain": [
       "['₹ 15.0L',\n",
       " '₹ 25.5L',\n",
       " '₹ 9.5L',\n",
       " '₹ 20.0L',\n",
       " '₹ 11.0L',\n",
       " '₹ 21.3L',\n",
       " '₹ 9.5L',\n",
       " '₹ 22.0L',\n",
       " '₹ 8.3L',\n",
       " '₹ 20.0L',\n",
       " '₹ 8.3L',\n",
       " '₹ 20.5L',\n",
       " '₹ 10.0L',\n",
       " '₹ 21.0L',\n",
       " '₹ 8.5L',\n",
       " '₹ 15.0L',\n",
       " '₹ 5.8L',\n",
       " '₹ 24.0L',\n",
       " '₹ 6.9L',\n",
       " '₹ 23.4L']"
      ]
     },
     "execution_count": 68,
     "metadata": {},
     "output_type": "execute_result"
    }
   ],
   "source": [
    "Mnm_titles10=[]\n",
    "\n",
    "for i in Brand_tags10:\n",
    "    Mnm_titles10.append(i.text)\n",
    "    \n",
    "len(Mnm_titles10)\n",
    "Mnm_titles10"
   ]
  },
  {
   "cell_type": "markdown",
   "id": "7cb9c972",
   "metadata": {},
   "source": [
    "Companies Average Salary"
   ]
  },
  {
   "cell_type": "code",
   "execution_count": 69,
   "id": "beb5032e",
   "metadata": {},
   "outputs": [
    {
     "data": {
      "text/plain": [
       "[<selenium.webdriver.remote.webelement.WebElement (session=\"9002856664041529b26680dad5cb259f\", element=\"c1972479-84d0-4bc8-be7f-be7766db8ba5\")>,\n",
       " <selenium.webdriver.remote.webelement.WebElement (session=\"9002856664041529b26680dad5cb259f\", element=\"85cfc94d-e96c-4e74-80ba-561673746a26\")>,\n",
       " <selenium.webdriver.remote.webelement.WebElement (session=\"9002856664041529b26680dad5cb259f\", element=\"5c288fde-0113-49b1-be3c-89fa1fa7655d\")>,\n",
       " <selenium.webdriver.remote.webelement.WebElement (session=\"9002856664041529b26680dad5cb259f\", element=\"ba955ac8-4e38-4da5-ba3e-b91dc76a6937\")>,\n",
       " <selenium.webdriver.remote.webelement.WebElement (session=\"9002856664041529b26680dad5cb259f\", element=\"e29a6781-2752-45d1-9401-28df0f21fad4\")>,\n",
       " <selenium.webdriver.remote.webelement.WebElement (session=\"9002856664041529b26680dad5cb259f\", element=\"4cb6eeca-4f03-47f4-98e0-ecd1762d65a2\")>,\n",
       " <selenium.webdriver.remote.webelement.WebElement (session=\"9002856664041529b26680dad5cb259f\", element=\"7ccafe1a-e3b2-40bd-905d-a31b9e46eb1a\")>,\n",
       " <selenium.webdriver.remote.webelement.WebElement (session=\"9002856664041529b26680dad5cb259f\", element=\"83ea00fd-49be-4b9f-a680-a7bdd32a55fa\")>,\n",
       " <selenium.webdriver.remote.webelement.WebElement (session=\"9002856664041529b26680dad5cb259f\", element=\"5b3c32f4-5df9-475e-9dd0-d5f4a2f1cb88\")>,\n",
       " <selenium.webdriver.remote.webelement.WebElement (session=\"9002856664041529b26680dad5cb259f\", element=\"7bb6daea-6f2a-4e38-9a8c-6b6d172e121f\")>]"
      ]
     },
     "execution_count": 69,
     "metadata": {},
     "output_type": "execute_result"
    }
   ],
   "source": [
    "Brand_tags11=driver.find_elements_by_xpath('//p[@class=\"averageCtc\"]')\n",
    "len(Brand_tags11)\n",
    "Brand_tags11"
   ]
  },
  {
   "cell_type": "code",
   "execution_count": 70,
   "id": "4106e555",
   "metadata": {},
   "outputs": [
    {
     "data": {
      "text/plain": [
       "['₹ 20.3L',\n",
       " '₹ 15.3L',\n",
       " '₹ 15.1L',\n",
       " '₹ 15.1L',\n",
       " '₹ 14.4L',\n",
       " '₹ 13.9L',\n",
       " '₹ 12.7L',\n",
       " '₹ 12.4L',\n",
       " '₹ 11.9L',\n",
       " '₹ 11.7L']"
      ]
     },
     "execution_count": 70,
     "metadata": {},
     "output_type": "execute_result"
    }
   ],
   "source": [
    "Avg_titles10=[]\n",
    "\n",
    "for i in Brand_tags11:\n",
    "    Avg_titles10.append(i.text)\n",
    "    \n",
    "len(Avg_titles10)\n",
    "Avg_titles10"
   ]
  },
  {
   "cell_type": "markdown",
   "id": "01a92803",
   "metadata": {},
   "source": [
    "Maximum Salary of the Company "
   ]
  },
  {
   "cell_type": "code",
   "execution_count": 71,
   "id": "e793b4a8",
   "metadata": {},
   "outputs": [
    {
     "data": {
      "text/plain": [
       "[<selenium.webdriver.remote.webelement.WebElement (session=\"9002856664041529b26680dad5cb259f\", element=\"a7c93f6b-36c6-497d-8cb6-73e821c77002\")>,\n",
       " <selenium.webdriver.remote.webelement.WebElement (session=\"9002856664041529b26680dad5cb259f\", element=\"8969c96a-b0de-4177-9777-348ad5952be3\")>,\n",
       " <selenium.webdriver.remote.webelement.WebElement (session=\"9002856664041529b26680dad5cb259f\", element=\"f0bc4269-6bcd-40f6-a777-3bd403518274\")>,\n",
       " <selenium.webdriver.remote.webelement.WebElement (session=\"9002856664041529b26680dad5cb259f\", element=\"2956cfb7-fc4f-4689-b920-77390fba68af\")>,\n",
       " <selenium.webdriver.remote.webelement.WebElement (session=\"9002856664041529b26680dad5cb259f\", element=\"5f02216c-a2fc-4f79-bd35-ddf9a8251aa6\")>,\n",
       " <selenium.webdriver.remote.webelement.WebElement (session=\"9002856664041529b26680dad5cb259f\", element=\"98004760-8d21-4e57-950e-51d0e46b926a\")>,\n",
       " <selenium.webdriver.remote.webelement.WebElement (session=\"9002856664041529b26680dad5cb259f\", element=\"32c25c12-e03f-4b19-9f28-bb456564a222\")>,\n",
       " <selenium.webdriver.remote.webelement.WebElement (session=\"9002856664041529b26680dad5cb259f\", element=\"df8ac141-e328-4793-8fcf-8a27e9f65f46\")>,\n",
       " <selenium.webdriver.remote.webelement.WebElement (session=\"9002856664041529b26680dad5cb259f\", element=\"992d9dbf-9592-4090-bc34-a08459cf42d2\")>,\n",
       " <selenium.webdriver.remote.webelement.WebElement (session=\"9002856664041529b26680dad5cb259f\", element=\"ea65ed98-6b53-4050-80c8-48f2da012df6\")>,\n",
       " <selenium.webdriver.remote.webelement.WebElement (session=\"9002856664041529b26680dad5cb259f\", element=\"bcd25b03-463c-4097-b3bb-6e0bec5d67f8\")>,\n",
       " <selenium.webdriver.remote.webelement.WebElement (session=\"9002856664041529b26680dad5cb259f\", element=\"5ca9a43d-f943-41cf-af13-8b1cede78442\")>,\n",
       " <selenium.webdriver.remote.webelement.WebElement (session=\"9002856664041529b26680dad5cb259f\", element=\"4a065a61-a91c-4429-ab85-9094114418e1\")>,\n",
       " <selenium.webdriver.remote.webelement.WebElement (session=\"9002856664041529b26680dad5cb259f\", element=\"448b1a63-62be-4a4f-96d7-44d016b75e08\")>,\n",
       " <selenium.webdriver.remote.webelement.WebElement (session=\"9002856664041529b26680dad5cb259f\", element=\"71487023-1eb8-40c4-b3ee-46bb5b419021\")>,\n",
       " <selenium.webdriver.remote.webelement.WebElement (session=\"9002856664041529b26680dad5cb259f\", element=\"89e8d980-a8ce-4c63-acdf-1a87727882a4\")>,\n",
       " <selenium.webdriver.remote.webelement.WebElement (session=\"9002856664041529b26680dad5cb259f\", element=\"6cccd601-b7f2-4110-84ac-096908556c6d\")>,\n",
       " <selenium.webdriver.remote.webelement.WebElement (session=\"9002856664041529b26680dad5cb259f\", element=\"7ab823a2-6f5e-45df-b291-1ee42872f55b\")>,\n",
       " <selenium.webdriver.remote.webelement.WebElement (session=\"9002856664041529b26680dad5cb259f\", element=\"3a91a02e-d363-4732-ab8c-cce4e786d712\")>,\n",
       " <selenium.webdriver.remote.webelement.WebElement (session=\"9002856664041529b26680dad5cb259f\", element=\"95792ffd-1d9d-4873-a32e-011a306527bd\")>]"
      ]
     },
     "execution_count": 71,
     "metadata": {},
     "output_type": "execute_result"
    }
   ],
   "source": [
    "Brand_tags12=driver.find_elements_by_xpath('//div[@class=\"value body-medium\"]')\n",
    "len(Brand_tags12)\n",
    "Brand_tags12"
   ]
  },
  {
   "cell_type": "code",
   "execution_count": 72,
   "id": "7a106dab",
   "metadata": {},
   "outputs": [
    {
     "data": {
      "text/plain": [
       "['₹ 15.0L',\n",
       " '₹ 25.5L',\n",
       " '₹ 9.5L',\n",
       " '₹ 20.0L',\n",
       " '₹ 11.0L',\n",
       " '₹ 21.3L',\n",
       " '₹ 9.5L',\n",
       " '₹ 22.0L',\n",
       " '₹ 8.3L',\n",
       " '₹ 20.0L',\n",
       " '₹ 8.3L',\n",
       " '₹ 20.5L',\n",
       " '₹ 10.0L',\n",
       " '₹ 21.0L',\n",
       " '₹ 8.5L',\n",
       " '₹ 15.0L',\n",
       " '₹ 5.8L',\n",
       " '₹ 24.0L',\n",
       " '₹ 6.9L',\n",
       " '₹ 23.4L']"
      ]
     },
     "execution_count": 72,
     "metadata": {},
     "output_type": "execute_result"
    }
   ],
   "source": [
    "Max_titles10=[]\n",
    "\n",
    "for i in Brand_tags12:\n",
    "    Max_titles10.append(i.text)\n",
    "    \n",
    "len(Max_titles10)\n",
    "Max_titles10"
   ]
  },
  {
   "cell_type": "markdown",
   "id": "2eb87cea",
   "metadata": {},
   "source": [
    "Company Required Experience Years"
   ]
  },
  {
   "cell_type": "code",
   "execution_count": 73,
   "id": "8edf1609",
   "metadata": {},
   "outputs": [
    {
     "data": {
      "text/plain": [
       "[<selenium.webdriver.remote.webelement.WebElement (session=\"9002856664041529b26680dad5cb259f\", element=\"fa91dc96-6763-4541-a67e-7cdd40efa611\")>,\n",
       " <selenium.webdriver.remote.webelement.WebElement (session=\"9002856664041529b26680dad5cb259f\", element=\"edd07e0e-b721-46ad-8b49-8552e0703bce\")>,\n",
       " <selenium.webdriver.remote.webelement.WebElement (session=\"9002856664041529b26680dad5cb259f\", element=\"37029d10-2e3b-4f8e-8a5d-8b783e23ef77\")>,\n",
       " <selenium.webdriver.remote.webelement.WebElement (session=\"9002856664041529b26680dad5cb259f\", element=\"06b46db9-8980-4b23-abe6-6f9376ba099a\")>,\n",
       " <selenium.webdriver.remote.webelement.WebElement (session=\"9002856664041529b26680dad5cb259f\", element=\"3ae2536b-356c-421e-bb72-807f8d25a57b\")>,\n",
       " <selenium.webdriver.remote.webelement.WebElement (session=\"9002856664041529b26680dad5cb259f\", element=\"4f090a04-3343-46e1-acfe-2c3a6fb86eb0\")>,\n",
       " <selenium.webdriver.remote.webelement.WebElement (session=\"9002856664041529b26680dad5cb259f\", element=\"5a3d7ee5-fb50-44bb-b549-becf29750cd9\")>,\n",
       " <selenium.webdriver.remote.webelement.WebElement (session=\"9002856664041529b26680dad5cb259f\", element=\"bc90bb45-af63-45eb-a749-e60606a9d4e6\")>,\n",
       " <selenium.webdriver.remote.webelement.WebElement (session=\"9002856664041529b26680dad5cb259f\", element=\"5ba08cd8-a276-442c-9b28-1820689335ad\")>,\n",
       " <selenium.webdriver.remote.webelement.WebElement (session=\"9002856664041529b26680dad5cb259f\", element=\"56dda8d0-4f68-406a-84b0-44320a2b43c8\")>]"
      ]
     },
     "execution_count": 73,
     "metadata": {},
     "output_type": "execute_result"
    }
   ],
   "source": [
    "Brand_tags13=driver.find_elements_by_xpath('//div[@class=\"salaries sbold-list-header\"]')\n",
    "len(Brand_tags13)\n",
    "Brand_tags13"
   ]
  },
  {
   "cell_type": "code",
   "execution_count": 77,
   "id": "3e12993b",
   "metadata": {},
   "outputs": [
    {
     "data": {
      "text/plain": [
       "['3-4 yrs exp',\n",
       " '2 yrs exp',\n",
       " '3-4 yrs exp',\n",
       " '2-4 yrs exp',\n",
       " '3-4 yrs exp',\n",
       " '2-4 yrs exp',\n",
       " '4 yrs exp',\n",
       " '4 yrs exp',\n",
       " '3-4 yrs exp',\n",
       " '2-4 yrs exp']"
      ]
     },
     "execution_count": 77,
     "metadata": {},
     "output_type": "execute_result"
    }
   ],
   "source": [
    "exp_titles10=[]\n",
    "\n",
    "for i in Brand_tags13:\n",
    "    exp_titles10.append(i.text.splitlines()[2])\n",
    "    \n",
    "len(exp_titles10)\n",
    "exp_titles10"
   ]
  },
  {
   "cell_type": "markdown",
   "id": "03a4cf99",
   "metadata": {},
   "source": [
    "Company Titles"
   ]
  },
  {
   "cell_type": "code",
   "execution_count": 78,
   "id": "531dbc81",
   "metadata": {},
   "outputs": [
    {
     "data": {
      "text/plain": [
       "[<selenium.webdriver.remote.webelement.WebElement (session=\"9002856664041529b26680dad5cb259f\", element=\"82031fc0-4aaa-4314-94f8-211642197251\")>,\n",
       " <selenium.webdriver.remote.webelement.WebElement (session=\"9002856664041529b26680dad5cb259f\", element=\"86b3b335-b769-44ed-b481-192006ea9b22\")>,\n",
       " <selenium.webdriver.remote.webelement.WebElement (session=\"9002856664041529b26680dad5cb259f\", element=\"a07773cd-3031-4a38-a44f-8c219eb79e54\")>,\n",
       " <selenium.webdriver.remote.webelement.WebElement (session=\"9002856664041529b26680dad5cb259f\", element=\"54070a3b-941f-4180-836c-e686bfd4f17b\")>,\n",
       " <selenium.webdriver.remote.webelement.WebElement (session=\"9002856664041529b26680dad5cb259f\", element=\"8cdd0dda-cdbb-47ed-afb6-cc2d6677e9d6\")>,\n",
       " <selenium.webdriver.remote.webelement.WebElement (session=\"9002856664041529b26680dad5cb259f\", element=\"9387060a-836a-4509-840a-bd440b82e7ac\")>,\n",
       " <selenium.webdriver.remote.webelement.WebElement (session=\"9002856664041529b26680dad5cb259f\", element=\"bfa0532f-a282-450e-944a-f101e29ad687\")>,\n",
       " <selenium.webdriver.remote.webelement.WebElement (session=\"9002856664041529b26680dad5cb259f\", element=\"b679eca6-93dc-466e-b82d-6a3bd3fa6a2e\")>,\n",
       " <selenium.webdriver.remote.webelement.WebElement (session=\"9002856664041529b26680dad5cb259f\", element=\"744b0328-5348-44d9-b29b-4fe82f67ca1d\")>,\n",
       " <selenium.webdriver.remote.webelement.WebElement (session=\"9002856664041529b26680dad5cb259f\", element=\"ea3db919-ee2d-4989-a17f-7b6fb63a4777\")>,\n",
       " <selenium.webdriver.remote.webelement.WebElement (session=\"9002856664041529b26680dad5cb259f\", element=\"c2ac00df-de52-4e47-b1ab-c5ac180e9491\")>,\n",
       " <selenium.webdriver.remote.webelement.WebElement (session=\"9002856664041529b26680dad5cb259f\", element=\"158e3ecc-81e9-42e8-a741-53bb572fcdc1\")>,\n",
       " <selenium.webdriver.remote.webelement.WebElement (session=\"9002856664041529b26680dad5cb259f\", element=\"4136c472-6942-4823-aa5a-41573661b12c\")>,\n",
       " <selenium.webdriver.remote.webelement.WebElement (session=\"9002856664041529b26680dad5cb259f\", element=\"5a819f09-934a-4814-bf6f-538089054ac6\")>,\n",
       " <selenium.webdriver.remote.webelement.WebElement (session=\"9002856664041529b26680dad5cb259f\", element=\"1b6c2633-2282-4fa2-af4f-e3415ca9210b\")>,\n",
       " <selenium.webdriver.remote.webelement.WebElement (session=\"9002856664041529b26680dad5cb259f\", element=\"b31a9103-ed70-485e-b2b3-e74c18923371\")>,\n",
       " <selenium.webdriver.remote.webelement.WebElement (session=\"9002856664041529b26680dad5cb259f\", element=\"e6fce01f-db95-49ee-8b5e-177c2adca5fd\")>,\n",
       " <selenium.webdriver.remote.webelement.WebElement (session=\"9002856664041529b26680dad5cb259f\", element=\"4cc444b5-7cd9-42fe-a0ff-1f0e9ed113c7\")>,\n",
       " <selenium.webdriver.remote.webelement.WebElement (session=\"9002856664041529b26680dad5cb259f\", element=\"89983b88-3577-43ae-8502-5fb543144357\")>,\n",
       " <selenium.webdriver.remote.webelement.WebElement (session=\"9002856664041529b26680dad5cb259f\", element=\"f434d8a4-5d63-4bb1-8f5e-686aa8ab1800\")>,\n",
       " <selenium.webdriver.remote.webelement.WebElement (session=\"9002856664041529b26680dad5cb259f\", element=\"b0784f93-e2f5-409d-9413-7d07ca8c6ffd\")>,\n",
       " <selenium.webdriver.remote.webelement.WebElement (session=\"9002856664041529b26680dad5cb259f\", element=\"da8eefdd-323d-4080-8018-4de752435583\")>,\n",
       " <selenium.webdriver.remote.webelement.WebElement (session=\"9002856664041529b26680dad5cb259f\", element=\"4e0b5f76-7aeb-4cb9-819c-6970dc6c765f\")>,\n",
       " <selenium.webdriver.remote.webelement.WebElement (session=\"9002856664041529b26680dad5cb259f\", element=\"ddb83756-a495-44f0-82b9-d3e6b5d343d4\")>,\n",
       " <selenium.webdriver.remote.webelement.WebElement (session=\"9002856664041529b26680dad5cb259f\", element=\"cf92bc98-1ca9-444d-a480-358a10efdf6d\")>]"
      ]
     },
     "execution_count": 78,
     "metadata": {},
     "output_type": "execute_result"
    }
   ],
   "source": [
    "Brand_tags14=driver.find_elements_by_xpath('//div[@class=\"company-info\"]')\n",
    "len(Brand_tags14)\n",
    "Brand_tags14"
   ]
  },
  {
   "cell_type": "code",
   "execution_count": 93,
   "id": "770fa77c",
   "metadata": {},
   "outputs": [
    {
     "data": {
      "text/plain": [
       "[['Ab Inbev'],\n",
       " ['ZS'],\n",
       " ['Optum'],\n",
       " ['Fractal Analytics'],\n",
       " ['Tiger Analytics'],\n",
       " ['UnitedHealth'],\n",
       " ['Verizon'],\n",
       " ['Ganit Business Solutions'],\n",
       " ['Ericsson'],\n",
       " ['Deloitte']]"
      ]
     },
     "execution_count": 93,
     "metadata": {},
     "output_type": "execute_result"
    }
   ],
   "source": [
    "Company_titles10=[]\n",
    "\n",
    "for i in Brand_tags14:\n",
    "    Company_titles10.append(i.text.splitlines()[0:1])\n",
    "    \n",
    "len(Company_titles10)\n",
    "Company_titles10[0:10]"
   ]
  },
  {
   "cell_type": "code",
   "execution_count": 94,
   "id": "d2ea85ce",
   "metadata": {},
   "outputs": [
    {
     "data": {
      "text/plain": [
       "(25, 10, 20, 10, 20)"
      ]
     },
     "execution_count": 94,
     "metadata": {},
     "output_type": "execute_result"
    }
   ],
   "source": [
    "len(Company_titles10),len(exp_titles10),len(Max_titles10),len(Avg_titles10),len(Mnm_titles10)"
   ]
  },
  {
   "cell_type": "markdown",
   "id": "6acdc5f4",
   "metadata": {},
   "source": [
    "putting all the extracted data under one data frame"
   ]
  },
  {
   "cell_type": "code",
   "execution_count": 104,
   "id": "4d5da5ce",
   "metadata": {},
   "outputs": [
    {
     "data": {
      "text/html": [
       "<div>\n",
       "<style scoped>\n",
       "    .dataframe tbody tr th:only-of-type {\n",
       "        vertical-align: middle;\n",
       "    }\n",
       "\n",
       "    .dataframe tbody tr th {\n",
       "        vertical-align: top;\n",
       "    }\n",
       "\n",
       "    .dataframe thead th {\n",
       "        text-align: right;\n",
       "    }\n",
       "</style>\n",
       "<table border=\"1\" class=\"dataframe\">\n",
       "  <thead>\n",
       "    <tr style=\"text-align: right;\">\n",
       "      <th></th>\n",
       "      <th>Company Name</th>\n",
       "      <th>Experience Required</th>\n",
       "      <th>Minimum Salary</th>\n",
       "      <th>Average Salary</th>\n",
       "      <th>Maximum Salary</th>\n",
       "    </tr>\n",
       "  </thead>\n",
       "  <tbody>\n",
       "    <tr>\n",
       "      <th>0</th>\n",
       "      <td>[Ab Inbev]</td>\n",
       "      <td>3-4 yrs exp</td>\n",
       "      <td>₹ 15.0L</td>\n",
       "      <td>₹ 20.3L</td>\n",
       "      <td>₹ 15.0L</td>\n",
       "    </tr>\n",
       "    <tr>\n",
       "      <th>1</th>\n",
       "      <td>[ZS]</td>\n",
       "      <td>2 yrs exp</td>\n",
       "      <td>₹ 25.5L</td>\n",
       "      <td>₹ 15.3L</td>\n",
       "      <td>₹ 25.5L</td>\n",
       "    </tr>\n",
       "    <tr>\n",
       "      <th>2</th>\n",
       "      <td>[Optum]</td>\n",
       "      <td>3-4 yrs exp</td>\n",
       "      <td>₹ 9.5L</td>\n",
       "      <td>₹ 15.1L</td>\n",
       "      <td>₹ 9.5L</td>\n",
       "    </tr>\n",
       "    <tr>\n",
       "      <th>3</th>\n",
       "      <td>[Fractal Analytics]</td>\n",
       "      <td>2-4 yrs exp</td>\n",
       "      <td>₹ 20.0L</td>\n",
       "      <td>₹ 15.1L</td>\n",
       "      <td>₹ 20.0L</td>\n",
       "    </tr>\n",
       "    <tr>\n",
       "      <th>4</th>\n",
       "      <td>[Tiger Analytics]</td>\n",
       "      <td>3-4 yrs exp</td>\n",
       "      <td>₹ 11.0L</td>\n",
       "      <td>₹ 14.4L</td>\n",
       "      <td>₹ 11.0L</td>\n",
       "    </tr>\n",
       "    <tr>\n",
       "      <th>5</th>\n",
       "      <td>[UnitedHealth]</td>\n",
       "      <td>2-4 yrs exp</td>\n",
       "      <td>₹ 21.3L</td>\n",
       "      <td>₹ 13.9L</td>\n",
       "      <td>₹ 21.3L</td>\n",
       "    </tr>\n",
       "    <tr>\n",
       "      <th>6</th>\n",
       "      <td>[Verizon]</td>\n",
       "      <td>4 yrs exp</td>\n",
       "      <td>₹ 9.5L</td>\n",
       "      <td>₹ 12.7L</td>\n",
       "      <td>₹ 9.5L</td>\n",
       "    </tr>\n",
       "    <tr>\n",
       "      <th>7</th>\n",
       "      <td>[Ganit Business Solutions]</td>\n",
       "      <td>4 yrs exp</td>\n",
       "      <td>₹ 22.0L</td>\n",
       "      <td>₹ 12.4L</td>\n",
       "      <td>₹ 22.0L</td>\n",
       "    </tr>\n",
       "    <tr>\n",
       "      <th>8</th>\n",
       "      <td>[Ericsson]</td>\n",
       "      <td>3-4 yrs exp</td>\n",
       "      <td>₹ 8.3L</td>\n",
       "      <td>₹ 11.9L</td>\n",
       "      <td>₹ 8.3L</td>\n",
       "    </tr>\n",
       "    <tr>\n",
       "      <th>9</th>\n",
       "      <td>[Deloitte]</td>\n",
       "      <td>2-4 yrs exp</td>\n",
       "      <td>₹ 20.0L</td>\n",
       "      <td>₹ 11.7L</td>\n",
       "      <td>₹ 20.0L</td>\n",
       "    </tr>\n",
       "  </tbody>\n",
       "</table>\n",
       "</div>"
      ],
      "text/plain": [
       "                 Company Name Experience Required Minimum Salary  \\\n",
       "0                  [Ab Inbev]         3-4 yrs exp        ₹ 15.0L   \n",
       "1                        [ZS]           2 yrs exp        ₹ 25.5L   \n",
       "2                     [Optum]         3-4 yrs exp         ₹ 9.5L   \n",
       "3         [Fractal Analytics]         2-4 yrs exp        ₹ 20.0L   \n",
       "4           [Tiger Analytics]         3-4 yrs exp        ₹ 11.0L   \n",
       "5              [UnitedHealth]         2-4 yrs exp        ₹ 21.3L   \n",
       "6                   [Verizon]           4 yrs exp         ₹ 9.5L   \n",
       "7  [Ganit Business Solutions]           4 yrs exp        ₹ 22.0L   \n",
       "8                  [Ericsson]         3-4 yrs exp         ₹ 8.3L   \n",
       "9                  [Deloitte]         2-4 yrs exp        ₹ 20.0L   \n",
       "\n",
       "  Average Salary Maximum Salary  \n",
       "0        ₹ 20.3L        ₹ 15.0L  \n",
       "1        ₹ 15.3L        ₹ 25.5L  \n",
       "2        ₹ 15.1L         ₹ 9.5L  \n",
       "3        ₹ 15.1L        ₹ 20.0L  \n",
       "4        ₹ 14.4L        ₹ 11.0L  \n",
       "5        ₹ 13.9L        ₹ 21.3L  \n",
       "6        ₹ 12.7L         ₹ 9.5L  \n",
       "7        ₹ 12.4L        ₹ 22.0L  \n",
       "8        ₹ 11.9L         ₹ 8.3L  \n",
       "9        ₹ 11.7L        ₹ 20.0L  "
      ]
     },
     "execution_count": 104,
     "metadata": {},
     "output_type": "execute_result"
    }
   ],
   "source": [
    "import numpy as np\n",
    "Datascience10=pd.DataFrame()\n",
    "Datascience10['Company Name']=pd.Series(Company_titles10)\n",
    "Datascience10['Experience Required']=pd.Series(exp_titles10)\n",
    "Datascience10['Minimum Salary']=pd.Series(Mnm_titles10)\n",
    "Datascience10['Average Salary']=pd.Series(Avg_titles10)\n",
    "Datascience10['Maximum Salary']=pd.Series(Max_titles10)\n",
    "Datascience10[0:10]"
   ]
  },
  {
   "cell_type": "code",
   "execution_count": null,
   "id": "d2f45626",
   "metadata": {},
   "outputs": [],
   "source": []
  }
 ],
 "metadata": {
  "kernelspec": {
   "display_name": "Python 3 (ipykernel)",
   "language": "python",
   "name": "python3"
  },
  "language_info": {
   "codemirror_mode": {
    "name": "ipython",
    "version": 3
   },
   "file_extension": ".py",
   "mimetype": "text/x-python",
   "name": "python",
   "nbconvert_exporter": "python",
   "pygments_lexer": "ipython3",
   "version": "3.9.7"
  }
 },
 "nbformat": 4,
 "nbformat_minor": 5
}

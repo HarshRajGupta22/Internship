{
  "nbformat": 4,
  "nbformat_minor": 0,
  "metadata": {
    "colab": {
      "name": "web scrapping asiignment.ipynb",
      "provenance": [],
      "authorship_tag": "ABX9TyMhTHjIQZEJpYH6ie6bg9F1",
      "include_colab_link": true
    },
    "kernelspec": {
      "name": "python3",
      "display_name": "Python 3"
    },
    "language_info": {
      "name": "python"
    }
  },
  "cells": [
    {
      "cell_type": "markdown",
      "metadata": {
        "id": "view-in-github",
        "colab_type": "text"
      },
      "source": [
        "<a href=\"https://colab.research.google.com/github/HarshRajGupta22/Internship/blob/main/web_scrapping_asiignment.ipynb\" target=\"_parent\"><img src=\"https://colab.research.google.com/assets/colab-badge.svg\" alt=\"Open In Colab\"/></a>"
      ]
    },
    {
      "cell_type": "markdown",
      "source": [
        "# WEB SCRAPPING ASSIGNMENT"
      ],
      "metadata": {
        "id": "go0vqOBl6ixv"
      }
    },
    {
      "cell_type": "code",
      "source": [
        "# Installing required Libaries\n",
        "\n",
        "pip install bs4"
      ],
      "metadata": {
        "colab": {
          "base_uri": "https://localhost:8080/",
          "height": 130
        },
        "id": "fp9o16YB6mIP",
        "outputId": "94bb71ca-f43d-4900-cd50-47b7be2893b5"
      },
      "execution_count": null,
      "outputs": [
        {
          "output_type": "error",
          "ename": "SyntaxError",
          "evalue": "ignored",
          "traceback": [
            "\u001b[0;36m  File \u001b[0;32m\"<ipython-input-3-3f3de58dfde1>\"\u001b[0;36m, line \u001b[0;32m3\u001b[0m\n\u001b[0;31m    pip install bs4\u001b[0m\n\u001b[0m              ^\u001b[0m\n\u001b[0;31mSyntaxError\u001b[0m\u001b[0;31m:\u001b[0m invalid syntax\n"
          ]
        }
      ]
    },
    {
      "cell_type": "code",
      "source": [
        "# Installing required Libaries\n",
        "\n",
        "pip install requests"
      ],
      "metadata": {
        "colab": {
          "base_uri": "https://localhost:8080/"
        },
        "id": "fedkw0DL7U7G",
        "outputId": "0feba5cc-8473-47d0-cdaf-b32028a496cb"
      },
      "execution_count": null,
      "outputs": [
        {
          "output_type": "stream",
          "name": "stdout",
          "text": [
            "Requirement already satisfied: requests in /usr/local/lib/python3.7/dist-packages (2.23.0)\n",
            "Requirement already satisfied: idna<3,>=2.5 in /usr/local/lib/python3.7/dist-packages (from requests) (2.10)\n",
            "Requirement already satisfied: chardet<4,>=3.0.2 in /usr/local/lib/python3.7/dist-packages (from requests) (3.0.4)\n",
            "Requirement already satisfied: urllib3!=1.25.0,!=1.25.1,<1.26,>=1.21.1 in /usr/local/lib/python3.7/dist-packages (from requests) (1.24.3)\n",
            "Requirement already satisfied: certifi>=2017.4.17 in /usr/local/lib/python3.7/dist-packages (from requests) (2021.10.8)\n"
          ]
        }
      ]
    },
    {
      "cell_type": "code",
      "source": [
        "# Importing Web Scrapping Tool \n",
        "\n",
        "from bs4 import BeautifulSoup"
      ],
      "metadata": {
        "id": "B5Z9iUF_7d-e"
      },
      "execution_count": 1,
      "outputs": []
    },
    {
      "cell_type": "code",
      "source": [
        "# Importing Request to Acess Websites\n",
        "\n",
        "import requests"
      ],
      "metadata": {
        "id": "_vXMaoFu7nbm"
      },
      "execution_count": 2,
      "outputs": []
    },
    {
      "cell_type": "markdown",
      "source": [
        "# Q 1 Header Tags of Wikipedia"
      ],
      "metadata": {
        "id": "sgbR7WVSegbD"
      }
    },
    {
      "cell_type": "code",
      "source": [
        "# Request to Acess Wikipedia\n",
        "\n",
        "page1=requests.get('https://en.wikipedia.org/wiki/Main_Page')\n",
        "page1"
      ],
      "metadata": {
        "colab": {
          "base_uri": "https://localhost:8080/"
        },
        "id": "MDNxvVaD7rcV",
        "outputId": "a9e95b11-e8d7-422e-9bb4-8c9bf64a5409"
      },
      "execution_count": null,
      "outputs": [
        {
          "output_type": "execute_result",
          "data": {
            "text/plain": [
              "<Response [200]>"
            ]
          },
          "metadata": {},
          "execution_count": 6
        }
      ]
    },
    {
      "cell_type": "code",
      "source": [
        "# Accesing the page Content of Wikipedia\n",
        "\n",
        "soup1=BeautifulSoup(page1.content)\n",
        "soup1"
      ],
      "metadata": {
        "id": "dc00JvR18QBb"
      },
      "execution_count": null,
      "outputs": []
    },
    {
      "cell_type": "code",
      "source": [
        "# Showing the Header Tags from WikiPedia\n",
        "\n",
        "Header_Tags = []\n",
        "for i in soup1.find_all(class_=\"mw-headline\"):\n",
        "  Header_Tags.append(i.text)\n",
        "\n",
        "\n",
        "Header_Tags"
      ],
      "metadata": {
        "id": "ADOsx4TsI-bo",
        "colab": {
          "base_uri": "https://localhost:8080/"
        },
        "outputId": "deee3ac9-993c-4b7a-82ea-f3308490d590"
      },
      "execution_count": null,
      "outputs": [
        {
          "output_type": "execute_result",
          "data": {
            "text/plain": [
              "['Welcome to Wikipedia',\n",
              " \"From today's featured article\",\n",
              " 'Did you know\\xa0...',\n",
              " 'In the news',\n",
              " 'On this day',\n",
              " \"Today's featured picture\",\n",
              " 'Other areas of Wikipedia',\n",
              " \"Wikipedia's sister projects\",\n",
              " 'Wikipedia languages']"
            ]
          },
          "metadata": {},
          "execution_count": 8
        }
      ]
    },
    {
      "cell_type": "markdown",
      "source": [
        "# Question 2 Top 100 IMDB Rated Movies"
      ],
      "metadata": {
        "id": "G4LRthAKZlr5"
      }
    },
    {
      "cell_type": "code",
      "source": [
        "# Request to Acess IMDB Website\n",
        "\n",
        "page2=requests.get('https://www.imdb.com/search/title/?groups=top_100&sort=user_rating,desc')\n",
        "page2"
      ],
      "metadata": {
        "colab": {
          "base_uri": "https://localhost:8080/"
        },
        "id": "HAkrH_UAMOME",
        "outputId": "899aee02-6d07-4bd5-ee87-08df67afae95"
      },
      "execution_count": null,
      "outputs": [
        {
          "output_type": "execute_result",
          "data": {
            "text/plain": [
              "<Response [200]>"
            ]
          },
          "metadata": {},
          "execution_count": 22
        }
      ]
    },
    {
      "cell_type": "code",
      "source": [
        "#Accesing the page Content of IMDB Website\n",
        "\n",
        "soup2=BeautifulSoup(page2.content)\n",
        "soup2"
      ],
      "metadata": {
        "id": "gbIUqVNMPLKc"
      },
      "execution_count": null,
      "outputs": []
    },
    {
      "cell_type": "code",
      "source": [
        "# Showing the Top 100 IMDB Rated Movies Name List\n",
        "\n",
        "Movie_Titles = []\n",
        "for i in soup2.find_all(class_=\"lister-item-header\"):\n",
        "  Movie_Titles.append(i.text.splitlines()[2])\n",
        "\n",
        "\n",
        "Movie_Titles"
      ],
      "metadata": {
        "colab": {
          "base_uri": "https://localhost:8080/"
        },
        "id": "nyM6a4B4Rygd",
        "outputId": "1a11e6ba-65b4-4441-8587-dea0e5809168"
      },
      "execution_count": null,
      "outputs": [
        {
          "output_type": "execute_result",
          "data": {
            "text/plain": [
              "['The Shawshank Redemption',\n",
              " 'The Godfather',\n",
              " 'The Dark Knight',\n",
              " 'The Godfather: Part II',\n",
              " '12 Angry Men',\n",
              " 'The Lord of the Rings: The Return of the King',\n",
              " 'Pulp Fiction',\n",
              " \"Schindler's List\",\n",
              " 'Inception',\n",
              " 'Fight Club',\n",
              " 'The Lord of the Rings: The Fellowship of the Ring',\n",
              " 'Forrest Gump',\n",
              " 'The Good, the Bad and the Ugly',\n",
              " 'Spider-Man: No Way Home',\n",
              " 'The Lord of the Rings: The Two Towers',\n",
              " 'The Matrix',\n",
              " 'Goodfellas',\n",
              " 'Star Wars: Episode V - The Empire Strikes Back',\n",
              " \"One Flew Over the Cuckoo's Nest\",\n",
              " 'Parasite',\n",
              " 'Interstellar',\n",
              " 'City of God',\n",
              " 'Spirited Away',\n",
              " 'Saving Private Ryan',\n",
              " 'The Green Mile',\n",
              " 'Life Is Beautiful',\n",
              " 'Se7en',\n",
              " 'The Silence of the Lambs',\n",
              " 'Star Wars',\n",
              " 'Hara-Kiri',\n",
              " 'Seven Samurai',\n",
              " \"It's a Wonderful Life\",\n",
              " 'Whiplash',\n",
              " 'The Intouchables',\n",
              " 'The Prestige',\n",
              " 'The Departed',\n",
              " 'The Pianist',\n",
              " 'Gladiator',\n",
              " 'American History X',\n",
              " 'The Usual Suspects',\n",
              " 'Léon: The Professional',\n",
              " 'The Lion King',\n",
              " 'Terminator 2: Judgment Day',\n",
              " 'Cinema Paradiso',\n",
              " 'Grave of the Fireflies',\n",
              " 'Back to the Future',\n",
              " 'Once Upon a Time in the West',\n",
              " 'Psycho',\n",
              " 'Rear Window',\n",
              " 'Casablanca']"
            ]
          },
          "metadata": {},
          "execution_count": 25
        }
      ]
    },
    {
      "cell_type": "code",
      "source": [
        "# Showing the Top 100 IMDB Rated Movies Release Year\n",
        "\n",
        "Movie_Year = []\n",
        "for i in soup2.find_all(class_=\"lister-item-year text-muted unbold\"):\n",
        "  Movie_Year.append(i.text)\n",
        "\n",
        "\n",
        "Movie_Year"
      ],
      "metadata": {
        "colab": {
          "base_uri": "https://localhost:8080/"
        },
        "id": "0pP4Mo_mWNwD",
        "outputId": "e733df4d-1931-41ea-b1a7-b6378a8b8588"
      },
      "execution_count": null,
      "outputs": [
        {
          "output_type": "execute_result",
          "data": {
            "text/plain": [
              "['(1994)',\n",
              " '(1972)',\n",
              " '(2008)',\n",
              " '(1974)',\n",
              " '(1957)',\n",
              " '(2003)',\n",
              " '(1994)',\n",
              " '(1993)',\n",
              " '(2010)',\n",
              " '(1999)',\n",
              " '(2001)',\n",
              " '(1994)',\n",
              " '(1966)',\n",
              " '(2021)',\n",
              " '(2002)',\n",
              " '(1999)',\n",
              " '(1990)',\n",
              " '(1980)',\n",
              " '(1975)',\n",
              " '(2019)',\n",
              " '(2014)',\n",
              " '(2002)',\n",
              " '(2001)',\n",
              " '(1998)',\n",
              " '(1999)',\n",
              " '(1997)',\n",
              " '(1995)',\n",
              " '(1991)',\n",
              " '(1977)',\n",
              " '(1962)',\n",
              " '(1954)',\n",
              " '(1946)',\n",
              " '(2014)',\n",
              " '(2011)',\n",
              " '(2006)',\n",
              " '(2006)',\n",
              " '(2002)',\n",
              " '(2000)',\n",
              " '(1998)',\n",
              " '(1995)',\n",
              " '(1994)',\n",
              " '(1994)',\n",
              " '(1991)',\n",
              " '(1988)',\n",
              " '(1988)',\n",
              " '(1985)',\n",
              " '(1968)',\n",
              " '(1960)',\n",
              " '(1954)',\n",
              " '(1942)']"
            ]
          },
          "metadata": {},
          "execution_count": 14
        }
      ]
    },
    {
      "cell_type": "code",
      "source": [
        "# Showing the Top 100 IMDB Rated Movies Rating\n",
        "\n",
        "Movie_Rating = []\n",
        "for i in soup2.find_all(class_=\"ratings-bar\"):\n",
        "  Movie_Rating.append(i.text.split()[13])\n",
        "\n",
        "\n",
        "Movie_Rating"
      ],
      "metadata": {
        "colab": {
          "base_uri": "https://localhost:8080/"
        },
        "id": "yX-jKPE0WdEz",
        "outputId": "9b413251-aa33-40cf-e8e1-f651bbe19833"
      },
      "execution_count": null,
      "outputs": [
        {
          "output_type": "execute_result",
          "data": {
            "text/plain": [
              "['9.3/10',\n",
              " '9.2/10',\n",
              " '9/10',\n",
              " '9/10',\n",
              " '9/10',\n",
              " '8.9/10',\n",
              " '8.9/10',\n",
              " '8.9/10',\n",
              " '8.8/10',\n",
              " '8.8/10',\n",
              " '8.8/10',\n",
              " '8.8/10',\n",
              " '8.8/10',\n",
              " '8.7/10',\n",
              " '8.7/10',\n",
              " '8.7/10',\n",
              " '8.7/10',\n",
              " '8.7/10',\n",
              " '8.7/10',\n",
              " '8.6/10',\n",
              " '8.6/10',\n",
              " '8.6/10',\n",
              " '8.6/10',\n",
              " '8.6/10',\n",
              " '8.6/10',\n",
              " '8.6/10',\n",
              " '8.6/10',\n",
              " '8.6/10',\n",
              " '8.6/10',\n",
              " '8.6/10',\n",
              " '8.6/10',\n",
              " '8.6/10',\n",
              " '8.5/10',\n",
              " '8.5/10',\n",
              " '8.5/10',\n",
              " '8.5/10',\n",
              " '8.5/10',\n",
              " '8.5/10',\n",
              " '8.5/10',\n",
              " '8.5/10',\n",
              " '8.5/10',\n",
              " '8.5/10',\n",
              " '8.5/10',\n",
              " '8.5/10',\n",
              " '8.5/10',\n",
              " '8.5/10',\n",
              " '8.5/10',\n",
              " '8.5/10',\n",
              " '8.5/10',\n",
              " '8.5/10']"
            ]
          },
          "metadata": {},
          "execution_count": 15
        }
      ]
    },
    {
      "cell_type": "code",
      "source": [
        "# Table Displaying DataFrame Consisting of Columns Related To Movies Title , Rating and Year    \n",
        "\n",
        "import pandas as pd\n",
        "df1=pd.DataFrame({'Title':Movie_Titles,'Rating':Movie_Rating,'Year of Release':Movie_Year})\n",
        "df1"
      ],
      "metadata": {
        "colab": {
          "base_uri": "https://localhost:8080/",
          "height": 1000
        },
        "id": "0nAXm2I1bHzN",
        "outputId": "1553aa93-d0f4-409d-aa16-9e968d8af56e"
      },
      "execution_count": null,
      "outputs": [
        {
          "output_type": "execute_result",
          "data": {
            "text/html": [
              "\n",
              "  <div id=\"df-b0f3a137-220a-4a05-b525-50b65ac4cac3\">\n",
              "    <div class=\"colab-df-container\">\n",
              "      <div>\n",
              "<style scoped>\n",
              "    .dataframe tbody tr th:only-of-type {\n",
              "        vertical-align: middle;\n",
              "    }\n",
              "\n",
              "    .dataframe tbody tr th {\n",
              "        vertical-align: top;\n",
              "    }\n",
              "\n",
              "    .dataframe thead th {\n",
              "        text-align: right;\n",
              "    }\n",
              "</style>\n",
              "<table border=\"1\" class=\"dataframe\">\n",
              "  <thead>\n",
              "    <tr style=\"text-align: right;\">\n",
              "      <th></th>\n",
              "      <th>Title</th>\n",
              "      <th>Rating</th>\n",
              "      <th>Year of Release</th>\n",
              "    </tr>\n",
              "  </thead>\n",
              "  <tbody>\n",
              "    <tr>\n",
              "      <th>0</th>\n",
              "      <td>The Shawshank Redemption</td>\n",
              "      <td>9.3/10</td>\n",
              "      <td>(1994)</td>\n",
              "    </tr>\n",
              "    <tr>\n",
              "      <th>1</th>\n",
              "      <td>The Godfather</td>\n",
              "      <td>9.2/10</td>\n",
              "      <td>(1972)</td>\n",
              "    </tr>\n",
              "    <tr>\n",
              "      <th>2</th>\n",
              "      <td>The Dark Knight</td>\n",
              "      <td>9/10</td>\n",
              "      <td>(2008)</td>\n",
              "    </tr>\n",
              "    <tr>\n",
              "      <th>3</th>\n",
              "      <td>The Godfather: Part II</td>\n",
              "      <td>9/10</td>\n",
              "      <td>(1974)</td>\n",
              "    </tr>\n",
              "    <tr>\n",
              "      <th>4</th>\n",
              "      <td>12 Angry Men</td>\n",
              "      <td>9/10</td>\n",
              "      <td>(1957)</td>\n",
              "    </tr>\n",
              "    <tr>\n",
              "      <th>5</th>\n",
              "      <td>The Lord of the Rings: The Return of the King</td>\n",
              "      <td>8.9/10</td>\n",
              "      <td>(2003)</td>\n",
              "    </tr>\n",
              "    <tr>\n",
              "      <th>6</th>\n",
              "      <td>Pulp Fiction</td>\n",
              "      <td>8.9/10</td>\n",
              "      <td>(1994)</td>\n",
              "    </tr>\n",
              "    <tr>\n",
              "      <th>7</th>\n",
              "      <td>Schindler's List</td>\n",
              "      <td>8.9/10</td>\n",
              "      <td>(1993)</td>\n",
              "    </tr>\n",
              "    <tr>\n",
              "      <th>8</th>\n",
              "      <td>Inception</td>\n",
              "      <td>8.8/10</td>\n",
              "      <td>(2010)</td>\n",
              "    </tr>\n",
              "    <tr>\n",
              "      <th>9</th>\n",
              "      <td>Fight Club</td>\n",
              "      <td>8.8/10</td>\n",
              "      <td>(1999)</td>\n",
              "    </tr>\n",
              "    <tr>\n",
              "      <th>10</th>\n",
              "      <td>The Lord of the Rings: The Fellowship of the Ring</td>\n",
              "      <td>8.8/10</td>\n",
              "      <td>(2001)</td>\n",
              "    </tr>\n",
              "    <tr>\n",
              "      <th>11</th>\n",
              "      <td>Forrest Gump</td>\n",
              "      <td>8.8/10</td>\n",
              "      <td>(1994)</td>\n",
              "    </tr>\n",
              "    <tr>\n",
              "      <th>12</th>\n",
              "      <td>The Good, the Bad and the Ugly</td>\n",
              "      <td>8.8/10</td>\n",
              "      <td>(1966)</td>\n",
              "    </tr>\n",
              "    <tr>\n",
              "      <th>13</th>\n",
              "      <td>Spider-Man: No Way Home</td>\n",
              "      <td>8.7/10</td>\n",
              "      <td>(2021)</td>\n",
              "    </tr>\n",
              "    <tr>\n",
              "      <th>14</th>\n",
              "      <td>The Lord of the Rings: The Two Towers</td>\n",
              "      <td>8.7/10</td>\n",
              "      <td>(2002)</td>\n",
              "    </tr>\n",
              "    <tr>\n",
              "      <th>15</th>\n",
              "      <td>The Matrix</td>\n",
              "      <td>8.7/10</td>\n",
              "      <td>(1999)</td>\n",
              "    </tr>\n",
              "    <tr>\n",
              "      <th>16</th>\n",
              "      <td>Goodfellas</td>\n",
              "      <td>8.7/10</td>\n",
              "      <td>(1990)</td>\n",
              "    </tr>\n",
              "    <tr>\n",
              "      <th>17</th>\n",
              "      <td>Star Wars: Episode V - The Empire Strikes Back</td>\n",
              "      <td>8.7/10</td>\n",
              "      <td>(1980)</td>\n",
              "    </tr>\n",
              "    <tr>\n",
              "      <th>18</th>\n",
              "      <td>One Flew Over the Cuckoo's Nest</td>\n",
              "      <td>8.7/10</td>\n",
              "      <td>(1975)</td>\n",
              "    </tr>\n",
              "    <tr>\n",
              "      <th>19</th>\n",
              "      <td>Parasite</td>\n",
              "      <td>8.6/10</td>\n",
              "      <td>(2019)</td>\n",
              "    </tr>\n",
              "    <tr>\n",
              "      <th>20</th>\n",
              "      <td>Interstellar</td>\n",
              "      <td>8.6/10</td>\n",
              "      <td>(2014)</td>\n",
              "    </tr>\n",
              "    <tr>\n",
              "      <th>21</th>\n",
              "      <td>City of God</td>\n",
              "      <td>8.6/10</td>\n",
              "      <td>(2002)</td>\n",
              "    </tr>\n",
              "    <tr>\n",
              "      <th>22</th>\n",
              "      <td>Spirited Away</td>\n",
              "      <td>8.6/10</td>\n",
              "      <td>(2001)</td>\n",
              "    </tr>\n",
              "    <tr>\n",
              "      <th>23</th>\n",
              "      <td>Saving Private Ryan</td>\n",
              "      <td>8.6/10</td>\n",
              "      <td>(1998)</td>\n",
              "    </tr>\n",
              "    <tr>\n",
              "      <th>24</th>\n",
              "      <td>The Green Mile</td>\n",
              "      <td>8.6/10</td>\n",
              "      <td>(1999)</td>\n",
              "    </tr>\n",
              "    <tr>\n",
              "      <th>25</th>\n",
              "      <td>Life Is Beautiful</td>\n",
              "      <td>8.6/10</td>\n",
              "      <td>(1997)</td>\n",
              "    </tr>\n",
              "    <tr>\n",
              "      <th>26</th>\n",
              "      <td>Se7en</td>\n",
              "      <td>8.6/10</td>\n",
              "      <td>(1995)</td>\n",
              "    </tr>\n",
              "    <tr>\n",
              "      <th>27</th>\n",
              "      <td>The Silence of the Lambs</td>\n",
              "      <td>8.6/10</td>\n",
              "      <td>(1991)</td>\n",
              "    </tr>\n",
              "    <tr>\n",
              "      <th>28</th>\n",
              "      <td>Star Wars</td>\n",
              "      <td>8.6/10</td>\n",
              "      <td>(1977)</td>\n",
              "    </tr>\n",
              "    <tr>\n",
              "      <th>29</th>\n",
              "      <td>Hara-Kiri</td>\n",
              "      <td>8.6/10</td>\n",
              "      <td>(1962)</td>\n",
              "    </tr>\n",
              "    <tr>\n",
              "      <th>30</th>\n",
              "      <td>Seven Samurai</td>\n",
              "      <td>8.6/10</td>\n",
              "      <td>(1954)</td>\n",
              "    </tr>\n",
              "    <tr>\n",
              "      <th>31</th>\n",
              "      <td>It's a Wonderful Life</td>\n",
              "      <td>8.6/10</td>\n",
              "      <td>(1946)</td>\n",
              "    </tr>\n",
              "    <tr>\n",
              "      <th>32</th>\n",
              "      <td>Whiplash</td>\n",
              "      <td>8.5/10</td>\n",
              "      <td>(2014)</td>\n",
              "    </tr>\n",
              "    <tr>\n",
              "      <th>33</th>\n",
              "      <td>The Intouchables</td>\n",
              "      <td>8.5/10</td>\n",
              "      <td>(2011)</td>\n",
              "    </tr>\n",
              "    <tr>\n",
              "      <th>34</th>\n",
              "      <td>The Prestige</td>\n",
              "      <td>8.5/10</td>\n",
              "      <td>(2006)</td>\n",
              "    </tr>\n",
              "    <tr>\n",
              "      <th>35</th>\n",
              "      <td>The Departed</td>\n",
              "      <td>8.5/10</td>\n",
              "      <td>(2006)</td>\n",
              "    </tr>\n",
              "    <tr>\n",
              "      <th>36</th>\n",
              "      <td>The Pianist</td>\n",
              "      <td>8.5/10</td>\n",
              "      <td>(2002)</td>\n",
              "    </tr>\n",
              "    <tr>\n",
              "      <th>37</th>\n",
              "      <td>Gladiator</td>\n",
              "      <td>8.5/10</td>\n",
              "      <td>(2000)</td>\n",
              "    </tr>\n",
              "    <tr>\n",
              "      <th>38</th>\n",
              "      <td>American History X</td>\n",
              "      <td>8.5/10</td>\n",
              "      <td>(1998)</td>\n",
              "    </tr>\n",
              "    <tr>\n",
              "      <th>39</th>\n",
              "      <td>The Usual Suspects</td>\n",
              "      <td>8.5/10</td>\n",
              "      <td>(1995)</td>\n",
              "    </tr>\n",
              "    <tr>\n",
              "      <th>40</th>\n",
              "      <td>Léon: The Professional</td>\n",
              "      <td>8.5/10</td>\n",
              "      <td>(1994)</td>\n",
              "    </tr>\n",
              "    <tr>\n",
              "      <th>41</th>\n",
              "      <td>The Lion King</td>\n",
              "      <td>8.5/10</td>\n",
              "      <td>(1994)</td>\n",
              "    </tr>\n",
              "    <tr>\n",
              "      <th>42</th>\n",
              "      <td>Terminator 2: Judgment Day</td>\n",
              "      <td>8.5/10</td>\n",
              "      <td>(1991)</td>\n",
              "    </tr>\n",
              "    <tr>\n",
              "      <th>43</th>\n",
              "      <td>Cinema Paradiso</td>\n",
              "      <td>8.5/10</td>\n",
              "      <td>(1988)</td>\n",
              "    </tr>\n",
              "    <tr>\n",
              "      <th>44</th>\n",
              "      <td>Grave of the Fireflies</td>\n",
              "      <td>8.5/10</td>\n",
              "      <td>(1988)</td>\n",
              "    </tr>\n",
              "    <tr>\n",
              "      <th>45</th>\n",
              "      <td>Back to the Future</td>\n",
              "      <td>8.5/10</td>\n",
              "      <td>(1985)</td>\n",
              "    </tr>\n",
              "    <tr>\n",
              "      <th>46</th>\n",
              "      <td>Once Upon a Time in the West</td>\n",
              "      <td>8.5/10</td>\n",
              "      <td>(1968)</td>\n",
              "    </tr>\n",
              "    <tr>\n",
              "      <th>47</th>\n",
              "      <td>Psycho</td>\n",
              "      <td>8.5/10</td>\n",
              "      <td>(1960)</td>\n",
              "    </tr>\n",
              "    <tr>\n",
              "      <th>48</th>\n",
              "      <td>Rear Window</td>\n",
              "      <td>8.5/10</td>\n",
              "      <td>(1954)</td>\n",
              "    </tr>\n",
              "    <tr>\n",
              "      <th>49</th>\n",
              "      <td>Casablanca</td>\n",
              "      <td>8.5/10</td>\n",
              "      <td>(1942)</td>\n",
              "    </tr>\n",
              "  </tbody>\n",
              "</table>\n",
              "</div>\n",
              "      <button class=\"colab-df-convert\" onclick=\"convertToInteractive('df-b0f3a137-220a-4a05-b525-50b65ac4cac3')\"\n",
              "              title=\"Convert this dataframe to an interactive table.\"\n",
              "              style=\"display:none;\">\n",
              "        \n",
              "  <svg xmlns=\"http://www.w3.org/2000/svg\" height=\"24px\"viewBox=\"0 0 24 24\"\n",
              "       width=\"24px\">\n",
              "    <path d=\"M0 0h24v24H0V0z\" fill=\"none\"/>\n",
              "    <path d=\"M18.56 5.44l.94 2.06.94-2.06 2.06-.94-2.06-.94-.94-2.06-.94 2.06-2.06.94zm-11 1L8.5 8.5l.94-2.06 2.06-.94-2.06-.94L8.5 2.5l-.94 2.06-2.06.94zm10 10l.94 2.06.94-2.06 2.06-.94-2.06-.94-.94-2.06-.94 2.06-2.06.94z\"/><path d=\"M17.41 7.96l-1.37-1.37c-.4-.4-.92-.59-1.43-.59-.52 0-1.04.2-1.43.59L10.3 9.45l-7.72 7.72c-.78.78-.78 2.05 0 2.83L4 21.41c.39.39.9.59 1.41.59.51 0 1.02-.2 1.41-.59l7.78-7.78 2.81-2.81c.8-.78.8-2.07 0-2.86zM5.41 20L4 18.59l7.72-7.72 1.47 1.35L5.41 20z\"/>\n",
              "  </svg>\n",
              "      </button>\n",
              "      \n",
              "  <style>\n",
              "    .colab-df-container {\n",
              "      display:flex;\n",
              "      flex-wrap:wrap;\n",
              "      gap: 12px;\n",
              "    }\n",
              "\n",
              "    .colab-df-convert {\n",
              "      background-color: #E8F0FE;\n",
              "      border: none;\n",
              "      border-radius: 50%;\n",
              "      cursor: pointer;\n",
              "      display: none;\n",
              "      fill: #1967D2;\n",
              "      height: 32px;\n",
              "      padding: 0 0 0 0;\n",
              "      width: 32px;\n",
              "    }\n",
              "\n",
              "    .colab-df-convert:hover {\n",
              "      background-color: #E2EBFA;\n",
              "      box-shadow: 0px 1px 2px rgba(60, 64, 67, 0.3), 0px 1px 3px 1px rgba(60, 64, 67, 0.15);\n",
              "      fill: #174EA6;\n",
              "    }\n",
              "\n",
              "    [theme=dark] .colab-df-convert {\n",
              "      background-color: #3B4455;\n",
              "      fill: #D2E3FC;\n",
              "    }\n",
              "\n",
              "    [theme=dark] .colab-df-convert:hover {\n",
              "      background-color: #434B5C;\n",
              "      box-shadow: 0px 1px 3px 1px rgba(0, 0, 0, 0.15);\n",
              "      filter: drop-shadow(0px 1px 2px rgba(0, 0, 0, 0.3));\n",
              "      fill: #FFFFFF;\n",
              "    }\n",
              "  </style>\n",
              "\n",
              "      <script>\n",
              "        const buttonEl =\n",
              "          document.querySelector('#df-b0f3a137-220a-4a05-b525-50b65ac4cac3 button.colab-df-convert');\n",
              "        buttonEl.style.display =\n",
              "          google.colab.kernel.accessAllowed ? 'block' : 'none';\n",
              "\n",
              "        async function convertToInteractive(key) {\n",
              "          const element = document.querySelector('#df-b0f3a137-220a-4a05-b525-50b65ac4cac3');\n",
              "          const dataTable =\n",
              "            await google.colab.kernel.invokeFunction('convertToInteractive',\n",
              "                                                     [key], {});\n",
              "          if (!dataTable) return;\n",
              "\n",
              "          const docLinkHtml = 'Like what you see? Visit the ' +\n",
              "            '<a target=\"_blank\" href=https://colab.research.google.com/notebooks/data_table.ipynb>data table notebook</a>'\n",
              "            + ' to learn more about interactive tables.';\n",
              "          element.innerHTML = '';\n",
              "          dataTable['output_type'] = 'display_data';\n",
              "          await google.colab.output.renderOutput(dataTable, element);\n",
              "          const docLink = document.createElement('div');\n",
              "          docLink.innerHTML = docLinkHtml;\n",
              "          element.appendChild(docLink);\n",
              "        }\n",
              "      </script>\n",
              "    </div>\n",
              "  </div>\n",
              "  "
            ],
            "text/plain": [
              "                                                Title  Rating Year of Release\n",
              "0                            The Shawshank Redemption  9.3/10          (1994)\n",
              "1                                       The Godfather  9.2/10          (1972)\n",
              "2                                     The Dark Knight    9/10          (2008)\n",
              "3                              The Godfather: Part II    9/10          (1974)\n",
              "4                                        12 Angry Men    9/10          (1957)\n",
              "5       The Lord of the Rings: The Return of the King  8.9/10          (2003)\n",
              "6                                        Pulp Fiction  8.9/10          (1994)\n",
              "7                                    Schindler's List  8.9/10          (1993)\n",
              "8                                           Inception  8.8/10          (2010)\n",
              "9                                          Fight Club  8.8/10          (1999)\n",
              "10  The Lord of the Rings: The Fellowship of the Ring  8.8/10          (2001)\n",
              "11                                       Forrest Gump  8.8/10          (1994)\n",
              "12                     The Good, the Bad and the Ugly  8.8/10          (1966)\n",
              "13                            Spider-Man: No Way Home  8.7/10          (2021)\n",
              "14              The Lord of the Rings: The Two Towers  8.7/10          (2002)\n",
              "15                                         The Matrix  8.7/10          (1999)\n",
              "16                                         Goodfellas  8.7/10          (1990)\n",
              "17     Star Wars: Episode V - The Empire Strikes Back  8.7/10          (1980)\n",
              "18                    One Flew Over the Cuckoo's Nest  8.7/10          (1975)\n",
              "19                                           Parasite  8.6/10          (2019)\n",
              "20                                       Interstellar  8.6/10          (2014)\n",
              "21                                        City of God  8.6/10          (2002)\n",
              "22                                      Spirited Away  8.6/10          (2001)\n",
              "23                                Saving Private Ryan  8.6/10          (1998)\n",
              "24                                     The Green Mile  8.6/10          (1999)\n",
              "25                                  Life Is Beautiful  8.6/10          (1997)\n",
              "26                                              Se7en  8.6/10          (1995)\n",
              "27                           The Silence of the Lambs  8.6/10          (1991)\n",
              "28                                          Star Wars  8.6/10          (1977)\n",
              "29                                          Hara-Kiri  8.6/10          (1962)\n",
              "30                                      Seven Samurai  8.6/10          (1954)\n",
              "31                              It's a Wonderful Life  8.6/10          (1946)\n",
              "32                                           Whiplash  8.5/10          (2014)\n",
              "33                                   The Intouchables  8.5/10          (2011)\n",
              "34                                       The Prestige  8.5/10          (2006)\n",
              "35                                       The Departed  8.5/10          (2006)\n",
              "36                                        The Pianist  8.5/10          (2002)\n",
              "37                                          Gladiator  8.5/10          (2000)\n",
              "38                                 American History X  8.5/10          (1998)\n",
              "39                                 The Usual Suspects  8.5/10          (1995)\n",
              "40                             Léon: The Professional  8.5/10          (1994)\n",
              "41                                      The Lion King  8.5/10          (1994)\n",
              "42                         Terminator 2: Judgment Day  8.5/10          (1991)\n",
              "43                                    Cinema Paradiso  8.5/10          (1988)\n",
              "44                             Grave of the Fireflies  8.5/10          (1988)\n",
              "45                                 Back to the Future  8.5/10          (1985)\n",
              "46                       Once Upon a Time in the West  8.5/10          (1968)\n",
              "47                                             Psycho  8.5/10          (1960)\n",
              "48                                        Rear Window  8.5/10          (1954)\n",
              "49                                         Casablanca  8.5/10          (1942)"
            ]
          },
          "metadata": {},
          "execution_count": 16
        }
      ]
    },
    {
      "cell_type": "markdown",
      "source": [
        "# Q 3 Top 100 IMDB Rated Indian Movies"
      ],
      "metadata": {
        "id": "0VLCMLBbMjBm"
      }
    },
    {
      "cell_type": "code",
      "source": [
        "# Request to Acess IMDB Website\n",
        "\n",
        "page3=requests.get('https://www.imdb.com/india/top-rated-indian-movies/')\n",
        "page3"
      ],
      "metadata": {
        "id": "EPHeuePih9oj",
        "colab": {
          "base_uri": "https://localhost:8080/"
        },
        "outputId": "f9a9630f-d966-4acb-9a65-9be55a13d7de"
      },
      "execution_count": null,
      "outputs": [
        {
          "output_type": "execute_result",
          "data": {
            "text/plain": [
              "<Response [200]>"
            ]
          },
          "metadata": {},
          "execution_count": 13
        }
      ]
    },
    {
      "cell_type": "code",
      "source": [
        "#Accesing the page Content Of IMDB\n",
        "\n",
        "soup3=BeautifulSoup(page3.content)\n",
        "soup3"
      ],
      "metadata": {
        "id": "mu-ZlR6BNSWx"
      },
      "execution_count": null,
      "outputs": []
    },
    {
      "cell_type": "code",
      "source": [
        "# Showing the Top 100 IMDB Rated Indian Movies Name List\n",
        "\n",
        "Movie_Titles2 = []\n",
        "for i in soup3.find_all(class_=\"titleColumn\"):\n",
        "  Movie_Titles2.append(i.text.splitlines()[2])\n",
        "\n",
        "\n",
        "Movie_Titles2"
      ],
      "metadata": {
        "colab": {
          "base_uri": "https://localhost:8080/"
        },
        "id": "2bibjiHYOR3W",
        "outputId": "a952829f-01bd-411a-e4bc-e4279723abe2"
      },
      "execution_count": null,
      "outputs": [
        {
          "output_type": "execute_result",
          "data": {
            "text/plain": [
              "['      Pariyerum Perumal',\n",
              " '      Nayakan',\n",
              " '      C/o Kancharapalem',\n",
              " '      Anbe Sivam',\n",
              " '      Kireedam',\n",
              " '      Manichithrathazhu',\n",
              " '      Jai Bhim',\n",
              " '      Hanky Panky',\n",
              " '      The World of Apu',\n",
              " '      Natsamrat',\n",
              " '      #Home',\n",
              " '      Kumbalangi Nights',\n",
              " '      Thevar Magan',\n",
              " '      Black Friday',\n",
              " '      Jersey',\n",
              " '      Visaaranai',\n",
              " '      Soorarai Pottru',\n",
              " '      3 Idiots',\n",
              " '      Asuran',\n",
              " '      Sardar Udham',\n",
              " '      Pather Panchali',\n",
              " '      Kaithi',\n",
              " '      Sarpatta Parambarai',\n",
              " '      Thalapathi',\n",
              " '      Like Stars on Earth',\n",
              " '      96',\n",
              " '      Devasuram',\n",
              " '      Drishyam 2',\n",
              " '      Peranbu',\n",
              " '      Dangal',\n",
              " '      Vada Chennai',\n",
              " '      Chithram',\n",
              " '      Jaane Bhi Do Yaaro',\n",
              " '      Aparajito',\n",
              " '      Pyaasa',\n",
              " '      Thani Oruvan',\n",
              " '      Guide',\n",
              " '      Spadikam',\n",
              " '      Agent Sai Srinivasa Athreya',\n",
              " '      Iruvar',\n",
              " '      Raatchasan',\n",
              " '      Kannathil Muthamittal',\n",
              " '      Mahanati',\n",
              " '      Chupke Chupke',\n",
              " '      Super Deluxe',\n",
              " '      Aruvi',\n",
              " '      Pudhu Pettai',\n",
              " '      A Northern Story of Valor',\n",
              " '      Drishyam',\n",
              " '      Anniyan',\n",
              " '      Khosla Ka Ghosla!',\n",
              " '      Vikram Vedha',\n",
              " '      Premam',\n",
              " '      Mudhalvan',\n",
              " '      Tumbbad',\n",
              " '      Bangalore Days',\n",
              " '      Kaakkaa Muttai',\n",
              " '      Papanasam',\n",
              " '      Mandela',\n",
              " '      Satya',\n",
              " '      Soodhu Kavvum',\n",
              " '      Pithamagan',\n",
              " '      Dhuruvangal Pathinaaru',\n",
              " '      Angoor',\n",
              " '      Shahid',\n",
              " '      Andhadhun',\n",
              " '      Jigarthanda',\n",
              " '      Anand',\n",
              " '      Gangs of Wasseypur',\n",
              " '      Sairat',\n",
              " '      Paan Singh Tomar',\n",
              " '      Maheshinte Prathikaaram',\n",
              " '      Chhichhore',\n",
              " '      Bhaag Milkha Bhaag',\n",
              " '      Hera Pheri',\n",
              " '      Theeran Adhigaram Ondru',\n",
              " '      Sholay',\n",
              " '      Ustad Hotel',\n",
              " \"      Let's Go! India\",\n",
              " '      Swades',\n",
              " '      Talvar',\n",
              " '      Virumandi',\n",
              " '      Baasha',\n",
              " '      Zindagi Na Milegi Dobara',\n",
              " '      Mughal-E-Azam',\n",
              " '      Jo Jeeta Wohi Sikandar',\n",
              " '      Black',\n",
              " '      Drishyam',\n",
              " '      Article 15',\n",
              " '      Udaan',\n",
              " '      A Wednesday',\n",
              " '      Masaan',\n",
              " '      Nil Battey Sannata',\n",
              " '      Munna Bhai M.B.B.S.',\n",
              " '      Alai Payuthey',\n",
              " '      Charulata',\n",
              " '      Sarfarosh',\n",
              " '      Uri: The Surgical Strike',\n",
              " '      Roja',\n",
              " '      Color It Yellow',\n",
              " '      Queen',\n",
              " '      Dil Chahta Hai',\n",
              " '      OMG: Oh My God!',\n",
              " '      Lagaan: Once Upon a Time in India',\n",
              " '      Kahaani',\n",
              " '      Andaz Apna Apna',\n",
              " '      Bommarillu',\n",
              " '      PK',\n",
              " '      Lucia',\n",
              " '      The Legend of Bhagat Singh',\n",
              " '      The Great Indian Kitchen',\n",
              " '      Indian',\n",
              " '      Iqbal',\n",
              " '      Barfi!',\n",
              " '      Section 375',\n",
              " '      Thadam',\n",
              " '      Bombay',\n",
              " '      Maanaadu',\n",
              " '      Maqbool',\n",
              " '      Pelli Choopulu',\n",
              " '      Pink',\n",
              " '      Omkara',\n",
              " '      Kshanam',\n",
              " '      Rangasthalam 1985',\n",
              " '      Shershaah',\n",
              " '      Baahubali 2: The Conclusion',\n",
              " '      Carry On, Munna Bhai',\n",
              " '      K.G.F: Chapter 1',\n",
              " '      Athadu',\n",
              " '      Naduvula Konjam Pakkatha Kaanom',\n",
              " '      Pranchiyettan and the Saint',\n",
              " '      Deewaar',\n",
              " '      Padaiyappa',\n",
              " '      Evaru',\n",
              " '      Padosan',\n",
              " '      Gulaal',\n",
              " '      Thondi Muthalum Driksakshiyum',\n",
              " '      Take Off',\n",
              " '      Vaaranam Aayiram',\n",
              " '      Haider',\n",
              " '      Aadukalam',\n",
              " '      Maanagaram',\n",
              " '      Dilwale Dulhania Le Jayenge',\n",
              " '      Android Kunjappan Ver 5.25',\n",
              " '      Ulidavaru Kandanthe',\n",
              " '      Ugly',\n",
              " '      Nayattu',\n",
              " '      22 Shey Shraban',\n",
              " '      Special 26',\n",
              " '      Mother India',\n",
              " '      Ship of Theseus',\n",
              " '      Deiva Thirumagal',\n",
              " '      Bajrangi Bhaijaan',\n",
              " '      Badhaai Ho',\n",
              " '      Karnan',\n",
              " '      Kirik Party',\n",
              " '      Jalsaghar',\n",
              " '      Dev.D',\n",
              " '      Vaastav: The Reality',\n",
              " '      Vedam',\n",
              " '      The Brawler',\n",
              " '      Charlie',\n",
              " '      Ayyappanum Koshiyum',\n",
              " '      Poove Unakkaga',\n",
              " '      Ankhon Dekhi',\n",
              " '      Company',\n",
              " '      Manjhi: The Mountain Man',\n",
              " '      Pizza',\n",
              " '      Gully Boy',\n",
              " '      Memories',\n",
              " '      Malik',\n",
              " '      Arjun Reddy',\n",
              " '      Joseph',\n",
              " '      My Name Is Khan',\n",
              " '      Vinnaithaandi Varuvaayaa',\n",
              " '      Border',\n",
              " '      Dil Bechara',\n",
              " '      Jab We Met',\n",
              " '      Thulladha Manamum Thullum',\n",
              " '      Kal Ho Naa Ho',\n",
              " '      Sonchiriya',\n",
              " '      Super 30',\n",
              " '      Kaakha..Kaakha: The Police',\n",
              " '      Mumbai Police',\n",
              " '      Anjaam Pathiraa',\n",
              " '      Hey Ram',\n",
              " '      Baahubali: The Beginning',\n",
              " '      Angamaly Diaries',\n",
              " '      Unnaipol Oruvan',\n",
              " '      Vettaiyaadu Vilaiyaadu',\n",
              " '      Lakshya',\n",
              " '      Hridayam',\n",
              " '      Pad Man',\n",
              " '      Dia',\n",
              " '      Baby',\n",
              " '      Dor',\n",
              " '      Hindi Medium',\n",
              " '      Okkadu',\n",
              " '      Airlift',\n",
              " '      M.S. Dhoni: The Untold Story',\n",
              " '      English Vinglish',\n",
              " '      Colour Photo',\n",
              " '      Manam',\n",
              " '      Gangaajal',\n",
              " '      The Lunchbox',\n",
              " '      Minnal Murali',\n",
              " '      Johnny Gaddaar',\n",
              " '      Ayirathil Oruvan',\n",
              " '      Ab Tak Chhappan',\n",
              " '      Pokiri',\n",
              " '      Happy Days',\n",
              " '      Goodachari',\n",
              " '      Ennu Ninte Moideen',\n",
              " '      RangiTaranga',\n",
              " '      Joji',\n",
              " '      Badla',\n",
              " '      Thuppakki',\n",
              " '      Nayak: The Real Hero',\n",
              " '      Stanley Ka Dabba',\n",
              " '      Vicky Donor',\n",
              " '      Ko',\n",
              " '      Secret Superstar',\n",
              " '      Raazi',\n",
              " '      Don',\n",
              " '      Velaiyilla Pattathari',\n",
              " '      Mimi',\n",
              " '      Mr. India',\n",
              " '      Aligarh',\n",
              " '      Udta Punjab',\n",
              " '      Kaththi',\n",
              " '      Veer-Zaara',\n",
              " '      Arya',\n",
              " '      Rock On!!',\n",
              " '      Dasvidaniya',\n",
              " '      Ghilli',\n",
              " '      Kai Po Che',\n",
              " '      Guru',\n",
              " '      24',\n",
              " '      Samsara',\n",
              " '      Oye Lucky! Lucky Oye!',\n",
              " '      The Tashkent Files',\n",
              " '      Avane Srimannarayana',\n",
              " '      Rockstar',\n",
              " '      Eega',\n",
              " '      Kushi',\n",
              " '      Sir',\n",
              " '      Ugramm',\n",
              " '      Mumbai Meri Jaan',\n",
              " '      Kabhi Haan Kabhi Naa',\n",
              " '      Darr']"
            ]
          },
          "metadata": {},
          "execution_count": 29
        }
      ]
    },
    {
      "cell_type": "code",
      "source": [
        "# Showing the Top 100 IMDB Rated Indian Movies Release Year\n",
        "\n",
        "\n",
        "Movie_Year2 = []\n",
        "for i in soup3.find_all(class_=\"titleColumn\"):\n",
        "  Movie_Year2.append(i.text.splitlines()[3])\n",
        "\n",
        "\n",
        "Movie_Year2"
      ],
      "metadata": {
        "colab": {
          "base_uri": "https://localhost:8080/"
        },
        "id": "zslabjkzPFGj",
        "outputId": "a3af4cf0-6b53-4abd-e0bb-98e6490bcc66"
      },
      "execution_count": null,
      "outputs": [
        {
          "output_type": "execute_result",
          "data": {
            "text/plain": [
              "['(2018)',\n",
              " '(1987)',\n",
              " '(2018)',\n",
              " '(2003)',\n",
              " '(1989)',\n",
              " '(1993)',\n",
              " '(2021)',\n",
              " '(1979)',\n",
              " '(1959)',\n",
              " '(2016)',\n",
              " '(2021)',\n",
              " '(2019)',\n",
              " '(1992)',\n",
              " '(2004)',\n",
              " '(2019)',\n",
              " '(2015)',\n",
              " '(2020)',\n",
              " '(2009)',\n",
              " '(2019)',\n",
              " '(2021)',\n",
              " '(1955)',\n",
              " '(2019)',\n",
              " '(2021)',\n",
              " '(1991)',\n",
              " '(2007)',\n",
              " '(2018)',\n",
              " '(1993)',\n",
              " '(2021)',\n",
              " '(2018)',\n",
              " '(2016)',\n",
              " '(2018)',\n",
              " '(1988)',\n",
              " '(1983)',\n",
              " '(1956)',\n",
              " '(1957)',\n",
              " '(2015)',\n",
              " '(1965)',\n",
              " '(1995)',\n",
              " '(2019)',\n",
              " '(1997)',\n",
              " '(2018)',\n",
              " '(2002)',\n",
              " '(2018)',\n",
              " '(1975)',\n",
              " '(2019)',\n",
              " '(2016)',\n",
              " '(2006)',\n",
              " '(1989)',\n",
              " '(2013)',\n",
              " '(2005)',\n",
              " '(2006)',\n",
              " '(2017)',\n",
              " '(2015)',\n",
              " '(1999)',\n",
              " '(2018)',\n",
              " '(2014)',\n",
              " '(2014)',\n",
              " '(2015)',\n",
              " '(2021)',\n",
              " '(1998)',\n",
              " '(2013)',\n",
              " '(2003)',\n",
              " '(2016)',\n",
              " '(1982)',\n",
              " '(2012)',\n",
              " '(2018)',\n",
              " '(2014)',\n",
              " '(1971)',\n",
              " '(2012)',\n",
              " '(2016)',\n",
              " '(2012)',\n",
              " '(2016)',\n",
              " '(2019)',\n",
              " '(2013)',\n",
              " '(2000)',\n",
              " '(2017)',\n",
              " '(1975)',\n",
              " '(2012)',\n",
              " '(2007)',\n",
              " '(2004)',\n",
              " '(2015)',\n",
              " '(2004)',\n",
              " '(1995)',\n",
              " '(2011)',\n",
              " '(1960)',\n",
              " '(1992)',\n",
              " '(2005)',\n",
              " '(2015)',\n",
              " '(2019)',\n",
              " '(2010)',\n",
              " '(2008)',\n",
              " '(2015)',\n",
              " '(2015)',\n",
              " '(2003)',\n",
              " '(2000)',\n",
              " '(1964)',\n",
              " '(1999)',\n",
              " '(2019)',\n",
              " '(1992)',\n",
              " '(2006)',\n",
              " '(2013)',\n",
              " '(2001)',\n",
              " '(2012)',\n",
              " '(2001)',\n",
              " '(2012)',\n",
              " '(1994)',\n",
              " '(2006)',\n",
              " '(2014)',\n",
              " '(2013)',\n",
              " '(2002)',\n",
              " '(2021)',\n",
              " '(1996)',\n",
              " '(2005)',\n",
              " '(2012)',\n",
              " '(2019)',\n",
              " '(2019)',\n",
              " '(1995)',\n",
              " '(2021)',\n",
              " '(2003)',\n",
              " '(2016)',\n",
              " '(2016)',\n",
              " '(2006)',\n",
              " '(2016)',\n",
              " '(2018)',\n",
              " '(2021)',\n",
              " '(2017)',\n",
              " '(2006)',\n",
              " '(2018)',\n",
              " '(2005)',\n",
              " '(2012)',\n",
              " '(2010)',\n",
              " '(1975)',\n",
              " '(1999)',\n",
              " '(2019)',\n",
              " '(1968)',\n",
              " '(2009)',\n",
              " '(2017)',\n",
              " '(2017)',\n",
              " '(2008)',\n",
              " '(2014)',\n",
              " '(2011)',\n",
              " '(2017)',\n",
              " '(1995)',\n",
              " '(2019)',\n",
              " '(2014)',\n",
              " '(2013)',\n",
              " '(2021)',\n",
              " '(2011)',\n",
              " '(2013)',\n",
              " '(1957)',\n",
              " '(2012)',\n",
              " '(2011)',\n",
              " '(2015)',\n",
              " '(2018)',\n",
              " '(2021)',\n",
              " '(2016)',\n",
              " '(1958)',\n",
              " '(2009)',\n",
              " '(1999)',\n",
              " '(2010)',\n",
              " '(2017)',\n",
              " '(2015)',\n",
              " '(2020)',\n",
              " '(1996)',\n",
              " '(2013)',\n",
              " '(2002)',\n",
              " '(2015)',\n",
              " '(2012)',\n",
              " '(2019)',\n",
              " '(2013)',\n",
              " '(2021)',\n",
              " '(2017)',\n",
              " '(2018)',\n",
              " '(2010)',\n",
              " '(2010)',\n",
              " '(1997)',\n",
              " '(2020)',\n",
              " '(2007)',\n",
              " '(1999)',\n",
              " '(2003)',\n",
              " '(2019)',\n",
              " '(2019)',\n",
              " '(2003)',\n",
              " '(2013)',\n",
              " '(2020)',\n",
              " '(2000)',\n",
              " '(2015)',\n",
              " '(2017)',\n",
              " '(2009)',\n",
              " '(2006)',\n",
              " '(2004)',\n",
              " '(2022)',\n",
              " '(2018)',\n",
              " '(2020)',\n",
              " '(2015)',\n",
              " '(2006)',\n",
              " '(2017)',\n",
              " '(2003)',\n",
              " '(2016)',\n",
              " '(2016)',\n",
              " '(2012)',\n",
              " '(2020)',\n",
              " '(2014)',\n",
              " '(2003)',\n",
              " '(2013)',\n",
              " '(2021)',\n",
              " '(2007)',\n",
              " '(2010)',\n",
              " '(2004)',\n",
              " '(2006)',\n",
              " '(2007)',\n",
              " '(2018)',\n",
              " '(2015)',\n",
              " '(2015)',\n",
              " '(2021)',\n",
              " '(2019)',\n",
              " '(2012)',\n",
              " '(2001)',\n",
              " '(2011)',\n",
              " '(2012)',\n",
              " '(2011)',\n",
              " '(2017)',\n",
              " '(2018)',\n",
              " '(1978)',\n",
              " '(2014)',\n",
              " '(2021)',\n",
              " '(1987)',\n",
              " '(2015)',\n",
              " '(2016)',\n",
              " '(2014)',\n",
              " '(2004)',\n",
              " '(2004)',\n",
              " '(2008)',\n",
              " '(2008)',\n",
              " '(2004)',\n",
              " '(2013)',\n",
              " '(2007)',\n",
              " '(2016)',\n",
              " '(2001)',\n",
              " '(2008)',\n",
              " '(2019)',\n",
              " '(2019)',\n",
              " '(2011)',\n",
              " '(2012)',\n",
              " '(2000)',\n",
              " '(2018)',\n",
              " '(2014)',\n",
              " '(2008)',\n",
              " '(1994)',\n",
              " '(1993)']"
            ]
          },
          "metadata": {},
          "execution_count": 32
        }
      ]
    },
    {
      "cell_type": "code",
      "source": [
        "# Showing the Top 100 IMDB Rated Indian Movies Ratings\n",
        "\n",
        "Movie_Rating2 = []\n",
        "for i in soup3.find_all(class_=\"ratingColumn imdbRating\"):\n",
        "  Movie_Rating2.append(i.text.splitlines()[1])\n",
        "\n",
        "\n",
        "Movie_Rating2"
      ],
      "metadata": {
        "colab": {
          "base_uri": "https://localhost:8080/"
        },
        "id": "5Gk1L5OUPFij",
        "outputId": "652d842d-00a7-489c-d59b-e7ef6b39fe2a"
      },
      "execution_count": null,
      "outputs": [
        {
          "output_type": "execute_result",
          "data": {
            "text/plain": [
              "['8.5',\n",
              " '8.5',\n",
              " '8.5',\n",
              " '8.5',\n",
              " '8.5',\n",
              " '8.5',\n",
              " '8.5',\n",
              " '8.5',\n",
              " '8.5',\n",
              " '8.4',\n",
              " '8.4',\n",
              " '8.4',\n",
              " '8.4',\n",
              " '8.4',\n",
              " '8.4',\n",
              " '8.4',\n",
              " '8.4',\n",
              " '8.4',\n",
              " '8.3',\n",
              " '8.3',\n",
              " '8.3',\n",
              " '8.3',\n",
              " '8.3',\n",
              " '8.3',\n",
              " '8.3',\n",
              " '8.3',\n",
              " '8.3',\n",
              " '8.3',\n",
              " '8.3',\n",
              " '8.3',\n",
              " '8.3',\n",
              " '8.3',\n",
              " '8.3',\n",
              " '8.3',\n",
              " '8.3',\n",
              " '8.3',\n",
              " '8.3',\n",
              " '8.3',\n",
              " '8.3',\n",
              " '8.3',\n",
              " '8.3',\n",
              " '8.3',\n",
              " '8.2',\n",
              " '8.2',\n",
              " '8.2',\n",
              " '8.2',\n",
              " '8.2',\n",
              " '8.2',\n",
              " '8.2',\n",
              " '8.2',\n",
              " '8.2',\n",
              " '8.2',\n",
              " '8.2',\n",
              " '8.2',\n",
              " '8.2',\n",
              " '8.2',\n",
              " '8.2',\n",
              " '8.2',\n",
              " '8.2',\n",
              " '8.2',\n",
              " '8.2',\n",
              " '8.2',\n",
              " '8.2',\n",
              " '8.2',\n",
              " '8.2',\n",
              " '8.2',\n",
              " '8.2',\n",
              " '8.2',\n",
              " '8.1',\n",
              " '8.1',\n",
              " '8.1',\n",
              " '8.1',\n",
              " '8.1',\n",
              " '8.1',\n",
              " '8.1',\n",
              " '8.1',\n",
              " '8.1',\n",
              " '8.1',\n",
              " '8.1',\n",
              " '8.1',\n",
              " '8.1',\n",
              " '8.1',\n",
              " '8.1',\n",
              " '8.1',\n",
              " '8.1',\n",
              " '8.1',\n",
              " '8.1',\n",
              " '8.1',\n",
              " '8.1',\n",
              " '8.1',\n",
              " '8.1',\n",
              " '8.1',\n",
              " '8.1',\n",
              " '8.1',\n",
              " '8.1',\n",
              " '8.1',\n",
              " '8.1',\n",
              " '8.1',\n",
              " '8.1',\n",
              " '8.1',\n",
              " '8.1',\n",
              " '8.1',\n",
              " '8.1',\n",
              " '8.1',\n",
              " '8.1',\n",
              " '8.1',\n",
              " '8.1',\n",
              " '8.1',\n",
              " '8.1',\n",
              " '8.1',\n",
              " '8.1',\n",
              " '8.1',\n",
              " '8.1',\n",
              " '8.1',\n",
              " '8.1',\n",
              " '8.0',\n",
              " '8.0',\n",
              " '8.0',\n",
              " '8.0',\n",
              " '8.0',\n",
              " '8.0',\n",
              " '8.0',\n",
              " '8.0',\n",
              " '8.0',\n",
              " '8.0',\n",
              " '8.0',\n",
              " '8.0',\n",
              " '8.0',\n",
              " '8.0',\n",
              " '8.0',\n",
              " '8.0',\n",
              " '8.0',\n",
              " '8.0',\n",
              " '8.0',\n",
              " '8.0',\n",
              " '8.0',\n",
              " '8.0',\n",
              " '8.0',\n",
              " '8.0',\n",
              " '8.0',\n",
              " '8.0',\n",
              " '8.0',\n",
              " '8.0',\n",
              " '8.0',\n",
              " '8.0',\n",
              " '8.0',\n",
              " '8.0',\n",
              " '8.0',\n",
              " '8.0',\n",
              " '8.0',\n",
              " '7.9',\n",
              " '7.9',\n",
              " '7.9',\n",
              " '7.9',\n",
              " '7.9',\n",
              " '7.9',\n",
              " '7.9',\n",
              " '7.9',\n",
              " '7.9',\n",
              " '7.9',\n",
              " '7.9',\n",
              " '7.9',\n",
              " '7.9',\n",
              " '7.9',\n",
              " '7.9',\n",
              " '7.9',\n",
              " '7.9',\n",
              " '7.9',\n",
              " '7.9',\n",
              " '7.9',\n",
              " '7.9',\n",
              " '7.9',\n",
              " '7.9',\n",
              " '7.9',\n",
              " '7.9',\n",
              " '7.9',\n",
              " '7.9',\n",
              " '7.9',\n",
              " '7.9',\n",
              " '7.9',\n",
              " '7.9',\n",
              " '7.9',\n",
              " '7.9',\n",
              " '7.9',\n",
              " '7.9',\n",
              " '7.9',\n",
              " '7.9',\n",
              " '7.8',\n",
              " '7.8',\n",
              " '7.8',\n",
              " '7.8',\n",
              " '7.8',\n",
              " '7.8',\n",
              " '7.8',\n",
              " '7.8',\n",
              " '7.8',\n",
              " '7.8',\n",
              " '7.8',\n",
              " '7.8',\n",
              " '7.8',\n",
              " '7.8',\n",
              " '7.8',\n",
              " '7.8',\n",
              " '7.8',\n",
              " '7.8',\n",
              " '7.8',\n",
              " '7.8',\n",
              " '7.8',\n",
              " '7.8',\n",
              " '7.8',\n",
              " '7.8',\n",
              " '7.8',\n",
              " '7.8',\n",
              " '7.8',\n",
              " '7.8',\n",
              " '7.8',\n",
              " '7.7',\n",
              " '7.7',\n",
              " '7.7',\n",
              " '7.7',\n",
              " '7.7',\n",
              " '7.7',\n",
              " '7.7',\n",
              " '7.7',\n",
              " '7.7',\n",
              " '7.7',\n",
              " '7.7',\n",
              " '7.7',\n",
              " '7.7',\n",
              " '7.7',\n",
              " '7.7',\n",
              " '7.7',\n",
              " '7.7',\n",
              " '7.7',\n",
              " '7.7',\n",
              " '7.7',\n",
              " '7.7',\n",
              " '7.7',\n",
              " '7.7',\n",
              " '7.7',\n",
              " '7.7',\n",
              " '7.7',\n",
              " '7.7',\n",
              " '7.7',\n",
              " '7.6',\n",
              " '7.6',\n",
              " '7.6',\n",
              " '7.6',\n",
              " '7.6',\n",
              " '7.6']"
            ]
          },
          "metadata": {},
          "execution_count": 36
        }
      ]
    },
    {
      "cell_type": "code",
      "source": [
        "# Table Displaying DataFrame Consisting of Columns Related To Indian Movies Title , Rating and Year    \n",
        "\n",
        "df2=pd.DataFrame({'Title':Movie_Titles2,'Rating':Movie_Rating2,'Year of Release':Movie_Year2})\n",
        "df2.head(100)"
      ],
      "metadata": {
        "colab": {
          "base_uri": "https://localhost:8080/",
          "height": 423
        },
        "id": "7hHk6zbiSMCs",
        "outputId": "c9625476-9bb6-48ae-a333-be77c7faa8de"
      },
      "execution_count": null,
      "outputs": [
        {
          "output_type": "execute_result",
          "data": {
            "text/html": [
              "\n",
              "  <div id=\"df-8436eafe-a08c-4f68-901e-165f24ab4586\">\n",
              "    <div class=\"colab-df-container\">\n",
              "      <div>\n",
              "<style scoped>\n",
              "    .dataframe tbody tr th:only-of-type {\n",
              "        vertical-align: middle;\n",
              "    }\n",
              "\n",
              "    .dataframe tbody tr th {\n",
              "        vertical-align: top;\n",
              "    }\n",
              "\n",
              "    .dataframe thead th {\n",
              "        text-align: right;\n",
              "    }\n",
              "</style>\n",
              "<table border=\"1\" class=\"dataframe\">\n",
              "  <thead>\n",
              "    <tr style=\"text-align: right;\">\n",
              "      <th></th>\n",
              "      <th>Title</th>\n",
              "      <th>Rating</th>\n",
              "      <th>Year of Release</th>\n",
              "    </tr>\n",
              "  </thead>\n",
              "  <tbody>\n",
              "    <tr>\n",
              "      <th>0</th>\n",
              "      <td>Pariyerum Perumal</td>\n",
              "      <td>8.5</td>\n",
              "      <td>(2018)</td>\n",
              "    </tr>\n",
              "    <tr>\n",
              "      <th>1</th>\n",
              "      <td>Nayakan</td>\n",
              "      <td>8.5</td>\n",
              "      <td>(1987)</td>\n",
              "    </tr>\n",
              "    <tr>\n",
              "      <th>2</th>\n",
              "      <td>C/o Kancharapalem</td>\n",
              "      <td>8.5</td>\n",
              "      <td>(2018)</td>\n",
              "    </tr>\n",
              "    <tr>\n",
              "      <th>3</th>\n",
              "      <td>Anbe Sivam</td>\n",
              "      <td>8.5</td>\n",
              "      <td>(2003)</td>\n",
              "    </tr>\n",
              "    <tr>\n",
              "      <th>4</th>\n",
              "      <td>Kireedam</td>\n",
              "      <td>8.5</td>\n",
              "      <td>(1989)</td>\n",
              "    </tr>\n",
              "    <tr>\n",
              "      <th>...</th>\n",
              "      <td>...</td>\n",
              "      <td>...</td>\n",
              "      <td>...</td>\n",
              "    </tr>\n",
              "    <tr>\n",
              "      <th>95</th>\n",
              "      <td>Charulata</td>\n",
              "      <td>8.1</td>\n",
              "      <td>(1964)</td>\n",
              "    </tr>\n",
              "    <tr>\n",
              "      <th>96</th>\n",
              "      <td>Sarfarosh</td>\n",
              "      <td>8.1</td>\n",
              "      <td>(1999)</td>\n",
              "    </tr>\n",
              "    <tr>\n",
              "      <th>97</th>\n",
              "      <td>Uri: The Surgical Strike</td>\n",
              "      <td>8.1</td>\n",
              "      <td>(2019)</td>\n",
              "    </tr>\n",
              "    <tr>\n",
              "      <th>98</th>\n",
              "      <td>Roja</td>\n",
              "      <td>8.1</td>\n",
              "      <td>(1992)</td>\n",
              "    </tr>\n",
              "    <tr>\n",
              "      <th>99</th>\n",
              "      <td>Color It Yellow</td>\n",
              "      <td>8.1</td>\n",
              "      <td>(2006)</td>\n",
              "    </tr>\n",
              "  </tbody>\n",
              "</table>\n",
              "<p>100 rows × 3 columns</p>\n",
              "</div>\n",
              "      <button class=\"colab-df-convert\" onclick=\"convertToInteractive('df-8436eafe-a08c-4f68-901e-165f24ab4586')\"\n",
              "              title=\"Convert this dataframe to an interactive table.\"\n",
              "              style=\"display:none;\">\n",
              "        \n",
              "  <svg xmlns=\"http://www.w3.org/2000/svg\" height=\"24px\"viewBox=\"0 0 24 24\"\n",
              "       width=\"24px\">\n",
              "    <path d=\"M0 0h24v24H0V0z\" fill=\"none\"/>\n",
              "    <path d=\"M18.56 5.44l.94 2.06.94-2.06 2.06-.94-2.06-.94-.94-2.06-.94 2.06-2.06.94zm-11 1L8.5 8.5l.94-2.06 2.06-.94-2.06-.94L8.5 2.5l-.94 2.06-2.06.94zm10 10l.94 2.06.94-2.06 2.06-.94-2.06-.94-.94-2.06-.94 2.06-2.06.94z\"/><path d=\"M17.41 7.96l-1.37-1.37c-.4-.4-.92-.59-1.43-.59-.52 0-1.04.2-1.43.59L10.3 9.45l-7.72 7.72c-.78.78-.78 2.05 0 2.83L4 21.41c.39.39.9.59 1.41.59.51 0 1.02-.2 1.41-.59l7.78-7.78 2.81-2.81c.8-.78.8-2.07 0-2.86zM5.41 20L4 18.59l7.72-7.72 1.47 1.35L5.41 20z\"/>\n",
              "  </svg>\n",
              "      </button>\n",
              "      \n",
              "  <style>\n",
              "    .colab-df-container {\n",
              "      display:flex;\n",
              "      flex-wrap:wrap;\n",
              "      gap: 12px;\n",
              "    }\n",
              "\n",
              "    .colab-df-convert {\n",
              "      background-color: #E8F0FE;\n",
              "      border: none;\n",
              "      border-radius: 50%;\n",
              "      cursor: pointer;\n",
              "      display: none;\n",
              "      fill: #1967D2;\n",
              "      height: 32px;\n",
              "      padding: 0 0 0 0;\n",
              "      width: 32px;\n",
              "    }\n",
              "\n",
              "    .colab-df-convert:hover {\n",
              "      background-color: #E2EBFA;\n",
              "      box-shadow: 0px 1px 2px rgba(60, 64, 67, 0.3), 0px 1px 3px 1px rgba(60, 64, 67, 0.15);\n",
              "      fill: #174EA6;\n",
              "    }\n",
              "\n",
              "    [theme=dark] .colab-df-convert {\n",
              "      background-color: #3B4455;\n",
              "      fill: #D2E3FC;\n",
              "    }\n",
              "\n",
              "    [theme=dark] .colab-df-convert:hover {\n",
              "      background-color: #434B5C;\n",
              "      box-shadow: 0px 1px 3px 1px rgba(0, 0, 0, 0.15);\n",
              "      filter: drop-shadow(0px 1px 2px rgba(0, 0, 0, 0.3));\n",
              "      fill: #FFFFFF;\n",
              "    }\n",
              "  </style>\n",
              "\n",
              "      <script>\n",
              "        const buttonEl =\n",
              "          document.querySelector('#df-8436eafe-a08c-4f68-901e-165f24ab4586 button.colab-df-convert');\n",
              "        buttonEl.style.display =\n",
              "          google.colab.kernel.accessAllowed ? 'block' : 'none';\n",
              "\n",
              "        async function convertToInteractive(key) {\n",
              "          const element = document.querySelector('#df-8436eafe-a08c-4f68-901e-165f24ab4586');\n",
              "          const dataTable =\n",
              "            await google.colab.kernel.invokeFunction('convertToInteractive',\n",
              "                                                     [key], {});\n",
              "          if (!dataTable) return;\n",
              "\n",
              "          const docLinkHtml = 'Like what you see? Visit the ' +\n",
              "            '<a target=\"_blank\" href=https://colab.research.google.com/notebooks/data_table.ipynb>data table notebook</a>'\n",
              "            + ' to learn more about interactive tables.';\n",
              "          element.innerHTML = '';\n",
              "          dataTable['output_type'] = 'display_data';\n",
              "          await google.colab.output.renderOutput(dataTable, element);\n",
              "          const docLink = document.createElement('div');\n",
              "          docLink.innerHTML = docLinkHtml;\n",
              "          element.appendChild(docLink);\n",
              "        }\n",
              "      </script>\n",
              "    </div>\n",
              "  </div>\n",
              "  "
            ],
            "text/plain": [
              "                             Title Rating Year of Release\n",
              "0                Pariyerum Perumal    8.5          (2018)\n",
              "1                          Nayakan    8.5          (1987)\n",
              "2                C/o Kancharapalem    8.5          (2018)\n",
              "3                       Anbe Sivam    8.5          (2003)\n",
              "4                         Kireedam    8.5          (1989)\n",
              "..                             ...    ...             ...\n",
              "95                       Charulata    8.1          (1964)\n",
              "96                       Sarfarosh    8.1          (1999)\n",
              "97        Uri: The Surgical Strike    8.1          (2019)\n",
              "98                            Roja    8.1          (1992)\n",
              "99                 Color It Yellow    8.1          (2006)\n",
              "\n",
              "[100 rows x 3 columns]"
            ]
          },
          "metadata": {},
          "execution_count": 38
        }
      ]
    },
    {
      "cell_type": "markdown",
      "source": [
        "# Q 4 Python Program to scrape product from mesho app"
      ],
      "metadata": {
        "id": "RJHzTieHS8k-"
      }
    },
    {
      "cell_type": "code",
      "source": [
        "# Request to Acess the Mesho Website\n",
        "\n",
        "page4=requests.get('https://meesho.com/bags-ladies/pl/p7vbp')\n",
        "page4"
      ],
      "metadata": {
        "id": "hPVokvuQSpsU",
        "colab": {
          "base_uri": "https://localhost:8080/"
        },
        "outputId": "f96325bb-6783-47c5-99d6-b496fb0c4539"
      },
      "execution_count": null,
      "outputs": [
        {
          "output_type": "execute_result",
          "data": {
            "text/plain": [
              "<Response [200]>"
            ]
          },
          "metadata": {},
          "execution_count": 9
        }
      ]
    },
    {
      "cell_type": "code",
      "source": [
        "# Loading the Page Content Of Mesho Website\n",
        "\n",
        "soup4=BeautifulSoup(page4.content)\n",
        "soup4"
      ],
      "metadata": {
        "id": "uqfZ2Ukr9nDh"
      },
      "execution_count": null,
      "outputs": []
    },
    {
      "cell_type": "code",
      "source": [
        "# Showing the Product Names From Mesho\n",
        "\n",
        "Product_Name = []\n",
        "for i in soup4.find_all(class_=\"Text__StyledText-sc-oo0kvp-0 bWSOET NewProductCard__ProductTitle_Desktop-sc-j0e7tu-4 cQhePS NewProductCard__ProductTitle_Desktop-sc-j0e7tu-4 cQhePS\"):\n",
        "  Product_Name.append(i.text)\n",
        "\n",
        "Product_Name  "
      ],
      "metadata": {
        "colab": {
          "base_uri": "https://localhost:8080/"
        },
        "id": "FcAAxR9aGOoG",
        "outputId": "bfb343c9-46dc-420d-c920-2ff190e66ff5"
      },
      "execution_count": null,
      "outputs": [
        {
          "output_type": "execute_result",
          "data": {
            "text/plain": [
              "['Ravishing Fancy Women Handbags',\n",
              " 'Graceful Classy Women Handbags',\n",
              " 'Elite Classy Women Handbags',\n",
              " 'Graceful Versatile Women Handbags',\n",
              " 'Voguish Attractive Women Handbags',\n",
              " 'Elegant Versatile Women Handbags',\n",
              " 'Elegant Versatile Women Handbags',\n",
              " 'Ravishing Attractive Women Handbags',\n",
              " 'Elegant Fashionable Women Handbags',\n",
              " 'Elite Versatile Women Handbags',\n",
              " 'Gorgeous Classy Women Handbags',\n",
              " 'Elite Stylish Women Handbags',\n",
              " \"Elegant Fancy Women's Bags\",\n",
              " 'Trendy Classy Women Handbags',\n",
              " 'Gorgeous Attractive Women Handbags',\n",
              " \"Elegant Fancy Women'S Pu Leather Hand Bags\",\n",
              " 'Elite Fancy Women Handbags',\n",
              " 'Ravishing Alluring Women Handbags',\n",
              " 'Voguish Fashionable Women Handbags',\n",
              " 'Graceful Classy Women Handbags']"
            ]
          },
          "metadata": {},
          "execution_count": 21
        }
      ]
    },
    {
      "cell_type": "code",
      "source": [
        "# Showing the Product Name Rates From Mesho\n",
        "\n",
        "Product_Rate = []\n",
        "for i in soup4.find_all(class_=\"Text__StyledText-sc-oo0kvp-0 hiHdyy\"):\n",
        "  Product_Rate.append(i.text)\n",
        "\n",
        "Product_Rate "
      ],
      "metadata": {
        "colab": {
          "base_uri": "https://localhost:8080/"
        },
        "id": "fP-1eJBdHbN3",
        "outputId": "8f3d81df-44eb-4995-f00f-7116888c9c1d"
      },
      "execution_count": null,
      "outputs": [
        {
          "output_type": "execute_result",
          "data": {
            "text/plain": [
              "['₹255',\n",
              " '₹328',\n",
              " '₹332',\n",
              " '₹574',\n",
              " '₹458',\n",
              " '₹1045',\n",
              " '₹177',\n",
              " '₹384',\n",
              " '₹199',\n",
              " '₹313',\n",
              " '₹349',\n",
              " '₹550',\n",
              " '₹189',\n",
              " '₹415',\n",
              " '₹196',\n",
              " '₹175',\n",
              " '₹140',\n",
              " '₹130',\n",
              " '₹185',\n",
              " '₹565']"
            ]
          },
          "metadata": {},
          "execution_count": 30
        }
      ]
    },
    {
      "cell_type": "code",
      "source": [
        "# Showing the Product Name Rate Discount From Mesho\n",
        "\n",
        "Product_Discount = []\n",
        "for i in soup4.find_all(class_=\"Text__StyledText-sc-oo0kvp-0 lnonyH\"):\n",
        "  Product_Discount.append(i.text.split()[0])\n",
        "\n",
        "Product_Discount"
      ],
      "metadata": {
        "colab": {
          "base_uri": "https://localhost:8080/"
        },
        "id": "vGWoxD8RIbkv",
        "outputId": "2a30e5ef-5792-4412-b414-5b99318bc0ac"
      },
      "execution_count": null,
      "outputs": [
        {
          "output_type": "execute_result",
          "data": {
            "text/plain": [
              "['28%',\n",
              " '23%',\n",
              " '23%',\n",
              " '15%',\n",
              " '18%',\n",
              " '9%',\n",
              " '30%',\n",
              " '21%',\n",
              " '30%',\n",
              " '24%',\n",
              " '22%',\n",
              " '15%',\n",
              " '30%',\n",
              " '19%',\n",
              " '30%',\n",
              " '30%',\n",
              " '30%',\n",
              " '30%',\n",
              " '30%',\n",
              " '15%']"
            ]
          },
          "metadata": {},
          "execution_count": 33
        }
      ]
    },
    {
      "cell_type": "code",
      "source": [
        "# Table Displaying DataFrame Consisting of Columns Related To Product_Name,Product_Price,Product_Discount\n",
        "\n",
        "import pandas as pd\n",
        "\n",
        "df3=pd.DataFrame({'Product_Name':Product_Name,'Product_Price':Product_Rate,'Product_Discount':Product_Discount})\n",
        "df3"
      ],
      "metadata": {
        "colab": {
          "base_uri": "https://localhost:8080/",
          "height": 676
        },
        "id": "wzzL4uGqKZJP",
        "outputId": "b700d351-6315-44bd-8bc8-67ca64868f0d"
      },
      "execution_count": null,
      "outputs": [
        {
          "output_type": "execute_result",
          "data": {
            "text/html": [
              "\n",
              "  <div id=\"df-4f2f49a2-16a7-4eb8-ae88-7bf7dd05ce0f\">\n",
              "    <div class=\"colab-df-container\">\n",
              "      <div>\n",
              "<style scoped>\n",
              "    .dataframe tbody tr th:only-of-type {\n",
              "        vertical-align: middle;\n",
              "    }\n",
              "\n",
              "    .dataframe tbody tr th {\n",
              "        vertical-align: top;\n",
              "    }\n",
              "\n",
              "    .dataframe thead th {\n",
              "        text-align: right;\n",
              "    }\n",
              "</style>\n",
              "<table border=\"1\" class=\"dataframe\">\n",
              "  <thead>\n",
              "    <tr style=\"text-align: right;\">\n",
              "      <th></th>\n",
              "      <th>Product_Name</th>\n",
              "      <th>Product_Price</th>\n",
              "      <th>Product_Discount</th>\n",
              "    </tr>\n",
              "  </thead>\n",
              "  <tbody>\n",
              "    <tr>\n",
              "      <th>0</th>\n",
              "      <td>Ravishing Fancy Women Handbags</td>\n",
              "      <td>₹255</td>\n",
              "      <td>28%</td>\n",
              "    </tr>\n",
              "    <tr>\n",
              "      <th>1</th>\n",
              "      <td>Graceful Classy Women Handbags</td>\n",
              "      <td>₹328</td>\n",
              "      <td>23%</td>\n",
              "    </tr>\n",
              "    <tr>\n",
              "      <th>2</th>\n",
              "      <td>Elite Classy Women Handbags</td>\n",
              "      <td>₹332</td>\n",
              "      <td>23%</td>\n",
              "    </tr>\n",
              "    <tr>\n",
              "      <th>3</th>\n",
              "      <td>Graceful Versatile Women Handbags</td>\n",
              "      <td>₹574</td>\n",
              "      <td>15%</td>\n",
              "    </tr>\n",
              "    <tr>\n",
              "      <th>4</th>\n",
              "      <td>Voguish Attractive Women Handbags</td>\n",
              "      <td>₹458</td>\n",
              "      <td>18%</td>\n",
              "    </tr>\n",
              "    <tr>\n",
              "      <th>5</th>\n",
              "      <td>Elegant Versatile Women Handbags</td>\n",
              "      <td>₹1045</td>\n",
              "      <td>9%</td>\n",
              "    </tr>\n",
              "    <tr>\n",
              "      <th>6</th>\n",
              "      <td>Elegant Versatile Women Handbags</td>\n",
              "      <td>₹177</td>\n",
              "      <td>30%</td>\n",
              "    </tr>\n",
              "    <tr>\n",
              "      <th>7</th>\n",
              "      <td>Ravishing Attractive Women Handbags</td>\n",
              "      <td>₹384</td>\n",
              "      <td>21%</td>\n",
              "    </tr>\n",
              "    <tr>\n",
              "      <th>8</th>\n",
              "      <td>Elegant Fashionable Women Handbags</td>\n",
              "      <td>₹199</td>\n",
              "      <td>30%</td>\n",
              "    </tr>\n",
              "    <tr>\n",
              "      <th>9</th>\n",
              "      <td>Elite Versatile Women Handbags</td>\n",
              "      <td>₹313</td>\n",
              "      <td>24%</td>\n",
              "    </tr>\n",
              "    <tr>\n",
              "      <th>10</th>\n",
              "      <td>Gorgeous Classy Women Handbags</td>\n",
              "      <td>₹349</td>\n",
              "      <td>22%</td>\n",
              "    </tr>\n",
              "    <tr>\n",
              "      <th>11</th>\n",
              "      <td>Elite Stylish Women Handbags</td>\n",
              "      <td>₹550</td>\n",
              "      <td>15%</td>\n",
              "    </tr>\n",
              "    <tr>\n",
              "      <th>12</th>\n",
              "      <td>Elegant Fancy Women's Bags</td>\n",
              "      <td>₹189</td>\n",
              "      <td>30%</td>\n",
              "    </tr>\n",
              "    <tr>\n",
              "      <th>13</th>\n",
              "      <td>Trendy Classy Women Handbags</td>\n",
              "      <td>₹415</td>\n",
              "      <td>19%</td>\n",
              "    </tr>\n",
              "    <tr>\n",
              "      <th>14</th>\n",
              "      <td>Gorgeous Attractive Women Handbags</td>\n",
              "      <td>₹196</td>\n",
              "      <td>30%</td>\n",
              "    </tr>\n",
              "    <tr>\n",
              "      <th>15</th>\n",
              "      <td>Elegant Fancy Women'S Pu Leather Hand Bags</td>\n",
              "      <td>₹175</td>\n",
              "      <td>30%</td>\n",
              "    </tr>\n",
              "    <tr>\n",
              "      <th>16</th>\n",
              "      <td>Elite Fancy Women Handbags</td>\n",
              "      <td>₹140</td>\n",
              "      <td>30%</td>\n",
              "    </tr>\n",
              "    <tr>\n",
              "      <th>17</th>\n",
              "      <td>Ravishing Alluring Women Handbags</td>\n",
              "      <td>₹130</td>\n",
              "      <td>30%</td>\n",
              "    </tr>\n",
              "    <tr>\n",
              "      <th>18</th>\n",
              "      <td>Voguish Fashionable Women Handbags</td>\n",
              "      <td>₹185</td>\n",
              "      <td>30%</td>\n",
              "    </tr>\n",
              "    <tr>\n",
              "      <th>19</th>\n",
              "      <td>Graceful Classy Women Handbags</td>\n",
              "      <td>₹565</td>\n",
              "      <td>15%</td>\n",
              "    </tr>\n",
              "  </tbody>\n",
              "</table>\n",
              "</div>\n",
              "      <button class=\"colab-df-convert\" onclick=\"convertToInteractive('df-4f2f49a2-16a7-4eb8-ae88-7bf7dd05ce0f')\"\n",
              "              title=\"Convert this dataframe to an interactive table.\"\n",
              "              style=\"display:none;\">\n",
              "        \n",
              "  <svg xmlns=\"http://www.w3.org/2000/svg\" height=\"24px\"viewBox=\"0 0 24 24\"\n",
              "       width=\"24px\">\n",
              "    <path d=\"M0 0h24v24H0V0z\" fill=\"none\"/>\n",
              "    <path d=\"M18.56 5.44l.94 2.06.94-2.06 2.06-.94-2.06-.94-.94-2.06-.94 2.06-2.06.94zm-11 1L8.5 8.5l.94-2.06 2.06-.94-2.06-.94L8.5 2.5l-.94 2.06-2.06.94zm10 10l.94 2.06.94-2.06 2.06-.94-2.06-.94-.94-2.06-.94 2.06-2.06.94z\"/><path d=\"M17.41 7.96l-1.37-1.37c-.4-.4-.92-.59-1.43-.59-.52 0-1.04.2-1.43.59L10.3 9.45l-7.72 7.72c-.78.78-.78 2.05 0 2.83L4 21.41c.39.39.9.59 1.41.59.51 0 1.02-.2 1.41-.59l7.78-7.78 2.81-2.81c.8-.78.8-2.07 0-2.86zM5.41 20L4 18.59l7.72-7.72 1.47 1.35L5.41 20z\"/>\n",
              "  </svg>\n",
              "      </button>\n",
              "      \n",
              "  <style>\n",
              "    .colab-df-container {\n",
              "      display:flex;\n",
              "      flex-wrap:wrap;\n",
              "      gap: 12px;\n",
              "    }\n",
              "\n",
              "    .colab-df-convert {\n",
              "      background-color: #E8F0FE;\n",
              "      border: none;\n",
              "      border-radius: 50%;\n",
              "      cursor: pointer;\n",
              "      display: none;\n",
              "      fill: #1967D2;\n",
              "      height: 32px;\n",
              "      padding: 0 0 0 0;\n",
              "      width: 32px;\n",
              "    }\n",
              "\n",
              "    .colab-df-convert:hover {\n",
              "      background-color: #E2EBFA;\n",
              "      box-shadow: 0px 1px 2px rgba(60, 64, 67, 0.3), 0px 1px 3px 1px rgba(60, 64, 67, 0.15);\n",
              "      fill: #174EA6;\n",
              "    }\n",
              "\n",
              "    [theme=dark] .colab-df-convert {\n",
              "      background-color: #3B4455;\n",
              "      fill: #D2E3FC;\n",
              "    }\n",
              "\n",
              "    [theme=dark] .colab-df-convert:hover {\n",
              "      background-color: #434B5C;\n",
              "      box-shadow: 0px 1px 3px 1px rgba(0, 0, 0, 0.15);\n",
              "      filter: drop-shadow(0px 1px 2px rgba(0, 0, 0, 0.3));\n",
              "      fill: #FFFFFF;\n",
              "    }\n",
              "  </style>\n",
              "\n",
              "      <script>\n",
              "        const buttonEl =\n",
              "          document.querySelector('#df-4f2f49a2-16a7-4eb8-ae88-7bf7dd05ce0f button.colab-df-convert');\n",
              "        buttonEl.style.display =\n",
              "          google.colab.kernel.accessAllowed ? 'block' : 'none';\n",
              "\n",
              "        async function convertToInteractive(key) {\n",
              "          const element = document.querySelector('#df-4f2f49a2-16a7-4eb8-ae88-7bf7dd05ce0f');\n",
              "          const dataTable =\n",
              "            await google.colab.kernel.invokeFunction('convertToInteractive',\n",
              "                                                     [key], {});\n",
              "          if (!dataTable) return;\n",
              "\n",
              "          const docLinkHtml = 'Like what you see? Visit the ' +\n",
              "            '<a target=\"_blank\" href=https://colab.research.google.com/notebooks/data_table.ipynb>data table notebook</a>'\n",
              "            + ' to learn more about interactive tables.';\n",
              "          element.innerHTML = '';\n",
              "          dataTable['output_type'] = 'display_data';\n",
              "          await google.colab.output.renderOutput(dataTable, element);\n",
              "          const docLink = document.createElement('div');\n",
              "          docLink.innerHTML = docLinkHtml;\n",
              "          element.appendChild(docLink);\n",
              "        }\n",
              "      </script>\n",
              "    </div>\n",
              "  </div>\n",
              "  "
            ],
            "text/plain": [
              "                                  Product_Name Product_Price Product_Discount\n",
              "0               Ravishing Fancy Women Handbags          ₹255              28%\n",
              "1               Graceful Classy Women Handbags          ₹328              23%\n",
              "2                  Elite Classy Women Handbags          ₹332              23%\n",
              "3            Graceful Versatile Women Handbags          ₹574              15%\n",
              "4            Voguish Attractive Women Handbags          ₹458              18%\n",
              "5             Elegant Versatile Women Handbags         ₹1045               9%\n",
              "6             Elegant Versatile Women Handbags          ₹177              30%\n",
              "7          Ravishing Attractive Women Handbags          ₹384              21%\n",
              "8           Elegant Fashionable Women Handbags          ₹199              30%\n",
              "9               Elite Versatile Women Handbags          ₹313              24%\n",
              "10              Gorgeous Classy Women Handbags          ₹349              22%\n",
              "11                Elite Stylish Women Handbags          ₹550              15%\n",
              "12                  Elegant Fancy Women's Bags          ₹189              30%\n",
              "13                Trendy Classy Women Handbags          ₹415              19%\n",
              "14          Gorgeous Attractive Women Handbags          ₹196              30%\n",
              "15  Elegant Fancy Women'S Pu Leather Hand Bags          ₹175              30%\n",
              "16                  Elite Fancy Women Handbags          ₹140              30%\n",
              "17           Ravishing Alluring Women Handbags          ₹130              30%\n",
              "18          Voguish Fashionable Women Handbags          ₹185              30%\n",
              "19              Graceful Classy Women Handbags          ₹565              15%"
            ]
          },
          "metadata": {},
          "execution_count": 36
        }
      ]
    },
    {
      "cell_type": "markdown",
      "source": [
        "# Q 5 ICC MEN CRICKET RANKING"
      ],
      "metadata": {
        "id": "9H75epw4Mr8U"
      }
    },
    {
      "cell_type": "markdown",
      "source": [
        "* (A) TOP 10 ODI TEAMS IN MENS CRICKET TEAM "
      ],
      "metadata": {
        "id": "tE3bKKVYNGTz"
      }
    },
    {
      "cell_type": "code",
      "source": [
        "page5=requests.get('https://www.icc-cricket.com/rankings/mens/player-rankings/test')\n",
        "page5"
      ],
      "metadata": {
        "colab": {
          "base_uri": "https://localhost:8080/"
        },
        "id": "Lv4RYJgWLkWY",
        "outputId": "be80002b-aed4-47f9-f863-ab0146d352cb"
      },
      "execution_count": 4,
      "outputs": [
        {
          "output_type": "execute_result",
          "data": {
            "text/plain": [
              "<Response [200]>"
            ]
          },
          "metadata": {},
          "execution_count": 4
        }
      ]
    },
    {
      "cell_type": "code",
      "source": [
        "soup5=BeautifulSoup(page5.content)\n",
        "soup5"
      ],
      "metadata": {
        "id": "XjZlnzSvO3-y"
      },
      "execution_count": null,
      "outputs": []
    },
    {
      "cell_type": "code",
      "source": [
        "Team_Name = []\n",
        "for i in soup5.find_all(class_=\"table-body\"):\n",
        "    Team_Name.append(i.text.split()[4])\n",
        "\n",
        "Team_Name"
      ],
      "metadata": {
        "colab": {
          "base_uri": "https://localhost:8080/"
        },
        "id": "prNrTq3wO51w",
        "outputId": "c97b3022-ea58-4b97-cbae-702a1d48bc05"
      },
      "execution_count": null,
      "outputs": [
        {
          "output_type": "execute_result",
          "data": {
            "text/plain": [
              "['ENG',\n",
              " 'NZ',\n",
              " 'AUS',\n",
              " 'AUS',\n",
              " 'IND',\n",
              " 'IND',\n",
              " 'SL',\n",
              " 'PAK',\n",
              " 'NZ',\n",
              " 'IND',\n",
              " 'has',\n",
              " 'has',\n",
              " 'has',\n",
              " 'has',\n",
              " 'ENG',\n",
              " 'AUS',\n",
              " 'NZ',\n",
              " 'IND',\n",
              " 'IND',\n",
              " 'IND',\n",
              " 'Hasan',\n",
              " 'AUS',\n",
              " 'NZ',\n",
              " 'ENG',\n",
              " 'AUS',\n",
              " 'ENG',\n",
              " 'Grandhomme',\n",
              " 'ENG',\n",
              " 'NZ',\n",
              " 'AUS',\n",
              " 'AUS',\n",
              " 'IND',\n",
              " 'IND',\n",
              " 'SL',\n",
              " 'PAK',\n",
              " 'NZ',\n",
              " 'IND',\n",
              " 'has',\n",
              " 'has',\n",
              " 'has',\n",
              " 'has',\n",
              " 'ENG',\n",
              " 'AUS',\n",
              " 'NZ',\n",
              " 'IND',\n",
              " 'IND',\n",
              " 'IND',\n",
              " 'Hasan',\n",
              " 'AUS',\n",
              " 'NZ',\n",
              " 'ENG',\n",
              " 'AUS',\n",
              " 'ENG',\n",
              " 'Grandhomme']"
            ]
          },
          "metadata": {},
          "execution_count": 27
        }
      ]
    },
    {
      "cell_type": "code",
      "source": [
        "Team_Points = []\n",
        "for i in soup5.find_all(class_=\"table-body\"):\n",
        "    Team_Points.append(i.text.split()[-1])\n",
        "\n",
        "Team_Points"
      ],
      "metadata": {
        "id": "smdXRyk5ZNGN",
        "colab": {
          "base_uri": "https://localhost:8080/"
        },
        "outputId": "0e318dbe-7ad0-4cd9-e9e0-7beb63fd2537"
      },
      "execution_count": 18,
      "outputs": [
        {
          "output_type": "execute_result",
          "data": {
            "text/plain": [
              "['872',\n",
              " '845',\n",
              " '844',\n",
              " '773',\n",
              " '773',\n",
              " '767',\n",
              " '754',\n",
              " '750',\n",
              " '714',\n",
              " '839',\n",
              " '835',\n",
              " '822',\n",
              " '820',\n",
              " '790',\n",
              " '788',\n",
              " '786',\n",
              " '777',\n",
              " '763',\n",
              " '330',\n",
              " '326',\n",
              " '324',\n",
              " '298',\n",
              " '287',\n",
              " '274',\n",
              " '250',\n",
              " '245',\n",
              " '232',\n",
              " '872',\n",
              " '845',\n",
              " '844',\n",
              " '773',\n",
              " '773',\n",
              " '767',\n",
              " '754',\n",
              " '750',\n",
              " '714',\n",
              " '839',\n",
              " '835',\n",
              " '822',\n",
              " '820',\n",
              " '790',\n",
              " '788',\n",
              " '786',\n",
              " '777',\n",
              " '763',\n",
              " '330',\n",
              " '326',\n",
              " '324',\n",
              " '298',\n",
              " '287',\n",
              " '274',\n",
              " '250',\n",
              " '245',\n",
              " '232']"
            ]
          },
          "metadata": {},
          "execution_count": 18
        }
      ]
    },
    {
      "cell_type": "code",
      "source": [
        "Team_Rating = []\n",
        "for i in soup5.find_all(class_=\"table-body\"):\n",
        "    Team_Rating.append(i.text.split()[1])\n",
        "\n",
        "Team_Rating"
      ],
      "metadata": {
        "id": "AEyVVmhYBwp1",
        "colab": {
          "base_uri": "https://localhost:8080/"
        },
        "outputId": "e716066e-08b7-4535-a3e0-2da133832ca5"
      },
      "execution_count": 21,
      "outputs": [
        {
          "output_type": "execute_result",
          "data": {
            "text/plain": [
              "['(0)',\n",
              " '(1)',\n",
              " '(1)',\n",
              " '(0)',\n",
              " '(0)',\n",
              " '(0)',\n",
              " '(0)',\n",
              " '(0)',\n",
              " 'This',\n",
              " '(0)',\n",
              " '(3)',\n",
              " '(0)',\n",
              " '(2)',\n",
              " '(1)',\n",
              " '(0)',\n",
              " '(0)',\n",
              " '(0)',\n",
              " '(0)',\n",
              " '(0)',\n",
              " '(0)',\n",
              " '(0)',\n",
              " '(0)',\n",
              " '(1)',\n",
              " '(1)',\n",
              " '(0)',\n",
              " '(1)',\n",
              " '(1)',\n",
              " '(0)',\n",
              " '(1)',\n",
              " '(1)',\n",
              " '(0)',\n",
              " '(0)',\n",
              " '(0)',\n",
              " '(0)',\n",
              " '(0)',\n",
              " 'This',\n",
              " '(0)',\n",
              " '(3)',\n",
              " '(0)',\n",
              " '(2)',\n",
              " '(1)',\n",
              " '(0)',\n",
              " '(0)',\n",
              " '(0)',\n",
              " '(0)',\n",
              " '(0)',\n",
              " '(0)',\n",
              " '(0)',\n",
              " '(0)',\n",
              " '(1)',\n",
              " '(1)',\n",
              " '(0)',\n",
              " '(1)',\n",
              " '(1)']"
            ]
          },
          "metadata": {},
          "execution_count": 21
        }
      ]
    },
    {
      "cell_type": "markdown",
      "source": [
        "( B ) Top 10 ODI Batsmen"
      ],
      "metadata": {
        "id": "kUjBS17nB_y6"
      }
    },
    {
      "cell_type": "code",
      "source": [
        "Team_Records = []\n",
        "for i in soup5.find_all(class_=\"table-body\"):\n",
        "    Team_Records.append(i.text.split()[-1])\n",
        "\n",
        "Team_Records"
      ],
      "metadata": {
        "id": "eaYJDILQCSYb",
        "colab": {
          "base_uri": "https://localhost:8080/"
        },
        "outputId": "2b759ef3-dcbc-44b9-fd28-8925bc8670c3"
      },
      "execution_count": 12,
      "outputs": [
        {
          "output_type": "execute_result",
          "data": {
            "text/plain": [
              "['872',\n",
              " '845',\n",
              " '844',\n",
              " '773',\n",
              " '773',\n",
              " '767',\n",
              " '754',\n",
              " '750',\n",
              " '714',\n",
              " '839',\n",
              " '835',\n",
              " '822',\n",
              " '820',\n",
              " '790',\n",
              " '788',\n",
              " '786',\n",
              " '777',\n",
              " '763',\n",
              " '330',\n",
              " '326',\n",
              " '324',\n",
              " '298',\n",
              " '287',\n",
              " '274',\n",
              " '250',\n",
              " '245',\n",
              " '232',\n",
              " '872',\n",
              " '845',\n",
              " '844',\n",
              " '773',\n",
              " '773',\n",
              " '767',\n",
              " '754',\n",
              " '750',\n",
              " '714',\n",
              " '839',\n",
              " '835',\n",
              " '822',\n",
              " '820',\n",
              " '790',\n",
              " '788',\n",
              " '786',\n",
              " '777',\n",
              " '763',\n",
              " '330',\n",
              " '326',\n",
              " '324',\n",
              " '298',\n",
              " '287',\n",
              " '274',\n",
              " '250',\n",
              " '245',\n",
              " '232']"
            ]
          },
          "metadata": {},
          "execution_count": 12
        }
      ]
    },
    {
      "cell_type": "code",
      "source": [
        "Team_Ratings1 = []\n",
        "for i in soup5.find_all(class_=\"table-body\"):\n",
        "    Team_Ratings1.append(i.text.split()[-1])\n",
        "\n",
        "Team_Ratings1"
      ],
      "metadata": {
        "id": "Ji8o3WUECTTe",
        "colab": {
          "base_uri": "https://localhost:8080/"
        },
        "outputId": "6f36e052-1669-42a6-a304-71afd5356a71"
      },
      "execution_count": 11,
      "outputs": [
        {
          "output_type": "execute_result",
          "data": {
            "text/plain": [
              "['872',\n",
              " '845',\n",
              " '844',\n",
              " '773',\n",
              " '773',\n",
              " '767',\n",
              " '754',\n",
              " '750',\n",
              " '714',\n",
              " '839',\n",
              " '835',\n",
              " '822',\n",
              " '820',\n",
              " '790',\n",
              " '788',\n",
              " '786',\n",
              " '777',\n",
              " '763',\n",
              " '330',\n",
              " '326',\n",
              " '324',\n",
              " '298',\n",
              " '287',\n",
              " '274',\n",
              " '250',\n",
              " '245',\n",
              " '232',\n",
              " '872',\n",
              " '845',\n",
              " '844',\n",
              " '773',\n",
              " '773',\n",
              " '767',\n",
              " '754',\n",
              " '750',\n",
              " '714',\n",
              " '839',\n",
              " '835',\n",
              " '822',\n",
              " '820',\n",
              " '790',\n",
              " '788',\n",
              " '786',\n",
              " '777',\n",
              " '763',\n",
              " '330',\n",
              " '326',\n",
              " '324',\n",
              " '298',\n",
              " '287',\n",
              " '274',\n",
              " '250',\n",
              " '245',\n",
              " '232']"
            ]
          },
          "metadata": {},
          "execution_count": 11
        }
      ]
    },
    {
      "cell_type": "markdown",
      "source": [
        "( C ) Top 10 ODI's Bowlers"
      ],
      "metadata": {
        "id": "7sOh7FVXCx_9"
      }
    },
    {
      "cell_type": "code",
      "source": [
        "Team_Records1 = []\n",
        "for i in soup5.find_all(class_=\"table-body__cell rating\"):\n",
        "    Team_Records1.append(i.text)\n",
        "\n",
        "Team_Records1"
      ],
      "metadata": {
        "id": "4ej9_sjWDNzK",
        "colab": {
          "base_uri": "https://localhost:8080/"
        },
        "outputId": "4bd8dad7-15e6-47d4-e779-ef401cbab51c"
      },
      "execution_count": 13,
      "outputs": [
        {
          "output_type": "execute_result",
          "data": {
            "text/plain": [
              "[]"
            ]
          },
          "metadata": {},
          "execution_count": 13
        }
      ]
    },
    {
      "cell_type": "code",
      "source": [
        "Team_Ratings2 = []\n",
        "for i in soup5.find_all(class_=\"table-body__cell rating\"):\n",
        "    Team_Ratings2.append(i.text)\n",
        "\n",
        "Team_Ratings2"
      ],
      "metadata": {
        "id": "zgtLQHAnDSls",
        "colab": {
          "base_uri": "https://localhost:8080/"
        },
        "outputId": "2151499f-06db-44cf-e3ee-2512bcaaa313"
      },
      "execution_count": 14,
      "outputs": [
        {
          "output_type": "execute_result",
          "data": {
            "text/plain": [
              "[]"
            ]
          },
          "metadata": {},
          "execution_count": 14
        }
      ]
    },
    {
      "cell_type": "markdown",
      "source": [
        "# Q 6 ICC WOMEN CRICKET RANKING\n"
      ],
      "metadata": {
        "id": "g0ajMWk5DZDr"
      }
    },
    {
      "cell_type": "markdown",
      "source": [
        "(A) TOP 10 ODI TEAMS IN WOMENS CRICKET TEAM"
      ],
      "metadata": {
        "id": "ODb0K_wODu7h"
      }
    },
    {
      "cell_type": "code",
      "source": [
        "Team_Name2 = []\n",
        "for i in soup5.find_all(class_=\"table-body\"):\n",
        "    Team_Name2.append(i.text.split()[-2])\n",
        "\n",
        "Team_Name2"
      ],
      "metadata": {
        "id": "43uB0uPWDrve",
        "colab": {
          "base_uri": "https://localhost:8080/"
        },
        "outputId": "d403b138-e564-4b4a-979f-a300b7db6561"
      },
      "execution_count": 24,
      "outputs": [
        {
          "output_type": "execute_result",
          "data": {
            "text/plain": [
              "['ENG',\n",
              " 'AUS',\n",
              " 'NZ',\n",
              " 'AUS',\n",
              " 'IND',\n",
              " 'IND',\n",
              " 'SL',\n",
              " 'PAK',\n",
              " 'AUS',\n",
              " 'IND',\n",
              " 'SA',\n",
              " 'PAK',\n",
              " 'NZ',\n",
              " 'NZ',\n",
              " 'ENG',\n",
              " 'AUS',\n",
              " 'NZ',\n",
              " 'IND',\n",
              " 'IND',\n",
              " 'IND',\n",
              " 'BAN',\n",
              " 'AUS',\n",
              " 'ENG',\n",
              " 'NZ',\n",
              " 'AUS',\n",
              " 'NZ',\n",
              " 'ENG',\n",
              " 'ENG',\n",
              " 'AUS',\n",
              " 'NZ',\n",
              " 'AUS',\n",
              " 'IND',\n",
              " 'IND',\n",
              " 'SL',\n",
              " 'PAK',\n",
              " 'AUS',\n",
              " 'IND',\n",
              " 'SA',\n",
              " 'PAK',\n",
              " 'NZ',\n",
              " 'NZ',\n",
              " 'ENG',\n",
              " 'AUS',\n",
              " 'NZ',\n",
              " 'IND',\n",
              " 'IND',\n",
              " 'IND',\n",
              " 'BAN',\n",
              " 'AUS',\n",
              " 'ENG',\n",
              " 'NZ',\n",
              " 'AUS',\n",
              " 'NZ',\n",
              " 'ENG']"
            ]
          },
          "metadata": {},
          "execution_count": 24
        }
      ]
    },
    {
      "cell_type": "code",
      "source": [
        "Team_Points2 = []\n",
        "for i in soup5.find_all(class_=\"table-body\"):\n",
        "    Team_Points2.append(i.text.split()[-1])\n",
        "\n",
        "Team_Points2"
      ],
      "metadata": {
        "id": "4bjWoyJPEPvO",
        "colab": {
          "base_uri": "https://localhost:8080/"
        },
        "outputId": "fdc8494a-18d0-411e-afe0-b46058dd2247"
      },
      "execution_count": 27,
      "outputs": [
        {
          "output_type": "execute_result",
          "data": {
            "text/plain": [
              "['872',\n",
              " '845',\n",
              " '844',\n",
              " '773',\n",
              " '773',\n",
              " '767',\n",
              " '754',\n",
              " '750',\n",
              " '714',\n",
              " '839',\n",
              " '835',\n",
              " '822',\n",
              " '820',\n",
              " '790',\n",
              " '788',\n",
              " '786',\n",
              " '777',\n",
              " '763',\n",
              " '330',\n",
              " '326',\n",
              " '324',\n",
              " '298',\n",
              " '287',\n",
              " '274',\n",
              " '250',\n",
              " '245',\n",
              " '232',\n",
              " '872',\n",
              " '845',\n",
              " '844',\n",
              " '773',\n",
              " '773',\n",
              " '767',\n",
              " '754',\n",
              " '750',\n",
              " '714',\n",
              " '839',\n",
              " '835',\n",
              " '822',\n",
              " '820',\n",
              " '790',\n",
              " '788',\n",
              " '786',\n",
              " '777',\n",
              " '763',\n",
              " '330',\n",
              " '326',\n",
              " '324',\n",
              " '298',\n",
              " '287',\n",
              " '274',\n",
              " '250',\n",
              " '245',\n",
              " '232']"
            ]
          },
          "metadata": {},
          "execution_count": 27
        }
      ]
    },
    {
      "cell_type": "code",
      "source": [
        "Team_Rating3 = []\n",
        "for i in soup5.find_all(class_=\"table-body\"):\n",
        "    Team_Rating3.append(i.text.split()[1])\n",
        "\n",
        "Team_Rating3"
      ],
      "metadata": {
        "id": "DLU6vYMZESfU",
        "colab": {
          "base_uri": "https://localhost:8080/"
        },
        "outputId": "0bbc45a5-c9e1-4d88-932f-227d3b648304"
      },
      "execution_count": 29,
      "outputs": [
        {
          "output_type": "execute_result",
          "data": {
            "text/plain": [
              "['(0)',\n",
              " '(1)',\n",
              " '(1)',\n",
              " '(0)',\n",
              " '(0)',\n",
              " '(0)',\n",
              " '(0)',\n",
              " '(0)',\n",
              " 'This',\n",
              " '(0)',\n",
              " '(3)',\n",
              " '(0)',\n",
              " '(2)',\n",
              " '(1)',\n",
              " '(0)',\n",
              " '(0)',\n",
              " '(0)',\n",
              " '(0)',\n",
              " '(0)',\n",
              " '(0)',\n",
              " '(0)',\n",
              " '(0)',\n",
              " '(1)',\n",
              " '(1)',\n",
              " '(0)',\n",
              " '(1)',\n",
              " '(1)',\n",
              " '(0)',\n",
              " '(1)',\n",
              " '(1)',\n",
              " '(0)',\n",
              " '(0)',\n",
              " '(0)',\n",
              " '(0)',\n",
              " '(0)',\n",
              " 'This',\n",
              " '(0)',\n",
              " '(3)',\n",
              " '(0)',\n",
              " '(2)',\n",
              " '(1)',\n",
              " '(0)',\n",
              " '(0)',\n",
              " '(0)',\n",
              " '(0)',\n",
              " '(0)',\n",
              " '(0)',\n",
              " '(0)',\n",
              " '(0)',\n",
              " '(1)',\n",
              " '(1)',\n",
              " '(0)',\n",
              " '(1)',\n",
              " '(1)']"
            ]
          },
          "metadata": {},
          "execution_count": 29
        }
      ]
    },
    {
      "cell_type": "markdown",
      "source": [
        "( B ) Top 10 ODI Women Batting"
      ],
      "metadata": {
        "id": "R9ZgMTqZEf2W"
      }
    },
    {
      "cell_type": "code",
      "source": [
        "Team_Records3 = []\n",
        "for i in soup5.find_all(class_=\"table-body\"):\n",
        "    Team_Records3.append(i.text.split()[-1])\n",
        "\n",
        "Team_Records3"
      ],
      "metadata": {
        "id": "EXGmdxtmES1G",
        "colab": {
          "base_uri": "https://localhost:8080/"
        },
        "outputId": "b72fc213-8556-405e-a0c0-5bacb702093c"
      },
      "execution_count": 32,
      "outputs": [
        {
          "output_type": "execute_result",
          "data": {
            "text/plain": [
              "['872',\n",
              " '845',\n",
              " '844',\n",
              " '773',\n",
              " '773',\n",
              " '767',\n",
              " '754',\n",
              " '750',\n",
              " '714',\n",
              " '839',\n",
              " '835',\n",
              " '822',\n",
              " '820',\n",
              " '790',\n",
              " '788',\n",
              " '786',\n",
              " '777',\n",
              " '763',\n",
              " '330',\n",
              " '326',\n",
              " '324',\n",
              " '298',\n",
              " '287',\n",
              " '274',\n",
              " '250',\n",
              " '245',\n",
              " '232',\n",
              " '872',\n",
              " '845',\n",
              " '844',\n",
              " '773',\n",
              " '773',\n",
              " '767',\n",
              " '754',\n",
              " '750',\n",
              " '714',\n",
              " '839',\n",
              " '835',\n",
              " '822',\n",
              " '820',\n",
              " '790',\n",
              " '788',\n",
              " '786',\n",
              " '777',\n",
              " '763',\n",
              " '330',\n",
              " '326',\n",
              " '324',\n",
              " '298',\n",
              " '287',\n",
              " '274',\n",
              " '250',\n",
              " '245',\n",
              " '232']"
            ]
          },
          "metadata": {},
          "execution_count": 32
        }
      ]
    },
    {
      "cell_type": "code",
      "source": [
        "Team_Ratings3 = []\n",
        "for i in soup5.find_all(class_=\"table-body\"):\n",
        "    Team_Ratings3.append(i.text.split()[-1])\n",
        "\n",
        "Team_Ratings3"
      ],
      "metadata": {
        "id": "GkZ095SbEzPC",
        "colab": {
          "base_uri": "https://localhost:8080/"
        },
        "outputId": "68b2ee1e-fd0e-44a8-b513-9d4307c968a0"
      },
      "execution_count": 33,
      "outputs": [
        {
          "output_type": "execute_result",
          "data": {
            "text/plain": [
              "['872',\n",
              " '845',\n",
              " '844',\n",
              " '773',\n",
              " '773',\n",
              " '767',\n",
              " '754',\n",
              " '750',\n",
              " '714',\n",
              " '839',\n",
              " '835',\n",
              " '822',\n",
              " '820',\n",
              " '790',\n",
              " '788',\n",
              " '786',\n",
              " '777',\n",
              " '763',\n",
              " '330',\n",
              " '326',\n",
              " '324',\n",
              " '298',\n",
              " '287',\n",
              " '274',\n",
              " '250',\n",
              " '245',\n",
              " '232',\n",
              " '872',\n",
              " '845',\n",
              " '844',\n",
              " '773',\n",
              " '773',\n",
              " '767',\n",
              " '754',\n",
              " '750',\n",
              " '714',\n",
              " '839',\n",
              " '835',\n",
              " '822',\n",
              " '820',\n",
              " '790',\n",
              " '788',\n",
              " '786',\n",
              " '777',\n",
              " '763',\n",
              " '330',\n",
              " '326',\n",
              " '324',\n",
              " '298',\n",
              " '287',\n",
              " '274',\n",
              " '250',\n",
              " '245',\n",
              " '232']"
            ]
          },
          "metadata": {},
          "execution_count": 33
        }
      ]
    },
    {
      "cell_type": "markdown",
      "source": [
        "( C ) Top 10 ODI's Women Bowlers"
      ],
      "metadata": {
        "id": "Z11_5AQ1FETF"
      }
    },
    {
      "cell_type": "code",
      "source": [
        "Team_Records4 = []\n",
        "for i in soup5.find_all(class_=\"table-body\"):\n",
        "    Team_Records4.append(i.text.split()[-1])\n",
        "\n",
        "Team_Records4"
      ],
      "metadata": {
        "id": "pD1LnCZsFC6W",
        "colab": {
          "base_uri": "https://localhost:8080/"
        },
        "outputId": "7292efd5-a22f-40bd-f32e-095676186870"
      },
      "execution_count": 38,
      "outputs": [
        {
          "output_type": "execute_result",
          "data": {
            "text/plain": [
              "['872',\n",
              " '845',\n",
              " '844',\n",
              " '773',\n",
              " '773',\n",
              " '767',\n",
              " '754',\n",
              " '750',\n",
              " '714',\n",
              " '839',\n",
              " '835',\n",
              " '822',\n",
              " '820',\n",
              " '790',\n",
              " '788',\n",
              " '786',\n",
              " '777',\n",
              " '763',\n",
              " '330',\n",
              " '326',\n",
              " '324',\n",
              " '298',\n",
              " '287',\n",
              " '274',\n",
              " '250',\n",
              " '245',\n",
              " '232',\n",
              " '872',\n",
              " '845',\n",
              " '844',\n",
              " '773',\n",
              " '773',\n",
              " '767',\n",
              " '754',\n",
              " '750',\n",
              " '714',\n",
              " '839',\n",
              " '835',\n",
              " '822',\n",
              " '820',\n",
              " '790',\n",
              " '788',\n",
              " '786',\n",
              " '777',\n",
              " '763',\n",
              " '330',\n",
              " '326',\n",
              " '324',\n",
              " '298',\n",
              " '287',\n",
              " '274',\n",
              " '250',\n",
              " '245',\n",
              " '232']"
            ]
          },
          "metadata": {},
          "execution_count": 38
        }
      ]
    },
    {
      "cell_type": "code",
      "source": [
        "Team_Ratings4 = []\n",
        "for i in soup5.find_all(class_=\"table-body\"):\n",
        "    Team_Ratings4.append(i.text.split()[1])\n",
        "\n",
        "Team_Ratings4"
      ],
      "metadata": {
        "id": "755xTNk5FUSG",
        "colab": {
          "base_uri": "https://localhost:8080/"
        },
        "outputId": "522ecaa5-a38e-4508-f33f-f06119fceeca"
      },
      "execution_count": 40,
      "outputs": [
        {
          "output_type": "execute_result",
          "data": {
            "text/plain": [
              "['(0)',\n",
              " '(1)',\n",
              " '(1)',\n",
              " '(0)',\n",
              " '(0)',\n",
              " '(0)',\n",
              " '(0)',\n",
              " '(0)',\n",
              " 'This',\n",
              " '(0)',\n",
              " '(3)',\n",
              " '(0)',\n",
              " '(2)',\n",
              " '(1)',\n",
              " '(0)',\n",
              " '(0)',\n",
              " '(0)',\n",
              " '(0)',\n",
              " '(0)',\n",
              " '(0)',\n",
              " '(0)',\n",
              " '(0)',\n",
              " '(1)',\n",
              " '(1)',\n",
              " '(0)',\n",
              " '(1)',\n",
              " '(1)',\n",
              " '(0)',\n",
              " '(1)',\n",
              " '(1)',\n",
              " '(0)',\n",
              " '(0)',\n",
              " '(0)',\n",
              " '(0)',\n",
              " '(0)',\n",
              " 'This',\n",
              " '(0)',\n",
              " '(3)',\n",
              " '(0)',\n",
              " '(2)',\n",
              " '(1)',\n",
              " '(0)',\n",
              " '(0)',\n",
              " '(0)',\n",
              " '(0)',\n",
              " '(0)',\n",
              " '(0)',\n",
              " '(0)',\n",
              " '(0)',\n",
              " '(1)',\n",
              " '(1)',\n",
              " '(0)',\n",
              " '(1)',\n",
              " '(1)']"
            ]
          },
          "metadata": {},
          "execution_count": 40
        }
      ]
    },
    {
      "cell_type": "markdown",
      "source": [
        "# Q 7 Scrapping Details from Coreyms Website "
      ],
      "metadata": {
        "id": "UiCs_0FlSvKk"
      }
    },
    {
      "cell_type": "code",
      "source": [
        "page7=requests.get('https://coreyms.com/')\n",
        "page7"
      ],
      "metadata": {
        "colab": {
          "base_uri": "https://localhost:8080/"
        },
        "id": "hUQG5148WOIu",
        "outputId": "220631e3-7f5e-4225-c6ed-7e45cecde6fa"
      },
      "execution_count": null,
      "outputs": [
        {
          "output_type": "execute_result",
          "data": {
            "text/plain": [
              "<Response [200]>"
            ]
          },
          "metadata": {},
          "execution_count": 3
        }
      ]
    },
    {
      "cell_type": "code",
      "source": [
        "soup7=BeautifulSoup(page7.content)\n",
        "soup7"
      ],
      "metadata": {
        "id": "iZnFQDLAWsec"
      },
      "execution_count": null,
      "outputs": []
    },
    {
      "cell_type": "code",
      "source": [
        "# Scrapping Headings From Coreyms\n",
        "\n",
        "Headings_Coreyms = []\n",
        "for i in soup7.find_all(class_=\"entry-header\"):\n",
        "   Headings_Coreyms.append(i.text.splitlines()[0])\n",
        "\n",
        "Headings_Coreyms  "
      ],
      "metadata": {
        "colab": {
          "base_uri": "https://localhost:8080/"
        },
        "id": "5bmqMRqlW1w7",
        "outputId": "573ddaa6-9a1b-48d3-9ef4-d87853b1c18d"
      },
      "execution_count": null,
      "outputs": [
        {
          "output_type": "execute_result",
          "data": {
            "text/plain": [
              "['Python Tutorial: Zip Files – Creating and Extracting Zip Archives',\n",
              " 'Python Data Science Tutorial: Analyzing the 2019 Stack Overflow Developer Survey',\n",
              " 'Python Multiprocessing Tutorial: Run Code in Parallel Using the Multiprocessing Module',\n",
              " 'Python Threading Tutorial: Run Code Concurrently Using the Threading Module',\n",
              " 'Update (2019-09-03)',\n",
              " 'Python Quick Tip: The Difference Between “==” and “is” (Equality vs Identity)',\n",
              " 'Python Tutorial: Calling External Commands Using the Subprocess Module',\n",
              " 'Visual Studio Code (Windows) – Setting up a Python Development Environment and Complete Overview',\n",
              " 'Visual Studio Code (Mac) – Setting up a Python Development Environment and Complete Overview',\n",
              " 'Clarifying the Issues with Mutable Default Arguments']"
            ]
          },
          "metadata": {},
          "execution_count": 8
        }
      ]
    },
    {
      "cell_type": "code",
      "source": [
        "# Scrapping Heading Dates from Coreyms\n",
        "\n",
        "Heading_Dates = []\n",
        "for i in soup7.find_all(class_=\"entry-time\"):\n",
        "   Heading_Dates.append(i.text)\n",
        "\n",
        "Heading_Dates "
      ],
      "metadata": {
        "colab": {
          "base_uri": "https://localhost:8080/"
        },
        "id": "gFoq0Pq_W2W0",
        "outputId": "dd541417-d818-4523-8137-98aa48b8401c"
      },
      "execution_count": null,
      "outputs": [
        {
          "output_type": "execute_result",
          "data": {
            "text/plain": [
              "['November 19, 2019',\n",
              " 'October 17, 2019',\n",
              " 'September 21, 2019',\n",
              " 'September 12, 2019',\n",
              " 'September 3, 2019',\n",
              " 'August 6, 2019',\n",
              " 'July 24, 2019',\n",
              " 'May 1, 2019',\n",
              " 'May 1, 2019',\n",
              " 'April 24, 2019']"
            ]
          },
          "metadata": {},
          "execution_count": 11
        }
      ]
    },
    {
      "cell_type": "code",
      "source": [
        "# Contents From Coreyms\n",
        "\n",
        "Heading_Contents = []\n",
        "for i in soup7.find_all(class_=\"entry-content\"):\n",
        "   Heading_Contents.append(i.text)\n",
        "\n",
        "Heading_Contents"
      ],
      "metadata": {
        "colab": {
          "base_uri": "https://localhost:8080/"
        },
        "id": "CiyDRJwsZwJ1",
        "outputId": "d9cef93d-ecfe-426a-dfbe-02fe6a77827b"
      },
      "execution_count": null,
      "outputs": [
        {
          "output_type": "execute_result",
          "data": {
            "text/plain": [
              "['\\nIn this video, we will be learning how to create and extract zip archives. We will start by using the zipfile module, and then we will see how to do this using the shutil module. We will learn how to do this with single files and directories, as well as learning how to use gzip as well. Let’s get started…\\n\\n',\n",
              " '\\nIn this Python Programming video, we will be learning how to download and analyze real-world data from the 2019 Stack Overflow Developer Survey. This is terrific practice for anyone getting into the data science field. We will learn different ways to analyze this data and also some best practices. Let’s get started…\\n\\n\\n\\n',\n",
              " '\\nIn this Python Programming video, we will be learning how to run code in parallel using the multiprocessing module. We will also look at how to process multiple high-resolution images at the same time using a ProcessPoolExecutor from the concurrent.futures module. Let’s get started…\\n\\n\\n\\n',\n",
              " '\\nIn this Python Programming video, we will be learning how to run threads concurrently using the threading module. We will also look at how to download multiple high-resolution images online using a ThreadPoolExecutor from the concurrent.futures module. Let’s get started…\\n\\n\\n\\n',\n",
              " '\\nHey everyone. I wanted to give you an update on my videos. I will be releasing videos on threading and multiprocessing within the next week. Thanks so much for your patience. I currently have a temporary recording studio setup at my Airbnb that will allow me to record and edit the threading/multiprocessing videos. I am going to be moving into my new house in 10 days and once I have my recording studio setup then you can expect much faster video releases. I really appreciate how patient everyone has been while I go through this move, especially those of you who are contributing monthly through YouTube \\n',\n",
              " '\\nIn this Python Programming Tutorial, we will be learning the difference between using “==” and the “is” keyword when doing comparisons. The difference between these is that “==” checks to see if values are equal, and the “is” keyword checks their identity, which means it’s going to check if the values are identical in terms of being the same object in memory. We’ll learn more in the video. Let’s get started…\\n\\n\\n\\n',\n",
              " '\\nIn this Python Programming Tutorial, we will be learning how to run external commands using the subprocess module from the standard library. We will learn how to run commands, capture the output, handle errors, and also how to pipe output into other commands. Let’s get started…\\n\\n\\n\\n',\n",
              " '\\nIn this Python Programming Tutorial, we will be learning how to set up a Python development environment in VSCode on Windows. VSCode is a very nice free editor for writing Python applications and many developers are now switching over to this editor. In this video, we will learn how to install VSCode, get the Python extension installed, how to change Python interpreters, create virtual environments, format/lint our code, how to use Git within VSCode, how to debug our programs, how unit testing works, and more. We have a lot to cover, so let’s go ahead and get started…\\nVSCode on MacOS – https://youtu.be/06I63_p-2A4\\nTimestamps for topics in this tutorial: Installation – 1:13 Python Extension – 5:48 Switching Interpreters – 10:04 Changing Color Themes – 12:35 VSCode Settings – 16:16 Set Default Python – 21:33 Using Virtual Environments – 25:10 IntelliSense – 29:45 Code Formatting – 32:13 Code Linting – 37:06 Code Runner Extension – 39:42 Git Integration – 47:44 Use Different Terminal – 51:07 Debugging – 58:45 Unit Testing – 1:03:25 Zen Mode – 1:09:55\\n\\n\\n\\n',\n",
              " '\\nIn this Python Programming Tutorial, we will be learning how to set up a Python development environment in VSCode on MacOS. VSCode is a very nice free editor for writing Python applications and many developers are now switching over to this editor. In this video, we will learn how to install VSCode, get the Python extension installed, how to change Python interpreters, create virtual environments, format/lint our code, how to use Git within VSCode, how to debug our programs, how unit testing works, and more. We have a lot to cover, so let’s go ahead and get started…\\nVSCode on Windows – https://youtu.be/-nh9rCzPJ20\\nTimestamps for topics in this tutorial: Installation – 1:11 Python Extension – 6:21 Switching Interpreters – 10:16 Changing Color Themes – 13:08 VSCode Settings – 17:12 Set Default Python – 22:24 Using Virtual Environments – 25:52 IntelliSense – 30:28 Code Formatting – 33:08 Code Linting – 38:01 Code Runner Extension – 40:45 Git Integration – 49:05 Debugging – 58:15 Unit Testing – 1:02:38 Zen Mode – 1:10:42 \\n\\n\\n\\n',\n",
              " '\\nIn this Python Programming Tutorial, we will be clarifying the issues with mutable default arguments. We discussed this in my last video titled “5 Common Python Mistakes and How to Fix Them”, but I received many comments from people who were still confused. So we will be doing a deeper dive to explain exactly what is going on here. Let’s get started…\\n\\n\\n\\n']"
            ]
          },
          "metadata": {},
          "execution_count": 12
        }
      ]
    },
    {
      "cell_type": "markdown",
      "source": [
        "# Q 8 Scrapping House Details From NOBROKER Website"
      ],
      "metadata": {
        "id": "xx8CNPzcdRCA"
      }
    },
    {
      "cell_type": "code",
      "source": [
        "page8=requests.get('https://www.nobroker.in/')\n",
        "page8"
      ],
      "metadata": {
        "colab": {
          "base_uri": "https://localhost:8080/"
        },
        "id": "zG_0dWX6eaGp",
        "outputId": "435b105b-bf90-4883-ae96-84aaadab1920"
      },
      "execution_count": 42,
      "outputs": [
        {
          "output_type": "execute_result",
          "data": {
            "text/plain": [
              "<Response [200]>"
            ]
          },
          "metadata": {},
          "execution_count": 42
        }
      ]
    },
    {
      "cell_type": "code",
      "source": [
        "soup8=BeautifulSoup(page8.content)\n",
        "soup8"
      ],
      "metadata": {
        "id": "BpRvM8V0fSuQ"
      },
      "execution_count": null,
      "outputs": []
    },
    {
      "cell_type": "markdown",
      "source": [
        "House Description from Indirangar"
      ],
      "metadata": {
        "id": "iAYZ3mbQ-Kay"
      }
    },
    {
      "cell_type": "code",
      "source": [
        "# House Title From IndiraNagar From Nobroker\n",
        "\n",
        "House_Titles1 = []\n",
        "for i in soup8.find_all(class_=\"heading-6 flex items-center font-semi-bold m-0\"):\n",
        "    House_Titles1.append(i.text)\n",
        "\n",
        "House_Titles1"
      ],
      "metadata": {
        "id": "PNXpNDULfi8S",
        "colab": {
          "base_uri": "https://localhost:8080/"
        },
        "outputId": "e8fec178-b6ac-4a58-e393-9957c72d1be3"
      },
      "execution_count": 44,
      "outputs": [
        {
          "output_type": "execute_result",
          "data": {
            "text/plain": [
              "[]"
            ]
          },
          "metadata": {},
          "execution_count": 44
        }
      ]
    },
    {
      "cell_type": "code",
      "source": [
        "# House Location From IndiraNagar From Nobroker\n",
        "\n",
        "House_Locations1 = []\n",
        "for i in soup8.find_all(class_=\"mt-0.5p overflow-hidden overflow-ellipsis whitespace-nowrap max-w-70 text-gray-light leading-4 po:mb-0 po:max-w-95\"):\n",
        "    House_Locations1.append(i.text)\n",
        "\n",
        "House_Locations1"
      ],
      "metadata": {
        "id": "VOJ_8bLWfj8p",
        "colab": {
          "base_uri": "https://localhost:8080/"
        },
        "outputId": "04a6856c-1159-435f-f468-f9a16d0d10b8"
      },
      "execution_count": 45,
      "outputs": [
        {
          "output_type": "execute_result",
          "data": {
            "text/plain": [
              "[]"
            ]
          },
          "metadata": {},
          "execution_count": 45
        }
      ]
    },
    {
      "cell_type": "code",
      "source": [
        "# House Area From IndiraNagar From Nobroker\n",
        "\n",
        "House_Area1 = []\n",
        "for i in soup8.find_all(class_=\"flex flex-col w-33pe items-center border-r border-r-solid border-card-overview-border-color tp:w-half po:w-full last:border-r-1\"):\n",
        "    House_Area1.append(i.text.split()[0])\n",
        "\n",
        "House_Area1"
      ],
      "metadata": {
        "id": "gr0pnpP38d73",
        "colab": {
          "base_uri": "https://localhost:8080/"
        },
        "outputId": "ceb2bd7d-a960-4eeb-d9de-a755073f1b9c"
      },
      "execution_count": 47,
      "outputs": [
        {
          "output_type": "execute_result",
          "data": {
            "text/plain": [
              "[]"
            ]
          },
          "metadata": {},
          "execution_count": 47
        }
      ]
    },
    {
      "cell_type": "code",
      "source": [
        "# House EMIS From IndiraNagar From Nobroker\n",
        "\n",
        "House_EMI1 = []\n",
        "for i in soup8.find_all(class_=\"flex flex-col w-33pe items-center border-r border-r-solid border-card-overview-border-color tp:w-half po:w-full last:border-r-1\"):\n",
        "    House_EMI1.append(i.text.split(1))\n",
        "\n",
        "House_EMI1"
      ],
      "metadata": {
        "id": "mQwRuzUt8eJ0",
        "colab": {
          "base_uri": "https://localhost:8080/"
        },
        "outputId": "24d0799c-d7be-4ef5-d19b-b49e410f461c"
      },
      "execution_count": 49,
      "outputs": [
        {
          "output_type": "execute_result",
          "data": {
            "text/plain": [
              "[]"
            ]
          },
          "metadata": {},
          "execution_count": 49
        }
      ]
    },
    {
      "cell_type": "code",
      "source": [
        "# House Price From IndiraNagar From Nobroker\n",
        "\n",
        "House_Prices1 = []\n",
        "for i in soup8.find_all(class_=\"flex flex-col w-33pe items-center bo tp:w-half po:w-full border-r-0\"):\n",
        "    House_Prices1.append(i.text)\n",
        "\n",
        "House_Prices1"
      ],
      "metadata": {
        "id": "y2uOPuvN8eZq",
        "colab": {
          "base_uri": "https://localhost:8080/"
        },
        "outputId": "ffe71c1c-a492-4ff7-c218-96bf2d7647d3"
      },
      "execution_count": 48,
      "outputs": [
        {
          "output_type": "execute_result",
          "data": {
            "text/plain": [
              "[]"
            ]
          },
          "metadata": {},
          "execution_count": 48
        }
      ]
    },
    {
      "cell_type": "markdown",
      "source": [
        "House Description From Jayanagar"
      ],
      "metadata": {
        "id": "JxKKMZMR-WAF"
      }
    },
    {
      "cell_type": "code",
      "source": [
        "# House Title From JayaNagar From Nobroker\n",
        "\n",
        "House_Titles2 = []\n",
        "for i in soup8.find_all(class_=\"heading-6 flex items-center font-semi-bold m-0\"):\n",
        "    House_Titles2.append(i.text)\n",
        "\n",
        "House_Titles2"
      ],
      "metadata": {
        "id": "j2q0ufn58emG",
        "colab": {
          "base_uri": "https://localhost:8080/"
        },
        "outputId": "c4c9e8ea-c8c6-40b4-af58-f79511ee1fa8"
      },
      "execution_count": 50,
      "outputs": [
        {
          "output_type": "execute_result",
          "data": {
            "text/plain": [
              "[]"
            ]
          },
          "metadata": {},
          "execution_count": 50
        }
      ]
    },
    {
      "cell_type": "code",
      "source": [
        "# House Location From JayaNagar From Nobroker\n",
        "\n",
        "House_Locations2 = []\n",
        "for i in soup8.find_all(class_=\"mt-0.5p overflow-hidden overflow-ellipsis whitespace-nowrap max-w-70 text-gray-light leading-4 po:mb-0 po:max-w-95\"):\n",
        "    House_Locations2.append(i.text)\n",
        "\n",
        "House_Locations2"
      ],
      "metadata": {
        "id": "6ki5fMal98iO",
        "colab": {
          "base_uri": "https://localhost:8080/"
        },
        "outputId": "d6ee8287-ed31-47b9-f4d5-aad308551588"
      },
      "execution_count": 60,
      "outputs": [
        {
          "output_type": "execute_result",
          "data": {
            "text/plain": [
              "[]"
            ]
          },
          "metadata": {},
          "execution_count": 60
        }
      ]
    },
    {
      "cell_type": "code",
      "source": [
        "# House Area From JayaNagar From Nobroker\n",
        "\n",
        "House_Area2 = []\n",
        "for i in soup8.find_all(class_=\"flex flex-col w-33pe items-center border-r border-r-solid border-card-overview-border-color tp:w-half po:w-full last:border-r-1\"):\n",
        "    House_Area2.append(i.text)\n",
        "\n",
        "House_Area2"
      ],
      "metadata": {
        "id": "4gAu83Zn984u",
        "colab": {
          "base_uri": "https://localhost:8080/"
        },
        "outputId": "2cd5efa9-4aa2-4fba-ec3a-f6b1f05718fa"
      },
      "execution_count": 52,
      "outputs": [
        {
          "output_type": "execute_result",
          "data": {
            "text/plain": [
              "[]"
            ]
          },
          "metadata": {},
          "execution_count": 52
        }
      ]
    },
    {
      "cell_type": "code",
      "source": [
        "# House EMIS From JayaNagar From Nobroker\n",
        "\n",
        "House_EMI2 = []\n",
        "for i in soup8.find_all(class_=\"flex flex-col w-33pe items-center border-r border-r-solid border-card-overview-border-color tp:w-half po:w-full last:border-r-1\"):\n",
        "    House_EMI2.append(i.text)\n",
        "\n",
        "House_EMI2"
      ],
      "metadata": {
        "id": "QfvOIvd599f-",
        "colab": {
          "base_uri": "https://localhost:8080/"
        },
        "outputId": "e58edd4b-e481-4a24-aa33-388deac8e672"
      },
      "execution_count": 53,
      "outputs": [
        {
          "output_type": "execute_result",
          "data": {
            "text/plain": [
              "[]"
            ]
          },
          "metadata": {},
          "execution_count": 53
        }
      ]
    },
    {
      "cell_type": "code",
      "source": [
        "# House Price From JayaNagar From Nobroker\n",
        "\n",
        "House_Prices2 = []\n",
        "for i in soup8.find_all(class_=\"flex flex-col w-33pe items-center bo tp:w-half po:w-full border-r-0\"):\n",
        "    House_Prices2.append(i.text)\n",
        "\n",
        "House_Prices2"
      ],
      "metadata": {
        "id": "nAIaPtCL99-9",
        "colab": {
          "base_uri": "https://localhost:8080/"
        },
        "outputId": "0d3c3779-261e-4210-b4ab-faf22a018a98"
      },
      "execution_count": 54,
      "outputs": [
        {
          "output_type": "execute_result",
          "data": {
            "text/plain": [
              "[]"
            ]
          },
          "metadata": {},
          "execution_count": 54
        }
      ]
    },
    {
      "cell_type": "markdown",
      "source": [
        "House Description From RajaJi Nagar"
      ],
      "metadata": {
        "id": "m9Q3_RWC_wSR"
      }
    },
    {
      "cell_type": "code",
      "source": [
        "# House Title From RajaJi Nagar From Nobroker\n",
        "\n",
        "House_Titles3 = []\n",
        "for i in soup8.find_all(class_=\"heading-6 flex items-center font-semi-bold m-0\"):\n",
        "    House_Titles3.append(i.text)\n",
        "\n",
        "House_Titles3"
      ],
      "metadata": {
        "id": "TJZDpsbk9-Wk",
        "colab": {
          "base_uri": "https://localhost:8080/"
        },
        "outputId": "3782fb1a-d1b9-4f12-b0d9-cb91ead75021"
      },
      "execution_count": 55,
      "outputs": [
        {
          "output_type": "execute_result",
          "data": {
            "text/plain": [
              "[]"
            ]
          },
          "metadata": {},
          "execution_count": 55
        }
      ]
    },
    {
      "cell_type": "code",
      "source": [
        "# House Location From RajaJi Nagar From Nobroker\n",
        "\n",
        "House_Locations3 = []\n",
        "for i in soup8.find_all(class_=\"mt-0.5p overflow-hidden overflow-ellipsis whitespace-nowrap max-w-70 text-gray-light leading-4 po:mb-0 po:max-w-95\"):\n",
        "    House_Locations3.append(i.text)\n",
        "\n",
        "House_Locations3"
      ],
      "metadata": {
        "id": "jXih8aMa9-pO",
        "colab": {
          "base_uri": "https://localhost:8080/"
        },
        "outputId": "17d29bb5-80a8-4c85-88ff-7fa99da82298"
      },
      "execution_count": 56,
      "outputs": [
        {
          "output_type": "execute_result",
          "data": {
            "text/plain": [
              "[]"
            ]
          },
          "metadata": {},
          "execution_count": 56
        }
      ]
    },
    {
      "cell_type": "code",
      "source": [
        "# House Area From RajaJi Nagar From Nobroker\n",
        "\n",
        "House_Area3 = []\n",
        "for i in soup8.find_all(class_=\"flex flex-col w-33pe items-center border-r border-r-solid border-card-overview-border-color tp:w-half po:w-full last:border-r-1\"):\n",
        "    House_Area3.append(i.text)\n",
        "\n",
        "House_Area3"
      ],
      "metadata": {
        "id": "8AZhBHzd9-7I",
        "colab": {
          "base_uri": "https://localhost:8080/"
        },
        "outputId": "3a866599-27d1-4e9e-d697-0fe4a5959a7e"
      },
      "execution_count": 57,
      "outputs": [
        {
          "output_type": "execute_result",
          "data": {
            "text/plain": [
              "[]"
            ]
          },
          "metadata": {},
          "execution_count": 57
        }
      ]
    },
    {
      "cell_type": "code",
      "source": [
        "# House EMIS From RajaJi Nagar From Nobroker\n",
        "\n",
        "House_EMI3 = []\n",
        "for i in soup8.find_all(class_=\"flex flex-col w-33pe items-center border-r border-r-solid border-card-overview-border-color tp:w-half po:w-full last:border-r-1\"):\n",
        "    House_EMI3.append(i.text)\n",
        "\n",
        "House_EMI3"
      ],
      "metadata": {
        "id": "i_F7wAON9_RO",
        "colab": {
          "base_uri": "https://localhost:8080/"
        },
        "outputId": "436a0347-4778-4071-9c75-d8b62660d63b"
      },
      "execution_count": 58,
      "outputs": [
        {
          "output_type": "execute_result",
          "data": {
            "text/plain": [
              "[]"
            ]
          },
          "metadata": {},
          "execution_count": 58
        }
      ]
    },
    {
      "cell_type": "code",
      "source": [
        "# House Price From RajaJi Nagar From Nobroker\n",
        "\n",
        "House_Prices3 = []\n",
        "for i in soup8.find_all(class_=\"flex flex-col w-33pe items-center bo tp:w-half po:w-full border-r-0\"):\n",
        "    House_Prices3.append(i.text)\n",
        "\n",
        "House_Prices3"
      ],
      "metadata": {
        "id": "70mM-bif9_it",
        "colab": {
          "base_uri": "https://localhost:8080/"
        },
        "outputId": "0e60ecef-7815-4dfb-9aae-8f97925d06db"
      },
      "execution_count": 59,
      "outputs": [
        {
          "output_type": "execute_result",
          "data": {
            "text/plain": [
              "[]"
            ]
          },
          "metadata": {},
          "execution_count": 59
        }
      ]
    },
    {
      "cell_type": "markdown",
      "source": [
        "# Q 9 Scraping Data From Dineout"
      ],
      "metadata": {
        "id": "69AvT_AJYFW2"
      }
    },
    {
      "cell_type": "code",
      "source": [
        "page9=requests.get('https://www.dineout.co.in/delhi-restaurants/buffet-special')\n",
        "page9"
      ],
      "metadata": {
        "colab": {
          "base_uri": "https://localhost:8080/"
        },
        "id": "k85XrZsAX0OE",
        "outputId": "6a6558d4-d16a-4cc3-e873-7f5695fa4052"
      },
      "execution_count": null,
      "outputs": [
        {
          "output_type": "execute_result",
          "data": {
            "text/plain": [
              "<Response [200]>"
            ]
          },
          "metadata": {},
          "execution_count": 3
        }
      ]
    },
    {
      "cell_type": "code",
      "source": [
        "soup9=BeautifulSoup(page9.content)\n",
        "soup9"
      ],
      "metadata": {
        "id": "EohNOUCUaODT"
      },
      "execution_count": null,
      "outputs": []
    },
    {
      "cell_type": "code",
      "source": [
        "# Resturant Names List From the Dineout Resturant Company \n",
        "\n",
        "Resturant_Name = []\n",
        "for i in soup9.find_all(class_=\"restnt-info cursor\"):\n",
        "    Resturant_Name.append(i.text)\n",
        "\n",
        "Resturant_Name"
      ],
      "metadata": {
        "colab": {
          "base_uri": "https://localhost:8080/"
        },
        "id": "FcWQfhloYvBv",
        "outputId": "9e2adfb9-3999-41aa-92c3-a533f32bcc6c"
      },
      "execution_count": null,
      "outputs": [
        {
          "output_type": "execute_result",
          "data": {
            "text/plain": [
              "['Castle BarbequeConnaught Place, Central Delhi',\n",
              " 'Jungle Jamboree3CS Mall,Lajpat Nagar - 3, South Delhi',\n",
              " 'Castle BarbequePacific Mall,Tagore Garden, West Delhi',\n",
              " 'Cafe KnoshThe Leela Ambience Convention Hotel,Shahdara, East Delhi',\n",
              " 'The Barbeque CompanyGardens Galleria,Sector 38A, Noida',\n",
              " 'India GrillHilton Garden Inn,Saket, South Delhi',\n",
              " 'Delhi BarbequeTaurus Sarovar Portico,Mahipalpur, South Delhi',\n",
              " 'The Monarch - Bar Be Que VillageIndirapuram Habitat Centre,Indirapuram, Ghaziabad',\n",
              " 'World CafeVibe by The Lalit Traveller,Sector 35, Faridabad',\n",
              " 'Indian Grill RoomSuncity Business Tower,Golf Course Road, Gurgaon',\n",
              " 'Mad 4 Bar B QueSector 29, Faridabad',\n",
              " 'Barbeque 29NIT, Faridabad',\n",
              " 'GlasshouseDoubleTree By Hilton Gurugram Baani Square,Sector 50, Gurgaon']"
            ]
          },
          "metadata": {},
          "execution_count": 53
        }
      ]
    },
    {
      "cell_type": "code",
      "source": [
        "# Resturant Cuisnines List From the Dineout Resturant Company \n",
        "\n",
        "Resturant_Cusine = []\n",
        "for i in soup9.find_all(class_=\"double-line-ellipsis\"):\n",
        "    Resturant_Cusine.append(i.text)\n",
        "\n",
        "Resturant_Cusine"
      ],
      "metadata": {
        "colab": {
          "base_uri": "https://localhost:8080/"
        },
        "id": "QMHKGChka33a",
        "outputId": "5f51d17c-e94d-474a-b774-39b0a0baaa98"
      },
      "execution_count": null,
      "outputs": [
        {
          "output_type": "execute_result",
          "data": {
            "text/plain": [
              "['₹ 2,000 for 2 (approx) | North Indian, Chinese',\n",
              " '₹ 1,400 for 2 (approx) | North Indian, Asian, Italian',\n",
              " '₹ 3,000 for 2 (approx) | Italian, Continental',\n",
              " 'Breakfast Buffet for 2',\n",
              " 'Lunch Buffet for 2',\n",
              " 'Unlimited Alcohol for 150 Minutes (refer deal desription)',\n",
              " 'Unlimited Alcohol for 150 Minutes (Imported Brands)',\n",
              " 'Unlimited Alcohol for 150 Minutes (Single Malt)',\n",
              " 'Dinner Buffet for 2',\n",
              " '₹ 2,000 for 2 (approx) | Chinese, North Indian',\n",
              " '₹ 1,700 for 2 (approx) | North Indian, Chinese',\n",
              " '₹ 2,400 for 2 (approx) | North Indian, Italian',\n",
              " '15% Off the Total Bill',\n",
              " '₹ 1,800 for 2 (approx) | North Indian',\n",
              " '₹ 1,900 for 2 (approx) | North Indian, Chinese',\n",
              " '10% Off the Food Bill',\n",
              " '₹ 1,800 for 2 (approx) | North Indian, Chinese, Continental',\n",
              " '20% Off the Total Bill',\n",
              " '₹ 2,000 for 2 (approx) | North Indian, Mughlai',\n",
              " '₹ 800 for 2 (approx) | North Indian, Mughlai',\n",
              " '₹ 1,500 for 2 (approx) | North Indian, Chinese',\n",
              " 'Unlimited Dinner Buffet',\n",
              " 'Unlimited Lunch Buffet',\n",
              " '₹ 3,400 for 2 (approx) | European, Italian, Asian, Continental',\n",
              " '20% Off the Total Bill']"
            ]
          },
          "metadata": {},
          "execution_count": 7
        }
      ]
    },
    {
      "cell_type": "code",
      "source": [
        "# Resturant Location From the Dineout Resturant Company \n",
        "\n",
        "Resturant_Location = []\n",
        "for i in soup9.find_all(class_=\"restnt-loc ellipsis\"):\n",
        "    Resturant_Location.append(i.text)\n",
        "\n",
        "Resturant_Location"
      ],
      "metadata": {
        "id": "gReF3gW4b78R",
        "colab": {
          "base_uri": "https://localhost:8080/"
        },
        "outputId": "559eaff0-4396-4d55-c25e-01d8f4a0648d"
      },
      "execution_count": null,
      "outputs": [
        {
          "output_type": "execute_result",
          "data": {
            "text/plain": [
              "['Connaught Place, Central Delhi',\n",
              " '3CS Mall,Lajpat Nagar - 3, South Delhi',\n",
              " 'The Leela Ambience Convention Hotel,Shahdara, East Delhi',\n",
              " 'Pacific Mall,Tagore Garden, West Delhi',\n",
              " 'Gardens Galleria,Sector 38A, Noida',\n",
              " 'Hilton Garden Inn,Saket, South Delhi',\n",
              " 'Taurus Sarovar Portico,Mahipalpur, South Delhi',\n",
              " 'Indirapuram Habitat Centre,Indirapuram, Ghaziabad',\n",
              " 'Vibe by The Lalit Traveller,Sector 35, Faridabad',\n",
              " 'Suncity Business Tower,Golf Course Road, Gurgaon',\n",
              " 'Sector 29, Faridabad',\n",
              " 'NIT, Faridabad',\n",
              " 'DoubleTree By Hilton Gurugram Baani Square,Sector 50, Gurgaon']"
            ]
          },
          "metadata": {},
          "execution_count": 8
        }
      ]
    },
    {
      "cell_type": "code",
      "source": [
        "# Resturant Rating List From the Dineout Resturant Company \n",
        "\n",
        "Resturant_Rating = []\n",
        "for i in soup9.find_all(class_=\"restnt-rating rating-4\"):\n",
        "    Resturant_Rating.append(i.text)\n",
        "\n",
        "Resturant_Rating"
      ],
      "metadata": {
        "colab": {
          "base_uri": "https://localhost:8080/"
        },
        "id": "_NtrONgCr00u",
        "outputId": "9b0c9d03-0797-4158-b9e4-42420085708f"
      },
      "execution_count": null,
      "outputs": [
        {
          "output_type": "execute_result",
          "data": {
            "text/plain": [
              "['3.5',\n",
              " '3.9',\n",
              " '4.3',\n",
              " '3.9',\n",
              " '4',\n",
              " '3.9',\n",
              " '3.7',\n",
              " '3.9',\n",
              " '4.3',\n",
              " '4.3',\n",
              " '3.6',\n",
              " '4.2',\n",
              " '4.1']"
            ]
          },
          "metadata": {},
          "execution_count": 9
        }
      ]
    },
    {
      "cell_type": "code",
      "source": [
        "# Resturant Image List From the Dineout Resturant Company \n",
        "\n",
        "Resturant_Image = []\n",
        "for i in soup9.find_all(\"img\",class_=\"no-img\"):\n",
        "    Resturant_Image.append(i['data-src'])\n",
        "\n",
        "Resturant_Image"
      ],
      "metadata": {
        "colab": {
          "base_uri": "https://localhost:8080/"
        },
        "id": "bPnDOrq-r1Ov",
        "outputId": "a295818b-f362-422e-bb7a-e7520677463e"
      },
      "execution_count": null,
      "outputs": [
        {
          "output_type": "execute_result",
          "data": {
            "text/plain": [
              "['https://im1.dineout.co.in/images/uploads/restaurant/sharpen/8/k/b/p86792-16062953735fbe1f4d3fb7e.jpg?tr=tr:n-medium',\n",
              " 'https://im1.dineout.co.in/images/uploads/restaurant/sharpen/3/h/c/p3643-144497865356209fdd65746.jpg?tr=tr:n-medium',\n",
              " 'https://im1.dineout.co.in/images/uploads/restaurant/sharpen/4/p/m/p406-15438184745c04ccea491bc.jpg?tr=tr:n-medium',\n",
              " 'https://im1.dineout.co.in/images/uploads/restaurant/sharpen/3/j/o/p38113-15959192065f1fcb666130c.jpg?tr=tr:n-medium',\n",
              " 'https://im1.dineout.co.in/images/uploads/restaurant/sharpen/7/q/d/p79307-16051787075fad15532bd7c.jpg?tr=tr:n-medium',\n",
              " 'https://im1.dineout.co.in/images/uploads/restaurant/sharpen/2/v/t/p2687-1482477169585cce712b90f.jpg?tr=tr:n-medium',\n",
              " 'https://im1.dineout.co.in/images/uploads/restaurant/sharpen/5/v/f/p52501-16006856545f68865616659.jpg?tr=tr:n-medium',\n",
              " 'https://im1.dineout.co.in/images/uploads/restaurant/sharpen/3/n/o/p34822-15599107305cfa594a13c24.jpg?tr=tr:n-medium',\n",
              " 'https://im1.dineout.co.in/images/uploads/restaurant/sharpen/1/p/y/p12366-1466935020576fa6ecdc359.jpg?tr=tr:n-medium',\n",
              " 'https://im1.dineout.co.in/images/uploads/restaurant/sharpen/5/y/d/p549-15291237715b2493bb2a415.jpg?tr=tr:n-medium',\n",
              " 'https://im1.dineout.co.in/images/uploads/restaurant/sharpen/4/j/e/p43488-15295778165b2b8158ceeef.jpg?tr=tr:n-medium',\n",
              " 'https://im1.dineout.co.in/images/uploads/restaurant/sharpen/5/w/r/p58842-15624171585d209806d9143.jpg?tr=tr:n-medium',\n",
              " 'https://im1.dineout.co.in/images/uploads/restaurant/sharpen/9/m/a/p9875-1645177960620f6c68ecfef.jpg?tr=tr:n-medium']"
            ]
          },
          "metadata": {},
          "execution_count": 13
        }
      ]
    },
    {
      "cell_type": "markdown",
      "source": [
        "# Q 10 Scrapping Product Details From Bewakoof "
      ],
      "metadata": {
        "id": "C8LZoQnpzyjy"
      }
    },
    {
      "cell_type": "code",
      "source": [
        "page10=requests.get('https://www.bewakoof.com/women-tshirts?ga_q=tshirts')\n",
        "page10"
      ],
      "metadata": {
        "colab": {
          "base_uri": "https://localhost:8080/"
        },
        "id": "ZPnz6od5vSxM",
        "outputId": "a4125b91-319d-4be9-d574-6658e5b73600"
      },
      "execution_count": null,
      "outputs": [
        {
          "output_type": "execute_result",
          "data": {
            "text/plain": [
              "<Response [200]>"
            ]
          },
          "metadata": {},
          "execution_count": 14
        }
      ]
    },
    {
      "cell_type": "code",
      "source": [
        "soup10=BeautifulSoup(page10.content)\n",
        "soup10"
      ],
      "metadata": {
        "id": "gmMWlNMH0fS2"
      },
      "execution_count": null,
      "outputs": []
    },
    {
      "cell_type": "code",
      "source": [
        "# Product Name List from Bewakoof\n",
        "\n",
        "Product_Names = []\n",
        "for i in soup10.find_all(class_=\"productCardDetail \"):\n",
        "    Product_Names.append(i.text)\n",
        "\n",
        "Product_Names"
      ],
      "metadata": {
        "colab": {
          "base_uri": "https://localhost:8080/"
        },
        "id": "GZaad0wS0pp2",
        "outputId": "7c882243-9750-47fb-8977-c64db00afc40"
      },
      "execution_count": null,
      "outputs": [
        {
          "output_type": "execute_result",
          "data": {
            "text/plain": [
              "['Simply Pawfect Half Sleeve T-Shirt (DL) Tropical blue₹ 299999₹279For TriBe Members ',\n",
              " 'All We Have Half Sleeve T-Shirt Meteor Grey₹ 199549₹179For TriBe Members ',\n",
              " 'Donut Worry Half Sleeve T-Shirt Pineapple Yellow₹ 299549₹279For TriBe Members ',\n",
              " 'Digi Teal Half Sleeve T-Shirt₹ 299499₹279For TriBe Members ',\n",
              " 'Inner Peace Half Sleeve Printed T-Shirt Black₹ 349549₹319For TriBe Members ',\n",
              " 'Bloom Petals₹ 299799₹279For TriBe Members ',\n",
              " 'Moody₹ 349749₹319For TriBe Members ',\n",
              " 'Love Friends Half Sleeve Printed T-Shirt Meteor Grey₹ 249799FEW LEFT₹229For TriBe Members ',\n",
              " 'Self love Jerry Half Sleeve Printed T-Shirt Bold Red (TJL)₹ 199799₹179For TriBe Members ',\n",
              " 'Andhokar Half Sleeve T-Shirt₹ 199799₹179For TriBe Members ']"
            ]
          },
          "metadata": {},
          "execution_count": 24
        }
      ]
    },
    {
      "cell_type": "code",
      "source": [
        "# Product Rate List From Bewakoof \n",
        "\n",
        "Product_Rates = []\n",
        "for i in soup10.find_all(class_=\"discountedPriceText \"):\n",
        "    Product_Rates.append(i.text)\n",
        "\n",
        "Product_Rates"
      ],
      "metadata": {
        "colab": {
          "base_uri": "https://localhost:8080/"
        },
        "id": "Z9D-JS0u2fj3",
        "outputId": "47c52165-59a3-45a4-c988-032081425307"
      },
      "execution_count": null,
      "outputs": [
        {
          "output_type": "execute_result",
          "data": {
            "text/plain": [
              "['₹ 299',\n",
              " '₹ 199',\n",
              " '₹ 299',\n",
              " '₹ 299',\n",
              " '₹ 349',\n",
              " '₹ 299',\n",
              " '₹ 349',\n",
              " '₹ 249',\n",
              " '₹ 199',\n",
              " '₹ 199']"
            ]
          },
          "metadata": {},
          "execution_count": 25
        }
      ]
    },
    {
      "cell_type": "code",
      "source": [
        "# Product Image List From the Bewakoof \n",
        "\n",
        "Product_Images = []\n",
        "for i in soup10.find_all(class_=\"productCardImg false\"):\n",
        "    Product_Images.append(i['src'])\n",
        "\n",
        "Product_Images"
      ],
      "metadata": {
        "colab": {
          "base_uri": "https://localhost:8080/",
          "height": 356
        },
        "id": "4F-rHhDE6ZQ4",
        "outputId": "d74af090-3e42-43b0-fa80-0fa3b47de544"
      },
      "execution_count": null,
      "outputs": [
        {
          "output_type": "error",
          "ename": "KeyError",
          "evalue": "ignored",
          "traceback": [
            "\u001b[0;31m---------------------------------------------------------------------------\u001b[0m",
            "\u001b[0;31mKeyError\u001b[0m                                  Traceback (most recent call last)",
            "\u001b[0;32m<ipython-input-34-97430a7ba8e9>\u001b[0m in \u001b[0;36m<module>\u001b[0;34m()\u001b[0m\n\u001b[1;32m      3\u001b[0m \u001b[0mProduct_Images\u001b[0m \u001b[0;34m=\u001b[0m \u001b[0;34m[\u001b[0m\u001b[0;34m]\u001b[0m\u001b[0;34m\u001b[0m\u001b[0;34m\u001b[0m\u001b[0m\n\u001b[1;32m      4\u001b[0m \u001b[0;32mfor\u001b[0m \u001b[0mi\u001b[0m \u001b[0;32min\u001b[0m \u001b[0msoup10\u001b[0m\u001b[0;34m.\u001b[0m\u001b[0mfind_all\u001b[0m\u001b[0;34m(\u001b[0m\u001b[0mclass_\u001b[0m\u001b[0;34m=\u001b[0m\u001b[0;34m\"productCardImg false\"\u001b[0m\u001b[0;34m)\u001b[0m\u001b[0;34m:\u001b[0m\u001b[0;34m\u001b[0m\u001b[0;34m\u001b[0m\u001b[0m\n\u001b[0;32m----> 5\u001b[0;31m     \u001b[0mProduct_Images\u001b[0m\u001b[0;34m.\u001b[0m\u001b[0mappend\u001b[0m\u001b[0;34m(\u001b[0m\u001b[0mi\u001b[0m\u001b[0;34m[\u001b[0m\u001b[0;34m'src'\u001b[0m\u001b[0;34m]\u001b[0m\u001b[0;34m)\u001b[0m\u001b[0;34m\u001b[0m\u001b[0;34m\u001b[0m\u001b[0m\n\u001b[0m\u001b[1;32m      6\u001b[0m \u001b[0;34m\u001b[0m\u001b[0m\n\u001b[1;32m      7\u001b[0m \u001b[0mProduct_Images\u001b[0m\u001b[0;34m\u001b[0m\u001b[0;34m\u001b[0m\u001b[0m\n",
            "\u001b[0;32m/usr/local/lib/python3.7/dist-packages/bs4/element.py\u001b[0m in \u001b[0;36m__getitem__\u001b[0;34m(self, key)\u001b[0m\n\u001b[1;32m   1069\u001b[0m         \"\"\"tag[key] returns the value of the 'key' attribute for the tag,\n\u001b[1;32m   1070\u001b[0m         and throws an exception if it's not there.\"\"\"\n\u001b[0;32m-> 1071\u001b[0;31m         \u001b[0;32mreturn\u001b[0m \u001b[0mself\u001b[0m\u001b[0;34m.\u001b[0m\u001b[0mattrs\u001b[0m\u001b[0;34m[\u001b[0m\u001b[0mkey\u001b[0m\u001b[0;34m]\u001b[0m\u001b[0;34m\u001b[0m\u001b[0;34m\u001b[0m\u001b[0m\n\u001b[0m\u001b[1;32m   1072\u001b[0m \u001b[0;34m\u001b[0m\u001b[0m\n\u001b[1;32m   1073\u001b[0m     \u001b[0;32mdef\u001b[0m \u001b[0m__iter__\u001b[0m\u001b[0;34m(\u001b[0m\u001b[0mself\u001b[0m\u001b[0;34m)\u001b[0m\u001b[0;34m:\u001b[0m\u001b[0;34m\u001b[0m\u001b[0;34m\u001b[0m\u001b[0m\n",
            "\u001b[0;31mKeyError\u001b[0m: 'src'"
          ]
        }
      ]
    },
    {
      "cell_type": "code",
      "source": [
        ""
      ],
      "metadata": {
        "id": "Ffj-HRLo7Edw"
      },
      "execution_count": null,
      "outputs": []
    }
  ]
}
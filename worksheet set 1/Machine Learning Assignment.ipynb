{
 "cells": [
  {
   "cell_type": "markdown",
   "id": "1104c78f",
   "metadata": {},
   "source": [
    "MACHINE LEARNING ASSIGNMENT"
   ]
  },
  {
   "cell_type": "code",
   "execution_count": 3,
   "id": "3da30633",
   "metadata": {},
   "outputs": [
    {
     "name": "stdout",
     "output_type": "stream",
     "text": [
      "enter the number whose factorial u want:5\n",
      "factorial= 120\n"
     ]
    }
   ],
   "source": [
    "# 11. Write a python program to find the factorial of a number.\n",
    "i=int(input(\"enter the number whose factorial u want:\"))\n",
    "fac=1\n",
    "while(i>0):\n",
    "    fac=fac*i\n",
    "    i=i-1\n",
    "print(\"factorial=\",fac)  "
   ]
  },
  {
   "cell_type": "code",
   "execution_count": 10,
   "id": "c5323a26",
   "metadata": {},
   "outputs": [
    {
     "name": "stdout",
     "output_type": "stream",
     "text": [
      "enter the number you want to check5\n",
      "5 is a prime number\n"
     ]
    }
   ],
   "source": [
    "#12. Write a python program to find whether a number is prime or composite\n",
    "n = int(input('enter the number you want to check'))\n",
    "if n<1:\n",
    "    print(\"number should be greater than 1\")\n",
    "elif n==1:\n",
    "    print(n,\"is niether prime nor composite\")  \n",
    "else:\n",
    "    for d in range (2,(n//2)+1):\n",
    "        if (n%d)==0:\n",
    "            print('Number is composite')\n",
    "            break\n",
    "    else:\n",
    "        print(n,'is a prime number')  "
   ]
  },
  {
   "cell_type": "code",
   "execution_count": 11,
   "id": "6a3a43df",
   "metadata": {},
   "outputs": [
    {
     "name": "stdout",
     "output_type": "stream",
     "text": [
      "Enter string:RAM\n",
      "not palindrome string\n"
     ]
    }
   ],
   "source": [
    "#13. Write a python program to check whether a given string is palindrome or not..\n",
    "a=input(\"Enter string:\")\n",
    "b=a[-1::1]\n",
    "if (a==b):\n",
    "    print(\"Palindrome String\")\n",
    "else:\n",
    "    print('not palindrome string')  \n"
   ]
  },
  {
   "cell_type": "code",
   "execution_count": 12,
   "id": "3fd6b6d7",
   "metadata": {},
   "outputs": [
    {
     "name": "stdout",
     "output_type": "stream",
     "text": [
      "enter the length of two shorter sides:\n",
      "side a is :6\n",
      "side b is :8\n",
      "the hypotuense side is  10.0\n"
     ]
    }
   ],
   "source": [
    "#14 Write a Python program to get the third side of right-angled triangle from two given sides.\n",
    "from math import sqrt\n",
    "print('enter the length of two shorter sides:')\n",
    "a=float(input('side a is :'))\n",
    "b=float(input('side b is :'))\n",
    "h=sqrt(a**2+b**2)\n",
    "print('the hypotuense side is ',h)\n"
   ]
  },
  {
   "cell_type": "code",
   "execution_count": 13,
   "id": "7931c137",
   "metadata": {},
   "outputs": [
    {
     "name": "stdout",
     "output_type": "stream",
     "text": [
      "enter the stringBHKJLHGLIGK\n",
      "{'B': 1, 'H': 2, 'K': 2, 'J': 1, 'L': 2, 'G': 2, 'I': 1}\n"
     ]
    }
   ],
   "source": [
    "#15 Write a python program to print the frequency of each of the characters present in a given string..\n",
    "str1 = input(\"enter the string\")\n",
    "d1 = dict()\n",
    "for c in str1:\n",
    "    if c in d1:\n",
    "        d1[c]=d1[c]+1\n",
    "    else:\n",
    "        d1[c]=1\n",
    "print(d1)      \n"
   ]
  },
  {
   "cell_type": "code",
   "execution_count": null,
   "id": "578fe2e0",
   "metadata": {},
   "outputs": [],
   "source": []
  }
 ],
 "metadata": {
  "kernelspec": {
   "display_name": "Python 3 (ipykernel)",
   "language": "python",
   "name": "python3"
  },
  "language_info": {
   "codemirror_mode": {
    "name": "ipython",
    "version": 3
   },
   "file_extension": ".py",
   "mimetype": "text/x-python",
   "name": "python",
   "nbconvert_exporter": "python",
   "pygments_lexer": "ipython3",
   "version": "3.9.7"
  }
 },
 "nbformat": 4,
 "nbformat_minor": 5
}
